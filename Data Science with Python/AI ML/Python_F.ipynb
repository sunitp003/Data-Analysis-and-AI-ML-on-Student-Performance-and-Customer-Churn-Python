{
 "cells": [
  {
   "cell_type": "markdown",
   "id": "16c751f5-2be2-4b5e-9d7b-8dd2284e9107",
   "metadata": {},
   "source": [
    "### Python Programming"
   ]
  },
  {
   "cell_type": "code",
   "execution_count": 38,
   "id": "dc4b432e-6dc0-44ef-9c90-82cacce3b553",
   "metadata": {},
   "outputs": [
    {
     "ename": "SyntaxError",
     "evalue": "cannot assign to expression here. Maybe you meant '==' instead of '='? (1663077243.py, line 1)",
     "output_type": "error",
     "traceback": [
      "\u001b[1;36m  Cell \u001b[1;32mIn[38], line 1\u001b[1;36m\u001b[0m\n\u001b[1;33m    a-23={\"emp_name\",1,3,4,3,3,3,\"emp_salary\",\"35000\"}\u001b[0m\n\u001b[1;37m    ^\u001b[0m\n\u001b[1;31mSyntaxError\u001b[0m\u001b[1;31m:\u001b[0m cannot assign to expression here. Maybe you meant '==' instead of '='?\n"
     ]
    }
   ],
   "source": [
    "a={\"emp_name\",1,3,4,3,3,3,\"emp_salary\",\"35000\"}"
   ]
  },
  {
   "cell_type": "code",
   "execution_count": 40,
   "id": "2afc38d7-ac3e-4123-a92d-8e896ae4e252",
   "metadata": {},
   "outputs": [
    {
     "data": {
      "text/plain": [
       "range(0, 5)"
      ]
     },
     "execution_count": 40,
     "metadata": {},
     "output_type": "execute_result"
    }
   ],
   "source": [
    "a=range(5)\n",
    "a"
   ]
  },
  {
   "cell_type": "code",
   "execution_count": 51,
   "id": "4f2e4ec9-5387-44b1-be93-b6673056390a",
   "metadata": {},
   "outputs": [],
   "source": [
    "a=\"abcvjkbgj\""
   ]
  },
  {
   "cell_type": "code",
   "execution_count": 45,
   "id": "77df82d7-b07b-4185-b282-6f487e469a30",
   "metadata": {},
   "outputs": [
    {
     "data": {
      "text/plain": [
       "10"
      ]
     },
     "execution_count": 45,
     "metadata": {},
     "output_type": "execute_result"
    }
   ],
   "source": [
    "a"
   ]
  },
  {
   "cell_type": "code",
   "execution_count": 53,
   "id": "7c9ac776-ee77-4249-b2e0-3af5094981e4",
   "metadata": {},
   "outputs": [
    {
     "ename": "SyntaxError",
     "evalue": "invalid syntax (3356785936.py, line 1)",
     "output_type": "error",
     "traceback": [
      "\u001b[1;36m  Cell \u001b[1;32mIn[53], line 1\u001b[1;36m\u001b[0m\n\u001b[1;33m    as=a\u001b[0m\n\u001b[1;37m    ^\u001b[0m\n\u001b[1;31mSyntaxError\u001b[0m\u001b[1;31m:\u001b[0m invalid syntax\n"
     ]
    }
   ],
   "source": [
    "as"
   ]
  },
  {
   "cell_type": "code",
   "execution_count": 47,
   "id": "fe4e2f8c-10e4-4335-89b2-20096a90ef9f",
   "metadata": {},
   "outputs": [
    {
     "data": {
      "text/plain": [
       "10.0"
      ]
     },
     "execution_count": 47,
     "metadata": {},
     "output_type": "execute_result"
    }
   ],
   "source": [
    "f"
   ]
  },
  {
   "cell_type": "code",
   "execution_count": 56,
   "id": "77af5718-e649-4306-aa45-71aa9b5e33bb",
   "metadata": {},
   "outputs": [
    {
     "data": {
      "text/plain": [
       "'PGDM \\nbdfuefuefefheaf\\n      kjabjfbjbf'"
      ]
     },
     "execution_count": 56,
     "metadata": {},
     "output_type": "execute_result"
    }
   ],
   "source": [
    "\"\"\"PGDM \n",
    "bdfuefuefefheaf\n",
    "      kjabjfbjbf\"\"\" #this is a print function "
   ]
  },
  {
   "cell_type": "code",
   "execution_count": 59,
   "id": "b5c83fe7-ade6-45d6-a622-9c50de4b9f05",
   "metadata": {},
   "outputs": [
    {
     "name": "stdout",
     "output_type": "stream",
     "text": [
      "Hello, World!\n"
     ]
    }
   ],
   "source": [
    "\"\"\"\n",
    "This is another way to create a multi-line comment.\n",
    "Using triple double quotes.\n",
    "ejoweuhgtuiwghoerwhgoirehty8435y\n",
    "\"\"\"\n",
    "\n",
    "print(\"Hello, World!\")\n"
   ]
  },
  {
   "cell_type": "code",
   "execution_count": 57,
   "id": "defc318f-7c6e-49f7-bc50-c9aa6d2a4f4f",
   "metadata": {
    "scrolled": true
   },
   "outputs": [
    {
     "ename": "SyntaxError",
     "evalue": "invalid syntax (2423636145.py, line 1)",
     "output_type": "error",
     "traceback": [
      "\u001b[1;36m  Cell \u001b[1;32mIn[57], line 1\u001b[1;36m\u001b[0m\n\u001b[1;33m    print(\"data analysis\")\"\"\"PGDM\u001b[0m\n\u001b[1;37m                          ^\u001b[0m\n\u001b[1;31mSyntaxError\u001b[0m\u001b[1;31m:\u001b[0m invalid syntax\n"
     ]
    }
   ],
   "source": [
    "print(\"data analysis\") \n",
    "print('python') # it is printing python"
   ]
  },
  {
   "cell_type": "code",
   "execution_count": null,
   "id": "61dd635e-b11d-44d8-a020-7c16abdd7130",
   "metadata": {},
   "outputs": [],
   "source": [
    "def chech_n():\n",
    "    n=int(input(\"ENTER NUMBER\"))\n",
    "    if n%2==0:\n",
    "        print(\"EVEN\")\n",
    "    else:\n",
    "        print(\"odd\")\n",
    "chech_n()"
   ]
  },
  {
   "cell_type": "code",
   "execution_count": null,
   "id": "42992c4a-2207-4824-baf3-d49e1ee4b422",
   "metadata": {},
   "outputs": [],
   "source": []
  },
  {
   "cell_type": "markdown",
   "id": "0a4552b2-8b5f-4c10-90b4-595bcf235840",
   "metadata": {},
   "source": [
    "### Python Version\n",
    "### To check the Python version of the editor, you can find it by importing the sys module:\n",
    "\n",
    "### Example\n",
    "### Check the Python version of the editor:"
   ]
  },
  {
   "cell_type": "code",
   "execution_count": 18,
   "id": "42378e9d-e0fe-46c9-a5c6-ae8d0d88f281",
   "metadata": {},
   "outputs": [
    {
     "name": "stdout",
     "output_type": "stream",
     "text": [
      "krupali\n"
     ]
    }
   ],
   "source": [
    "krupali=krupali\n",
    "krupali\n",
    "print(krupali)"
   ]
  },
  {
   "cell_type": "code",
   "execution_count": null,
   "id": "72d9ed20-9c54-40f7-bc75-a14ef36330e0",
   "metadata": {},
   "outputs": [],
   "source": [
    "type(a)"
   ]
  },
  {
   "cell_type": "code",
   "execution_count": 27,
   "id": "011d1cc1-6f7b-4df0-93c4-43137791dc2e",
   "metadata": {},
   "outputs": [],
   "source": [
    "account_no=6012983.9890\n",
    "account_holder=\"Shivani Dangi\""
   ]
  },
  {
   "cell_type": "code",
   "execution_count": 25,
   "id": "232811a1-fd9a-4553-9f6f-081ecf0a4ca3",
   "metadata": {},
   "outputs": [
    {
     "data": {
      "text/plain": [
       "6012983"
      ]
     },
     "execution_count": 25,
     "metadata": {},
     "output_type": "execute_result"
    }
   ],
   "source": [
    "account_no"
   ]
  },
  {
   "cell_type": "code",
   "execution_count": 28,
   "id": "4e18b070-82e5-4e6e-8be0-c4fe08a71fba",
   "metadata": {},
   "outputs": [
    {
     "data": {
      "text/plain": [
       "float"
      ]
     },
     "execution_count": 28,
     "metadata": {},
     "output_type": "execute_result"
    }
   ],
   "source": [
    "type(account_no)"
   ]
  },
  {
   "cell_type": "code",
   "execution_count": null,
   "id": "25e997e7-1661-4c3d-b846-9b21a35b2e06",
   "metadata": {},
   "outputs": [],
   "source": [
    "import sys #system #importing the system library\n",
    "\n",
    "print(sys.version)\n"
   ]
  },
  {
   "cell_type": "markdown",
   "id": "b3bd99c9-c659-4fd6-beac-d5785094ca89",
   "metadata": {},
   "source": [
    "### Python Indentation\n",
    "### Indentation refers to the spaces at the beginning of a code line.\n",
    "\n",
    "### Where in other programming languages the indentation in code is for readability only, the indentation in Python is very important.\n",
    "\n",
    "### Python uses indentation to indicate a block of code.\n",
    "\n",
    "### Example"
   ]
  },
  {
   "cell_type": "code",
   "execution_count": null,
   "id": "62ba35b2-89ec-4065-98ff-4ae0958b8c6d",
   "metadata": {},
   "outputs": [],
   "source": [
    "is_prime=True"
   ]
  },
  {
   "cell_type": "code",
   "execution_count": 76,
   "id": "4a73619a-4346-4ad5-b82b-7351fa9f428a",
   "metadata": {},
   "outputs": [
    {
     "name": "stdin",
     "output_type": "stream",
     "text": [
      "enter your age 78\n"
     ]
    },
    {
     "name": "stdout",
     "output_type": "stream",
     "text": [
      "u can vote\n"
     ]
    }
   ],
   "source": [
    "age=int(input(\"enter your age\"))\n",
    "if age >= 18:\n",
    "    print(\"u can vote\")\n",
    "else:\n",
    "    print(\"you cannot\")\n"
   ]
  },
  {
   "cell_type": "code",
   "execution_count": 82,
   "id": "26cc4a3f-3ef5-4a33-9366-3aab1cbc8ab0",
   "metadata": {},
   "outputs": [
    {
     "name": "stdout",
     "output_type": "stream",
     "text": [
      "b is max 10000 which is the largest number\n"
     ]
    }
   ],
   "source": [
    "a=50\n",
    "b=10000\n",
    "c=9000\n",
    "if a>b & a>c:\n",
    "    print(\"a is max\",a)\n",
    "elif b>a and b>c:\n",
    "    print(f\"b is max {b} which is the largest number\")\n",
    "else:\n",
    "    print(\"c is max\",c,\"which is the largest number\")\n"
   ]
  },
  {
   "cell_type": "code",
   "execution_count": null,
   "id": "82bfafa2-958c-47ba-8a0b-5b3559a2c588",
   "metadata": {},
   "outputs": [],
   "source": [
    "if 5 > 2:\n",
    "    print(\"Five is greater than two!\")\n",
    "    print(\"Five is greater than two!\")"
   ]
  },
  {
   "cell_type": "code",
   "execution_count": null,
   "id": "9f7c33c7-5eb8-4bde-ac1a-92a33f58c5a6",
   "metadata": {},
   "outputs": [],
   "source": [
    "a=\"\"\" \n",
    "This is a comment\n",
    "written in\n",
    "more than just one line \n",
    "\"\"\" #multiline comment\n",
    "#single line comment\n",
    "print(a)\n",
    "if 5>10:\n",
    "    #this is is an if statement\n",
    "    print(\"y\")\n",
    "else:\n",
    "    print(\"n\")"
   ]
  },
  {
   "cell_type": "markdown",
   "id": "05d2e38a-600f-496f-89da-7e316dea2d51",
   "metadata": {},
   "source": [
    "## Python Variables"
   ]
  },
  {
   "cell_type": "markdown",
   "id": "4463a1fd-1d5d-401e-b7d5-32b719261207",
   "metadata": {},
   "source": [
    "### Variables\n",
    "### Variables are containers for storing data values.\n",
    "\n"
   ]
  },
  {
   "cell_type": "code",
   "execution_count": 1,
   "id": "8a1081f5-6ca6-44f1-a670-9df803389e47",
   "metadata": {},
   "outputs": [
    {
     "name": "stdout",
     "output_type": "stream",
     "text": [
      "5.0\n",
      "7\n"
     ]
    }
   ],
   "source": [
    "a=15\n",
    "b=2\n",
    "c=3\n",
    "print(a/c)  #5.0\n",
    "print(a//b) #floor division"
   ]
  },
  {
   "cell_type": "code",
   "execution_count": null,
   "id": "3119ac4b-589d-49e8-b199-fa214b889e98",
   "metadata": {},
   "outputs": [],
   "source": [
    "a=10\n",
    "print(a)\n",
    "a=1000\n",
    "print(a)"
   ]
  },
  {
   "cell_type": "code",
   "execution_count": null,
   "id": "adac55dd-7ca9-45c3-826f-706b16fb2145",
   "metadata": {},
   "outputs": [],
   "source": [
    "numbers = [5,5,5, 2, 7, 1, 8, 3]\n",
    "numbers.sort()\n",
    "numbers"
   ]
  },
  {
   "cell_type": "code",
   "execution_count": null,
   "id": "8e91e731-7d22-4bbf-bed8-676bd5dec358",
   "metadata": {},
   "outputs": [],
   "source": [
    "is_raining = False\n",
    "has_passed = True\n",
    "print(is_raining)\n",
    "has_passed"
   ]
  },
  {
   "cell_type": "code",
   "execution_count": null,
   "id": "029f9a63-73f9-4f2a-a964-aab70ff6d04f",
   "metadata": {},
   "outputs": [],
   "source": [
    "try:\n",
    "    # Code that may raise an exception\n",
    "    result = 10 / 0  # This will raise a ZeroDivisionError\n",
    "except ZeroDivisionError:\n",
    "    print(\"Error: You can't divide a number by zero !\")\n"
   ]
  },
  {
   "cell_type": "code",
   "execution_count": 86,
   "id": "37229a0c-90c8-4203-8ab4-ecadf570e3ee",
   "metadata": {},
   "outputs": [
    {
     "name": "stdout",
     "output_type": "stream",
     "text": [
      "my name is Shreyas my surname is Joshi\n",
      "hey my name is  Shreyas  Joshi and my age is 30\n",
      "Hi my name is  Shreyas Joshi and my age is 30\n"
     ]
    }
   ],
   "source": [
    "a=30\n",
    "b=\" Shreyas\"\n",
    "c=\" Joshi\"\n",
    "print(\"my name is\"+b+\" my surname is\"+c) #string concat\n",
    "print(\"hey my name is\",b,c,\"and my age is\",a) #passing the variable\n",
    "print(f\"Hi my name is {b}{c} and my age is {a}\") #formatting"
   ]
  },
  {
   "cell_type": "code",
   "execution_count": null,
   "id": "1ed176de-937b-419b-9c28-82d6a6cd7efd",
   "metadata": {},
   "outputs": [],
   "source": [
    "greeting = \"Hello, World!\" #single line comment\n",
    "name = 'John'\n",
    "a=\"\"\"This is a \n",
    "multiline string\n",
    "bsgyvetuiwtei.\"\"\"\n",
    "\n"
   ]
  },
  {
   "cell_type": "code",
   "execution_count": null,
   "id": "34183026-a6c2-4c7c-ad9a-8771f03a0f1c",
   "metadata": {},
   "outputs": [],
   "source": [
    "\"\"\"vjfe\n",
    "efgf\n",
    "jfj\"\"\"\n",
    "\n",
    "\n",
    "pi = 3.14\n",
    "gravity = 9.81\n",
    "price=9.12\n",
    "print(pi)\n",
    "print(price)"
   ]
  },
  {
   "cell_type": "code",
   "execution_count": null,
   "id": "5297cf54-2403-4b26-840c-e850700f6f69",
   "metadata": {},
   "outputs": [],
   "source": [
    "z=10\n",
    "y=10\n",
    "z=10\n",
    "print(z)\n",
    "y"
   ]
  },
  {
   "cell_type": "code",
   "execution_count": 11,
   "id": "57f1da85-88f4-4908-a8cd-5100962f132f",
   "metadata": {},
   "outputs": [
    {
     "data": {
      "text/plain": [
       "10"
      ]
     },
     "execution_count": 11,
     "metadata": {},
     "output_type": "execute_result"
    }
   ],
   "source": [
    "num = 10.5\n",
    "num = int(num)\n",
    "num"
   ]
  },
  {
   "cell_type": "code",
   "execution_count": null,
   "id": "2cd4b32a-71da-4457-a208-28eeeae79218",
   "metadata": {},
   "outputs": [],
   "source": [
    "x , y ,z =100,34,67\n",
    "y"
   ]
  },
  {
   "cell_type": "code",
   "execution_count": null,
   "id": "c011b11d-104f-4ae2-973b-5fed32030898",
   "metadata": {},
   "outputs": [],
   "source": [
    "x=y=z=100,120,8\n",
    "y"
   ]
  },
  {
   "cell_type": "code",
   "execution_count": null,
   "id": "7e9b82aa-15ca-46b0-8c8c-e14f16b2a26c",
   "metadata": {},
   "outputs": [],
   "source": [
    "a=10>9\n",
    "b=9>50\n",
    "b"
   ]
  },
  {
   "cell_type": "code",
   "execution_count": null,
   "id": "47034c0c-9699-46dc-a7ba-f63133fde4e8",
   "metadata": {},
   "outputs": [],
   "source": [
    "a=10\n",
    "print(type(a))"
   ]
  },
  {
   "cell_type": "markdown",
   "id": "e07dca99-e6e2-454c-937a-1b49769836b8",
   "metadata": {},
   "source": [
    "# List\n"
   ]
  },
  {
   "cell_type": "code",
   "execution_count": null,
   "id": "5babf698-aedd-47cf-beb3-0036ac96173f",
   "metadata": {},
   "outputs": [],
   "source": [
    "x = 15 #int\n",
    "print(\"this is a integar\",x)\n",
    "string_y = \"34696\" #string\n",
    "z=8.57 #float\n",
    "a=True #bool\n",
    "fruit_list=[\"Mango\",\"Chikoo\",\"Watermelon\",\"kiwi\",\"Apple\",'custard apple'] #list\n",
    "t=(1,True,\"abc\") #tupple\n",
    "d={\"name\":\"Shivani\",\"lname\":\"Dangi\"} #dictionary\n",
    "set={1,True,3.15,\"xyz\"}\n",
    "print(x)\n",
    "\n",
    "print(set)\n",
    "print(type(x))\n",
    "\n",
    "print(type(z))\n",
    "print(type(a))\n",
    "\n",
    "print(type(d))\n",
    "print(type(set))"
   ]
  },
  {
   "cell_type": "code",
   "execution_count": 87,
   "id": "78fbc4f1-4949-4979-801f-3bf081986329",
   "metadata": {},
   "outputs": [],
   "source": [
    "fruit_list=[\"Mango\",\"Chikoo\",\"Watermelon\",\"kiwi\",\"Apple\",'custard apple']"
   ]
  },
  {
   "cell_type": "code",
   "execution_count": 92,
   "id": "e04a9498-f712-43fb-ab3b-c79d1d5bfdfb",
   "metadata": {},
   "outputs": [
    {
     "name": "stdout",
     "output_type": "stream",
     "text": [
      "Mango\n",
      "Chikoo\n",
      "Watermelon\n",
      "kiwi\n",
      "Apple\n",
      "custard apple\n"
     ]
    }
   ],
   "source": [
    "for fruit in fruit_list:\n",
    "    print(fruit)"
   ]
  },
  {
   "cell_type": "code",
   "execution_count": 88,
   "id": "11b041bd-c07c-4d5d-9387-23c58aa31629",
   "metadata": {},
   "outputs": [
    {
     "data": {
      "text/plain": [
       "list"
      ]
     },
     "execution_count": 88,
     "metadata": {},
     "output_type": "execute_result"
    }
   ],
   "source": [
    "type(fruit_list)"
   ]
  },
  {
   "cell_type": "code",
   "execution_count": 90,
   "id": "42f79821-6808-4959-b779-b6a15cf40bab",
   "metadata": {},
   "outputs": [
    {
     "name": "stdout",
     "output_type": "stream",
     "text": [
      "['apple', 'banana', 'cherry', 'apple']\n"
     ]
    },
    {
     "data": {
      "text/plain": [
       "{'apple', 'banana', 'cherry'}"
      ]
     },
     "execution_count": 90,
     "metadata": {},
     "output_type": "execute_result"
    }
   ],
   "source": [
    "fruits = [\"apple\", \"banana\", \"cherry\", \"apple\"]\n",
    "unique_fruits = set(fruits)  \n",
    "print(fruits)\n",
    "unique_fruits"
   ]
  },
  {
   "cell_type": "markdown",
   "id": "08c6e880-177f-4f86-a444-073f82af597b",
   "metadata": {},
   "source": [
    "### CASTING"
   ]
  },
  {
   "cell_type": "code",
   "execution_count": null,
   "id": "f5acfda7-2565-4d48-b3bd-518d7a60fd73",
   "metadata": {},
   "outputs": [],
   "source": [
    "x=str(3)"
   ]
  },
  {
   "cell_type": "code",
   "execution_count": null,
   "id": "b75b47ed-1950-49a3-9b17-0d3c4865c410",
   "metadata": {},
   "outputs": [],
   "source": [
    "z=float(10.89)\n",
    "z\n",
    "t=int(z)\n",
    "t"
   ]
  },
  {
   "cell_type": "code",
   "execution_count": null,
   "id": "f0379b5c-c874-4f49-bb6f-28d5e3375bbb",
   "metadata": {},
   "outputs": [],
   "source": [
    "t=10\n",
    "x = str(3)    # x will be '3'\n",
    "y = int(3)    # y will be 3\n",
    "z = 3\n",
    "z=str(z)# z will be 3.0\n",
    "print(type(x))\n",
    "print(type(y))\n",
    "print(type(z))\n",
    "print(t)"
   ]
  },
  {
   "cell_type": "code",
   "execution_count": null,
   "id": "a46ffba9-10aa-404f-bee1-b1c659f8a6df",
   "metadata": {},
   "outputs": [],
   "source": [
    "num = 10.5\n",
    "int_num = int(num)\n",
    "int_num"
   ]
  },
  {
   "cell_type": "code",
   "execution_count": null,
   "id": "e8153627-86fe-4788-95a0-c59bda9c8eae",
   "metadata": {},
   "outputs": [],
   "source": [
    "a=10\n",
    "a=1000\n",
    "a"
   ]
  },
  {
   "cell_type": "code",
   "execution_count": null,
   "id": "ba347d05-8fbc-443c-94fe-253c73667e1b",
   "metadata": {},
   "outputs": [],
   "source": [
    "myvar = \"John\"\n",
    "my_var = \"John\"\n",
    "_my_var = \"John\"\n",
    "myVar = \"John\"\n",
    "MYVAR = \"John\"\n",
    "myvar2 = \"John\""
   ]
  },
  {
   "cell_type": "code",
   "execution_count": null,
   "id": "a6d584ea-9868-48c5-87b1-4b4952370109",
   "metadata": {},
   "outputs": [],
   "source": []
  },
  {
   "cell_type": "code",
   "execution_count": null,
   "id": "1d15c753-cc2b-4619-864b-104b1ab08a1c",
   "metadata": {},
   "outputs": [],
   "source": [
    "#Illegal variable names:\n",
    "MYVAR=\"John\"\n",
    "myvar = \"John\"\n",
    "my_var = \"John\"\n",
    "my2var = \"John\""
   ]
  },
  {
   "cell_type": "code",
   "execution_count": null,
   "id": "2a57b651-d831-4d98-a826-093bbc1357d4",
   "metadata": {},
   "outputs": [],
   "source": [
    "_a=30\n",
    "_a\n",
    "_a=40\n",
    "_a"
   ]
  },
  {
   "cell_type": "code",
   "execution_count": null,
   "id": "45452244-879c-4a21-aac8-c292235dedd2",
   "metadata": {},
   "outputs": [],
   "source": [
    "x,y, z = \"Orange\", \"Banana\", \"Cherry\" #X=Y=Z\n",
    "print(x)\n",
    "print(y)\n",
    "print(z)"
   ]
  },
  {
   "cell_type": "code",
   "execution_count": null,
   "id": "90039f04-3b83-426e-bede-97c9e3030363",
   "metadata": {},
   "outputs": [],
   "source": [
    "fruits = [\"apple\", \"banana\", \"cherry\"] #LIST\n",
    "x, y, z = fruits\n",
    "print(x)\n",
    "print(y)\n",
    "print(z)"
   ]
  },
  {
   "cell_type": "markdown",
   "id": "23583425-f620-4ab7-a1b2-fb255594be89",
   "metadata": {},
   "source": [
    "Output Variables\n",
    "The Python print() function is often used to output variables."
   ]
  },
  {
   "cell_type": "markdown",
   "id": "cd549265-b491-4a81-8c86-1cb65af0a213",
   "metadata": {},
   "source": [
    "#### OPERATORS EXAMPLES\n",
    "Arithmetic Operators: Perform mathematical operations.\n",
    "Comparison Operators: Compare values.\n",
    "Logical Operators: Combine conditional expressions.\n",
    "Assignment Operators: Assign values and perform compound assignments.\n",
    "Bitwise Operators: Operate on binary representations of integers.\n",
    "Identity Operators: Check if two variables point to the same object.\n",
    "Membership Operators: Check membership in a sequence.\n",
    "Ternary Operator: Conditionally return a value."
   ]
  },
  {
   "cell_type": "code",
   "execution_count": 2,
   "id": "a91ac57c-9ed6-4b6a-8527-07083455f53f",
   "metadata": {},
   "outputs": [
    {
     "name": "stdout",
     "output_type": "stream",
     "text": [
      "13\n",
      "7\n",
      "30\n",
      "3.3333333333333335\n",
      "1\n",
      "1000\n",
      "3\n"
     ]
    }
   ],
   "source": [
    "x = 10\n",
    "y = 3\n",
    "\n",
    "print(x + y)  # Output: 13\n",
    "print(x - y)  # Output: 7\n",
    "print(x * y)  # Output: 30\n",
    "print(x / y)  # Output: 3.3333333333333335\n",
    "print(x % y)  # Output: 1\n",
    "print(x ** y) # Output: 1000\n",
    "print(x // y) # Output: 3 #floor division\n"
   ]
  },
  {
   "cell_type": "code",
   "execution_count": null,
   "id": "1dd4bf9d-3a19-4122-bff9-3785419dd4c7",
   "metadata": {},
   "outputs": [],
   "source": [
    "x=9\n",
    "y=5\n",
    "print(y/x)\n",
    "print(y//x)"
   ]
  },
  {
   "cell_type": "code",
   "execution_count": null,
   "id": "ffb0431b-1203-44d2-89d4-42c4ed964f87",
   "metadata": {},
   "outputs": [],
   "source": [
    "x = 10\n",
    "y = 5\n",
    "\n",
    "print(x == y)  # Output: False\n",
    "print(x != y)  # Output: True\n",
    "print(x > y)   # Output: True\n",
    "print(x < y)   # Output: False\n",
    "print(x >= y)  # Output: True\n",
    "print(x <= y)  # Output: False\n"
   ]
  },
  {
   "cell_type": "code",
   "execution_count": null,
   "id": "bbe6755d-3fc5-4969-b6e3-f40660fd1de2",
   "metadata": {},
   "outputs": [],
   "source": [
    "x = True\n",
    "y = False\n",
    "\n",
    "print(x and y)  # Output: False\n",
    "print(x or y)   # Output: True\n",
    "print(not x)# Output: False\n"
   ]
  },
  {
   "cell_type": "code",
   "execution_count": null,
   "id": "9d6dbf21-25f4-4a8a-b6a4-cfea1bdcb13e",
   "metadata": {},
   "outputs": [],
   "source": [
    "x = 10\n",
    "x += 5   # Equivalent to x = x + 5\n",
    "print(x)  # Output: 15\n",
    "\n",
    "x *= 2   # Equivalent to x = x * 2\n",
    "print(x)  # Output: 30\n"
   ]
  },
  {
   "cell_type": "code",
   "execution_count": null,
   "id": "3dd275de-be3e-46d6-a205-49b5c35ce945",
   "metadata": {},
   "outputs": [],
   "source": [
    "x = 10   # 1010 in binary\n",
    "y = 4    # 0100 in binary\n",
    "\n",
    "print(x & y)   # Output: 0 (0000 in binary)\n",
    "print(x | y)   # Output: 14 (1110 in binary)\n",
    "print(x ^ y)   # Output: 14 (1110 in binary)\n",
    "print(~x)      # Output: -11 (Two's complement representation)\n",
    "print(x << 2)  # Output: 40 (101000 in binary)\n",
    "print(x >> 2)  # Output: 2 (0010 in binary)\n"
   ]
  },
  {
   "cell_type": "code",
   "execution_count": null,
   "id": "96f94f9d-4d30-42ab-b35e-12fef3cde36d",
   "metadata": {},
   "outputs": [],
   "source": [
    "x = [1, 2, 3]\n",
    "y = x\n",
    "z = [1, 2, 3]\n",
    "\n",
    "print(x is y)      # Output: True (same object)\n",
    "print(x is z)      # Output: False (different objects)\n",
    "print(x is not z)  # Output: True\n"
   ]
  },
  {
   "cell_type": "code",
   "execution_count": null,
   "id": "eec86de9-b7f2-4429-9819-5cd1ac27ec17",
   "metadata": {},
   "outputs": [],
   "source": [
    "x = [1, 2, 3, 4]\n",
    "y = 3\n",
    "\n",
    "print(y in x)      # Output: True\n",
    "print(2 not in x)  # Output: True\n"
   ]
  },
  {
   "cell_type": "code",
   "execution_count": 3,
   "id": "6ed11b24-3782-401e-9832-8ff94f5ca40e",
   "metadata": {},
   "outputs": [
    {
     "name": "stdout",
     "output_type": "stream",
     "text": [
      "x is greater\n"
     ]
    }
   ],
   "source": [
    "x = 10\n",
    "y = 5\n",
    "\n",
    "result = \"x is greater\" if x > y else \"y is greater\"\n",
    "print(result)  # Output: x is greater\n"
   ]
  },
  {
   "cell_type": "code",
   "execution_count": null,
   "id": "1877a439-400b-4b52-aec5-176f9637299d",
   "metadata": {},
   "outputs": [],
   "source": [
    "x=100\n",
    "y=90\n",
    "\n",
    "if x>y:\n",
    "    print(\"x is greater\")\n",
    "else:\n",
    "    print(\"y is geater\")\n"
   ]
  },
  {
   "cell_type": "code",
   "execution_count": null,
   "id": "67db9b7a-c125-4a18-b577-10b2975ac62b",
   "metadata": {},
   "outputs": [],
   "source": []
  },
  {
   "cell_type": "markdown",
   "id": "8a2479c9-a5d9-4705-af90-ad1d4f9a4204",
   "metadata": {},
   "source": [
    "### Global Variables\n",
    "### Variables that are created outside of a function (as in all of the examples in the previous pages) are known as global variables.\n",
    "\n",
    "### Global variables can be used by everyone, both inside of functions and outside."
   ]
  },
  {
   "cell_type": "code",
   "execution_count": null,
   "id": "36abe0a4-fea0-4dce-996f-2861c7202136",
   "metadata": {},
   "outputs": [],
   "source": [
    "x = \"awesome\"\n",
    "\n",
    "def myfunc():\n",
    "    \n",
    "    print(\"Python is \" + x)\n",
    "\n",
    "myfunc()\n"
   ]
  },
  {
   "cell_type": "markdown",
   "id": "9924d4a6-f1b4-4852-872b-1f47dc2d2014",
   "metadata": {},
   "source": [
    "### The global Keyword\n",
    "### Normally, when you create a variable inside a function, that variable is local, and can only be used inside that function.\n",
    "\n",
    "### To create a global variable inside a function, you can use the global keyword"
   ]
  },
  {
   "cell_type": "code",
   "execution_count": 8,
   "id": "86f5db1d-3264-4ea7-8126-334dab8bac8b",
   "metadata": {},
   "outputs": [],
   "source": [
    "def addition():\n",
    "    global a\n",
    "    b=90273498\n",
    "    a=98797\n",
    "    return a+b\n",
    "a=10"
   ]
  },
  {
   "cell_type": "code",
   "execution_count": 9,
   "id": "ced63970-2d23-4159-acd9-8a5b248a6312",
   "metadata": {},
   "outputs": [
    {
     "data": {
      "text/plain": [
       "90372295"
      ]
     },
     "execution_count": 9,
     "metadata": {},
     "output_type": "execute_result"
    }
   ],
   "source": [
    "addition() #called the fucntion"
   ]
  },
  {
   "cell_type": "code",
   "execution_count": 10,
   "id": "0e719d44-839f-4859-8a1f-ef738dc49b0a",
   "metadata": {},
   "outputs": [
    {
     "name": "stdout",
     "output_type": "stream",
     "text": [
      "abc\n",
      "Python is fantastic\n",
      "fantastic\n"
     ]
    }
   ],
   "source": [
    "y=\"abc\" \n",
    "def myfunc():\n",
    "  global x\n",
    "  z=10 #local\n",
    "  x = \"fantastic\" #global\n",
    "  print(y)\n",
    "myfunc()\n",
    "print(\"Python is \" + x)\n",
    "print(x)"
   ]
  },
  {
   "cell_type": "code",
   "execution_count": null,
   "id": "7645be71-ce33-4c54-86d3-3fca807f25c5",
   "metadata": {},
   "outputs": [],
   "source": [
    "a = '''Strings\n",
    "Strings in python are surrounded by either single quotation marks, or double quotation marks.'''\n",
    "print(a)"
   ]
  },
  {
   "cell_type": "code",
   "execution_count": null,
   "id": "e3f844fe-2743-48c6-9429-b139b5356c5e",
   "metadata": {},
   "outputs": [],
   "source": [
    "a=9/2\n",
    "a"
   ]
  },
  {
   "cell_type": "code",
   "execution_count": null,
   "id": "68585c1f-70c2-4d80-8c0a-867a2290a4e3",
   "metadata": {},
   "outputs": [],
   "source": [
    "a=10\n",
    "print(\"Hi my name is \",a)"
   ]
  },
  {
   "cell_type": "code",
   "execution_count": null,
   "id": "81880c2d-65ee-461b-9af5-2b943e8e946d",
   "metadata": {},
   "outputs": [
    {
     "name": "stdout",
     "output_type": "stream",
     "text": [
      "Your PhoneNumer 655\n"
     ]
    }
   ],
   "source": [
    "## name = input(\"Enter your name: \")\n",
    "print(\"Hello, \" + name +\" Enter your details\"+ \"!\")\n",
    "PhoneNumber =int(input(\"Enter your Phone Number: \"))\n",
    "print(\"Your PhoneNumer\",PhoneNumber)\n"
   ]
  },
  {
   "cell_type": "code",
   "execution_count": null,
   "id": "85ce310d-49bc-4a12-91d1-6a6a767f607e",
   "metadata": {},
   "outputs": [],
   "source": []
  },
  {
   "cell_type": "code",
   "execution_count": null,
   "id": "d9f6500f-57fc-47f5-a224-484bcaa07afe",
   "metadata": {},
   "outputs": [],
   "source": []
  },
  {
   "cell_type": "code",
   "execution_count": null,
   "id": "a99c5ab4-dbfa-4698-b200-84c46652f9a4",
   "metadata": {},
   "outputs": [],
   "source": []
  },
  {
   "cell_type": "markdown",
   "id": "fb3c9abc-5244-44aa-a9fa-05dd44d24927",
   "metadata": {},
   "source": [
    "### Python - Slicing Strings"
   ]
  },
  {
   "cell_type": "code",
   "execution_count": null,
   "id": "770213bc-d2c7-4337-a787-5ad5783add97",
   "metadata": {},
   "outputs": [],
   "source": [
    "message=\"   Hello, Python!  \"\n",
    "print(message.split(\",\"))\n",
    "n=\"\".join(message)\n",
    "n"
   ]
  },
  {
   "cell_type": "code",
   "execution_count": 19,
   "id": "784c276a-9de2-41fb-bbe0-94875ad76b00",
   "metadata": {},
   "outputs": [
    {
     "name": "stdout",
     "output_type": "stream",
     "text": [
      "Hello, Python!\n",
      "   hello, python!   \n",
      "   HELLO, PYTHON!   \n",
      "   Hell, Pythn!   \n",
      "['   Hello', ' Python!   ']\n",
      "   Hello Python!   \n"
     ]
    }
   ],
   "source": [
    "message = \"   Hello, Python!   \"\n",
    "print(message.strip())     # Output: \"Hello, Python!\"\n",
    "print(message.lower()) \n",
    "print(message.upper()) # Output: \"   hello, python!   \"\n",
    "print(message.replace('o', '')) # Output: \"   Hell0, Pyth0n!   \"\n",
    "words = message.split(',')\n",
    "print(words)         # Output: ['   Hello', ' Python!   ']\n",
    "new_message = ''.join(words)\n",
    "print(new_message)      \n"
   ]
  },
  {
   "cell_type": "code",
   "execution_count": null,
   "id": "18376156-cc80-46b2-99c6-8a4bfc5855ee",
   "metadata": {},
   "outputs": [],
   "source": [
    "s=\"MohitUnecha\"\n",
    "new_message = ' '.join(s)\n",
    "new_message"
   ]
  },
  {
   "cell_type": "code",
   "execution_count": 24,
   "id": "e67e8d20-6932-4d12-a01d-11941e3d5d13",
   "metadata": {},
   "outputs": [
    {
     "name": "stdout",
     "output_type": "stream",
     "text": [
      "thon P\n",
      "Python Programming\n",
      "thon \n",
      "Python Programmi\n",
      "gnimmargorP nohtyP\n"
     ]
    }
   ],
   "source": [
    "message = \"Python Programming\"\n",
    "print(message[2:8])\n",
    "print(message[0:])   \n",
    "print(message[2:7])     \n",
    "print(message[:16])    \n",
    "print(message[::-1])   \n",
    "\n"
   ]
  },
  {
   "cell_type": "code",
   "execution_count": 1,
   "id": "8476e971-110f-445b-b75d-1c36312ae0a3",
   "metadata": {},
   "outputs": [
    {
     "name": "stdout",
     "output_type": "stream",
     "text": [
      "Hello,\n"
     ]
    }
   ],
   "source": [
    "b = \"Hello, World!\"\n",
    "print(b[0:6])"
   ]
  },
  {
   "cell_type": "code",
   "execution_count": 2,
   "id": "0cd59d4f-b56b-4d85-a625-454eb4784ccc",
   "metadata": {},
   "outputs": [
    {
     "name": "stdout",
     "output_type": "stream",
     "text": [
      "Hello\n"
     ]
    }
   ],
   "source": [
    "b = \"Hello, World!\"\n",
    "print(b[:5])"
   ]
  },
  {
   "cell_type": "code",
   "execution_count": 3,
   "id": "adc70549-c996-4c0d-b716-897f6c5dc6d6",
   "metadata": {},
   "outputs": [
    {
     "name": "stdout",
     "output_type": "stream",
     "text": [
      ", World!\n"
     ]
    }
   ],
   "source": [
    "b = \"Hello, World!\"\n",
    "print(b[5:])"
   ]
  },
  {
   "cell_type": "code",
   "execution_count": 4,
   "id": "9bfef1f7-cdad-47bd-820f-ca57b79eda29",
   "metadata": {},
   "outputs": [
    {
     "name": "stdout",
     "output_type": "stream",
     "text": [
      "orl\n"
     ]
    }
   ],
   "source": [
    "b = \"Hello, World!\"\n",
    "print(b[-5:-2])"
   ]
  },
  {
   "cell_type": "code",
   "execution_count": null,
   "id": "4fd1a585-9684-4525-9778-e098a7751dde",
   "metadata": {},
   "outputs": [],
   "source": [
    "a = \"HeLLo, WORld!\"\n",
    "print(a.lower()) #UPPER"
   ]
  },
  {
   "cell_type": "code",
   "execution_count": null,
   "id": "f48941c8-efa2-4a9b-99fb-eb33219b348d",
   "metadata": {},
   "outputs": [],
   "source": [
    "a = \"Hello \"\n",
    "b = \"World\"\n",
    "c = a + b\n",
    "print(c)"
   ]
  },
  {
   "cell_type": "code",
   "execution_count": null,
   "id": "029298f3-3dc3-43cf-9af7-a1b93edf41f7",
   "metadata": {},
   "outputs": [],
   "source": [
    "a = \"Hello\"\n",
    "b = \"World\"\n",
    "c = a + \"@\" + b\n",
    "print(c)"
   ]
  },
  {
   "cell_type": "code",
   "execution_count": null,
   "id": "b1e2bdb3-1c33-49ba-8415-7e3d6f5a6c9f",
   "metadata": {},
   "outputs": [],
   "source": [
    "age = 18\n",
    "txt = \"My name is jhd, I am \" + age\n",
    "print(txt)"
   ]
  },
  {
   "cell_type": "code",
   "execution_count": null,
   "id": "9b1b4057-02d7-422f-88da-8c2f55762067",
   "metadata": {},
   "outputs": [],
   "source": [
    "age = 36\n",
    "a=f\"My name is ABX, I am {age}\"\n",
    "a\n"
   ]
  },
  {
   "cell_type": "code",
   "execution_count": null,
   "id": "bfdf6906-c963-4bdd-a2fd-0cd678c12736",
   "metadata": {},
   "outputs": [],
   "source": [
    "a = \"Hello, World!\"\n",
    "print(a.replace(\"H\", \"J\"))"
   ]
  },
  {
   "cell_type": "code",
   "execution_count": null,
   "id": "aad0f390-4c73-4416-984d-0839415eb9a4",
   "metadata": {},
   "outputs": [],
   "source": [
    "a = \"Hello, World!\"\n",
    "print(a.split(\",\")) # returns ['Hello', ' World!']"
   ]
  },
  {
   "cell_type": "markdown",
   "id": "d0abdd6e-834b-49d2-9d24-0446892a5525",
   "metadata": {},
   "source": [
    "### BOOLEAN "
   ]
  },
  {
   "cell_type": "code",
   "execution_count": null,
   "id": "3607d6f0-fdfc-4c49-974d-ff9dc670dd2c",
   "metadata": {},
   "outputs": [],
   "source": [
    "print(10 > 9)\n",
    "print(10 == 9)\n",
    "print(10 < 9)"
   ]
  },
  {
   "cell_type": "code",
   "execution_count": null,
   "id": "cd559485-6ca7-400e-9cd2-7920130b25be",
   "metadata": {},
   "outputs": [],
   "source": [
    "x = \"Hello\"\n",
    "y = 15\n",
    "\n",
    "print(bool(x))\n",
    "print(bool(y))"
   ]
  },
  {
   "cell_type": "markdown",
   "id": "ba7a4787-9d19-44f7-a433-47680ca3a9a4",
   "metadata": {},
   "source": [
    "### Python Operators"
   ]
  },
  {
   "cell_type": "code",
   "execution_count": null,
   "id": "bbf152d5-4aaf-48d1-8bfc-8f3a2580c79e",
   "metadata": {},
   "outputs": [],
   "source": [
    "##Allow Duplicates\n",
    "#Since lists are indexed, lists can have items with the same value:\n",
    "\n",
    "#Example\n",
    "#Lists allow duplicate values:\n",
    "\n",
    "thislist = [\"apple\", \"banana\", \"apple\", \"cherry\"]\n",
    "thislist.remove(\"cherry\")\n",
    "print(thislist[-2])\n",
    "print(thislist)"
   ]
  },
  {
   "cell_type": "code",
   "execution_count": null,
   "id": "5600616a-4a40-44f1-96d7-f9ae6ffe98d4",
   "metadata": {},
   "outputs": [],
   "source": [
    "mylist = [\"apple\", \"banana\", \"cherry\",23,5.8,True]\n",
    "print(type(mylist))"
   ]
  },
  {
   "cell_type": "code",
   "execution_count": null,
   "id": "5beae7f9-6a40-4c7a-bb3e-78d2295c1bd0",
   "metadata": {},
   "outputs": [],
   "source": [
    "#Using the list() constructor to make a List:\n",
    "\n",
    "thislist = list((\"apple\", \"banana\", \"cherry\")) # note the double round-brackets\n",
    "print(thislist)"
   ]
  },
  {
   "cell_type": "code",
   "execution_count": 4,
   "id": "6883a0d7-6b9b-48f0-9140-d6313868beb5",
   "metadata": {},
   "outputs": [
    {
     "name": "stdout",
     "output_type": "stream",
     "text": [
      "['apple', 'Mango', 'cherry']\n",
      "['apple', 'Mango', 'cherry', 'grape']\n",
      "['apple', 'Mango', 'grape']\n",
      "['Mango', 'grape']\n"
     ]
    },
    {
     "data": {
      "text/plain": [
       "'grape'"
      ]
     },
     "execution_count": 4,
     "metadata": {},
     "output_type": "execute_result"
    }
   ],
   "source": [
    "# Print the second item of the list:\n",
    "\n",
    "thislist = [\"apple\", \"banana\", \"cherry\"]\n",
    "thislist[1]='Mango' #replacing a string\n",
    "print(thislist)\n",
    "thislist.append('grape')\n",
    "print(thislist)\n",
    "thislist.remove('cherry')\n",
    "print(thislist)\n",
    "del thislist[0]\n",
    "print(thislist)\n",
    "thislist.pop(1)\n"
   ]
  },
  {
   "cell_type": "code",
   "execution_count": null,
   "id": "7ef38a3a-c2b2-4451-b7c0-3a0506ae32bd",
   "metadata": {},
   "outputs": [],
   "source": [
    "list=['fortuner','thar','ferrari','lamborghini','porsche','nano']\n",
    "for cars in list:\n",
    "    print(cars)"
   ]
  },
  {
   "cell_type": "code",
   "execution_count": 93,
   "id": "b27017e3-652c-492d-ab18-d096ce64974f",
   "metadata": {},
   "outputs": [
    {
     "name": "stdout",
     "output_type": "stream",
     "text": [
      "0\n",
      "1\n",
      "2\n",
      "3\n",
      "4\n"
     ]
    }
   ],
   "source": [
    "for i in range(5):\n",
    "    print(i)\n"
   ]
  },
  {
   "cell_type": "code",
   "execution_count": 94,
   "id": "2db7277b-1558-4b3a-a024-b705313b8905",
   "metadata": {},
   "outputs": [
    {
     "name": "stdout",
     "output_type": "stream",
     "text": [
      "1\n",
      "4\n",
      "9\n",
      "16\n",
      "25\n",
      "36\n",
      "49\n",
      "64\n",
      "81\n",
      "100\n",
      "121\n",
      "144\n",
      "169\n",
      "196\n",
      "225\n"
     ]
    }
   ],
   "source": [
    "for i in range(1,16):\n",
    "    print(i*i)"
   ]
  },
  {
   "cell_type": "code",
   "execution_count": null,
   "id": "1ea5ac54-b8b6-4c20-8ed1-9dc869b75a8b",
   "metadata": {},
   "outputs": [],
   "source": [
    "matrix = [[1, 2, 3], [4, 5, 6], [7, 8, 9]]\n",
    "print(matrix)\n",
    "print(matrix[0][1])         # Output: [1, 2, 3]\n",
    "print(matrix[1][1])      # Output: 5\n",
    "print(matrix[2][2])      #9\n"
   ]
  },
  {
   "cell_type": "code",
   "execution_count": null,
   "id": "90cf3413-9099-4bcc-9c65-c441903b4f87",
   "metadata": {},
   "outputs": [],
   "source": [
    "numbers = (1, 2, 3, 2, 4, 2, 5,2,5,\"abc\",\"abc\",\"abc\")\n",
    "\n",
    "print(numbers.index(\"abc\"))   # Output: 1 (index of first occurrence of 2)\n",
    "print(numbers.count(\"abc\"))  \n",
    "\n"
   ]
  },
  {
   "cell_type": "code",
   "execution_count": 8,
   "id": "89f119d1-ba27-4d21-b641-e910d7929d5d",
   "metadata": {},
   "outputs": [
    {
     "name": "stdout",
     "output_type": "stream",
     "text": [
      "{1, 2, 3, 4, 5, 7.8, 'abc'}\n",
      "{1, 2, 3, 4, 5, 6, 7.8, 'abc'}\n",
      "{'grape', 'orange', 'abx', 'ryy'}\n",
      "{1, 2, 4, 5, 6, 7.8, 'abc'}\n",
      "{'grape', 'orange', 'ryy'}\n"
     ]
    }
   ],
   "source": [
    "            set={1,2,3,4,5,\"abc\",7.8,\"abc\",1,3,2}\n",
    "            print(set)\n",
    "            set.add(6) #{1,2,3,4,5,6}\n",
    "            print(set)\n",
    "            set2={\"abx\",\"ryy\"}\n",
    "            set2.update(['orange', 'grape'])\n",
    "            print(set2)\n",
    "            set.remove(3)\n",
    "            print(set)\n",
    "            set2.discard('abx')\n",
    "            print(set2)   \n"
   ]
  },
  {
   "cell_type": "code",
   "execution_count": 15,
   "id": "62e52ab9-cd42-4282-b56e-0196f7c7575e",
   "metadata": {},
   "outputs": [
    {
     "name": "stdout",
     "output_type": "stream",
     "text": [
      "{1, 2, 3, 4, 5, 6, 7}\n",
      "{3, 4, 5}\n",
      "{1, 2}\n",
      "{1, 2, 6, 7}\n"
     ]
    }
   ],
   "source": [
    "set_a = {1, 2, 3, 4, 5}\n",
    "set_b = {3, 4, 5, 6, 7}\n",
    "#union_set = set_a | set_b   \n",
    "print(set_a.union(set_b))\n",
    "intersection_set = set_a & set_b   # or set_a.intersection(set_b)\n",
    "print(intersection_set)\n",
    "difference_set = set_a - set_b   # or set_a.difference(set_b)\n",
    "print(difference_set) \n",
    "symmetric_difference_set = set_a ^ set_b   # or set_a.symmetric_difference(set_b)\n",
    "print(symmetric_difference_set) "
   ]
  },
  {
   "cell_type": "code",
   "execution_count": null,
   "id": "4795b95d-58e1-464c-bd2d-643004bb0d60",
   "metadata": {},
   "outputs": [],
   "source": [
    "thislist = [\"apple\", \"banana\", \"cherry\"]\n",
    "print(thislist[-2])"
   ]
  },
  {
   "cell_type": "code",
   "execution_count": null,
   "id": "bb860777-a742-413f-ac7d-13622b4b0c2f",
   "metadata": {},
   "outputs": [],
   "source": [
    "thislist = [\"apple\", \"banana\", \"cherry\", \"orange\", \"kiwi\", \"melon\", \"mango\"]\n",
    "print(thislist[2:])"
   ]
  },
  {
   "cell_type": "code",
   "execution_count": null,
   "id": "eadfa491-1cef-4472-8127-328edab86355",
   "metadata": {},
   "outputs": [],
   "source": [
    "thislist = [\"apple\", \"banana\", \"cherry\", \"orange\", \"kiwi\", \"melon\", \"mango\"]\n",
    "print(thislist[4:])"
   ]
  },
  {
   "cell_type": "code",
   "execution_count": null,
   "id": "3dcba8e5-e524-43ce-a04f-bf0065682bac",
   "metadata": {},
   "outputs": [],
   "source": [
    "#This example returns the items from \"orange\" (-4) to, but NOT including \"mango\" (-1):\n",
    "\n",
    "thislist = [\"apple\", \"banana\", \"cherry\", \"orange\", \"kiwi\", \"melon\", \"mango\"]\n",
    "print(thislist[-7:-4])"
   ]
  },
  {
   "cell_type": "code",
   "execution_count": null,
   "id": "b4756317-b2cf-4643-96c7-b414e39a63c6",
   "metadata": {},
   "outputs": [],
   "source": [
    "thislist = [\"apple\", \"banana\", \"cherry\"]\n",
    "if \"app\" in thislist:\n",
    "    print(\"Yes, 'apple' is in the fruits list\")\n",
    "else:\n",
    "    print('Not There')"
   ]
  },
  {
   "cell_type": "code",
   "execution_count": null,
   "id": "dc078810-ad56-4380-9644-e590204b64a6",
   "metadata": {},
   "outputs": [],
   "source": [
    "thislist = [\"apple\", \"banana\", \"cherry\"]\n",
    "thislist.append(\"kiwi\")\n",
    "thislist[1:2] = [\"blackcurrant\", \"watermelon\",\"mango\"]\n",
    "print(thislist)"
   ]
  },
  {
   "cell_type": "code",
   "execution_count": 16,
   "id": "d0523eea-a1fb-433f-a8fc-606ea6953873",
   "metadata": {},
   "outputs": [
    {
     "name": "stdout",
     "output_type": "stream",
     "text": [
      "['apple', 'banana', 'watermelon', 'cherry']\n"
     ]
    }
   ],
   "source": [
    "thislist = [\"apple\", \"banana\", \"cherry\"]\n",
    "thislist.insert(2, \"watermelon\")\n",
    "print(thislist)"
   ]
  },
  {
   "cell_type": "code",
   "execution_count": null,
   "id": "d0e62de6-2b6f-41ec-bc15-4bfea9298d9b",
   "metadata": {},
   "outputs": [],
   "source": [
    "thislist = [\"apple\", \"banana\", \"cherry\"]\n",
    "thislist.append(\"orange\")\n",
    "print(thislist)"
   ]
  },
  {
   "cell_type": "code",
   "execution_count": null,
   "id": "f3c9b52f-003f-4671-9204-2a4fd9159768",
   "metadata": {},
   "outputs": [],
   "source": [
    "#Add the elements of tropical to thislist:\n",
    "\n",
    "thislist = [\"apple\", \"banana\", \"cherry\"]\n",
    "tropical = [\"mango\", \"pineapple\", \"papaya\",\"papaya\"]\n",
    "thislist.extend(tropical)\n",
    "print(thislist)"
   ]
  },
  {
   "cell_type": "code",
   "execution_count": null,
   "id": "94fe6375-5bfe-4474-bd51-6ee5db36628e",
   "metadata": {},
   "outputs": [],
   "source": [
    "thislist = [\"apple\", \"banana\", \"cherry\"]\n",
    "thislist.remove(\"banana\")\n",
    "print(thislist)"
   ]
  },
  {
   "cell_type": "code",
   "execution_count": null,
   "id": "423e2fd2-a4b1-4cf1-ae34-084af128538d",
   "metadata": {},
   "outputs": [],
   "source": [
    "list1 = [\"a\", \"b\" , \"c\"]\n",
    "list2 = [1, 2, 3]\n",
    "\n",
    "list1.extend(list2)\n",
    "print(list1)"
   ]
  },
  {
   "cell_type": "markdown",
   "id": "5f643775-8b32-4cef-a704-34e16f2f2853",
   "metadata": {},
   "source": [
    "### TUPLE"
   ]
  },
  {
   "cell_type": "code",
   "execution_count": null,
   "id": "fdb5a390-9ea9-4535-b970-bd907fb292ce",
   "metadata": {},
   "outputs": [],
   "source": [
    "#Print the number of items in the tuple:\n",
    "\n",
    "thistuple = (\"apple\", \"banana\", \"cherry\",\"cherry\")\n",
    "print((thistuple))"
   ]
  },
  {
   "cell_type": "code",
   "execution_count": null,
   "id": "826a35a1-6139-4d2e-863f-c126e41fc8f6",
   "metadata": {},
   "outputs": [],
   "source": [
    "fruits=(\"apple\",\"banana\",\"cherry\",\"orange\")\n",
    "for fruit in fruits:\n",
    "    print(fruit)"
   ]
  },
  {
   "cell_type": "code",
   "execution_count": null,
   "id": "1a7819ea-e812-467f-b9c7-041c04971b39",
   "metadata": {},
   "outputs": [],
   "source": [
    "#Using the tuple() method to make a tuple:\n",
    "\n",
    "thistuple = tuple((\"apple\", \"banana\", \"cherry\")) # note the double round-brackets\n",
    "print(thistuple)"
   ]
  },
  {
   "cell_type": "code",
   "execution_count": null,
   "id": "83e181ad-5441-47af-864d-5075125773c8",
   "metadata": {},
   "outputs": [],
   "source": [
    "#Unpacking a tuple:\n",
    "\n",
    "fruits = (\"apple\", \"banana\", \"cherry\")\n",
    "(green, yellow, red) = fruits\n",
    "b=\"Mango\"\n",
    "print(green)\n",
    "print(yellow)\n",
    "print(red)\n",
    "b"
   ]
  },
  {
   "cell_type": "code",
   "execution_count": 19,
   "id": "0a8c7d89-eb5c-4fbc-860f-a7d5d2f5a526",
   "metadata": {},
   "outputs": [
    {
     "name": "stdout",
     "output_type": "stream",
     "text": [
      "apple\n",
      "banana\n",
      "['cherry', 'strawberry', 'raspberry']\n"
     ]
    }
   ],
   "source": [
    "#Using Asterisk*\n",
    "#If the number of variables is less than the number of values, you can add an * to the variable name and the values will be assigned to the variable as a list:\n",
    "\n",
    "#Example\n",
    "#Assign the rest of the values as a list called \"red\":\n",
    "\n",
    "fruits = (\"apple\", \"banana\", \"cherry\", \"strawberry\", \"raspberry\")\n",
    "(green, yellow, *red) = fruits\n",
    "print(green)\n",
    "print(yellow)\n",
    "print(red)"
   ]
  },
  {
   "cell_type": "code",
   "execution_count": null,
   "id": "7a45cbc3-18e2-416c-ace0-dab106d6614e",
   "metadata": {},
   "outputs": [],
   "source": [
    "t=(\"a\",\"b\",1,3)\n",
    "t.count(\"a\")"
   ]
  },
  {
   "cell_type": "code",
   "execution_count": null,
   "id": "b8acfe7a-c80c-46d9-99b5-d195193a894d",
   "metadata": {},
   "outputs": [],
   "source": [
    "thisset = {\"apple\", \"banana\", \"cherry\",1,2,8.9,True,\"cherry\",\"apple\"}\n",
    "print(thisset)"
   ]
  },
  {
   "cell_type": "markdown",
   "id": "6714ef4d-4ce9-418f-82bb-7efd8b027f2f",
   "metadata": {},
   "source": [
    "## Duplicates Not Allowed\n",
    "Sets cannot have two items with the same value."
   ]
  },
  {
   "cell_type": "code",
   "execution_count": null,
   "id": "a6f9cf52-67f3-49d6-8096-f467ee4cc9ba",
   "metadata": {},
   "outputs": [],
   "source": [
    "thisset = [\"apple\", \"banana\", \"cherry\", True, 1, 2,2,2,True]\n",
    "\n",
    "print(thisset)"
   ]
  },
  {
   "cell_type": "code",
   "execution_count": null,
   "id": "eb0a66c6-9603-48bd-ad52-cf13941a182f",
   "metadata": {},
   "outputs": [],
   "source": [
    "thisset = {\"apple\", \"banana\", \"cherry\", True, 1, 2,2,2,True}\n",
    "\n",
    "print(thisset)"
   ]
  },
  {
   "cell_type": "code",
   "execution_count": null,
   "id": "1e1bc42a-94d5-421b-989a-b9fe5c276db8",
   "metadata": {},
   "outputs": [],
   "source": [
    "#String, int and boolean data types:\n",
    "set1 = {\"apple\", \"banana\", \"cherry\"}\n",
    "set2 = {1, 5, 7, 9, 3}\n",
    "set3 = {True, False, False}\n",
    "print(set1)\n",
    "print(set2)\n",
    "print(set3)"
   ]
  },
  {
   "cell_type": "code",
   "execution_count": null,
   "id": "7e966326-35f7-4f35-b5fe-ea8eae3467eb",
   "metadata": {},
   "outputs": [],
   "source": [
    "#Using the set() constructor to make a set:\n",
    "thisset = set((\"apple\", \"banana\", \"cherry\")) # note the double round-brackets\n",
    "print(thisset)"
   ]
  },
  {
   "cell_type": "code",
   "execution_count": null,
   "id": "5bfdb812-59db-443e-bc73-d3b438fee54b",
   "metadata": {},
   "outputs": [],
   "source": [
    "a=10>100\n",
    "a"
   ]
  },
  {
   "cell_type": "code",
   "execution_count": null,
   "id": "692418d6-4cb0-4eca-ae9d-9a9c27dfd564",
   "metadata": {},
   "outputs": [],
   "source": [
    "thisset = {\"apple\", \"banana\", \"cherry\"}\n",
    "print(\"banana\" in thisset)"
   ]
  },
  {
   "cell_type": "code",
   "execution_count": null,
   "id": "124b55cf-8607-4557-bc85-2e159ca40646",
   "metadata": {},
   "outputs": [],
   "source": [
    "thisset = {\"apple\", \"banana\", \"cherry\"}\n",
    "\n",
    "thisset.add(\"orange\")\n",
    "\n",
    "print(thisset)"
   ]
  },
  {
   "cell_type": "code",
   "execution_count": null,
   "id": "49116b38-e079-4688-ad72-7e3821b7fa82",
   "metadata": {},
   "outputs": [],
   "source": [
    "s={\"a\",1.3,4.5}\n",
    "s.add(7)\n",
    "s2={5,8,1,4.5}\n",
    "s.update(s2)\n",
    "s"
   ]
  },
  {
   "cell_type": "code",
   "execution_count": null,
   "id": "e0ca58ba-b28d-4e04-99ff-cb34068efb3d",
   "metadata": {},
   "outputs": [],
   "source": [
    "thisset = {\"apple\", \"banana\", \"cherry\",6.8}\n",
    "tropical = {\"pineapple\", \"mango\", \"papaya\"}\n",
    "thisset.add(\"chikoo\")\n",
    "print(thisset)\n",
    "thisset.update(tropical)\n",
    "print(thisset)"
   ]
  },
  {
   "cell_type": "markdown",
   "id": "f4ba9c24-c60c-42e7-9ed4-5e05102f57a5",
   "metadata": {},
   "source": [
    "### Add Any Iterable\n",
    "The object in the update() method does not have to be a set, it can be any iterable object (tuples, lists, dictionaries etc.)."
   ]
  },
  {
   "cell_type": "code",
   "execution_count": null,
   "id": "8c8aa0f0-407d-4865-a31e-60f402ab6d32",
   "metadata": {},
   "outputs": [],
   "source": [
    "thisset = {\"apple\", \"banana\", \"cherry\"}\n",
    "mylist = [\"kiwi\", \"orange\"]\n",
    "\n",
    "thisset.update(mylist)\n",
    "\n",
    "print(thisset)"
   ]
  },
  {
   "cell_type": "code",
   "execution_count": null,
   "id": "f0c9b982-031d-4c57-9640-34b172941950",
   "metadata": {},
   "outputs": [],
   "source": [
    "thisdict = {\n",
    "  \"brand\": \"Ford\",\n",
    "  \"model\": \"Mustang\",\n",
    "  \"year\": 1964\n",
    "}\n",
    "print(thisdict)\n",
    "x = thisdict[\"year\"]\n",
    "print(x)\n",
    "print(thisdict[\"model\"])"
   ]
  },
  {
   "cell_type": "code",
   "execution_count": null,
   "id": "214a61c5-64bd-4f7f-b326-43c5b1578f4c",
   "metadata": {},
   "outputs": [],
   "source": [
    "comp={\n",
    "    \"emp1\":{\"name\":\"abc\",\"sal\":73456360},\n",
    "    \"emp2\":{\"name\":\"gu\",\"sal\":89698}\n",
    "}\n",
    "\n",
    "emp1=comp[\"emp1\"][\"sal\"]\n",
    "emp1"
   ]
  },
  {
   "cell_type": "code",
   "execution_count": null,
   "id": "767a3535-7488-4bca-8833-b599b57368f5",
   "metadata": {},
   "outputs": [],
   "source": [
    "person={{\"name\":\"Shreyas\",\"age\":30,\"profession\":\"analyst\",\"hobbies\":\"wathcing movies\",\"grade\":\"B\"}\n",
    "\n",
    "print(person[\"hobbies\"])\n",
    "person[\"grade\"]=\"A\"\n",
    "print(person[\"grade\"])\n",
    "person.pop(\"profession\")\n",
    "print(person)\n",
    "\n",
    "pname=person.get(\"name\")\n",
    "print(pname)\n",
    "\n"
   ]
  },
  {
   "cell_type": "code",
   "execution_count": null,
   "id": "53b20eaf-0a3c-4111-85d1-023327c55cba",
   "metadata": {},
   "outputs": [
    {
     "name": "stdout",
     "output_type": "stream",
     "text": [
      "roll no :15\n",
      "Hello, Shivani!\n"
     ]
    }
   ],
   "source": [
    "name = input(\"Enter your name: \")\n",
    "roll_no=input(\"enter roll no: \")\n",
    "\n",
    "print(\"roll no :\" + roll_no)\n",
    "print(\"Hello, \" + name + \"!\")\n"
   ]
  },
  {
   "cell_type": "code",
   "execution_count": null,
   "id": "83866009-d583-4069-8688-1138fec6c514",
   "metadata": {},
   "outputs": [],
   "source": [
    "a=10\n",
    "print(\"the multiple of 10  into 2 is \",a*2)"
   ]
  },
  {
   "cell_type": "code",
   "execution_count": null,
   "id": "7caa5cc9-a72a-4bb5-b2ba-0aa897ae2505",
   "metadata": {},
   "outputs": [],
   "source": [
    "x = thisdict.keys()\n",
    "print(x)\n",
    "y=thisdict.values()\n",
    "print(y)"
   ]
  },
  {
   "cell_type": "code",
   "execution_count": null,
   "id": "ebb14daf-ab90-492f-a80f-56491c645a4f",
   "metadata": {},
   "outputs": [],
   "source": [
    "thisdict = {\n",
    "  \"brand\": \"Ford\",\n",
    "  \"model\": \"Mustang\",\n",
    "  \"year\": 1964\n",
    "}\n",
    "thisdict[\"year\"] = 2018\n",
    "\n"
   ]
  },
  {
   "cell_type": "code",
   "execution_count": 28,
   "id": "4f151417-12d6-4e9b-b9d5-9220b1e649e4",
   "metadata": {},
   "outputs": [
    {
     "name": "stdout",
     "output_type": "stream",
     "text": [
      "Mustang\n"
     ]
    }
   ],
   "source": [
    "thisdict = {\n",
    "  \"brand\": \"Ford\",\n",
    "  \"model\": \"Mustang\",\n",
    "  \"year\": 1964\n",
    "}\n",
    "thisdict[\"year\"] = 2018\n",
    "print(thisdict.pop(\"model\"))"
   ]
  },
  {
   "cell_type": "code",
   "execution_count": 25,
   "id": "4de6cd0a-123c-4d11-a8d9-f45fa033fdcb",
   "metadata": {},
   "outputs": [
    {
     "name": "stdout",
     "output_type": "stream",
     "text": [
      "{'brand': 'Ford', 'model': 'Mustang', 'year': 2020}\n",
      "dict_items([('brand', 'Ford'), ('model', 'Mustang'), ('year', 2020)])\n"
     ]
    }
   ],
   "source": [
    "thisdict = {\n",
    "  \"brand\": \"Ford\",\n",
    "  \"model\": \"Mustang\",\n",
    "  \"year\": 1964\n",
    "}\n",
    "thisdict.update({\"year\": 2020})\n",
    "print(thisdict)\n",
    "print(thisdict.items())"
   ]
  },
  {
   "cell_type": "code",
   "execution_count": 1,
   "id": "007e0ea6-f715-4243-b10b-7c49bfa6218e",
   "metadata": {},
   "outputs": [
    {
     "name": "stdin",
     "output_type": "stream",
     "text": [
      "enter string shivani'\n"
     ]
    },
    {
     "data": {
      "text/plain": [
       "{'s': 1, 'h': 1, 'i': 2, 'v': 1, 'a': 1, 'n': 1, \"'\": 1}"
      ]
     },
     "execution_count": 1,
     "metadata": {},
     "output_type": "execute_result"
    }
   ],
   "source": [
    "def count_char(string):\n",
    "    count={}\n",
    "    for char in string:\n",
    "        if char in count:\n",
    "            count[char]+=1\n",
    "        else:\n",
    "            count[char]=1\n",
    "    return count\n",
    "string=input(\"enter string\")\n",
    "count_char(string)\n",
    "    "
   ]
  },
  {
   "cell_type": "code",
   "execution_count": null,
   "id": "e177398b-31de-4c68-b400-b6b580caaf60",
   "metadata": {},
   "outputs": [],
   "source": [
    "thisdict = {\n",
    "  \"brand\": \"Ford\",\n",
    "  \"model\": \"Mustang\",\n",
    "  \"year\": 1964\n",
    "}\n",
    "print(thisdict.pop(\"model\"))\n",
    "print(thisdict)"
   ]
  },
  {
   "attachments": {
    "975f6023-9935-43bb-ac2b-63f933160ff7.png": {
     "image/png": "[encoded data removed]"
    }
   },
   "cell_type": "markdown",
   "id": "80c170c1-3945-4a5d-a8c7-be18fb4df7aa",
   "metadata": {},
   "source": [
    "![image.png](attachment:975f6023-9935-43bb-ac2b-63f933160ff7.png)"
   ]
  },
  {
   "cell_type": "markdown",
   "id": "003ff6c3-75c8-4b12-8a17-d0ab8cd731eb",
   "metadata": {},
   "source": [
    "### Control Strctures and LOOPS"
   ]
  },
  {
   "cell_type": "code",
   "execution_count": null,
   "id": "2068f82a-e1ec-4df2-8515-3abc83da8404",
   "metadata": {},
   "outputs": [],
   "source": [
    "a = 330\n",
    "b = 200\n",
    "if b > a:\n",
    "  print(\"b is greater than a\")\n",
    "else:\n",
    "    print(\"no\")"
   ]
  },
  {
   "cell_type": "code",
   "execution_count": 111,
   "id": "376281dc-60c0-48a1-be29-5e90eb18dcf7",
   "metadata": {},
   "outputs": [
    {
     "name": "stdin",
     "output_type": "stream",
     "text": [
      "Enter Your Age 90\n"
     ]
    },
    {
     "name": "stdout",
     "output_type": "stream",
     "text": [
      "OLD\n"
     ]
    }
   ],
   "source": [
    "age=int(input(\"Enter Your Age\"))\n",
    "if age<3:\n",
    "    print(\"Baby\")\n",
    "elif age<13:\n",
    "    print(\"Child\")\n",
    "elif age<20:\n",
    "    print(\"Teenager\")\n",
    "elif age<31:\n",
    "    print(\"Young Adult\")\n",
    "elif age<60:\n",
    "    print(\"Adult\")\n",
    "elif age<100:\n",
    "    print(\"OLD\")\n",
    "else:\n",
    "    print(\"R.I.P\")"
   ]
  },
  {
   "cell_type": "code",
   "execution_count": null,
   "id": "714fa124-e1df-421e-9636-7873ff285cee",
   "metadata": {},
   "outputs": [],
   "source": [
    "a = 33\n",
    "b = 200\n",
    "if b > a:\n",
    "    print(\"b is greater than a\") # you will get an error"
   ]
  },
  {
   "cell_type": "code",
   "execution_count": null,
   "id": "0dd2d40b-c029-499a-a152-df929828a9a9",
   "metadata": {},
   "outputs": [],
   "source": [
    "a = 33\n",
    "b = 33\n",
    "if b > a:\n",
    "  print(\"b is greater than a\")\n",
    "elif a == b:\n",
    "  print(\"a and b are equal\")"
   ]
  },
  {
   "cell_type": "code",
   "execution_count": null,
   "id": "abe30ace-41ea-402a-bccf-d279ccace116",
   "metadata": {},
   "outputs": [],
   "source": [
    "num=int(input(\"enter number\"))\n",
    "\n",
    "if num%2==0:\n",
    "    print(\"value is even\")\n",
    "else:\n",
    "    print(\"odd\")"
   ]
  },
  {
   "cell_type": "code",
   "execution_count": null,
   "id": "715a58d3-7f65-442a-ab55-00421d9f60c9",
   "metadata": {},
   "outputs": [],
   "source": [
    "a = 200\n",
    "b = 33\n",
    "if b>a:\n",
    "    print(\"b is greater than a\")\n",
    "elif a == b:\n",
    "  print(\"a and b are equal\")\n",
    "else:\n",
    "  print(\"a is greater than b\")"
   ]
  },
  {
   "cell_type": "code",
   "execution_count": null,
   "id": "83dda4c3-2b5d-469e-8b2e-93d7563f5fc4",
   "metadata": {},
   "outputs": [],
   "source": [
    "if a > b: print(\"a is greater than b\") \n"
   ]
  },
  {
   "cell_type": "code",
   "execution_count": null,
   "id": "34f28e37-c71f-4437-8cc7-d1889d2e1ab6",
   "metadata": {},
   "outputs": [],
   "source": [
    "a = 330\n",
    "b = 330\n",
    "print(\"A\") if a > b else print(\"=\") if a == b else print(\"B\")"
   ]
  },
  {
   "cell_type": "code",
   "execution_count": null,
   "id": "90409a06-c8d2-4a1a-91d6-e319153c0ec1",
   "metadata": {},
   "outputs": [],
   "source": [
    "a = 33\n",
    "b = 200\n",
    "if not a > b:\n",
    "  print(\"a is NOT greater than b\")"
   ]
  },
  {
   "cell_type": "markdown",
   "id": "30830cd1-9f67-4927-b92f-d5fcf7b3ba03",
   "metadata": {},
   "source": [
    "## The while Loop\n",
    "With the while loop we can execute a set of statements as long as a condition is true."
   ]
  },
  {
   "cell_type": "code",
   "execution_count": 112,
   "id": "ce782662-0134-47b8-8e0f-fee3cb272fda",
   "metadata": {},
   "outputs": [
    {
     "name": "stdout",
     "output_type": "stream",
     "text": [
      "1\n",
      "2\n",
      "3\n",
      "4\n",
      "5\n",
      "6\n"
     ]
    }
   ],
   "source": [
    "i = 1\n",
    "while i <=6:\n",
    "  print(i)\n",
    "  i+=1 #Icreament i=i+1\n"
   ]
  },
  {
   "cell_type": "markdown",
   "id": "555c66b4-41e5-4560-90e8-720f9392819f",
   "metadata": {},
   "source": [
    "### The break Statement\n",
    "With the break statement we can stop the loop even if the while condition is true:"
   ]
  },
  {
   "cell_type": "code",
   "execution_count": null,
   "id": "0486bf8b-073a-4b2c-aaee-10e586153330",
   "metadata": {},
   "outputs": [],
   "source": [
    "i = 1\n",
    "while i < 6:\n",
    "  print(i)\n",
    "  if i == 3:\n",
    "    break\n",
    "  i += 1"
   ]
  },
  {
   "cell_type": "markdown",
   "id": "e2674b17-adac-4ba3-a7f0-bc6b19325f26",
   "metadata": {},
   "source": [
    "### Python For Loops\n",
    "A for loop is used for iterating over a sequence (that is either a list, a tuple, a dictionary, a set, or a string).\n",
    "\n",
    "This is less like the for keyword in other programming languages, and works more like an iterator method as found in other object-orientated programming languages.\n",
    "\n",
    "With the for loop we can execute a set of statements, once for each item in a list, tuple, set etc."
   ]
  },
  {
   "cell_type": "code",
   "execution_count": null,
   "id": "ef6d0573-badb-493c-b638-9dfb7bd6cd12",
   "metadata": {},
   "outputs": [],
   "source": [
    "fruits = [\"apple\", \"banana\", \"cherry\",\"mango\",\"chikoo\"]\n",
    "for i in fruits:\n",
    "    \n",
    "    print(i)"
   ]
  },
  {
   "cell_type": "code",
   "execution_count": null,
   "id": "c1569d4e-f191-4edd-9b92-fcd457281d23",
   "metadata": {},
   "outputs": [],
   "source": [
    "fruits = [\"apple\", \"banana\", \"cherry\"]\n",
    "for x in fruits:\n",
    "  print(x)\n",
    "  if x == \"banana\":\n",
    "    break\n"
   ]
  },
  {
   "cell_type": "code",
   "execution_count": null,
   "id": "a742b9fa-962f-4745-96eb-8315d1a02941",
   "metadata": {},
   "outputs": [],
   "source": [
    "#Exit the loop when x is \"banana\", but this time the break comes before the print:\n",
    "\n",
    "fruits = [\"apple\", \"banana\", \"cherry\"]\n",
    "for x in fruits:\n",
    "  if x == \"banana\":\n",
    "    break\n",
    "  print(x)"
   ]
  },
  {
   "cell_type": "markdown",
   "id": "59f0ae72-4f7a-4399-9237-09c8873fc346",
   "metadata": {},
   "source": [
    "### With the continue statement we can stop the current iteration of the loop, and continue with the next:\n",
    "\n",
    "Example\n",
    "Do not print banana:\n",
    "\n",
    "fruits = [\"apple\", \"banana\", \"cherry\"]\n",
    "for x in fruits:\n",
    "  if x == \"banana\":\n",
    "    continue\n",
    "  print(x)"
   ]
  },
  {
   "cell_type": "code",
   "execution_count": 11,
   "id": "06b4fa08-d507-46b6-a1e6-28cf802641fe",
   "metadata": {},
   "outputs": [
    {
     "name": "stdout",
     "output_type": "stream",
     "text": [
      "apple\n",
      "cherry\n",
      "mango\n",
      "grapes\n",
      "orange\n",
      "watermelon\n"
     ]
    }
   ],
   "source": [
    "fruits = [\"apple\", \"banana\", \"cherry\",\"mango\",\"grapes\",\"orange\",\"watermelon\"]\n",
    "for x in fruits:\n",
    "  if x == \"banana\":\n",
    "    continue\n",
    "  print(x)"
   ]
  },
  {
   "cell_type": "markdown",
   "id": "7c331272-ce76-40c0-9658-14446cc53071",
   "metadata": {},
   "source": [
    "### The range() Function\n",
    "To loop through a set of code a specified number of times, we can use the range() function,\n",
    "The range() function returns a sequence of numbers, starting from 0 by default, and increments by 1 (by default), and ends at a specified number."
   ]
  },
  {
   "cell_type": "code",
   "execution_count": 29,
   "id": "bdf0e341-f697-4c93-8aa0-70d500101d04",
   "metadata": {},
   "outputs": [
    {
     "name": "stdout",
     "output_type": "stream",
     "text": [
      "index 0: apple\n",
      "index 1: banana\n",
      "index 2: cherry\n",
      "index 3: strawberry\n",
      "index 4: raspberry\n"
     ]
    }
   ],
   "source": [
    "for i in range(len(fruits)):\n",
    "    print(f'index {i}: {fruits[i]}')"
   ]
  },
  {
   "cell_type": "code",
   "execution_count": 99,
   "id": "ef5d8898-db82-434f-a23b-27a12d02deb6",
   "metadata": {},
   "outputs": [
    {
     "name": "stdin",
     "output_type": "stream",
     "text": [
      "Enter your number to be multiplied 13\n"
     ]
    },
    {
     "name": "stdout",
     "output_type": "stream",
     "text": [
      "13 x 1 = 13\n",
      "13 x 2 = 26\n",
      "13 x 3 = 39\n",
      "13 x 4 = 52\n",
      "13 x 5 = 65\n",
      "13 x 6 = 78\n",
      "13 x 7 = 91\n",
      "13 x 8 = 104\n",
      "13 x 9 = 117\n",
      "13 x 10 = 130\n"
     ]
    }
   ],
   "source": [
    "n=int(input(\"Enter your number to be multiplied\"))\n",
    "for i in range(1,11):\n",
    "    print(n,\"x\",i,\"=\",n*i)"
   ]
  },
  {
   "cell_type": "code",
   "execution_count": 32,
   "id": "d1be0a0d-c853-482f-8114-87493ee9d263",
   "metadata": {},
   "outputs": [
    {
     "name": "stdin",
     "output_type": "stream",
     "text": [
      "Enter Your Number  780\n"
     ]
    },
    {
     "name": "stdout",
     "output_type": "stream",
     "text": [
      "780 x 1 = 780\n",
      "780 x 2 = 1560\n",
      "780 x 3 = 2340\n",
      "780 x 4 = 3120\n",
      "780 x 5 = 3900\n",
      "780 x 6 = 4680\n",
      "780 x 7 = 5460\n",
      "780 x 8 = 6240\n",
      "780 x 9 = 7020\n",
      "780 x 10 = 7800\n"
     ]
    }
   ],
   "source": [
    "num=int(input(\"Enter Your Number \"))\n",
    "for x in range(1,11):\n",
    "    print(num,'x',x,'=',x*num)"
   ]
  },
  {
   "cell_type": "code",
   "execution_count": null,
   "id": "e1b3d70b-a08e-45e7-b9e2-ee05067fdb0d",
   "metadata": {},
   "outputs": [],
   "source": [
    "n=int(input(\"Enter the number\"))\n",
    "for i in range(1,11):\n",
    "    print(n,\"x\",i,'=',n*i)"
   ]
  },
  {
   "cell_type": "code",
   "execution_count": 100,
   "id": "6fea81b9-29e7-41ac-9a9c-b9d237e65eab",
   "metadata": {},
   "outputs": [
    {
     "name": "stdout",
     "output_type": "stream",
     "text": [
      "6\n",
      "7\n"
     ]
    }
   ],
   "source": [
    "for i in range(6,8):\n",
    "    print(i)"
   ]
  },
  {
   "cell_type": "code",
   "execution_count": 104,
   "id": "af33c691-f674-45c4-b0c4-8ecfbdccfbed",
   "metadata": {},
   "outputs": [
    {
     "name": "stdout",
     "output_type": "stream",
     "text": [
      "odd\n"
     ]
    }
   ],
   "source": [
    "n=8041\n",
    "if n%2==0:\n",
    "    print(\"even\")\n",
    "else:\n",
    "    print(\"odd\")"
   ]
  },
  {
   "cell_type": "code",
   "execution_count": null,
   "id": "7f3abe69-b81b-4e7b-8d22-fc63477ea7af",
   "metadata": {},
   "outputs": [],
   "source": [
    "num=list(range(1,11))\n",
    "num"
   ]
  },
  {
   "cell_type": "code",
   "execution_count": 38,
   "id": "9dbbb69a-0fd9-49b7-b067-bc4f1c66fd19",
   "metadata": {},
   "outputs": [
    {
     "name": "stdout",
     "output_type": "stream",
     "text": [
      "1 is greater than 0\n",
      "6 is greater than 0\n",
      "90 is greater than 0\n",
      "number is 0\n",
      "the number is negative\n"
     ]
    }
   ],
   "source": [
    "n=[1,6,90,0,-1]\n",
    "for x in n:\n",
    "    if x<0:\n",
    "        print(\"the number is negative\")\n",
    "    elif x>0:\n",
    "        print(f\"{x} is greater than 0\")\n",
    "    else :\n",
    "        print(\"number is 0\")\n"
   ]
  },
  {
   "cell_type": "code",
   "execution_count": 101,
   "id": "044ad33d-3c31-476b-97aa-b425c3590b60",
   "metadata": {},
   "outputs": [
    {
     "name": "stdout",
     "output_type": "stream",
     "text": [
      "67 is greater than 0\n",
      "0 is zero\n",
      "-9 is negative\n",
      "14 is greater than 0\n"
     ]
    }
   ],
   "source": [
    "l=[67,0,-9,14]\n",
    "for n in l:\n",
    "    if n<0:\n",
    "        print(f\"{n} is negative\")\n",
    "    elif n>0:\n",
    "        print(f\"{n} is greater than 0\")\n",
    "    else:\n",
    "        print(f\"{n} is zero\")\n",
    "        "
   ]
  },
  {
   "cell_type": "code",
   "execution_count": null,
   "id": "4802aa8f-6601-4b31-af05-6d88cd1ba6eb",
   "metadata": {},
   "outputs": [],
   "source": [
    "u=input()\n",
    "if len(u)==10 and u.isdigit():\n",
    "    print(u)\n",
    "else:\n",
    "    print(\"invalid entry\")\n",
    "    "
   ]
  },
  {
   "cell_type": "code",
   "execution_count": null,
   "id": "7a8d8be9-e0cf-49e2-970e-f8ae20870569",
   "metadata": {},
   "outputs": [],
   "source": [
    "n=int(input(\"Enter Number for Multiplication \"))\n",
    "for x in range (1,11):\n",
    "    print(n,\" x \",x,\"=\",x*n)"
   ]
  },
  {
   "cell_type": "code",
   "execution_count": null,
   "id": "06c22746-e913-4ec0-ab61-af7d473a708c",
   "metadata": {},
   "outputs": [],
   "source": [
    "print(sum)"
   ]
  },
  {
   "cell_type": "code",
   "execution_count": null,
   "id": "38a3b040-b18d-4cfa-b303-2c78fc7acb49",
   "metadata": {},
   "outputs": [],
   "source": [
    "list=[1,4,7,90,67,90.67]\n",
    "print(sum(list))"
   ]
  },
  {
   "cell_type": "code",
   "execution_count": null,
   "id": "edbcf4a3-ed9e-4c7d-b03e-5ef171dd0128",
   "metadata": {},
   "outputs": [],
   "source": [
    "list=[1,4,7,90,67,90.67,67,8,0]\n",
    "total = 0\n",
    "for number in list:\n",
    "    total = total+ number\n",
    "print( \"the summation of this list is \",total)\n",
    " \n",
    "    "
   ]
  },
  {
   "cell_type": "code",
   "execution_count": null,
   "id": "6f53fbec-473e-4845-9f2a-14dbfe6aceda",
   "metadata": {},
   "outputs": [
    {
     "name": "stdout",
     "output_type": "stream",
     "text": [
      "no is even\n"
     ]
    }
   ],
   "source": [
    "n=int(input(\"Enter no\"))\n",
    "if n%2==1:\n",
    "    print(n,\"is odd \")\n",
    "elif n==0:\n",
    "    print(\"it is 0\")\n",
    "else:\n",
    "    print(\"no is even\")\n"
   ]
  },
  {
   "cell_type": "code",
   "execution_count": null,
   "id": "65f8cdc8-610f-43a4-9581-efa3f6f6e58a",
   "metadata": {},
   "outputs": [
    {
     "name": "stdout",
     "output_type": "stream",
     "text": [
      "Table of :  56 is\n",
      "56 x 1 = 56\n",
      "56 x 2 = 112\n",
      "56 x 3 = 168\n",
      "56 x 4 = 224\n",
      "56 x 5 = 280\n",
      "56 x 6 = 336\n",
      "56 x 7 = 392\n",
      "56 x 8 = 448\n",
      "56 x 9 = 504\n",
      "56 x 10 = 560\n"
     ]
    }
   ],
   "source": [
    "n=int(input(\"Enter your number for multiplication: \"))\n",
    "print(\"Table of : \",n,\"is\")\n",
    "for x in range(1,11):\n",
    "  print(n,\"x\",x,\"=\",n*x)"
   ]
  },
  {
   "cell_type": "code",
   "execution_count": null,
   "id": "358897e5-baff-4dd9-ab4c-953bbb15b6e0",
   "metadata": {},
   "outputs": [],
   "source": [
    "s=\"Data Science\"\n",
    "for elements in s:\n",
    "    print(elements)"
   ]
  },
  {
   "cell_type": "code",
   "execution_count": null,
   "id": "371e498b-0e0b-4ef1-a33a-915940fae1ea",
   "metadata": {},
   "outputs": [],
   "source": [
    "for x in range(1,8):\n",
    "  if x == 3: \n",
    "      continue\n",
    "  print(x)\n",
    "else:\n",
    "  print(\"Finally finished!\")\n"
   ]
  },
  {
   "cell_type": "code",
   "execution_count": null,
   "id": "2910a668-b0d1-459e-90c8-0eec83c328c6",
   "metadata": {},
   "outputs": [],
   "source": [
    "def sort_and_search(numbers, target):\n",
    "    numbers.sort()  # Sorting the list in-place\n",
    "    # Implementing binary search (assuming the list is sorted)\n",
    "    low, high = 0, len(numbers) - 1\n",
    "    while low <= high:\n",
    "        mid = (low + high) // 2\n",
    "        if numbers[mid] == target:\n",
    "            return True  # Found the target\n",
    "        elif numbers[mid] < target:\n",
    "            low = mid + 1\n",
    "        else:\n",
    "            high = mid - 1\n",
    "    return False  # Target not found\n",
    "\n",
    "# Example usage\n",
    "numbers = [5, 2, 8, 1, 6, 3,34,7,89]\n",
    "target = 89\n",
    "sorted_numbers = sorted(numbers)  # Sorting using sorted() function\n",
    "print(f\"Sorted List: {sorted_numbers}\")\n",
    "print(f\"Target {target} found: {sort_and_search(sorted_numbers,target)}\")\n"
   ]
  },
  {
   "cell_type": "code",
   "execution_count": null,
   "id": "693f54ee-8cc2-4b55-8e12-03a04030d052",
   "metadata": {},
   "outputs": [
    {
     "name": "stdout",
     "output_type": "stream",
     "text": [
      "Factorial of 5 is 120\n"
     ]
    }
   ],
   "source": [
    "def factorial(n):\n",
    "    if n < 0:\n",
    "        return \"Factorial does not exist for negative numbers\"\n",
    "    elif n == 0 or n == 1:\n",
    "        return 1\n",
    "    else:\n",
    "        fact = 1\n",
    "        for i in range(1, n + 1):\n",
    "            fact =fact*i\n",
    "        return fact\n",
    "num = int(input(\"Enter a number: \"))\n",
    "print(\"Factorial of\", num, \"is\", factorial(num))\n"
   ]
  },
  {
   "cell_type": "code",
   "execution_count": null,
   "id": "601e652b-60fe-4d06-8621-b3098ec35413",
   "metadata": {},
   "outputs": [],
   "source": [
    "colors = [\"red\", \"yellow\", \"pink\"]\n",
    "fruits = [\"apple\", \"banana\", \"cherry\"]\n",
    "for x in colors:\n",
    "  for y in fruits: #nested for loop\n",
    "    print(x, y)\n"
   ]
  },
  {
   "cell_type": "code",
   "execution_count": null,
   "id": "53031903-28e7-4218-b56b-dd3726e8cfac",
   "metadata": {},
   "outputs": [],
   "source": [
    "colors = [\"red\", \"yellow\", \"pink\"]\n",
    "fruits = [\"apple\", \"banana\", \"cherry\"]\n",
    "price=[100,50,100]\n",
    "\n",
    "for color,fruit,prize in zip(colors,fruits,price):\n",
    "    print(color,fruit,prize)\n"
   ]
  },
  {
   "cell_type": "code",
   "execution_count": 128,
   "id": "a2015e89-99a2-4c0a-bfec-450a1f3ba219",
   "metadata": {},
   "outputs": [
    {
     "name": "stdout",
     "output_type": "stream",
     "text": [
      "\n",
      "8\n",
      "88\n",
      "888\n",
      "8888\n",
      "88888\n",
      "888888\n",
      "8888888\n"
     ]
    }
   ],
   "source": [
    "n=8\n",
    "for i in range(n):\n",
    "    print(\"8\"*i)\n",
    "    \n"
   ]
  },
  {
   "cell_type": "code",
   "execution_count": 51,
   "id": "d3396d75-453b-43fd-9372-3105fafb8af2",
   "metadata": {},
   "outputs": [
    {
     "name": "stdin",
     "output_type": "stream",
     "text": [
      "Enter the number of rows:  7\n"
     ]
    },
    {
     "name": "stdout",
     "output_type": "stream",
     "text": [
      "*\n",
      "**\n",
      "***\n",
      "****\n",
      "*****\n",
      "******\n",
      "*******\n"
     ]
    }
   ],
   "source": [
    "rows = int(input(\"Enter the number of rows: \"))\n",
    "for i in range(1,rows+1): #for i in range(1,8)\n",
    "    #for j in range(i):\n",
    "        print(\"*\"*i)\n",
    "    "
   ]
  },
  {
   "cell_type": "code",
   "execution_count": null,
   "id": "d7ea360f-9e9d-4607-ad41-4cc3fc6ba95a",
   "metadata": {},
   "outputs": [
    {
     "name": "stdout",
     "output_type": "stream",
     "text": [
      "The Factorial number for 7 is 5040\n"
     ]
    }
   ],
   "source": [
    "num = int(input(\"Enter a number: \"))\n",
    "fact=1\n",
    "for i in range(1,num+1):\n",
    "    fact=fact*i\n",
    "print(f\"The Factorial number for {num} is {fact}\")"
   ]
  },
  {
   "cell_type": "code",
   "execution_count": null,
   "id": "1f609aa9-2e56-4002-83ab-1ab1192eebf5",
   "metadata": {},
   "outputs": [],
   "source": [
    "dict={1:'abc',2:'pqr',3:'uvw'}\n",
    "for key,value in dict.items():\n",
    "    #print(f\"{key} has value {value.capitalize()}.\")\n",
    "    print(key, \",\", value)\n",
    "    "
   ]
  },
  {
   "cell_type": "code",
   "execution_count": null,
   "id": "a926c9ce-f9bf-4827-a020-7030332b1e12",
   "metadata": {},
   "outputs": [],
   "source": [
    "a=24\n",
    "b=7\n",
    "print(a//b)"
   ]
  },
  {
   "cell_type": "code",
   "execution_count": null,
   "id": "d029cfae-78a3-48a7-8b17-683db91b4fcf",
   "metadata": {},
   "outputs": [],
   "source": [
    "number = -15\n",
    "if number > 0:\n",
    "    print(\"The number is positive.\")\n",
    "    if number % 2 == 0:\n",
    "        print(\"The number is even.\")\n",
    "    else:\n",
    "        print(\"The number is odd.\")\n",
    "else:\n",
    "    print(\"The number is not positive.\")\n"
   ]
  },
  {
   "cell_type": "code",
   "execution_count": null,
   "id": "42a03310-5eb8-4c1d-8508-07bf38179433",
   "metadata": {},
   "outputs": [],
   "source": [
    "a=100\n",
    "print(f\"100 is {a} it is also known as hundred\")"
   ]
  },
  {
   "cell_type": "code",
   "execution_count": 131,
   "id": "13a374fd-aac7-4392-88b1-1a30ea207b07",
   "metadata": {},
   "outputs": [
    {
     "name": "stdin",
     "output_type": "stream",
     "text": [
      "Guess a number between 1 and 100:  70\n"
     ]
    },
    {
     "name": "stdout",
     "output_type": "stream",
     "text": [
      "Too low!\n"
     ]
    },
    {
     "name": "stdin",
     "output_type": "stream",
     "text": [
      "Guess a number between 1 and 100:  50\n"
     ]
    },
    {
     "name": "stdout",
     "output_type": "stream",
     "text": [
      "Too low!\n"
     ]
    },
    {
     "name": "stdin",
     "output_type": "stream",
     "text": [
      "Guess a number between 1 and 100:  80\n"
     ]
    },
    {
     "name": "stdout",
     "output_type": "stream",
     "text": [
      "Too low!\n"
     ]
    },
    {
     "name": "stdin",
     "output_type": "stream",
     "text": [
      "Guess a number between 1 and 100:  90\n"
     ]
    },
    {
     "name": "stdout",
     "output_type": "stream",
     "text": [
      "Too high!\n"
     ]
    },
    {
     "name": "stdin",
     "output_type": "stream",
     "text": [
      "Guess a number between 1 and 100:  85\n"
     ]
    },
    {
     "name": "stdout",
     "output_type": "stream",
     "text": [
      "Too high!\n"
     ]
    },
    {
     "name": "stdin",
     "output_type": "stream",
     "text": [
      "Guess a number between 1 and 100:  83\n"
     ]
    },
    {
     "name": "stdout",
     "output_type": "stream",
     "text": [
      "Too high!\n"
     ]
    },
    {
     "name": "stdin",
     "output_type": "stream",
     "text": [
      "Guess a number between 1 and 100:  82\n"
     ]
    },
    {
     "name": "stdout",
     "output_type": "stream",
     "text": [
      "Congratulations! You've guessed the number in 7 attempts.\n"
     ]
    }
   ],
   "source": [
    "import random\n",
    "def guessing_game():\n",
    "    number_to_guess = random.randint(1, 100) #generating a random number and saving it in number_to_guess\n",
    "    attempts = 0\n",
    "    while True:\n",
    "        guess = int(input(\"Guess a number between 1 and 100: \"))\n",
    "        attempts += 1 #attempts++ #atte=att+1\n",
    "\n",
    "        if guess < number_to_guess:\n",
    "            print(\"Too low!\")\n",
    "        elif guess > number_to_guess:\n",
    "            print(\"Too high!\")\n",
    "        else:\n",
    "            print(f\"Congratulations! You've guessed the \n",
    "            number in {attempts} attempts.\")\n",
    "            break\n",
    "guessing_game()\n"
   ]
  },
  {
   "cell_type": "code",
   "execution_count": null,
   "id": "3f36c4f0-72e6-4d3c-ae11-0b04ca126918",
   "metadata": {},
   "outputs": [],
   "source": [
    "for i in \"Python\":\n",
    "    print(i)\n"
   ]
  },
  {
   "cell_type": "code",
   "execution_count": null,
   "id": "73408d2c-620a-4db4-86a1-321cb2173180",
   "metadata": {},
   "outputs": [],
   "source": [
    "l=[1,2,3,4,5,6,709,845,495]\n",
    "sum_total=0\n",
    "for x in l:\n",
    "    sum_total=sum_total+x\n",
    "print(\"Sum:\", sum_total)\n",
    "    \n"
   ]
  },
  {
   "cell_type": "code",
   "execution_count": null,
   "id": "ff558ea4-cd12-4e7e-92a3-3dfcbf841720",
   "metadata": {},
   "outputs": [],
   "source": [
    "l=[2,5,6,8]\n",
    "sum=0\n",
    "for i in l:\n",
    "    sum+=i\n",
    "print(sum)\n"
   ]
  },
  {
   "cell_type": "code",
   "execution_count": 132,
   "id": "9461d8f8-fcf1-477b-b9a0-6e768c8ad2be",
   "metadata": {},
   "outputs": [
    {
     "ename": "SyntaxError",
     "evalue": "invalid character '🎇' (U+1F387) (3013604993.py, line 5)",
     "output_type": "error",
     "traceback": [
      "\u001b[1;36m  Cell \u001b[1;32mIn[132], line 5\u001b[1;36m\u001b[0m\n\u001b[1;33m    HAPPY NEW YEAR 🎇🤩✨😎\u001b[0m\n\u001b[1;37m                   ^\u001b[0m\n\u001b[1;31mSyntaxError\u001b[0m\u001b[1;31m:\u001b[0m invalid character '🎇' (U+1F387)\n"
     ]
    }
   ],
   "source": [
    "5\n",
    "4\n",
    "3\n",
    "2\n",
    "HAPPY NEW YEAR 🎇🤩✨😎"
   ]
  },
  {
   "cell_type": "markdown",
   "id": "d701fa2e-92f0-4f82-b81d-f0e2cce0f66c",
   "metadata": {},
   "source": [
    "## The pass Statement\n",
    "for loops cannot be empty, but if you for some reason have a for loop with no content, put in the pass statement to avoid getting an error."
   ]
  },
  {
   "cell_type": "code",
   "execution_count": null,
   "id": "af0fd9ff-21c4-4398-943a-265e68d13792",
   "metadata": {},
   "outputs": [],
   "source": [
    "numbers = {x: x**2 for x in range(1, 11)}\n",
    "print(numbers)     "
   ]
  },
  {
   "cell_type": "code",
   "execution_count": null,
   "id": "d914e25d-f65d-4684-926d-685c88487b19",
   "metadata": {},
   "outputs": [],
   "source": [
    "name=input(\"enter your name \")\n"
   ]
  },
  {
   "cell_type": "code",
   "execution_count": null,
   "id": "08a02914-8e90-4655-bdf9-26f0799b1827",
   "metadata": {},
   "outputs": [],
   "source": [
    "age=int(input(\"Enter your age: \"))\n",
    "if age < 5:\n",
    "    print(\"Baby\")\n",
    "elif age <12:\n",
    "    print(\"Child\")\n",
    "elif age <=19:\n",
    "    print(\"Teenager\")\n",
    "elif age<30:\n",
    "    print(\"Young Adult\")\n",
    "elif age <60:\n",
    "    print(\"Adult\")\n",
    "elif age>60 and age <=80:\n",
    "    print(\"OLD\")\n",
    "else:\n",
    "    print(\"RIP ! DED\")"
   ]
  },
  {
   "cell_type": "code",
   "execution_count": null,
   "id": "77fdfd11-1497-4d3f-b58f-bb44d2e52193",
   "metadata": {},
   "outputs": [],
   "source": [
    "for i in range(1,11):\n",
    "    print(i*2)"
   ]
  },
  {
   "cell_type": "code",
   "execution_count": null,
   "id": "543c3f10-e024-4ae4-97d6-86d011f0274e",
   "metadata": {},
   "outputs": [],
   "source": [
    "for x in [0, 1, 2]:\n",
    "  pass\n"
   ]
  },
  {
   "cell_type": "code",
   "execution_count": null,
   "id": "70caf4e3-fb5c-4cdb-8806-44c26e2c8000",
   "metadata": {},
   "outputs": [],
   "source": [
    "i=5\n",
    "while i>1:\n",
    "    print(i)\n",
    "    i=i-1 #i\n",
    "print(\"HAPPY NEW YEAR ✨🎇🤩🍰🧁\")"
   ]
  },
  {
   "cell_type": "code",
   "execution_count": null,
   "id": "e70bfa3c-9cdc-47c2-99a4-810b67f71575",
   "metadata": {},
   "outputs": [],
   "source": [
    "i=1\n",
    "while i<5:\n",
    "    print(6-i)\n",
    "    i+=1\n",
    "print(\"HAPPY NEW YEAR!\")"
   ]
  },
  {
   "cell_type": "code",
   "execution_count": null,
   "id": "2b486062-bfd2-48c8-b838-8b7670f2b283",
   "metadata": {},
   "outputs": [],
   "source": [
    "l=[6,8,7,4,0]\n",
    "l.reverse()\n",
    "print(l)"
   ]
  },
  {
   "cell_type": "code",
   "execution_count": null,
   "id": "d24b48f0-024f-4f62-bb77-6e5e9f2770f2",
   "metadata": {},
   "outputs": [],
   "source": [
    "l=\"Aswhini\"\n",
    "s=l[::-1]\n",
    "print(s)"
   ]
  },
  {
   "cell_type": "code",
   "execution_count": null,
   "id": "75bc83c6-fe69-4c41-8a8a-aef61395f33f",
   "metadata": {},
   "outputs": [],
   "source": [
    "a=89 #Global\n",
    "def dumb(a,b):#fucntion defication\n",
    "    b=100 #Local Variable\n",
    "    return(a*b) #function body\n",
    "dumb(,6)\n",
    "\n",
    "    \n"
   ]
  },
  {
   "cell_type": "markdown",
   "id": "083a7f11-c7ff-40d5-9d8c-2a71626370b3",
   "metadata": {},
   "source": [
    "## Generators\n",
    "allow you to generate values on loop using the \"yield\" keyword which makes it memory efficient"
   ]
  },
  {
   "cell_type": "code",
   "execution_count": 57,
   "id": "9275dbc9-6d03-4cd2-ba38-f6896eed498c",
   "metadata": {},
   "outputs": [
    {
     "name": "stdout",
     "output_type": "stream",
     "text": [
      "0\n",
      "1\n",
      "4\n",
      "9\n",
      "16\n",
      "25\n",
      "36\n",
      "49\n"
     ]
    }
   ],
   "source": [
    "def square_numbers(n):\n",
    "    for i in range(n):\n",
    "        yield i*i\n",
    "for  square in square_numbers(8):\n",
    "    print(square)"
   ]
  },
  {
   "cell_type": "markdown",
   "id": "7034b416-a21c-499c-a6c3-29d8d4978ece",
   "metadata": {},
   "source": [
    "## Iterator\n",
    "In python iterator object that implements the __iter__() and __next__() methods"
   ]
  },
  {
   "cell_type": "code",
   "execution_count": 61,
   "id": "f3871cef-7f87-4595-97c0-98a706b3f6c8",
   "metadata": {},
   "outputs": [
    {
     "name": "stdout",
     "output_type": "stream",
     "text": [
      "1\n",
      "6\n",
      "<list_iterator object at 0x0000025366569210>\n"
     ]
    }
   ],
   "source": [
    "list=[1,6,7,3,4]\n",
    "my_iter=iter(list)\n",
    "print(next(my_iter))\n",
    "print(next(my_iter))\n",
    "print(my_iter)"
   ]
  },
  {
   "cell_type": "markdown",
   "id": "4bf5cf0b-b359-485c-85b6-0b6655c7713e",
   "metadata": {},
   "source": [
    "##  List Comprehension"
   ]
  },
  {
   "cell_type": "code",
   "execution_count": 18,
   "id": "666b68c3-33a4-4afe-b249-12390d2c2d3f",
   "metadata": {},
   "outputs": [
    {
     "data": {
      "text/plain": [
       "[0, 2, 4, 6, 8, 10, 12, 14, 16, 18, 20]"
      ]
     },
     "execution_count": 18,
     "metadata": {},
     "output_type": "execute_result"
    }
   ],
   "source": [
    "squares=[x*2 for x in range(11)]\n",
    "squares"
   ]
  },
  {
   "cell_type": "markdown",
   "id": "c5e03eac-bd2f-40b6-9b60-78156d092947",
   "metadata": {},
   "source": [
    "## Dictionary Comprehension"
   ]
  },
  {
   "cell_type": "code",
   "execution_count": 63,
   "id": "d5767939-61cf-4a18-9b17-902fb3826316",
   "metadata": {},
   "outputs": [
    {
     "data": {
      "text/plain": [
       "{0: 0, 1: 1, 2: 4, 3: 9, 4: 16, 5: 25, 6: 36, 7: 49, 8: 64, 9: 81, 10: 100}"
      ]
     },
     "execution_count": 63,
     "metadata": {},
     "output_type": "execute_result"
    }
   ],
   "source": [
    "s_dict={x:x*x for x in range (11)}\n",
    "s_dict"
   ]
  },
  {
   "cell_type": "markdown",
   "id": "9cdaaeb5-1d5f-40f3-9049-fd58fc71d911",
   "metadata": {},
   "source": [
    "## Set Comprehension"
   ]
  },
  {
   "cell_type": "code",
   "execution_count": 70,
   "id": "f89af8fb-747b-4033-8dde-3a4001d4a0bf",
   "metadata": {},
   "outputs": [
    {
     "data": {
      "text/plain": [
       "{0, 2, 4, 6, 8, 10, 12, 14, 16, 18, 20}"
      ]
     },
     "execution_count": 70,
     "metadata": {},
     "output_type": "execute_result"
    }
   ],
   "source": [
    "even_numbers={x for x in range(21) if x%2==0 }\n",
    "even_numbers"
   ]
  },
  {
   "cell_type": "code",
   "execution_count": 74,
   "id": "c184ce09-afc7-40f1-a928-7f9dd82090ef",
   "metadata": {},
   "outputs": [
    {
     "name": "stdout",
     "output_type": "stream",
     "text": [
      "Hello, Shivani!\n"
     ]
    }
   ],
   "source": [
    "def greet(name):\n",
    "    print(f\"Hello, {name}!\")\n",
    "\n",
    "greet(\"Shivani\")\n",
    "\n"
   ]
  },
  {
   "cell_type": "code",
   "execution_count": null,
   "id": "a7ce1926-100f-4dfc-9c49-630ffd1bec62",
   "metadata": {},
   "outputs": [],
   "source": []
  },
  {
   "cell_type": "code",
   "execution_count": 79,
   "id": "247a9e8c-0e44-46d6-9ec2-7bcad95e03d1",
   "metadata": {},
   "outputs": [
    {
     "name": "stdout",
     "output_type": "stream",
     "text": [
      "(3.0, 1, 5, 3.0)\n"
     ]
    }
   ],
   "source": [
    "import numpy as np\n",
    "def compute_stats(numbers):\n",
    "    mean = sum(numbers) / len(numbers)\n",
    "    return mean, min(numbers), max(numbers),np.mean(stats)\n",
    "\n",
    "stats = compute_stats([1, 2, 3, 4, 5])\n",
    "print(stats) \n"
   ]
  },
  {
   "cell_type": "code",
   "execution_count": null,
   "id": "cb55f76d-1219-42a9-a49a-0d7f87fd4b43",
   "metadata": {},
   "outputs": [],
   "source": [
    "def greet(name=\"Ishrat\"): #DEAULT PARAMETER\n",
    "    print(\"Hello \"+ name + \" !\")\n",
    "\n",
    "greet()\n",
    "greet(\"Shiwaahni\")"
   ]
  },
  {
   "cell_type": "code",
   "execution_count": null,
   "id": "801c84bd-5020-4389-a1ee-9ce9d85d3319",
   "metadata": {},
   "outputs": [],
   "source": [
    "def my_function(): # function defination \n",
    "  print(\"Hello from a function\")\n",
    "\n",
    "my_function()"
   ]
  },
  {
   "cell_type": "code",
   "execution_count": null,
   "id": "98a6ea80-0a3d-4131-b8d7-8ece6545f8d8",
   "metadata": {},
   "outputs": [],
   "source": [
    "my_function()"
   ]
  },
  {
   "cell_type": "code",
   "execution_count": null,
   "id": "b1b200db-0ff4-4f1d-b73c-679e561d41f2",
   "metadata": {},
   "outputs": [],
   "source": [
    "def badhir(a,b=1,c=9):\n",
    "    return a+b*c\n",
    "badhir(7)"
   ]
  },
  {
   "cell_type": "markdown",
   "id": "c9baefd7-83b6-4103-89b3-c2650b6acaf1",
   "metadata": {},
   "source": [
    "### Arguments\n",
    "Information can be passed into functions as arguments.\n",
    "\n",
    "Arguments are specified after the function name, inside the parentheses. You can add as many arguments as you want, just separate them with a comma.\n",
    "\n",
    "The following example has a function with one argument (fname). When the function is called, we pass along a first name, which is used inside the function to print the full name:"
   ]
  },
  {
   "cell_type": "code",
   "execution_count": null,
   "id": "ac771d8f-34f1-42e4-a0fb-16cf971c6734",
   "metadata": {},
   "outputs": [],
   "source": []
  },
  {
   "cell_type": "code",
   "execution_count": 12,
   "id": "4db8526b-a82a-4bc2-b84f-39be25adb554",
   "metadata": {},
   "outputs": [
    {
     "name": "stdout",
     "output_type": "stream",
     "text": [
      "20\n"
     ]
    },
    {
     "data": {
      "text/plain": [
       "True"
      ]
     },
     "execution_count": 12,
     "metadata": {},
     "output_type": "execute_result"
    }
   ],
   "source": [
    "a=20 #gloabl variable\n",
    "def greatest():\n",
    "    print(a)\n",
    "    return True\n",
    "\n",
    "greatest()\n",
    "    "
   ]
  },
  {
   "cell_type": "code",
   "execution_count": null,
   "id": "72c18f0a-054d-4a2f-beb9-28320a2a819c",
   "metadata": {},
   "outputs": [],
   "source": [
    "global_variable=10\n",
    "def demo_function():\n",
    "    local_var = \"Local variable\"\n",
    "    print(local_var,global_variable)   # Output: Local variable\n",
    "\n",
    "demo_function()\n",
    "#print(local_var)"
   ]
  },
  {
   "cell_type": "code",
   "execution_count": 15,
   "id": "cdee1dd1-6005-4da1-bee0-38f9c8bd3c92",
   "metadata": {},
   "outputs": [
    {
     "name": "stdout",
     "output_type": "stream",
     "text": [
      "T Shirt ID: 102\n",
      "Pattern: v-neck\n",
      "Price: 800\n",
      "Color: Peach\n"
     ]
    }
   ],
   "source": [
    "def display_tshirt_info(tshirt, tshirt_id):\n",
    "    for t in tshirt:\n",
    "        if t[0] == tshirt_id:\n",
    "            print(f\"T Shirt ID: {t[0]}\")\n",
    "            print(f\"Pattern: {t[1]}\")\n",
    "            print(f\"Price: {t[2]}\")\n",
    "            print(f\"Color: {t[3]}\")\n",
    "            return\n",
    "# Example usage \n",
    "tshirt = [\n",
    "    (101, 'loose', 900,\"Red\"),\n",
    "    (102, 'v-neck', 800,\"Peach\"),\n",
    "    (103, 'crop-tops', 870,\"White\"),\n",
    "    (104, 'sweatshirt',790,\"blue\")]\n",
    "tshirt_id = 102\n",
    "display_tshirt_info(tshirt, tshirt_id)\n"
   ]
  },
  {
   "cell_type": "code",
   "execution_count": 39,
   "id": "86ea438f-79b4-415a-ae5d-e76621a9bb90",
   "metadata": {},
   "outputs": [
    {
     "name": "stdout",
     "output_type": "stream",
     "text": [
      "dsfg abc\n",
      "Akanksha abc\n",
      "Mansi abc\n",
      "Pranali abc\n"
     ]
    }
   ],
   "source": [
    "def my_function(fname=\"dsfg\"):\n",
    "  print(fname + \" abc\")\n",
    "\n",
    "my_function()  #O/P=dfh abc\n",
    "my_function(\"Akanksha\") #O/P =Akanksha abc\n",
    "my_function(\"Mansi\") #O/P = Mansi\n",
    "my_function(\"Pranali\") #O/P=Panali abc"
   ]
  },
  {
   "cell_type": "code",
   "execution_count": 114,
   "id": "01dbc762-4bdc-4cfb-b032-54521295aa7e",
   "metadata": {},
   "outputs": [
    {
     "name": "stdin",
     "output_type": "stream",
     "text": [
      "Guess a number between 1 and 100:  23\n"
     ]
    },
    {
     "name": "stdout",
     "output_type": "stream",
     "text": [
      "Too high!\n"
     ]
    },
    {
     "name": "stdin",
     "output_type": "stream",
     "text": [
      "Guess a number between 1 and 100:  20\n"
     ]
    },
    {
     "name": "stdout",
     "output_type": "stream",
     "text": [
      "Too high!\n"
     ]
    },
    {
     "name": "stdin",
     "output_type": "stream",
     "text": [
      "Guess a number between 1 and 100:  70\n"
     ]
    },
    {
     "name": "stdout",
     "output_type": "stream",
     "text": [
      "Too high!\n"
     ]
    },
    {
     "name": "stdin",
     "output_type": "stream",
     "text": [
      "Guess a number between 1 and 100:  67\n"
     ]
    },
    {
     "name": "stdout",
     "output_type": "stream",
     "text": [
      "Too high!\n"
     ]
    },
    {
     "name": "stdin",
     "output_type": "stream",
     "text": [
      "Guess a number between 1 and 100:  15\n"
     ]
    },
    {
     "name": "stdout",
     "output_type": "stream",
     "text": [
      "Too high!\n"
     ]
    },
    {
     "name": "stdin",
     "output_type": "stream",
     "text": [
      "Guess a number between 1 and 100:  7\n"
     ]
    },
    {
     "name": "stdout",
     "output_type": "stream",
     "text": [
      "Too low!\n"
     ]
    },
    {
     "name": "stdin",
     "output_type": "stream",
     "text": [
      "Guess a number between 1 and 100:  13\n"
     ]
    },
    {
     "name": "stdout",
     "output_type": "stream",
     "text": [
      "Congratulations! You've guessed the number in 7 attempts.\n"
     ]
    }
   ],
   "source": [
    "guessing_game()"
   ]
  },
  {
   "cell_type": "code",
   "execution_count": null,
   "id": "6165bef1-6c8a-4643-8f39-722cdb1f6d90",
   "metadata": {},
   "outputs": [],
   "source": [
    "print(\"Script name:\", sys.argv[1])\n"
   ]
  },
  {
   "cell_type": "code",
   "execution_count": null,
   "id": "9882c44e-71ae-42a3-9ca6-aca0ddbd5670",
   "metadata": {},
   "outputs": [],
   "source": [
    "import sys\n",
    "\n",
    "# Print all command line arguments\n",
    "print(\"Arguments passed:\", sys.argv)\n"
   ]
  },
  {
   "cell_type": "code",
   "execution_count": null,
   "id": "77031a54-2d29-49b7-8dad-a86c8e8408b3",
   "metadata": {},
   "outputs": [],
   "source": [
    "def decorator_function(original_function):\n",
    "    def wrapper():\n",
    "        print(\"Wrapper executed this before {}\".format(original_function.__name__))\n",
    "        return original_function()\n",
    "    return wrapper\n",
    "\n",
    "@decorator_function \n",
    "def display():\n",
    "    print('Display function executed')\n",
    "display()   # Output:\n"
   ]
  },
  {
   "cell_type": "code",
   "execution_count": 42,
   "id": "216f077a-7432-40a1-9114-d4b5ec9b41dd",
   "metadata": {},
   "outputs": [
    {
     "name": "stdout",
     "output_type": "stream",
     "text": [
      "[2, 5, 9, 79, 89, 980, 39900]\n",
      "39900\n"
     ]
    }
   ],
   "source": [
    "numbers = [39900, 79, 2, 9, 5,980,89]\n",
    "numbers.sort()\n",
    "max_number=numbers[-1]\n",
    "print(numbers)\n",
    "print(max_number)"
   ]
  },
  {
   "cell_type": "code",
   "execution_count": 40,
   "id": "05515c21-4d39-46e1-bd4e-85751239d9fd",
   "metadata": {},
   "outputs": [
    {
     "name": "stdout",
     "output_type": "stream",
     "text": [
      "890089\n"
     ]
    }
   ],
   "source": [
    "def find_max(numbers):\n",
    "    max_value = numbers[0]  # Initialize max_value with the first element of the list\n",
    "    for number in numbers:\n",
    "        if number > max_value:\n",
    "            max_value = number  # Update max_value if the current number is greater\n",
    "    return max_value\n",
    "# Example usage\n",
    "numbers = [39900, 79, 2, 9, 5,980,890089]\n",
    "print(find_max(numbers))\n"
   ]
  },
  {
   "cell_type": "code",
   "execution_count": null,
   "id": "044e6093-a4ea-4e7a-a151-22a10f89ac24",
   "metadata": {},
   "outputs": [],
   "source": [
    "def product_operations(set1, set2):\n",
    "    # Adding new category\n",
    "    set1.add('Electronics')\n",
    "    \n",
    "    # Removing existing category\n",
    "    set2.discard('Clothing')\n",
    "    \n",
    "    # Checking common categories\n",
    "    common_categories = set1 & set2\n",
    "    union=set1.union(set2)\n",
    "    \n",
    "    return common_categories,union\n",
    "\n",
    "# Example usage\n",
    "categories1 = {'Clothing', 'Books', 'Electronics'}\n",
    "categories2 = {'Books', 'Toys', 'Shoes'}\n",
    "\n",
    "result = product_operations(categories1, categories2)\n",
    "print(f\"Common Categories: {result}\")\n"
   ]
  },
  {
   "cell_type": "code",
   "execution_count": null,
   "id": "55b7c7a5-1ef7-4c0a-bbea-f47f7b0af15a",
   "metadata": {},
   "outputs": [],
   "source": [
    "for i in range(1,51):\n",
    "    "
   ]
  },
  {
   "cell_type": "code",
   "execution_count": null,
   "id": "c76faa9f-7df0-4e85-a42a-79ed2c23fc05",
   "metadata": {},
   "outputs": [],
   "source": [
    "def multiply(numbers):\n",
    "    total=1\n",
    "    for x in numbers:\n",
    "        total=total*x\n",
    "    return total\n",
    "print(\"The product of all elements is \",multiply([8,4,9,-1,9]))"
   ]
  },
  {
   "cell_type": "code",
   "execution_count": null,
   "id": "ff689de8-972a-435a-a025-3ab24c36780a",
   "metadata": {},
   "outputs": [],
   "source": [
    "rows = 5\n",
    "for i in range(0, rows):\n",
    "    # nested loop for each column\n",
    "    for j in range(0, i + 1):\n",
    "        # print star\n",
    "        print(\"*\", end=' ')\n",
    "    # new line after each row\n",
    "    print(\" \")"
   ]
  },
  {
   "cell_type": "code",
   "execution_count": 18,
   "id": "d9095315-d7f7-4f4f-96d7-b6b8cb5c280a",
   "metadata": {},
   "outputs": [
    {
     "ename": "SyntaxError",
     "evalue": "'return' outside function (2087786879.py, line 3)",
     "output_type": "error",
     "traceback": [
      "\u001b[1;36m  Cell \u001b[1;32mIn[18], line 3\u001b[1;36m\u001b[0m\n\u001b[1;33m    return a -b\u001b[0m\n\u001b[1;37m    ^\u001b[0m\n\u001b[1;31mSyntaxError\u001b[0m\u001b[1;31m:\u001b[0m 'return' outside function\n"
     ]
    }
   ],
   "source": [
    "a=8763458\n",
    "b=93469875\n",
    "return a -b"
   ]
  },
  {
   "cell_type": "markdown",
   "id": "eeb5f7ce-73bf-4fcb-8ef9-6bcc58cb77a5",
   "metadata": {},
   "source": [
    "### Recursion is a programming technique where a function calls itself to solve smaller instances of the same problem. This technique is useful for problems that can be broken down into smaller, similar problems, which can be solved in the same way as the larger problem."
   ]
  },
  {
   "cell_type": "code",
   "execution_count": 16,
   "id": "6dc24b78-5980-4948-a679-7cac35d67fb8",
   "metadata": {},
   "outputs": [
    {
     "name": "stdout",
     "output_type": "stream",
     "text": [
      "120\n"
     ]
    }
   ],
   "source": [
    "                def factorial(n):\n",
    "                    if n == 0 or n == 1:\n",
    "                        return 1\n",
    "                    else:\n",
    "                        return n * factorial(n - 1)\n",
    "                print(factorial(5))"
   ]
  },
  {
   "cell_type": "code",
   "execution_count": null,
   "id": "bd0af7f7-3d40-4e23-a57a-2a5ae57f3226",
   "metadata": {},
   "outputs": [],
   "source": [
    "word=input(\"Enter your word\")\n",
    "vowels=\"a,e,i,o,u,A,E,I,O,U\"\n",
    "count=0\n",
    "for char in word:\n",
    "    if char in vowels:\n",
    "        count=count+1 #count+=1\n",
    "print(f\"number of vowels in {word} are {count}\")\n",
    "        \n",
    "    "
   ]
  },
  {
   "cell_type": "code",
   "execution_count": null,
   "id": "0be4b01a-d308-47bf-aa40-f72105bcd8ae",
   "metadata": {},
   "outputs": [],
   "source": [
    "vowels='a,e,i,o,u,A,E,I,O,U'\n",
    "count=0\n",
    "str=\"this is a cat and tis is an apple\"\n",
    "for char in str:\n",
    "    if char in vowels:\n",
    "        count+=1\n",
    "print(count)"
   ]
  },
  {
   "cell_type": "code",
   "execution_count": 10,
   "id": "8779e8a0-fe43-4bb4-9c96-1ae81ca4a9f4",
   "metadata": {},
   "outputs": [
    {
     "data": {
      "text/plain": [
       "float"
      ]
     },
     "execution_count": 10,
     "metadata": {},
     "output_type": "execute_result"
    }
   ],
   "source": [
    "a=10.90\n",
    "type(a)"
   ]
  },
  {
   "cell_type": "code",
   "execution_count": 115,
   "id": "ff520e03-1fbb-41dd-9be4-a54fe4b31868",
   "metadata": {},
   "outputs": [
    {
     "name": "stdin",
     "output_type": "stream",
     "text": [
      "Enter String  Elephant\n"
     ]
    },
    {
     "name": "stdout",
     "output_type": "stream",
     "text": [
      "the number of vowels in your string is 3\n"
     ]
    }
   ],
   "source": [
    "def count_vowel(string):\n",
    "    if not string:\n",
    "        return 0\n",
    "    if string[0].lower() in 'aeiou':\n",
    "        return 1+count_vowel(string[1:])\n",
    "    else:\n",
    "        return count_vowel(string[1:])\n",
    "string=input(\"Enter String \")\n",
    "result=count_vowel(string)\n",
    "print(f\"the number of vowels in your string is {result}\")\n"
   ]
  },
  {
   "cell_type": "code",
   "execution_count": null,
   "id": "50260dc9-91a2-4c10-8305-834c4a4755c0",
   "metadata": {},
   "outputs": [],
   "source": [
    "def count_vowel(text):\n",
    "    count=0\n",
    "    vowel='aeiouAEIOU'\n",
    "    for i in text:\n",
    "        if i in vowel:\n",
    "            count+=1\n",
    "    return count\n",
    "text=input(\"Enter your name\")\n",
    "print(\"The vowel count in  \"+text +\" is\",count_vowel(text))\n",
    "    "
   ]
  },
  {
   "cell_type": "code",
   "execution_count": null,
   "id": "87d9fa1e-4a4a-4da4-a2a2-5c3ea6b3cc5e",
   "metadata": {},
   "outputs": [],
   "source": [
    "def greet(name):\n",
    "    \"\"\"\n",
    "    Print a personalized greeting message.\n",
    "\n",
    "    Parameters:\n",
    "    name (str): The name of the person to greet.\n",
    "    \"\"\"\n",
    "    print(f\"Hello, {name}!\")\n",
    "\n",
    "# Accessing docstring\n",
    "help(greet)\n"
   ]
  },
  {
   "cell_type": "code",
   "execution_count": null,
   "id": "c6e25891-ac2e-472a-870d-a57e0a5cb4c3",
   "metadata": {},
   "outputs": [],
   "source": [
    "import math\n",
    "help(math.sqrt)"
   ]
  },
  {
   "cell_type": "code",
   "execution_count": 116,
   "id": "05174cb1-90bb-4a7b-b306-385c3cc6b68c",
   "metadata": {},
   "outputs": [
    {
     "name": "stdout",
     "output_type": "stream",
     "text": [
      "17\n"
     ]
    }
   ],
   "source": [
    "addition = lambda x:x+15\n",
    "print(addition(2))  \n"
   ]
  },
  {
   "cell_type": "code",
   "execution_count": 122,
   "id": "927ef42b-406d-49f1-9ee8-d104ab8e9c0e",
   "metadata": {},
   "outputs": [
    {
     "name": "stdout",
     "output_type": "stream",
     "text": [
      "[('Proability', 80), ('JAVA', 50), ('Data Analysis', 60)]\n",
      "\n",
      "Sorting the list of tuples: \n",
      "[('JAVA', 50), ('Data Analysis', 60), ('Proability', 80)]\n"
     ]
    }
   ],
   "source": [
    "subject_marks=[(\"Proability\",80),(\"JAVA\",50),\n",
    "               (\"Data Analysis\",60)]\n",
    "print(subject_marks)\n",
    "\n",
    "subject_marks.sort(key=lambda x:x[1])\n",
    "print(\"\\nSorting the list of tuples: \")\n",
    "print(subject_marks)"
   ]
  },
  {
   "cell_type": "code",
   "execution_count": null,
   "id": "af268b02-b062-44b2-bc7b-65d632ac98fa",
   "metadata": {},
   "outputs": [],
   "source": [
    "list={3,6,8,9}\n",
    "sum(list)"
   ]
  },
  {
   "cell_type": "code",
   "execution_count": null,
   "id": "9d517574-5c63-4c09-a379-8bdea0f2b174",
   "metadata": {},
   "outputs": [],
   "source": [
    "def greet(name):\n",
    "    \"\"\"\n",
    "    Print a personalized greeting message.\n",
    "\n",
    "    Parameters:\n",
    "    name (str): The name of the person to greet.\n",
    "    \"\"\"\n",
    "    print(f\"Hello, {name}!\") # this function is greeting the person\n",
    "greet(\"Shivani\")\n",
    "help(greet)\n"
   ]
  },
  {
   "cell_type": "code",
   "execution_count": null,
   "id": "26618ac1-8c2d-4d69-887e-7d049571c092",
   "metadata": {},
   "outputs": [],
   "source": [
    "def compute_stats(numbers):\n",
    "    mean = sum(numbers) / len(numbers)\n",
    "    return mean, min(numbers), max(numbers)\n",
    "\n",
    "stats = compute_stats([10,4557,78,90,100 ])\n",
    "print(stats)\n"
   ]
  },
  {
   "cell_type": "code",
   "execution_count": null,
   "id": "634cc753-c089-4daa-ae96-be9d8811cf25",
   "metadata": {},
   "outputs": [],
   "source": [
    "def add_numbers(a, b,c):\n",
    "    return a + b+c\n",
    "\n",
    "result = add_numbers(3, 5,10)\n",
    "print(result)  \n"
   ]
  },
  {
   "cell_type": "code",
   "execution_count": null,
   "id": "d97513a8-41a5-4b81-9c3b-afbb98c5073a",
   "metadata": {},
   "outputs": [],
   "source": [
    "def func(a,b):\n",
    "    print(\"First name \"+a+\" Last Name \"+b)\n",
    "func(\"Shivani\",\"Dangi\")"
   ]
  },
  {
   "cell_type": "markdown",
   "id": "27f2e665-ed13-4517-affd-d81024689598",
   "metadata": {},
   "source": [
    "### Arbitrary Arguments, *args\n",
    "If you do not know how many arguments that will be passed into your function, add a * before the parameter name in the function definition.\n",
    "\n",
    "This way the function will receive a tuple of arguments, and can access the items accordingly:"
   ]
  },
  {
   "cell_type": "code",
   "execution_count": 84,
   "id": "21b0b5e0-e7e7-455a-bc93-36f44896c14d",
   "metadata": {},
   "outputs": [
    {
     "name": "stdout",
     "output_type": "stream",
     "text": [
      "The students are  ('Prashant', 'Rushabh', 'Charushila', 'Gayatri')\n"
     ]
    }
   ],
   "source": [
    "def my_function(*Students):\n",
    "  print(\"The students are \" ,Students)\n",
    "\n",
    "my_function(\"Prashant\",\"Rushabh\",\"Charushila\",\"Gayatri\")"
   ]
  },
  {
   "cell_type": "markdown",
   "id": "1ab33789-5848-47e4-bf6d-046a47a8632b",
   "metadata": {},
   "source": [
    "### Arbitrary Keyword Arguments, **kwargs\n",
    "If you do not know how many keyword arguments that will be passed into your function, add two asterisk: ** before the parameter name in the function definition.\n",
    "\n",
    "This way the function will receive a dictionary of arguments, and can access the items accordingly:"
   ]
  },
  {
   "cell_type": "code",
   "execution_count": 21,
   "id": "9f77d02f-e89b-4054-895b-4e90073b1ae8",
   "metadata": {
    "scrolled": true
   },
   "outputs": [
    {
     "name": "stdout",
     "output_type": "stream",
     "text": [
      "The students are  {'Student': 'Prashant', 'Marks': 20, 'city': 'Jalgaon'}\n"
     ]
    }
   ],
   "source": [
    "def my_function(**Student):\n",
    "  print(\"The students are \" ,Student)\n",
    "\n",
    "my_function(Student=\"Prashant\",Marks=20,city='Jalgaon')"
   ]
  },
  {
   "cell_type": "code",
   "execution_count": null,
   "id": "719dca4b-b67a-4d22-a696-bbed18b1fa1a",
   "metadata": {},
   "outputs": [],
   "source": []
  },
  {
   "cell_type": "code",
   "execution_count": 26,
   "id": "81f01064-13d4-4a7f-9cbe-7193386c1c1a",
   "metadata": {},
   "outputs": [
    {
     "name": "stdout",
     "output_type": "stream",
     "text": [
      "Select operation:\n",
      "1. Add\n",
      "2. Subtract\n",
      "3. Multiply\n",
      "4. Divide\n"
     ]
    },
    {
     "name": "stdin",
     "output_type": "stream",
     "text": [
      "Enter choice (1/2/3/4):  3\n",
      "Enter first number:  67\n",
      "Enter second number:  -98\n"
     ]
    },
    {
     "name": "stdout",
     "output_type": "stream",
     "text": [
      "Result: -6566.0\n"
     ]
    }
   ],
   "source": [
    "def add(x, y):\n",
    "    return x + y\n",
    "\n",
    "def subtract(x, y):\n",
    "    return x - y\n",
    "\n",
    "def multiply(x, y):\n",
    "    return x * y\n",
    "\n",
    "def divide(x, y):\n",
    "    if y == 0:\n",
    "        return \"number Cannot be divide by zero!\"\n",
    "    return x / y\n",
    "\n",
    "print(\"Select operation:\")\n",
    "print(\"1. Add\")\n",
    "print(\"2. Subtract\")\n",
    "print(\"3. Multiply\")\n",
    "print(\"4. Divide\")\n",
    "\n",
    "choice = input(\"Enter choice (1/2/3/4): \")\n",
    "\n",
    "num1 = float(input(\"Enter first number: \"))\n",
    "num2 = float(input(\"Enter second number: \"))\n",
    "\n",
    "if choice == '1':\n",
    "    print(\"Result:\", add(num1, num2))\n",
    "elif choice == '2':\n",
    "    print(\"Result:\", subtract(num1, num2))\n",
    "elif choice == '3':\n",
    "    print(\"Result:\", multiply(num1, num2))\n",
    "elif choice == '4':\n",
    "    print(\"Result:\", divide(num1, num2))\n",
    "else:\n",
    "    print(\"Invalid input\")\n"
   ]
  },
  {
   "cell_type": "code",
   "execution_count": 100,
   "id": "4faa2951-fc26-4410-b65a-223365c283fa",
   "metadata": {},
   "outputs": [
    {
     "name": "stdout",
     "output_type": "stream",
     "text": [
      "127\n"
     ]
    }
   ],
   "source": [
    "listn=[7,9,80,31]\n",
    "add=0\n",
    "for n in listn:\n",
    "    add=add+n\n",
    "print(add)"
   ]
  },
  {
   "cell_type": "markdown",
   "id": "e1ff1fb3-5517-42f9-91fc-4de84192bbfc",
   "metadata": {},
   "source": [
    "#### Returns the sum, minimum and the maximum value list"
   ]
  },
  {
   "cell_type": "code",
   "execution_count": null,
   "id": "2a50a4ae-59c1-4ae9-ac33-e1f5867409c8",
   "metadata": {},
   "outputs": [],
   "source": [
    "def stat():\n",
    "    list=[2,5,8,100,9,-7]\n",
    "    return sum(list),min(list),max(list)\n",
    "stat()"
   ]
  },
  {
   "cell_type": "code",
   "execution_count": null,
   "id": "b83bc016-f02a-42dc-908f-c6ade71d271c",
   "metadata": {},
   "outputs": [],
   "source": [
    "def string_reverse(str1):\n",
    "    rev_str=''\n",
    "    index=len(str1)\n",
    "\n",
    "    while index > 0:\n",
    "        rev_str+=str1[index - 1]\n",
    "        index=index-1\n",
    "    return rev_str\n",
    "print(string_reverse(\"1234abcde\"))"
   ]
  },
  {
   "cell_type": "code",
   "execution_count": 101,
   "id": "32cf547a-910f-4559-a8f4-5a5648c69de8",
   "metadata": {},
   "outputs": [
    {
     "name": "stdout",
     "output_type": "stream",
     "text": [
      "Her  first and last name is  {'fname': 'Shivani', 'lname': 'Dangi', 'DeptName': 'AI AND DS', 'R_No': 15, 'marks': 9.5}\n"
     ]
    }
   ],
   "source": [
    "def my_function(**Student):\n",
    "  print(\"Her  first and last name is \" ,Student)\n",
    "\n",
    "my_function(fname = \"Shivani\", lname = \"Dangi\",DeptName=\"AI AND DS\",R_No=15,marks=9.5)"
   ]
  },
  {
   "cell_type": "markdown",
   "id": "76fe2633-71d2-4d48-a6f9-0ebb17692416",
   "metadata": {},
   "source": [
    "### Default Parameter Value\n",
    "The following example shows how to use a default parameter value.\n",
    "\n",
    "If we call the function without argument, it uses the default value:"
   ]
  },
  {
   "cell_type": "code",
   "execution_count": 107,
   "id": "678a7eb4-aa87-43d3-b614-dcd7d877b3b2",
   "metadata": {},
   "outputs": [
    {
     "name": "stdout",
     "output_type": "stream",
     "text": [
      "I am from Sweden\n",
      "I am from India\n",
      "I am from Norway\n",
      "I am from Brazil\n"
     ]
    }
   ],
   "source": [
    "def my_function(country = \"Norway\"):\n",
    "    #country=\"Netherlands\"\n",
    "    print(\"I am from \" + country)\n",
    "my_function(\"Sweden\")\n",
    "my_function(\"India\")\n",
    "my_function()\n",
    "my_function(\"Brazil\")\n"
   ]
  },
  {
   "cell_type": "code",
   "execution_count": 111,
   "id": "e3d3544b-f3e5-43f9-90cd-039c3d303c5a",
   "metadata": {},
   "outputs": [
    {
     "name": "stdout",
     "output_type": "stream",
     "text": [
      "1 2 3 5 8 13 21 34 8\n"
     ]
    }
   ],
   "source": [
    "n=8\n",
    "num1=0\n",
    "num2=1\n",
    "next_num=num2\n",
    "count=1\n",
    "while count<=n:\n",
    "    print(next_num,end=\" \")\n",
    "    count+=1\n",
    "    num1,num2=num2,next_num\n",
    "    next_num=num1+num2\n",
    "print(n)"
   ]
  },
  {
   "cell_type": "code",
   "execution_count": 109,
   "id": "254a01c6-b501-4f32-b8a2-158dcd030407",
   "metadata": {},
   "outputs": [
    {
     "name": "stdout",
     "output_type": "stream",
     "text": [
      "21\n"
     ]
    }
   ],
   "source": [
    "def fibonacci(n):\n",
    "    if n == 0:# Base cases\n",
    "        return 0\n",
    "    elif n == 1:\n",
    "        return 1\n",
    "    # Recursive case\n",
    "    else:\n",
    "        return fibonacci(n-1) + fibonacci(n-2)\n",
    "# Test the function\n",
    "print(fibonacci(8))  # Output: 5\n"
   ]
  },
  {
   "cell_type": "code",
   "execution_count": null,
   "id": "f36cec5f-b754-4120-8480-47ed62f30fb4",
   "metadata": {},
   "outputs": [],
   "source": [
    "def sum_list(lst):\n",
    "    "
   ]
  },
  {
   "cell_type": "code",
   "execution_count": 112,
   "id": "971f80ee-79b9-41c7-aadc-046eb180eb73",
   "metadata": {},
   "outputs": [
    {
     "ename": "NameError",
     "evalue": "name 'guessing_game' is not defined",
     "output_type": "error",
     "traceback": [
      "\u001b[1;31m---------------------------------------------------------------------------\u001b[0m",
      "\u001b[1;31mNameError\u001b[0m                                 Traceback (most recent call last)",
      "Cell \u001b[1;32mIn[112], line 1\u001b[0m\n\u001b[1;32m----> 1\u001b[0m \u001b[43mguessing_game\u001b[49m()\n",
      "\u001b[1;31mNameError\u001b[0m: name 'guessing_game' is not defined"
     ]
    }
   ],
   "source": [
    "guessing_game()"
   ]
  },
  {
   "cell_type": "code",
   "execution_count": null,
   "id": "ea3448dc-3615-4402-934d-088471bf6d58",
   "metadata": {},
   "outputs": [],
   "source": [
    "n=10\n",
    "num1=0\n",
    "num2=1\n",
    "next_num=num2\n",
    "count=1\n",
    "while count<=n:\n",
    "    print(next_num,end=\" \")\n",
    "    count+=1\n",
    "    num1,num2=num2,next_num\n",
    "    next_num=num1+num2\n",
    "print()"
   ]
  },
  {
   "cell_type": "code",
   "execution_count": null,
   "id": "c5150c64-d97b-4784-bda5-4772f947b4c9",
   "metadata": {},
   "outputs": [],
   "source": [
    "def my_function(food):\n",
    "  for x in food:\n",
    "    print(x)\n",
    "\n",
    "fruits = [\"apple\", \"banana\", \"cherry\"]\n",
    "\n",
    "my_function(fruits)"
   ]
  },
  {
   "cell_type": "code",
   "execution_count": null,
   "id": "6daf1ada-f5f1-4a37-af67-831f01e76fa5",
   "metadata": {},
   "outputs": [],
   "source": [
    "def my_function(x):\n",
    "  return 5 * x\n",
    "\n",
    "print(my_function(3))\n",
    "print(my_function(5))\n",
    "print(my_function(976875))\n"
   ]
  },
  {
   "cell_type": "markdown",
   "id": "8b082a60-dac8-4875-9655-6bd61f4d6cbb",
   "metadata": {},
   "source": [
    "### The pass Statement\n",
    "function definitions cannot be empty, but if you for some reason have a function definition with no content, put in the pass statement to avoid getting an error."
   ]
  },
  {
   "cell_type": "markdown",
   "id": "7ea575a1-8bb1-4772-86fe-dd510db81ac2",
   "metadata": {},
   "source": [
    "### Python Lambda"
   ]
  },
  {
   "cell_type": "markdown",
   "id": "d5a0bdaf-b775-4b4b-8c14-c07b3e6b1c16",
   "metadata": {},
   "source": [
    "A lambda function is a small anonymous function.\n",
    "\n",
    "A lambda function can take any number of arguments, but can only have one expression."
   ]
  },
  {
   "cell_type": "code",
   "execution_count": null,
   "id": "b07c30dd-725a-45a4-ab00-682c73c5de9e",
   "metadata": {},
   "outputs": [],
   "source": [
    "x = lambda a : a * 8\n",
    "print(x(5))"
   ]
  },
  {
   "cell_type": "markdown",
   "id": "d2f98880-4618-4d47-a972-0b4d9984a490",
   "metadata": {},
   "source": [
    "### Why Use Lambda Functions?\n",
    "The power of lambda is better shown when you use them as an anonymous function inside another function.\n",
    "\n",
    "Say you have a function definition that takes one argument, and that argument will be multiplied with an unknown number:"
   ]
  },
  {
   "cell_type": "code",
   "execution_count": null,
   "id": "f2151900-71df-4b95-8f69-f01f5a5f182e",
   "metadata": {},
   "outputs": [],
   "source": [
    "def myfunc(n):\n",
    "  return lambda a : a * n"
   ]
  },
  {
   "cell_type": "code",
   "execution_count": null,
   "id": "258c483d-3d0e-4e59-b797-398c44c2c83e",
   "metadata": {},
   "outputs": [],
   "source": [
    "def myfunc(n):\n",
    "  return lambda a : a * n\n",
    "\n",
    "mydoubler = myfunc(3)\n",
    "\n",
    "print(mydoubler(10))\n"
   ]
  },
  {
   "cell_type": "code",
   "execution_count": null,
   "id": "83f04728-90ff-42e8-8c67-fed5f69592c6",
   "metadata": {},
   "outputs": [],
   "source": [
    "def myfunc(n):\n",
    "  return lambda a : a * n\n",
    "\n",
    "mytripler = myfunc(3)\n",
    "\n",
    "print(mytripler(11))"
   ]
  },
  {
   "cell_type": "markdown",
   "id": "f9d67758-9ed9-408c-a355-5509c21f4a46",
   "metadata": {},
   "source": [
    "## Python Arrays"
   ]
  },
  {
   "cell_type": "code",
   "execution_count": null,
   "id": "1e21ccc3-5e71-45c7-82f0-d690e8cb5251",
   "metadata": {},
   "outputs": [],
   "source": [
    "cars = [\"Ford\", \"Volvo\", \"BMW\",\"porsche\"]\n",
    "cars           "
   ]
  },
  {
   "cell_type": "code",
   "execution_count": null,
   "id": "f7659897-8aa5-4db1-bbad-45a33ad797a8",
   "metadata": {},
   "outputs": [],
   "source": [
    "x = cars[1:]\n",
    "x"
   ]
  },
  {
   "cell_type": "code",
   "execution_count": null,
   "id": "205554ab-1743-410d-bfa1-3e0e4941e31d",
   "metadata": {},
   "outputs": [],
   "source": [
    "cars[3] = \"Toyota\"\n",
    "cars"
   ]
  },
  {
   "cell_type": "code",
   "execution_count": null,
   "id": "ba164c1f-4f9c-4ea4-876b-87b1e5960bc7",
   "metadata": {},
   "outputs": [],
   "source": [
    "x = len(cars)\n",
    "x"
   ]
  },
  {
   "cell_type": "markdown",
   "id": "9d628967-0193-4155-a843-bf680425bbea",
   "metadata": {},
   "source": [
    "### Looping Array Elements\n",
    "You can use the for in loop to loop through all the elements of an array."
   ]
  },
  {
   "cell_type": "code",
   "execution_count": null,
   "id": "b433aa9d-6348-443f-a6f9-030810def957",
   "metadata": {},
   "outputs": [],
   "source": [
    "for x in cars:\n",
    "  print(x)"
   ]
  },
  {
   "cell_type": "code",
   "execution_count": null,
   "id": "cd67bc62-593b-4fd1-8cfc-8704133200c7",
   "metadata": {},
   "outputs": [],
   "source": [
    "cars.append(\"Ferrari\")"
   ]
  },
  {
   "cell_type": "code",
   "execution_count": null,
   "id": "bd0c824a-6410-4aab-a50a-ccdc1c082692",
   "metadata": {},
   "outputs": [],
   "source": [
    "cars"
   ]
  },
  {
   "cell_type": "markdown",
   "id": "e07f2ade-6995-4095-bc3c-90b3820ea7ca",
   "metadata": {},
   "source": [
    "### Removing Array Elements\n",
    "You can use the pop() method to remove an element from the array."
   ]
  },
  {
   "cell_type": "code",
   "execution_count": null,
   "id": "b3c97547-a6b7-413a-a657-6b6aa0d80eae",
   "metadata": {},
   "outputs": [],
   "source": [
    "cars.pop(3)"
   ]
  },
  {
   "cell_type": "code",
   "execution_count": null,
   "id": "4992f182-a779-461f-a0cf-da1331e59093",
   "metadata": {},
   "outputs": [],
   "source": [
    "cars"
   ]
  },
  {
   "cell_type": "code",
   "execution_count": null,
   "id": "de7e3958-28cd-4367-953e-10cc3d1748e9",
   "metadata": {},
   "outputs": [],
   "source": [
    "cars.remove(\"BMW\")"
   ]
  },
  {
   "cell_type": "code",
   "execution_count": null,
   "id": "79b5ba77-fe46-43b9-807f-cef4f167a65d",
   "metadata": {},
   "outputs": [],
   "source": [
    "cars"
   ]
  },
  {
   "attachments": {
    "93f837fa-4376-4c02-a326-4a8733ca57b1.png": {
     "image/png": "[encoded data removed]"
    }
   },
   "cell_type": "markdown",
   "id": "6df31b0f-b131-4202-93d1-2b0ac15bc618",
   "metadata": {},
   "source": [
    "![image.png](attachment:93f837fa-4376-4c02-a326-4a8733ca57b1.png)"
   ]
  },
  {
   "cell_type": "code",
   "execution_count": null,
   "id": "e3735963-5d3d-4248-9500-1edf7364aa7a",
   "metadata": {},
   "outputs": [],
   "source": [
    "#ExampleGet your own Python Server\n",
    "#Create a class named MyClass, with a property named x:\n",
    "\n",
    "class MyClass:\n",
    "  x = 5"
   ]
  },
  {
   "cell_type": "code",
   "execution_count": null,
   "id": "0ace9b33-9db0-44a3-8151-9c318516e99b",
   "metadata": {},
   "outputs": [],
   "source": [
    "p1 = MyClass() #OBJECT\n",
    "print(p1.x)"
   ]
  },
  {
   "cell_type": "markdown",
   "id": "5b8acf6a-665a-4689-a894-753975400392",
   "metadata": {},
   "source": [
    "### The __init__() Function\n",
    "The examples above are classes and objects in their simplest form, and are not really useful in real life applications.\n",
    "\n",
    "To understand the meaning of classes we have to understand the built-in __init__() function.\n",
    "\n",
    "All classes have a function called __init__(), which is always executed when the class is being initiated.\n",
    "\n",
    "Use the __init__() function to assign values to object properties, or other operations that are necessary to do when the object is being created:"
   ]
  },
  {
   "cell_type": "code",
   "execution_count": null,
   "id": "e2114cfc-6c37-47a0-87de-41cb4f92e155",
   "metadata": {},
   "outputs": [],
   "source": [
    "class Person:\n",
    "  def __init__(self, name, age):\n",
    "    self.name = name\n",
    "    self.age = age\n",
    "\n",
    "p1 = Person(\"ABC\", 36)\n",
    "\n",
    "print(p1.name)\n",
    "print(p1.age)\n"
   ]
  },
  {
   "cell_type": "markdown",
   "id": "3a287693-2468-4955-8921-68648f388735",
   "metadata": {},
   "source": [
    "### The __str__() Function\n",
    "The __str__() function controls what should be returned when the class object is represented as a string.\n",
    "\n",
    "If the __str__() function is not set, the string representation of the object is returned:"
   ]
  },
  {
   "cell_type": "code",
   "execution_count": null,
   "id": "9d289e8d-2ef7-4a86-b36b-7449182551c0",
   "metadata": {},
   "outputs": [],
   "source": [
    "class Person:\n",
    "  def __init__(self, name, age):\n",
    "    self.name = name\n",
    "    self.age = age\n",
    "\n",
    "  def __str__(self):\n",
    "    return f\"{self.name}({self.age})\"\n",
    "\n",
    "p1 = Person(\"ABC\", 36)\n",
    "\n",
    "print(p1)"
   ]
  },
  {
   "cell_type": "code",
   "execution_count": null,
   "id": "d284f37b-4f5d-411a-a78a-7d5e1cc0a86a",
   "metadata": {},
   "outputs": [],
   "source": [
    "class car:\n",
    "    def __init__(self,brand,model):\n",
    "        self.brand=brand\n",
    "        self.model=model\n",
    "    def display(self):\n",
    "        print(f\"brand : {self.brand} model : {self.model}\")\n",
    "        "
   ]
  },
  {
   "cell_type": "code",
   "execution_count": null,
   "id": "13ef9dd9-43bc-4100-be07-afd060343141",
   "metadata": {},
   "outputs": [],
   "source": [
    "myCar=car(\"Mercedes\",\"2.0\") #object\n",
    "myCar.display()"
   ]
  },
  {
   "cell_type": "code",
   "execution_count": null,
   "id": "0f2cc5a0-f971-4446-8eed-87ac96d58e03",
   "metadata": {},
   "outputs": [],
   "source": [
    "myCAR2=car(\"ferrari\",\"benz\")\n",
    "myCAR2.display()"
   ]
  },
  {
   "cell_type": "code",
   "execution_count": null,
   "id": "c950b6a4-f7c8-410e-a96e-f493ffc888c8",
   "metadata": {},
   "outputs": [],
   "source": []
  },
  {
   "cell_type": "code",
   "execution_count": null,
   "id": "550a01d9-befa-4aaa-98f4-b95f7e25325e",
   "metadata": {},
   "outputs": [],
   "source": [
    "class BankAccount:\n",
    "    def __init__(self,account_holder,balance=0):\n",
    "        self.account_holder=account_holder\n",
    "        self.balance=balance\n",
    "    def d():\n",
    "        pass\n",
    "account=BankAccount(\"Shreyas\",\"33657648790\")\n",
    "print(account.account_holder)\n",
    "print(account.balance)"
   ]
  },
  {
   "cell_type": "code",
   "execution_count": null,
   "id": "802046b2-8ce6-4719-b12c-00829fa403b7",
   "metadata": {},
   "outputs": [],
   "source": [
    "x=0\n",
    "if x<1:\n",
    "    print(\"abc\")\n",
    "elif x==0:\n",
    "    pass"
   ]
  },
  {
   "cell_type": "code",
   "execution_count": null,
   "id": "e468f018-ecb7-4871-91b3-491708beacf2",
   "metadata": {},
   "outputs": [],
   "source": [
    "class Person:\n",
    "  def __init__(self, name, age):#used to create constructors\n",
    "      if age<0:\n",
    "          raise ValueError(\"age cannot be negative\")\n",
    "      self.name = name\n",
    "      self.age = age\n",
    "\n",
    "person=Person(\"shreyas\",30)\n"
   ]
  },
  {
   "cell_type": "code",
   "execution_count": null,
   "id": "84d29bb2-d04d-4cea-997e-2538428bada9",
   "metadata": {},
   "outputs": [],
   "source": [
    "class Person:\n",
    "  def __init__(self, name, age,dept): #used to create constructors\n",
    "    self.name = name\n",
    "    self.age = age\n",
    "    self.dept=dept\n",
    "\n",
    "  def myfunc(self):\n",
    "    print(f\"Hello my name is {self.name} {self.age} and I am from {self.dept}\")\n",
    "\n",
    "p1 = Person(\"ABC\", 36,\"CSE\") #object creation\n",
    "p1.myfunc()\n",
    "p2=Person(\"XYZ\",19,\"CSE\")\n",
    "p2.myfunc()"
   ]
  },
  {
   "cell_type": "markdown",
   "id": "81f915d4-9656-4b61-8ac7-904c80286923",
   "metadata": {},
   "source": [
    "### The self Parameter\n",
    "The self parameter is a reference to the current instance of the class, and is used to access variables that belongs to the class.\n",
    "\n",
    "It does not have to be named self , you can call it whatever you like, but it has to be the first parameter of any function in the class:\n",
    "\n",
    "Example"
   ]
  },
  {
   "cell_type": "code",
   "execution_count": null,
   "id": "6eeb59b4-fe81-4831-bf38-26e2ce776250",
   "metadata": {},
   "outputs": [],
   "source": [
    "class Person:\n",
    "  def __init__(mysillyobject, name, age):\n",
    "    mysillyobject.name = name\n",
    "    mysillyobject.age = age\n",
    "\n",
    "  def myfunc(abc):\n",
    "    print(\"Hello my name is \" + abc.name)\n",
    "\n",
    "p1 = Person(\"ABC\", 36)\n",
    "p1.myfunc()"
   ]
  },
  {
   "cell_type": "markdown",
   "id": "d51677dd-0e50-4f33-b07e-0facb81618d5",
   "metadata": {},
   "source": [
    "### Modify Object Properties\n",
    "You can modify properties on objects like this:\n",
    "\n",
    "Example\n",
    "Set the age of p1 to 40:"
   ]
  },
  {
   "cell_type": "code",
   "execution_count": null,
   "id": "a276de78-50e9-4268-966c-63347d77c780",
   "metadata": {},
   "outputs": [],
   "source": [
    "p1.age = 40\n",
    "print(p1.age)"
   ]
  },
  {
   "cell_type": "code",
   "execution_count": null,
   "id": "ca71c55b-e951-4aa7-89ec-123dedf029ff",
   "metadata": {},
   "outputs": [],
   "source": [
    "del p1.age"
   ]
  },
  {
   "cell_type": "code",
   "execution_count": null,
   "id": "0e3a7049-a481-4888-872d-e7b91cd84638",
   "metadata": {},
   "outputs": [],
   "source": [
    "del p2"
   ]
  },
  {
   "cell_type": "code",
   "execution_count": null,
   "id": "9388fb4f-b02f-4d15-baa3-fe36be26c738",
   "metadata": {},
   "outputs": [],
   "source": [
    "print(p1.name)"
   ]
  },
  {
   "cell_type": "markdown",
   "id": "a203b6a2-5b07-451b-a2fb-721814d05d17",
   "metadata": {},
   "source": [
    "### The pass Statement\n",
    "class definitions cannot be empty, but if you for some reason have a class definition with no content, put in the pass statement to avoid getting an error."
   ]
  },
  {
   "cell_type": "code",
   "execution_count": null,
   "id": "d31322d6-4e6c-460e-a08e-cce7b153ef7a",
   "metadata": {},
   "outputs": [],
   "source": [
    "class Menu:\n",
    "  pass"
   ]
  },
  {
   "cell_type": "markdown",
   "id": "32f32df7-a1f7-41d8-8f6d-ffc40caa6009",
   "metadata": {},
   "source": [
    "### Python Inheritance\n",
    "Inheritance allows us to define a class that inherits all the methods and properties from another class.\n",
    "\n",
    "Parent class is the class being inherited from, also called base class.\n",
    "\n",
    "Child class is the class that inherits from another class, also called derived class."
   ]
  },
  {
   "cell_type": "markdown",
   "id": "e7b04693-5bac-463d-ba73-32036d8fe533",
   "metadata": {},
   "source": [
    "## heirarchial"
   ]
  },
  {
   "cell_type": "code",
   "execution_count": null,
   "id": "9308d4d9-6fd7-4226-9e0d-5613a38225b6",
   "metadata": {},
   "outputs": [],
   "source": [
    "class vehicle:  # parent class and super class\n",
    "    def __init__(self, brand, year):\n",
    "        self.brand = brand\n",
    "        self.year = year\n",
    "\n",
    "    def display(self):\n",
    "        print(self.brand, self.year)\n",
    "\n",
    "\n",
    "class car(vehicle):\n",
    "    def __init__(self, brand, year, model):\n",
    "        super().__init__(brand, year)\n",
    "        self.model = model\n",
    "\n",
    "    def display(self):\n",
    "        super().display()\n",
    "        print(f\"Model: {self.model}\")\n",
    "\n",
    "\n",
    "class bike(vehicle):  # Removed multiple inheritance\n",
    "    def __init__(self, brand, year, model, color):\n",
    "        super().__init__(brand, year)\n",
    "        self.model = model\n",
    "        self.color = color\n",
    "\n",
    "    def display(self):\n",
    "        super().display()\n",
    "        print(f\"Model: {self.model}\")\n",
    "        print(f\"Color: {self.color}\")\n",
    "\n",
    "\n",
    "bike1 = bike(\"Honda\", 2020, \"Shine\", \"Red\")\n",
    "bike1.display()\n"
   ]
  },
  {
   "cell_type": "markdown",
   "id": "58c7cc67-5bc1-49c8-b3f6-363280a9e3b1",
   "metadata": {},
   "source": [
    "## multilevel\n"
   ]
  },
  {
   "cell_type": "code",
   "execution_count": null,
   "id": "193e72b3-4557-4563-acc7-664cf0786d7d",
   "metadata": {},
   "outputs": [],
   "source": [
    "class Parent1:\n",
    "    def show(self):\n",
    "        print(\"This is Parent1 class\")\n",
    "\n",
    "class Parent2:\n",
    "    def display(self):\n",
    "        print(\"This is Parent2 class\")\n",
    "\n",
    "class Child(Parent1, Parent2):\n",
    "    def show_child(self):\n",
    "        print(\"This is the child class\")\n",
    "\n",
    "child = Child()\n",
    "child.show()       # Output: This is Parent1 class\n",
    "child.display()    # Output: This is Parent2 class\n",
    "child.show_child() # Output: This is the child class"
   ]
  },
  {
   "cell_type": "code",
   "execution_count": null,
   "id": "2af5ef2a-d0d0-4aa3-9749-1e3b4bc00edb",
   "metadata": {},
   "outputs": [],
   "source": [
    "class grandparent:\n",
    "    def show_gp(self):\n",
    "        print(\"This is grandparent class\")\n",
    "\n",
    "class Parent1(grandparent):# heirarchial inheritence\n",
    "    def displayp(self):\n",
    "        print(\"This is Parent1 class\")\n",
    "\n",
    "class parent2():\n",
    "    def show_p2(self):\n",
    "        print(\"This is the parent2 class\")\n",
    "\n",
    "class child(Parent1,parent2): #multiple\n",
    "    def show_child(self):\n",
    "        print(\"this is a child class\")\n",
    "\n",
    "child=child()\n",
    "child.show_gp()\n",
    "child.displayp()\n",
    "child.show_p2()\n",
    "child.show_child()\n"
   ]
  },
  {
   "cell_type": "code",
   "execution_count": null,
   "id": "fb515321-0c4a-420e-9a88-b0ff0f2da926",
   "metadata": {},
   "outputs": [],
   "source": [
    "class Hotel: #parent class\n",
    "    def __init__(self,name,location):\n",
    "        self.name=name \n",
    "        self.location=location\n",
    "    def menu(self,dish_name):\n",
    "        self.dish_name=dish_name\n",
    "        print(f\"the hotel  {self.name} in {self.location} has {self.dish_name}\")\n",
    "class Staff(Hotel): #child class\n",
    "    pass\n",
    "p1=Staff(\"Supraja\",\"Park Chauk\")\n",
    "p1.menu(\"PavBhaji\")\n",
    "p2=Staff(\"Ajinkya\",\"Park Chauk\")\n",
    "p2.menu(\"Rasmalai\")"
   ]
  },
  {
   "cell_type": "code",
   "execution_count": null,
   "id": "d25a6097-733f-4ff8-93ea-98e53ef43bf2",
   "metadata": {},
   "outputs": [],
   "source": []
  },
  {
   "cell_type": "markdown",
   "id": "1a306e6f-b3b6-40fb-95dd-7f42a713cc8f",
   "metadata": {},
   "source": [
    "### Create a Parent Class\n",
    "Any class can be a parent class, so the syntax is the same as creating any other class:"
   ]
  },
  {
   "cell_type": "code",
   "execution_count": 26,
   "id": "a7f7b5f7-3f3d-4797-9f73-bd24366a0461",
   "metadata": {},
   "outputs": [
    {
     "name": "stdout",
     "output_type": "stream",
     "text": [
      "********5678\n"
     ]
    }
   ],
   "source": [
    "   class Customer:\n",
    "       def __init__(self, name, credit_card):\n",
    "           self.__name = name\n",
    "           self.__credit_card = credit_card  # Private attribute\n",
    "\n",
    "       def update_credit_card(self, new_card):\n",
    "           if len(new_card) == 16:  # Simple validation\n",
    "               self.__credit_card = new_card\n",
    "\n",
    "       def get_credit_card(self):\n",
    "           return \"********\" + self.__credit_card[-4:]\n",
    "\n",
    "   customer = Customer(\"John Doe\", \"1234567812345678\")\n",
    "   print(customer.get_credit_card())  # Only last 4 digits expos\n"
   ]
  },
  {
   "cell_type": "code",
   "execution_count": null,
   "id": "fea225c7-e2d5-4ccc-bffa-8cab49bd0de4",
   "metadata": {},
   "outputs": [],
   "source": [
    "class Person:\n",
    "  def __init__(self, fname, lname):\n",
    "    self.firstname = fname\n",
    "    self.lastname = lname\n",
    "\n",
    "  def printname(self):\n",
    "    print(self.firstname, self.lastname)\n",
    "class Student(Person):\n",
    "  pass\n",
    "\n",
    "#Use the Person class to create an object, and then execute the printname method:\n",
    "\n",
    "x = Person(\"ABC\", \"XYZ\")\n",
    "x.printname()"
   ]
  },
  {
   "cell_type": "markdown",
   "id": "beeca0c8-6a9e-40bb-9162-66d6eea9b39e",
   "metadata": {},
   "source": [
    "### Create a Child Class\n",
    "To create a class that inherits the functionality from another class, send the parent class as a parameter when creating the child class:\n",
    "\n",
    "Example\n",
    "Create a class named Student, which will inherit the properties and methods from the Person class:"
   ]
  },
  {
   "cell_type": "code",
   "execution_count": null,
   "id": "cad89b53-0f9b-4c09-b0b4-5fa55654140d",
   "metadata": {},
   "outputs": [],
   "source": [
    "class Student(Person):\n",
    "  pass"
   ]
  },
  {
   "cell_type": "code",
   "execution_count": null,
   "id": "adeb3711-7956-4181-98a3-af58e45db213",
   "metadata": {},
   "outputs": [],
   "source": [
    "#Use the Student class to create an object, and then execute the printname method:\n",
    "\n",
    "x = Student(\"LMN\", \"PQR\")\n",
    "x.printname()"
   ]
  },
  {
   "cell_type": "markdown",
   "id": "57eea233-74a7-4e98-9d89-2e5cf245921e",
   "metadata": {},
   "source": [
    "### To keep the inheritance of the parent's __init__() function, add a call to the parent's __init__() function:\n",
    "\n",
    "Example\n"
   ]
  },
  {
   "cell_type": "code",
   "execution_count": null,
   "id": "50269efc-5214-4be4-82e8-2d4ce3d19dc2",
   "metadata": {},
   "outputs": [],
   "source": [
    "class Student(Person):\n",
    "  def __init__(self, fname, lname):\n",
    "    Person.__init__(self, fname, lname)\n"
   ]
  },
  {
   "cell_type": "markdown",
   "id": "fa820a30-b5f7-49ff-a80a-f78ea764afa5",
   "metadata": {},
   "source": [
    "### Use the super() Function\n",
    "Python also has a super() function that will make the child class inherit all the methods and properties from its parent:"
   ]
  },
  {
   "cell_type": "code",
   "execution_count": null,
   "id": "b3f0c80d-f5de-4030-bc75-40872804aefd",
   "metadata": {},
   "outputs": [],
   "source": [
    "class Student(Person):\n",
    "  def __init__(self, fname, lname):\n",
    "    super().__init__(fname, lname)\n",
    "\n",
    "#By using the super() function, you do not have to use the name of the parent element,\n",
    "#it will automatically inherit the methods and properties from its parent."
   ]
  },
  {
   "cell_type": "markdown",
   "id": "e98b3e0e-f564-4af7-9b26-1df69ad52e7d",
   "metadata": {},
   "source": [
    "### Add Properties\n",
    "Example\n",
    "Add a property called graduationyear to the Student class:"
   ]
  },
  {
   "cell_type": "code",
   "execution_count": null,
   "id": "0c6fafbc-5bd8-4586-adde-7e244c95a400",
   "metadata": {},
   "outputs": [],
   "source": [
    "class Student(Person):\n",
    "  def __init__(self, fname, lname):\n",
    "    super().__init__(fname, lname)\n",
    "    self.graduationyear = 2026"
   ]
  },
  {
   "cell_type": "code",
   "execution_count": null,
   "id": "a1c28de0-f92e-4ffa-a24e-1ac1d5969795",
   "metadata": {},
   "outputs": [],
   "source": [
    "#Add Methods\n",
    "#Example\n",
    "#Add a method called welcome to the Student class:\n",
    "\n",
    "class Student(Person):\n",
    "  def __init__(self, fname, lname, year):\n",
    "    super().__init__(fname, lname)\n",
    "    self.graduationyear = year\n",
    "\n",
    "def welcome(self):\n",
    "    \n",
    "    print(\"Welcome\", self.firstname, self.lastname, \"to the class of\", self.graduationyear)"
   ]
  },
  {
   "cell_type": "markdown",
   "id": "8d33ea48-aec7-4051-b5c5-00b498c4f6bc",
   "metadata": {},
   "source": [
    "### Iterator"
   ]
  },
  {
   "cell_type": "code",
   "execution_count": null,
   "id": "fd551d84-c543-4f6b-a724-45c54a4f8628",
   "metadata": {},
   "outputs": [],
   "source": [
    "mytuple = (\"apple\", \"banana\", \"cherry\")\n",
    "myit = iter(mytuple)\n",
    "\n",
    "print(next(myit))\n",
    "print(next(myit))\n",
    "print(next(myit))"
   ]
  },
  {
   "cell_type": "code",
   "execution_count": null,
   "id": "3e028b3d-0383-4ef2-bf77-f5654d76cfa6",
   "metadata": {},
   "outputs": [],
   "source": [
    "#Strings are also iterable objects, containing a sequence of characters:\n",
    "\n",
    "mystr = \"banana\"\n",
    "myit = iter(mystr)\n",
    "\n",
    "print(next(myit))\n",
    "print(next(myit))\n",
    "print(next(myit))\n",
    "print(next(myit))\n",
    "print(next(myit))\n",
    "print(next(myit))\n"
   ]
  },
  {
   "cell_type": "code",
   "execution_count": null,
   "id": "03637169-f1cf-4e2a-b427-8b096e2bad61",
   "metadata": {},
   "outputs": [],
   "source": [
    "mytuple = (\"apple\", \"banana\", \"cherry\")\n",
    "\n",
    "for x in mytuple:\n",
    "  print(x)"
   ]
  },
  {
   "cell_type": "code",
   "execution_count": null,
   "id": "5300d4d7-adf2-4346-b1ea-9eebfe1cc1b8",
   "metadata": {},
   "outputs": [],
   "source": [
    "mystr = \"banana\"\n",
    "\n",
    "for x in mystr:\n",
    "  print(x)"
   ]
  },
  {
   "cell_type": "markdown",
   "id": "e4c37b39-df66-49a2-a40d-a72c295f6f28",
   "metadata": {},
   "source": [
    "## Create an Iterator\n",
    "To create an object/class as an iterator you have to implement the methods __iter__() and __next__() to your object.\n",
    "\n",
    "As you have learned in the Python Classes/Objects chapter, all classes have a function called __init__(), which allows you to do some initializing when the object is being created.\n",
    "\n",
    "The __iter__() method acts similar, you can do operations (initializing etc.), but must always return the iterator object itself.\n",
    "\n",
    "The __next__() method also allows you to do operations, and must return the next item in the sequence."
   ]
  },
  {
   "cell_type": "code",
   "execution_count": null,
   "id": "a0ec17e7-f3af-484f-a823-b34695ef1f5a",
   "metadata": {},
   "outputs": [],
   "source": [
    "#Create an iterator that returns numbers, starting with 1, and each sequence will increase by one (returning 1,2,3,4,5 etc.):\n",
    "\n",
    "class MyNumbers:\n",
    "  def __iter__(self):\n",
    "    self.a = 1\n",
    "    return self\n",
    "\n",
    "  def __next__(self):\n",
    "    x = self.a\n",
    "    self.a += 1\n",
    "    return x\n",
    "\n",
    "myclass = MyNumbers()\n",
    "myiter = iter(myclass)\n",
    "\n",
    "print(next(myiter))\n",
    "print(next(myiter))\n",
    "print(next(myiter))\n",
    "print(next(myiter))\n",
    "print(next(myiter))"
   ]
  },
  {
   "cell_type": "markdown",
   "id": "da005c1e-49ae-4f8f-83bd-a691170a5e6b",
   "metadata": {},
   "source": [
    "### StopIteration\n",
    "The example above would continue forever if you had enough next() statements, or if it was used in a for loop.\n",
    "\n",
    "To prevent the iteration from going on forever, we can use the StopIteration statement.\n",
    "\n",
    "In the __next__() method, we can add a terminating condition to raise an error if the iteration is done a specified number of times:"
   ]
  },
  {
   "cell_type": "code",
   "execution_count": null,
   "id": "04349d7c-49b7-4ba1-80d7-12cb1db8e101",
   "metadata": {},
   "outputs": [],
   "source": [
    "class Person:\n",
    "    def __init__(self, name, age): #SELF PARAMETER \n",
    "        self.name = name\n",
    "        self.age = age\n",
    "\n",
    "    def greet(self): #ANOTHER FUNCTION WHERE self parameter has name and age \n",
    "        print(f\"Hello, my name is {self.name} and I am {self.age} years old.\")\n",
    "\n",
    "person = Person(\"Janhavi\", 20) #CLASS OBJECT\n",
    "person.greet() \n"
   ]
  },
  {
   "cell_type": "code",
   "execution_count": null,
   "id": "192b4c01-8990-438f-8d19-d5e4a86d15c6",
   "metadata": {},
   "outputs": [],
   "source": [
    "class Person:\n",
    "    def __init__(self, name, age=30):\n",
    "        self.name = name\n",
    "        self.age = age\n",
    "\n",
    "    def display_info(self):\n",
    "        print(f\"Name: {self.name}, Age: {self.age}\")\n",
    "\n",
    "# Creating objects of the Person class\n",
    "person1 = Person(\"Alice\", 25)\n",
    "person2 = Person(\"Bob\")\n",
    "person1.display_info()  # Output: Name: Alice, Age: 25\n",
    "person2.display_info()\n",
    "\n"
   ]
  },
  {
   "cell_type": "code",
   "execution_count": null,
   "id": "050c49c8-9b4a-4b57-8996-906d68c63f83",
   "metadata": {},
   "outputs": [],
   "source": [
    "class Dog:\n",
    "    def __init__(self, name):\n",
    "        self.name = name\n",
    "\n",
    "    def bark(self):\n",
    "        print(f\"{self.name} says BHAW BHAW!\")\n",
    "\n",
    "# Create an object (instance) of the class Dog\n",
    "my_dog = Dog(\"Lab\")\n",
    "print(my_dog.name)\n",
    "my_dog.bark() "
   ]
  },
  {
   "cell_type": "code",
   "execution_count": null,
   "id": "b0fcb6c0-0178-4114-b3ff-e3d82deb3486",
   "metadata": {},
   "outputs": [],
   "source": [
    "class MyNumbers:\n",
    "  def __iter__(self):\n",
    "    self.a = 1\n",
    "    return self\n",
    "\n",
    "  def __next__(self):\n",
    "    if self.a <= 20:\n",
    "      x = self.a\n",
    "      self.a += 1\n",
    "      return x\n",
    "    else:\n",
    "      raise StopIteration\n",
    "myclass = MyNumbers()\n",
    "myiter = iter(myclass)\n",
    "for x in myiter:  print(x)"
   ]
  },
  {
   "cell_type": "markdown",
   "id": "faf8be8f-5bb6-47be-a828-14fafd8f1226",
   "metadata": {},
   "source": [
    "### Polymorphism\n",
    "The word \"polymorphism\" means \"many forms\", and in programming it refers to methods/functions/operators with the same name that can be executed on many objects or classes.\n",
    "\n"
   ]
  },
  {
   "cell_type": "markdown",
   "id": "8072bbd6-3d1c-46e7-9ab5-da0099ea9a02",
   "metadata": {},
   "source": [
    "Function Polymorphism\n",
    "An example of a Python function that can be used on different objects is the len() function.\n",
    "\n",
    "String\n",
    "For strings len() returns the number of characters:"
   ]
  },
  {
   "cell_type": "markdown",
   "id": "b7dd0b5f-398c-4754-8ec5-3c5d0f3ce1f8",
   "metadata": {},
   "source": [
    "### Class Polymorphism\n",
    "Polymorphism is often used in Class methods, where we can have multiple classes with the same method name.\n",
    "\n",
    "For example, say we have three classes: Car, Boat, and Plane, and they all have a method called move():\n",
    "\n",
    "Example"
   ]
  },
  {
   "cell_type": "code",
   "execution_count": null,
   "id": "711dabe9-9772-485e-a8a5-1107500884e5",
   "metadata": {},
   "outputs": [],
   "source": [
    "class Car:\n",
    "  def __init__(self, brand, model):\n",
    "    self.brand = brand\n",
    "    self.model = model\n",
    "\n",
    "  def move(self):\n",
    "    print(\"Drive!\")\n",
    "\n",
    "class Boat:\n",
    "  def __init__(self, brand, model):\n",
    "    self.brand = brand\n",
    "    self.model = model\n",
    "\n",
    "  def move(self):\n",
    "    print(\"Sail!\")\n",
    "\n",
    "class Plane:\n",
    "  def __init__(self, brand, model):\n",
    "    self.brand = brand\n",
    "    self.model = model\n",
    "\n",
    "  def move(self):\n",
    "    print(\"Fly!\")\n",
    "\n",
    "car1 = Car(\"Ford\", \"Mustang\")       #Create a Car class\n",
    "boat1 = Boat(\"Ibiza\", \"Touring 20\") #Create a Boat class\n",
    "plane1 = Plane(\"Boeing\", \"747\")     #Create a Plane class\n",
    "\n",
    "for x in (car1, boat1, plane1):\n",
    "  x.move()\n"
   ]
  },
  {
   "cell_type": "code",
   "execution_count": null,
   "id": "aa04a30d-89b2-4121-84ef-de9b9708307c",
   "metadata": {},
   "outputs": [],
   "source": [
    "#Create a class called Vehicle and make Car, Boat, Plane child classes of Vehicle:\n",
    "\n",
    "class Vehicle:\n",
    "  def __init__(self, brand, model):\n",
    "    self.brand = brand\n",
    "    self.model = model\n",
    "\n",
    "  def move(self):\n",
    "    print(\"Move!\")\n",
    "\n",
    "class Car(Vehicle):\n",
    "  pass\n",
    "\n",
    "class Boat(Vehicle):\n",
    "  def move(self):\n",
    "    print(\"Sail!\")\n",
    "\n",
    "class Plane(Vehicle):\n",
    "  def move(self):\n",
    "    print(\"Fly!\")\n",
    "\n",
    "car1 = Car(\"Ford\", \"Mustang\") #Create a Car object\n",
    "boat1 = Boat(\"Ibiza\", \"Touring 20\") #Create a Boat object\n",
    "plane1 = Plane(\"Boeing\", \"747\") #Create a Plane object\n",
    "\n",
    "for x in (car1, boat1, plane1):\n",
    "  print(x.brand)\n",
    "  print(x.model)\n",
    "  x.move()\n"
   ]
  },
  {
   "cell_type": "code",
   "execution_count": null,
   "id": "279ad52e",
   "metadata": {},
   "outputs": [],
   "source": [
    "class int_to_rom:\n",
    "    def init_to_rom(self,num):\n",
    "        val=[1000,900,500,400,\n",
    "             100,90,50,40,10,\n",
    "             9,5,4,1]\n",
    "        rom=[\"M\",\"CM\",\"D\",\"CD\",\n",
    "            \"C\",\"XC\",\"L\",\"XL\",\n",
    "            \"X\", \"IX\",\"V\",\"IV\",\n",
    "            \"I\"]\n",
    "        rom_num=''\n",
    "        i=0\n",
    "        while num>0:\n",
    "            for _ in range(num//val[i]):\n",
    "                rom_num+=rom[i]\n",
    "                num-=val[i]\n",
    "            i+=1\n",
    "        return rom_num\n",
    "\n",
    "print(int_to_rom().init_to_rom(1))\n",
    "print(int_to_rom().init_to_rom(10))"
   ]
  },
  {
   "cell_type": "markdown",
   "id": "86bdeb25-9586-4217-9cf6-64b73d3eb1fb",
   "metadata": {},
   "source": [
    "Child classes inherits the properties and methods from the parent class.\n",
    "\n",
    "In the example above you can see that the Car class is empty, but it inherits brand, model, and move() from Vehicle.\n",
    "\n",
    "The Boat and Plane classes also inherit brand, model, and move() from Vehicle, but they both override the move() method.\n",
    "\n",
    "Because of polymorphism we can execute the same method for all classes."
   ]
  },
  {
   "cell_type": "code",
   "execution_count": null,
   "id": "057088fd-63fd-4c68-916d-b5b9773632a1",
   "metadata": {},
   "outputs": [],
   "source": [
    "class Car:\n",
    "    def __init__(self, brand, model):\n",
    "        self.brand = brand # public attribute that can be used anywhere\n",
    "        self.__model = model  # Private attribute\n",
    "\n",
    "    def display_info(self):\n",
    "        print(f\"Car: {self.brand} {self.__model}\")\n",
    "\n",
    "    def set_model(self, new_model):\n",
    "        self.__model = new_model\n",
    "\n",
    "my_car = Car(\"Toyota\", \"Camry\")\n",
    "my_car.display_info()  # Output: Car: Toyota Camry\n",
    "#print(my_car.__model)  # This will cause an AttributeError: 'Car' object has no attribute '__model'\n"
   ]
  },
  {
   "cell_type": "code",
   "execution_count": null,
   "id": "5ee33da7-c1e0-4fc0-96d5-17aa347a02ca",
   "metadata": {},
   "outputs": [],
   "source": [
    "class Animal:\n",
    "    def __init__(self,name,age):\n",
    "        self.name=name\n",
    "        self.age=age\n",
    "\n",
    "    def eat(self):\n",
    "        print(\"the animal is eating..\")\n",
    "class Dog(Animal): #INHERITENCE\n",
    "    def bark(self):\n",
    "        print(\"woof woof!\")\n",
    "d=Dog(\"Rover\",3)\n",
    "print(d.name)\n",
    "d.eat()\n",
    "d.bark()"
   ]
  },
  {
   "cell_type": "code",
   "execution_count": null,
   "id": "eb09f070-1ef8-4972-b0c6-44059bfa8f2b",
   "metadata": {},
   "outputs": [],
   "source": [
    "class int_to_rom:\n",
    "    def init_to_rom(self,num):\n",
    "        val=[1000,900,500,400,\n",
    "             100,90,50,40,10,\n",
    "             9,5,4,1]\n",
    "        rom=[\"M\",\"CM\",\"D\",\"CD\",\n",
    "            \"C\",\"XC\",\"L\",\"XL\",\n",
    "            \"X\", \"IX\",\"V\",\"IV\",\n",
    "            \"I\"]\n",
    "        rom_num=''\n",
    "        i=0\n",
    "        while num>0:\n",
    "            for _ in range(num//val[i]):\n",
    "                rom_num+=rom[i]\n",
    "                num-=val[i]\n",
    "            i+=1\n",
    "        return rom_num\n",
    "\n",
    "print(int_to_rom().init_to_rom(1))\n",
    "print(int_to_rom().init_to_rom(10))"
   ]
  },
  {
   "cell_type": "code",
   "execution_count": null,
   "id": "fa7cfed8-7af6-4570-8a65-3ffd3d5d5472",
   "metadata": {},
   "outputs": [
    {
     "name": "stdout",
     "output_type": "stream",
     "text": [
      "Result: 433755.0\n",
      "\n",
      "Choose an operation:\n",
      "1. Add\n",
      "2. Subtract\n",
      "3. Multiply\n",
      "4. Divide\n",
      "5. Exit\n"
     ]
    },
    {
     "name": "stdout",
     "output_type": "stream",
     "text": [
      "Enter your choice (1-5):  5\n"
     ]
    },
    {
     "name": "stdout",
     "output_type": "stream",
     "text": [
      "Exiting calculator. Goodbye!\n"
     ]
    }
   ],
   "source": [
    "class Calculator:\n",
    "    def add(self, num1, num2):\n",
    "        return num1 + num2\n",
    "\n",
    "    def subtract(self, num1, num2):\n",
    "        return num1 - num2\n",
    "\n",
    "    def multiply(self, num1, num2):\n",
    "        print(num1 * num2)\n",
    "\n",
    "    def divide(self, num1, num2):\n",
    "        if num2 != 0:\n",
    "            return num1 / num2\n",
    "        else:\n",
    "            return \"Error! Division by zero.\"\n",
    "\n",
    "def main():\n",
    "    calc = Calculator() #OBJECT CREATION\n",
    "    print(\"Welcome to the OOP Calculator!\")\n",
    "\n",
    "    while True:\n",
    "        print(\"\\nChoose an operation:\")\n",
    "        print(\"1. Add\")\n",
    "        print(\"2. Subtract\")\n",
    "        print(\"3. Multiply\")\n",
    "        print(\"4. Divide\")\n",
    "        print(\"5. Exit\")\n",
    "        choice = input(\"Enter your choice (1-5): \")\n",
    "\n",
    "        if choice in ['1', '2', '3', '4']:\n",
    "            num1 = float(input(\"Enter the first number: \"))\n",
    "            num2 = float(input(\"Enter the second number: \"))\n",
    "\n",
    "        if choice == '1':\n",
    "            print(f\"Result: {calc.add(num1, num2)}\")\n",
    "        elif choice == '2':\n",
    "            print(f\"Result: {calc.subtract(num1, num2)}\")\n",
    "        elif choice == '3':\n",
    "            print(f\"Result: {calc.multiply(num1, num2)}\")\n",
    "        elif choice == '4':\n",
    "            print(f\"Result: {calc.divide(num1, num2)}\")\n",
    "        elif choice == '5':\n",
    "            print(\"Exiting calculator. Goodbye!\")\n",
    "            break\n",
    "        else:\n",
    "            print(\"Invalid choice. Please try again.\")\n",
    "\n",
    "if __name__ == \"__main__\":\n",
    "    main()\n"
   ]
  },
  {
   "cell_type": "code",
   "execution_count": null,
   "id": "53727a11-2690-4af9-8def-70e8ba702264",
   "metadata": {},
   "outputs": [],
   "source": [
    "calcc1=Calculator()"
   ]
  },
  {
   "cell_type": "markdown",
   "id": "11a2593a-734b-49d5-8207-01c0380ad5ff",
   "metadata": {},
   "source": [
    "### METACLASS"
   ]
  },
  {
   "cell_type": "code",
   "execution_count": null,
   "id": "df4dd6ba-500a-40fa-b597-dad09ca96686",
   "metadata": {},
   "outputs": [],
   "source": [
    "# Define a metaclass\n",
    "class Meta(type):\n",
    "    def __new__(cls, name, bases, dct):\n",
    "        print(f\"Creating class {name}\")\n",
    "        return super().__new__(cls, name, bases, dct)\n",
    "\n",
    "# Use the metaclass\n",
    "class MyClass(metaclass=Meta):\n",
    "    pass\n"
   ]
  },
  {
   "cell_type": "code",
   "execution_count": null,
   "id": "f3fe11f8-0e7a-40c0-96db-68ab4d209cdf",
   "metadata": {},
   "outputs": [],
   "source": [
    "##CUSTOMISING CLASS\n",
    "class Meta(type):\n",
    "    def __new__(cls, name, bases, dct):\n",
    "        dct['custom_attribute'] = 'This is a custom attribute'\n",
    "        return super().__new__(cls, name, bases, dct)\n",
    "\n",
    "class MyClass(metaclass=Meta):\n",
    "    pass\n",
    "\n",
    "print(MyClass.custom_attribute)  # Output: This is a custom attribute\n"
   ]
  },
  {
   "cell_type": "markdown",
   "id": "1d70d8b0-c987-4628-bb62-74f236baebe2",
   "metadata": {},
   "source": [
    "### DECORATORS\n"
   ]
  },
  {
   "cell_type": "code",
   "execution_count": null,
   "id": "a8d5b8bb-1ccd-48e2-96b6-51af8a658ae6",
   "metadata": {},
   "outputs": [],
   "source": [
    "class school:\n",
    "    def __inti__(self,name,rollno):\n",
    "        self.name = name\n",
    "        self.rollno = rollno\n",
    "    \n",
    "    def display(self,name,rollno):\n",
    "        print(self.name, self.rollno)\n",
    "\n",
    "class student (school):\n",
    "    def _inti_(self,address,name,standard):\n",
    "        super(). __inti__(address,standard)\n",
    "        self.address = address\n",
    "        self.standard = standard\n",
    "        \n",
    "    def display(self):\n",
    "        super().display()\n",
    "        print(\"Address\",{self.address})\n",
    "        print(\"Standard\",{self.standard})\n",
    "\n",
    "class details(school):\n",
    "    def _inti_(self,address,name,rollno):\n",
    "        super(). __init__(name,rollno)\n",
    "        self.name = name\n",
    "        self.rollno = rollno\n",
    "        self.address=address\n",
    "\n",
    "    def display(self,name,rollno):\n",
    "        super().display()\n",
    "        print(\"Name : \", adrress)\n",
    "\n",
    "school1 = school(\"Aaryas\", 1)\n",
    "school1.display()"
   ]
  },
  {
   "cell_type": "code",
   "execution_count": null,
   "id": "5d0d3d65-20d6-4dba-8c1a-ded0a4a50add",
   "metadata": {},
   "outputs": [],
   "source": [
    "class School:\n",
    "    def __init__(self, name, rollno):  # Corrected __inti_ to _init_\n",
    "        self.name = name\n",
    "        self.rollno = rollno\n",
    "    \n",
    "    def display(self):\n",
    "        print(\"Name: \", self.name)\n",
    "        print(\"Roll No: \", self.rollno)\n",
    "\n",
    "class Student(School):\n",
    "    def __init__(self, address, name, standard):  # Corrected __inti_ to _init_\n",
    "        super().__init__(name, standard)  # Super should pass name and standard to School class\n",
    "        self.address = address\n",
    "        self.standard = standard\n",
    "        \n",
    "    def display(self):\n",
    "        super().display()\n",
    "        print(\"Address: \", self.address)\n",
    "        print(\"Standard: \", self.standard)\n",
    "\n",
    "class Details(School):\n",
    "    def __init__(self, address, name, rollno):  # Corrected __inti_ to _init_\n",
    "        super().__init__(name, rollno)\n",
    "        self.address = address  # Added address for the Details class\n",
    "        \n",
    "    def display(self):\n",
    "        super().display()\n",
    "        print(\"Address: \", self.address)\n",
    "\n",
    "# Example usage\n",
    "school1 = School(\"Aaryas\", 1)\n",
    "school1.display()\n",
    "\n",
    "\n",
    "student1 = Student(\"123 Main St\", \"John Doe\", \"5th Grade\")\n",
    "student1.display()\n",
    "\n",
    "\n",
    "details1 = Details(\"kothrud\", \"aaryas\", 1)\n",
    "details1.display()"
   ]
  },
  {
   "cell_type": "code",
   "execution_count": null,
   "id": "4374ac08-d534-4882-a80d-9d84fdc51b27",
   "metadata": {},
   "outputs": [],
   "source": [
    "def decorator_func(func):\n",
    "    def wrapper(*args, **kwargs):\n",
    "        print(\"Function is being called\")\n",
    "        return func(*args, **kwargs)\n",
    "    return wrapper\n",
    "\n",
    "class MyClass:\n",
    "    @decorator_func \n",
    "    def my_method(self):\n",
    "        print(\"Method is called\")\n",
    "\n",
    "obj = MyClass()\n",
    "obj.my_method()\n"
   ]
  },
  {
   "cell_type": "code",
   "execution_count": null,
   "id": "ba138d25-6cdf-4166-9288-f7e23deefdeb",
   "metadata": {},
   "outputs": [],
   "source": [
    "class Car:\n",
    "    def __init__(self, brand, model):\n",
    "        self.brand = brand\n",
    "        self.__model = model  # Private attribute\n",
    "\n",
    "    def display_info(self):\n",
    "        print(f\"Car: {self.brand} {self.__model}\")\n",
    "\n",
    "    def get_model(self):\n",
    "        return self.__model\n",
    "\n",
    "    def set_model(self, new_model):\n",
    "        self.__model = new_model\n",
    "\n",
    "my_car = Car(\"Toyota\", \"Camry\")\n",
    "print(my_car.get_model())  # Output: Camry\n",
    "my_car.set_model(\"Corolla\")\n",
    "print(my_car.get_model())  # Output: Corolla\n"
   ]
  },
  {
   "cell_type": "code",
   "execution_count": null,
   "id": "48c9ee23-4eb8-4a87-8322-77e7e017a0ea",
   "metadata": {},
   "outputs": [],
   "source": [
    "def decorator_cls(cls):\n",
    "    class NewClass(cls):\n",
    "        def new_method(self):\n",
    "            print(\"New method\")\n",
    "    return NewClass\n",
    "\n",
    "@decorator_cls\n",
    "class MyClass:\n",
    "    def my_method(self):\n",
    "        print(\"Method is called\")\n",
    "\n",
    "obj = MyClass()\n",
    "obj.my_method()\n",
    "obj.new_method()\n"
   ]
  },
  {
   "cell_type": "code",
   "execution_count": null,
   "id": "5aded689-f91f-427d-a2e5-0daf061b96d2",
   "metadata": {},
   "outputs": [],
   "source": [
    "class Car:\n",
    "    def __init__(self, brand, model):\n",
    "        self.brand = brand\n",
    "        self.__model = model  # Private attribute\n",
    "\n",
    "    def display_info(self):\n",
    "        print(f\"Car: {self.brand} {self.__model}\")\n",
    "\n",
    "    def set_model(self, new_model):\n",
    "        self.__model = new_model\n",
    "\n",
    "my_car = Car(\"Toyota\", \"Camry\")\n",
    "my_car.display_info()  # Output: Car: Toyota Camry\n",
    "print(my_car.__model)  \n"
   ]
  },
  {
   "cell_type": "code",
   "execution_count": null,
   "id": "a0baca52-23a4-48d0-be78-65d1ff30a9a4",
   "metadata": {},
   "outputs": [],
   "source": [
    "class Car:\n",
    "    def __init__(self, brand, model):\n",
    "        self.brand = brand\n",
    "        self.__model = model  # Private attribute\n",
    "\n",
    "    def display_info(self):\n",
    "        print(f\"Car: {self.brand} {self.__model}\")\n",
    "\n",
    "    def get_model(self):\n",
    "        return self.__model\n",
    "\n",
    "    def set_model(self, new_model):\n",
    "        self.__model = new_model\n",
    "\n",
    "my_car = Car(\"Toyota\", \"Camry\")\n",
    "print(my_car.get_model())  # Output: Camry\n",
    "my_car.set_model(\"Corolla\")\n",
    "print(my_car.get_model())  # Output: Corolla\n"
   ]
  },
  {
   "cell_type": "code",
   "execution_count": null,
   "id": "a6d4b76e-2d9c-4d3f-9366-365c85249310",
   "metadata": {},
   "outputs": [],
   "source": [
    "public class abstract {\n",
    "    abstract method{\n",
    "        def avc() \n",
    "    }\n",
    "}\n",
    "public clas ghh{\n",
    "    def avc(){\n",
    "    jbfe;\n",
    "    fge;\n",
    "\n",
    "    }\n",
    "}\n",
    "avc()"
   ]
  },
  {
   "cell_type": "code",
   "execution_count": null,
   "id": "747288b1-f86d-4204-a768-c9bd2c790b5f",
   "metadata": {},
   "outputs": [],
   "source": [
    "def bankingdemo():\n",
    "    bankaccount='kgegj'\n",
    "    bankamount=2891946012\n",
    "    print(bankamount)\n",
    "    return bankaccount\n",
    "    \n",
    "def withdraw():\n",
    "    pass\n",
    "bankingdemo()"
   ]
  },
  {
   "cell_type": "code",
   "execution_count": 27,
   "id": "5d8d5cd7-6636-4125-91b6-a74e19cd091b",
   "metadata": {},
   "outputs": [
    {
     "name": "stdout",
     "output_type": "stream",
     "text": [
      "Method implemented\n"
     ]
    }
   ],
   "source": [
    "#Creating an Abstract Base Class\n",
    "#The abc module in Python provides the infrastructure for defining abstract base classes.\n",
    "\n",
    "from abc import ABC, abstractmethod\n",
    "\n",
    "class MyABC(ABC):\n",
    "    @abstractmethod\n",
    "    def my_method(self):\n",
    "        pass\n",
    "\n",
    "class MyClass(MyABC):\n",
    "    def my_method(self):\n",
    "        print(\"Method implemented\")\n",
    "\n",
    "obj = MyClass()\n",
    "obj.my_method()\n",
    "\n"
   ]
  },
  {
   "cell_type": "code",
   "execution_count": 29,
   "id": "fcf1d80c-6fb9-4478-8c90-b0f8974978d8",
   "metadata": {},
   "outputs": [
    {
     "name": "stdout",
     "output_type": "stream",
     "text": [
      "The car is moving on roads\n",
      "The boat is sailing on water\n"
     ]
    }
   ],
   "source": [
    "from abc import ABC, abstractmethod\n",
    "\n",
    "class Vehicle(ABC):\n",
    "    @abstractmethod\n",
    "    def move(self):\n",
    "        pass\n",
    "\n",
    "class Car(Vehicle):\n",
    "    def move(self):\n",
    "        print(\"The car is moving on roads\")\n",
    "\n",
    "class Boat(Vehicle):\n",
    "    def move(self):\n",
    "        print(\"The boat is sailing on water\")\n",
    "\n",
    "# Creating objects of different vehicles\n",
    "car = Car()\n",
    "boat = Boat()\n",
    "\n",
    "car.move()  # Output: The car is moving on roads\n",
    "boat.move() # Output: The boat is sailing on water\n"
   ]
  },
  {
   "cell_type": "code",
   "execution_count": null,
   "id": "32983c5a-d631-444a-af1f-b66696b9eb35",
   "metadata": {},
   "outputs": [],
   "source": [
    "from abc import ABC, abstractmethod\n",
    "\n",
    "class Shape(ABC):\n",
    "    @abstractmethod\n",
    "    def area(self):\n",
    "        pass\n",
    "\n",
    "    @abstractmethod\n",
    "    def perimeter(self):\n",
    "        pass\n",
    "\n",
    "class Rectangle(Shape):\n",
    "    def __init__(self, width, height):\n",
    "        self.width = width\n",
    "        self.height = height\n",
    "\n",
    "    def area(self):\n",
    "        return self.width * self.height\n",
    "\n",
    "    def perimeter(self):\n",
    "        return 2 * (self.width + self.height)\n",
    "\n",
    "rect = Rectangle(10, 20)\n",
    "print(f\"Area: {rect.area()}, Perimeter: {rect.perimeter()}\")\n"
   ]
  },
  {
   "cell_type": "markdown",
   "id": "8e67bc95-94c3-498c-9798-f8d0b25710b8",
   "metadata": {},
   "source": [
    "## FILE HANDLING"
   ]
  },
  {
   "cell_type": "code",
   "execution_count": 63,
   "id": "fd7dfd97-075f-4f44-bb73-df62cb93a008",
   "metadata": {},
   "outputs": [],
   "source": [
    "f = open(\"demofile.txt\",\"a\")"
   ]
  },
  {
   "cell_type": "code",
   "execution_count": 64,
   "id": "109d6142-c3c4-458c-a4cf-20c437e91f69",
   "metadata": {},
   "outputs": [
    {
     "data": {
      "text/plain": [
       "45"
      ]
     },
     "execution_count": 64,
     "metadata": {},
     "output_type": "execute_result"
    }
   ],
   "source": [
    "f=open(\"demofile.txt\",\"a\")\n",
    "f.write(\"THE FILE HAS MORE CONTENT MEOW MEOW BHAW BHAW\")"
   ]
  },
  {
   "cell_type": "code",
   "execution_count": 62,
   "id": "98e85577-a9dc-40d4-a3e8-b99ca30ac486",
   "metadata": {},
   "outputs": [
    {
     "data": {
      "text/plain": [
       "30"
      ]
     },
     "execution_count": 62,
     "metadata": {},
     "output_type": "execute_result"
    }
   ],
   "source": [
    "f=open(\"demofile.txt\",\"a\")\n",
    "f.write(\"hey this is the second content\")"
   ]
  },
  {
   "cell_type": "code",
   "execution_count": 57,
   "id": "f9705ac1-c72b-4c71-8823-54d85077559b",
   "metadata": {},
   "outputs": [],
   "source": [
    "f.close()"
   ]
  },
  {
   "cell_type": "code",
   "execution_count": null,
   "id": "523793d1-66d7-4160-a41f-40515c402a8f",
   "metadata": {},
   "outputs": [],
   "source": [
    "f = open(\"demofile.txt\", \"rt\")"
   ]
  },
  {
   "cell_type": "code",
   "execution_count": 65,
   "id": "193b2fa1-c023-4e05-9dd7-4cda3fd48d70",
   "metadata": {},
   "outputs": [
    {
     "name": "stdout",
     "output_type": "stream",
     "text": [
      "this is file handling\n",
      "this is handled by python \n"
     ]
    }
   ],
   "source": [
    "f = open(\"de.txt\", \"r\")\n",
    "print(f.read())"
   ]
  },
  {
   "cell_type": "code",
   "execution_count": null,
   "id": "4fb26b8e-9ec7-4585-b724-1c93ebd944f4",
   "metadata": {},
   "outputs": [],
   "source": [
    "f.close()"
   ]
  },
  {
   "cell_type": "code",
   "execution_count": null,
   "id": "afb83a6a-16dc-4eab-9b40-e6da851488be",
   "metadata": {},
   "outputs": [],
   "source": [
    "#Return the 5 first characters of the file:\n",
    "\n",
    "f = open(\"de.txt\", \"r\")\n",
    "print(f.read(8))"
   ]
  },
  {
   "cell_type": "code",
   "execution_count": 66,
   "id": "39484c80-dcfe-4b36-9158-53f85a8abcb7",
   "metadata": {},
   "outputs": [
    {
     "name": "stdout",
     "output_type": "stream",
     "text": [
      "['this is file handling\\n', 'this is handled by python ']\n"
     ]
    }
   ],
   "source": [
    "#Read one line of the file:\n",
    "\n",
    "f = open(\"de.txt\", \"r\")\n",
    "print(f.readlines())\n"
   ]
  },
  {
   "cell_type": "code",
   "execution_count": null,
   "id": "be337cd3-65c0-4d09-aa3b-7f7a89cddba8",
   "metadata": {},
   "outputs": [],
   "source": [
    "f=open(\"trial.txt\",\"x\")"
   ]
  },
  {
   "cell_type": "code",
   "execution_count": null,
   "id": "f9cb215a-d6a2-463a-b4c5-fda50a961642",
   "metadata": {},
   "outputs": [],
   "source": []
  },
  {
   "cell_type": "code",
   "execution_count": null,
   "id": "5ed25811-2684-4c67-884f-7e4de3602600",
   "metadata": {},
   "outputs": [],
   "source": [
    "f=open(\"demofile.txt\",\"a\")\n",
    "f.write(\"hey this is the second content\")\n",
    "\n",
    "f.close()\n",
    "f=open(\"demofile.txt\",\"r\")\n",
    "\n",
    "print(f.read())\n",
    "#open and read the file after the appending:\n",
    "#f = open(\"de.txt\", \"r\")\n",
    "#print(f.read())\n",
    "#f.close"
   ]
  },
  {
   "cell_type": "code",
   "execution_count": null,
   "id": "838158e5-b9c2-4f26-8d8a-a1125fd92a13",
   "metadata": {},
   "outputs": [],
   "source": [
    "import os\n",
    "file_name=\"demofile.txt\"\n",
    "file_path=os.path.abspath(file_name)\n",
    "file_path"
   ]
  },
  {
   "cell_type": "code",
   "execution_count": null,
   "id": "9008cff3-af13-4948-9499-66e7a9c2a192",
   "metadata": {},
   "outputs": [],
   "source": [
    "f.close()"
   ]
  },
  {
   "cell_type": "code",
   "execution_count": null,
   "id": "429a3b02-c596-48d7-87f6-d2932144ec16",
   "metadata": {},
   "outputs": [],
   "source": [
    "f = open(\"de.txt\", \"r\")\n",
    "print(f.readline())\n",
    "f.close()"
   ]
  },
  {
   "cell_type": "markdown",
   "id": "aa7b4e5f-8311-4eb5-b2e1-7f9ce045705b",
   "metadata": {},
   "source": [
    "### To write to an existing file, you must add a parameter to the open() function:\n",
    "\n",
    "\"a\" - Append - will append to the end of the file\n",
    "\n",
    "\"w\" - Write - will overwrite any existing content"
   ]
  },
  {
   "cell_type": "code",
   "execution_count": null,
   "id": "e01b8224-11b9-4e1e-83b8-516b3b8bcf20",
   "metadata": {},
   "outputs": [],
   "source": [
    "f = open(\"demofile.txt\", \"a\")\n",
    "f.write(\"\\nNow the file has more content!\")\n",
    "f.close()\n",
    "\n",
    "#open and read the file after the appending:\n",
    "f = open(\"demofile.txt\", \"r\")\n",
    "print(f.read())\n",
    "f.close"
   ]
  },
  {
   "cell_type": "markdown",
   "id": "e52c1cf0-b663-4edb-82ab-ae456a866eba",
   "metadata": {},
   "source": [
    "### Create a New File\n",
    "To create a new file in Python, use the open() method, with one of the following parameters:\n",
    "\n",
    "\"x\" - Create - will create a file, returns an error if the file exist\n",
    "\n",
    "\"a\" - Append - will create a file if the specified file does not exist\n",
    "\n",
    "\"w\" - Write - will create a file if the specified file does not exist"
   ]
  },
  {
   "cell_type": "code",
   "execution_count": null,
   "id": "ea0b6e60-fe4c-4036-ad3a-e23b1dd7bb39",
   "metadata": {},
   "outputs": [],
   "source": [
    "#Remove the file \"demofile.txt\":\n",
    "f.close()\n",
    "import os\n",
    "os.remove(\"de.txt\")"
   ]
  },
  {
   "cell_type": "code",
   "execution_count": null,
   "id": "f533643b-ea60-4f91-b334-38d8fbc64979",
   "metadata": {},
   "outputs": [],
   "source": [
    "f.close()"
   ]
  },
  {
   "cell_type": "code",
   "execution_count": 67,
   "id": "efeb4fe0-476c-4436-8769-b0c275bf36d6",
   "metadata": {},
   "outputs": [],
   "source": [
    "import os\n",
    "if os.path.exists(\"demofile.txt\"):\n",
    "  os.remove(\"demofile.txt\")\n",
    "else:\n",
    "  print(\"The file does not exist\")"
   ]
  },
  {
   "cell_type": "markdown",
   "id": "76f9fffb-dfc8-4987-8dbd-65bcf932a511",
   "metadata": {},
   "source": [
    "###  Static Method\n",
    "A static method is a method that does not operate on an instance or class directly. It is a method that behaves like a regular function but belongs to the class’s namespace. Static methods do not require access to the instance (self) or the class (cls). You typically use static methods when you want to group related utility functions together inside a class.\n",
    "\n",
    "Use Case: Use static methods when you don’t need to access class or instance data, but you want to logically group functions related to the class."
   ]
  },
  {
   "cell_type": "code",
   "execution_count": null,
   "id": "e1d1d88d-54a9-46b5-9ada-753af3bc5b79",
   "metadata": {},
   "outputs": [],
   "source": [
    "#Static methods are defined using the @staticmethod decorator.\n",
    "\n",
    "class Utility:\n",
    "    @staticmethod\n",
    "    def add_numbers(x, y):\n",
    "        return x + y\n",
    "\n",
    "# Calling the static method\n",
    "result = Utility.add_numbers(5, 3)\n",
    "print(result)  # Output: 8\n",
    "#Usage: The static method can be called on the class itself, and it doesn’t take self or cls as parameters."
   ]
  },
  {
   "cell_type": "markdown",
   "id": "0f977a1e-dede-4b74-9052-35ebff620b3c",
   "metadata": {},
   "source": [
    "###  Class Method\n",
    "A class method is a method that operates on the class itself rather than an instance. It receives the class as its first argument, which is typically named cls. Class methods are useful when you need to operate on the class-level data or create methods that are tied to the class but not specific to instances.\n",
    "\n",
    "Use Case: Use class methods when you need to access or modify class-level data, such as creating factory methods that instantiate objects in different ways."
   ]
  },
  {
   "cell_type": "code",
   "execution_count": null,
   "id": "7e58226f-ad3c-49f0-b03e-50ad8807099f",
   "metadata": {},
   "outputs": [],
   "source": [
    "class MyClass:\n",
    "    class_variable = 0\n",
    "\n",
    "    def __init__(self):\n",
    "        MyClass.class_variable += 1\n",
    "\n",
    "    @classmethod\n",
    "    def get_class_variable(cls):\n",
    "        return cls.class_variable\n",
    "\n",
    "# Create instances\n",
    "obj1 = MyClass()\n",
    "obj2 = MyClass()\n",
    "\n",
    "# Call the class method\n",
    "print(MyClass.get_class_variable())  # Output: 2\n"
   ]
  },
  {
   "cell_type": "markdown",
   "id": "ea9ed019-0a90-497b-926b-8887230d1ce5",
   "metadata": {},
   "source": [
    "### Key Differences\n",
    "Static Method:\n",
    "\n",
    "No access to self or cls.\n",
    "Used for utility functions that are logically grouped inside a class.\n",
    "Can be called using the class name or an instance, but no class or instance data is accessed.\n",
    "Class Method:\n",
    "\n",
    "Has access to cls, which represents the class itself.\n",
    "Used to manipulate class-level data.\n",
    "Often used for factory methods that return an instance of the class."
   ]
  },
  {
   "cell_type": "code",
   "execution_count": null,
   "id": "5754bdc0-32cc-4787-a743-c3e8c9141dc0",
   "metadata": {},
   "outputs": [],
   "source": [
    "class Calculator:\n",
    "    multiplier = 2\n",
    "    \n",
    "    @staticmethod\n",
    "    def add(x, y):\n",
    "        return x + y\n",
    "    \n",
    "    @classmethod\n",
    "    def multiply_with_class_variable(cls, x):\n",
    "        return x * cls.multiplier\n",
    "\n",
    "# Using the static method\n",
    "result_add = Calculator.add(10, 5)\n",
    "print(result_add)  # Output: 15\n",
    "\n",
    "# Using the class method\n",
    "result_multiply = Calculator.multiply_with_class_variable(10)\n",
    "print(result_multiply)  # Output: 20\n"
   ]
  },
  {
   "cell_type": "markdown",
   "id": "7bc92175-465c-4056-a90c-583413608b79",
   "metadata": {},
   "source": [
    "### When to Use Each\n",
    "Static Methods: Use static methods for utility operations that do not depend on class or instance state, like mathematical computations or helper functions.\n",
    "\n",
    "Class Methods: Use class methods when you need to modify or interact with the class state, such as creating alternative constructors or managing class-level attributes."
   ]
  },
  {
   "cell_type": "markdown",
   "id": "8b1ae209-6df7-48e1-aff8-d552a5c442a4",
   "metadata": {},
   "source": [
    "## DATE TIME"
   ]
  },
  {
   "cell_type": "code",
   "execution_count": 48,
   "id": "4927cff6-3538-4830-b318-640eaa0da7dc",
   "metadata": {},
   "outputs": [
    {
     "ename": "AttributeError",
     "evalue": "module 'datetime' has no attribute 'help'",
     "output_type": "error",
     "traceback": [
      "\u001b[1;31m---------------------------------------------------------------------------\u001b[0m",
      "\u001b[1;31mAttributeError\u001b[0m                            Traceback (most recent call last)",
      "Cell \u001b[1;32mIn[48], line 2\u001b[0m\n\u001b[0;32m      1\u001b[0m \u001b[38;5;28;01mimport\u001b[39;00m \u001b[38;5;21;01mdatetime\u001b[39;00m \n\u001b[1;32m----> 2\u001b[0m \u001b[43mdatetime\u001b[49m\u001b[38;5;241;43m.\u001b[39;49m\u001b[43mhelp\u001b[49m()\n",
      "\u001b[1;31mAttributeError\u001b[0m: module 'datetime' has no attribute 'help'"
     ]
    }
   ],
   "source": [
    "import datetime \n",
    "datetime.help()"
   ]
  },
  {
   "cell_type": "code",
   "execution_count": 49,
   "id": "a0cbd46a-ff6b-46eb-a5e8-10e3c6fed0dc",
   "metadata": {},
   "outputs": [
    {
     "name": "stdout",
     "output_type": "stream",
     "text": [
      "Current date and time: 2025-01-07 16:12:29.968490\n",
      "Current date: 2025-01-07\n",
      "Current time: 16:12:29.968490\n"
     ]
    }
   ],
   "source": [
    "import datetime as dt\n",
    "# Current date and time\n",
    "now = dt.datetime.now()\n",
    "print(\"Current date and time:\", now)\n",
    "# Current date\n",
    "today = dt.date.today()\n",
    "print(\"Current date:\", today)\n",
    "# Current time\n",
    "current_time = now.time()\n",
    "print(\"Current time:\", current_time)\n"
   ]
  },
  {
   "cell_type": "code",
   "execution_count": 56,
   "id": "534cab4b-6ef9-4e96-bb3f-8f6d8634898f",
   "metadata": {},
   "outputs": [
    {
     "name": "stdout",
     "output_type": "stream",
     "text": [
      "Years :21\n",
      "Months :3\n",
      "Days :15\n",
      "Hours :16\n",
      "Minutes :45\n",
      "Seconds :3\n",
      "\n",
      "Total diff in days :7777\n",
      "diff in seconds :671993103.910537\n"
     ]
    }
   ],
   "source": [
    "from datetime import datetime\n",
    "from dateutil.relativedelta import relativedelta\n",
    "date1=datetime(2003,9,23)\n",
    "date2=datetime.now()\n",
    "diff=relativedelta(date2,date1)#output\n",
    "print(f\"Years :{diff.years}\")\n",
    "print(f\"Months :{diff.months}\")\n",
    "print(f\"Days :{diff.days}\")\n",
    "print(f\"Hours :{diff.hours}\")\n",
    "print(f\"Minutes :{diff.minutes}\")\n",
    "print(f\"Seconds :{diff.seconds}\")\n",
    "diff_days=(date2-date1).days\n",
    "diff_seconds=(date2-date1).total_seconds()\n",
    "print(f\"\\nTotal diff in days :{diff_days}\")\n",
    "print(f\"diff in seconds :{diff_seconds}\")"
   ]
  },
  {
   "cell_type": "code",
   "execution_count": null,
   "id": "cccbac1d-6c58-422d-8d96-437766ea6be1",
   "metadata": {},
   "outputs": [],
   "source": [
    "# Creating a date object\n",
    "dentist = dt.date(2024,12, 13)\n",
    "print(\"My dentist appointmet is on:\", dentist)\n",
    "\n",
    "# Creating a time object\n",
    "meeting_time = dt.time(14, 30)\n",
    "print(\"Meeting time:\", meeting_time)\n",
    "# Creating a datetime object\n",
    "appointment = dt.datetime(2024, 7, 20, 15, 45)\n",
    "print(\"Appointment:\", appointment)\n"
   ]
  },
  {
   "cell_type": "markdown",
   "id": "0790a3b9-62fb-468c-97e0-a8d3d35c2be8",
   "metadata": {},
   "source": [
    "## CountDown Code"
   ]
  },
  {
   "cell_type": "code",
   "execution_count": 47,
   "id": "25065c50-80ab-42a8-967e-eed8c857bce5",
   "metadata": {},
   "outputs": [
    {
     "name": "stdout",
     "output_type": "stream",
     "text": [
      "Time left : 0:02:28.947819\n",
      "Time left : 0:02:27.946252\n",
      "Time left : 0:02:26.945870\n",
      "Time left : 0:02:25.945392\n",
      "Time left : 0:02:24.944867\n",
      "Time left : 0:02:23.944416\n",
      "Time left : 0:02:22.943842\n",
      "Time left : 0:02:21.943371\n",
      "Time left : 0:02:20.942805\n",
      "Time left : 0:02:19.942008\n",
      "Time left : 0:02:18.941735\n",
      "Time left : 0:02:17.941066\n",
      "Time left : 0:02:16.940508\n",
      "Time left : 0:02:15.939888\n",
      "Time left : 0:02:14.939410\n",
      "Time left : 0:02:13.938889\n",
      "Time left : 0:02:12.938582\n",
      "Time left : 0:02:11.938319\n",
      "Time left : 0:02:10.937741\n",
      "Time left : 0:02:09.937033\n",
      "Time left : 0:02:08.936523\n",
      "Time left : 0:02:07.935980\n",
      "Time left : 0:02:06.935533\n",
      "Time left : 0:02:05.934530\n",
      "Time left : 0:02:04.934029\n",
      "Time left : 0:02:03.933380\n",
      "Time left : 0:02:02.933040\n",
      "Time left : 0:02:01.932479\n",
      "Time left : 0:02:00.932163\n",
      "Time left : 0:01:59.931566\n",
      "Time left : 0:01:58.931187\n",
      "Time left : 0:01:57.930693\n",
      "Time left : 0:01:56.930346\n",
      "Time left : 0:01:55.929532\n",
      "Time left : 0:01:54.929298\n",
      "Time left : 0:01:53.928855\n",
      "Time left : 0:01:52.928559\n",
      "Time left : 0:01:51.928336\n",
      "Time left : 0:01:50.927893\n",
      "Time left : 0:01:49.927341\n",
      "Time left : 0:01:48.926745\n",
      "Time left : 0:01:47.925999\n",
      "Time left : 0:01:46.925774\n",
      "Time left : 0:01:45.925517\n",
      "Time left : 0:01:44.924825\n",
      "Time left : 0:01:43.924026\n",
      "Time left : 0:01:42.923680\n",
      "Time left : 0:01:41.923384\n",
      "Time left : 0:01:40.923071\n",
      "Time left : 0:01:39.922362\n",
      "Time left : 0:01:38.921822\n",
      "Time left : 0:01:37.921277\n",
      "Time left : 0:01:36.920842\n",
      "Time left : 0:01:35.920275\n",
      "Time left : 0:01:34.919840\n",
      "Time left : 0:01:33.919352\n",
      "Time left : 0:01:32.918995\n",
      "Time left : 0:01:31.918803\n",
      "Time left : 0:01:30.918260\n",
      "Time left : 0:01:29.917995\n",
      "Time left : 0:01:28.917673\n",
      "Time left : 0:01:27.916717\n",
      "Time left : 0:01:26.916154\n",
      "Time left : 0:01:25.915714\n",
      "Time left : 0:01:24.914970\n",
      "Time left : 0:01:23.914640\n",
      "Time left : 0:01:22.913983\n",
      "Time left : 0:01:21.913553\n",
      "Time left : 0:01:20.913219\n",
      "Time left : 0:01:19.912628\n",
      "Time left : 0:01:18.911930\n",
      "Time left : 0:01:17.911377\n",
      "Time left : 0:01:16.910924\n",
      "Time left : 0:01:15.910421\n",
      "Time left : 0:01:14.910114\n",
      "Time left : 0:01:13.909721\n",
      "Time left : 0:01:12.909510\n",
      "Time left : 0:01:11.908850\n",
      "Time left : 0:01:10.908249\n",
      "Time left : 0:01:09.907763\n",
      "Time left : 0:01:08.907314\n",
      "Time left : 0:01:07.906784\n",
      "Time left : 0:01:06.906105\n",
      "Time left : 0:01:05.905513\n",
      "Time left : 0:01:04.904784\n",
      "Time left : 0:01:03.904037\n",
      "Time left : 0:01:02.903626\n",
      "Time left : 0:01:01.903354\n",
      "Time left : 0:01:00.902975\n",
      "Time left : 0:00:59.902190\n",
      "Time left : 0:00:58.901692\n",
      "Time left : 0:00:57.901095\n",
      "Time left : 0:00:56.900686\n",
      "Time left : 0:00:55.900264\n",
      "Time left : 0:00:54.899991\n",
      "Time left : 0:00:53.899390\n",
      "Time left : 0:00:52.898977\n",
      "Time left : 0:00:51.898359\n",
      "Time left : 0:00:50.897680\n",
      "Time left : 0:00:49.897194\n",
      "Time left : 0:00:48.896651\n",
      "Time left : 0:00:47.896150\n",
      "Time left : 0:00:46.895599\n",
      "Time left : 0:00:45.895143\n",
      "Time left : 0:00:44.894785\n",
      "Time left : 0:00:43.894216\n",
      "Time left : 0:00:42.893863\n",
      "Time left : 0:00:41.893604\n",
      "Time left : 0:00:40.893179\n",
      "Time left : 0:00:39.892790\n",
      "Time left : 0:00:38.892498\n",
      "Time left : 0:00:37.891940\n",
      "Time left : 0:00:36.891469\n",
      "Time left : 0:00:35.891016\n",
      "Time left : 0:00:34.890636\n",
      "Time left : 0:00:33.890114\n",
      "Time left : 0:00:32.889419\n",
      "Time left : 0:00:31.889244\n",
      "Time left : 0:00:30.888536\n",
      "Time left : 0:00:29.888042\n",
      "Time left : 0:00:28.887213\n",
      "Time left : 0:00:27.886520\n",
      "Time left : 0:00:26.886050\n",
      "Time left : 0:00:25.885531\n",
      "Time left : 0:00:24.884815\n",
      "Time left : 0:00:23.883899\n",
      "Time left : 0:00:22.883254\n",
      "Time left : 0:00:21.882859\n",
      "Time left : 0:00:20.882660\n",
      "Time left : 0:00:19.881697\n",
      "Time left : 0:00:18.880881\n",
      "Time left : 0:00:17.880089\n",
      "Time left : 0:00:16.879562\n",
      "Time left : 0:00:15.879275\n",
      "Time left : 0:00:14.878725\n",
      "Time left : 0:00:13.878424\n",
      "Time left : 0:00:12.877998\n",
      "Time left : 0:00:11.877792\n",
      "Time left : 0:00:10.877306\n",
      "Time left : 0:00:09.876853\n",
      "Time left : 0:00:08.876498\n",
      "Time left : 0:00:07.875790\n",
      "Time left : 0:00:06.874900\n",
      "Time left : 0:00:05.874296\n",
      "Time left : 0:00:04.874062\n",
      "Time left : 0:00:03.873473\n",
      "Time left : 0:00:02.873287\n",
      "Time left : 0:00:01.872974\n",
      "Time left : 0:00:00.872665\n",
      "Tea Break ☕🫖🤩\n"
     ]
    }
   ],
   "source": [
    "from datetime import datetime \n",
    "import time\n",
    "event_date=datetime(2025,1,7,16,00)\n",
    "while True:\n",
    "    remaining_time=event_date-datetime.now()\n",
    "    if remaining_time.total_seconds()<=0:\n",
    "        print(\"Tea Break ☕🫖🤩\")\n",
    "        break\n",
    "    print(f\"Time left : {remaining_time}\")\n",
    "    time.sleep(1)"
   ]
  },
  {
   "cell_type": "code",
   "execution_count": 53,
   "id": "61e61e24-3560-4205-8e23-376e383335d6",
   "metadata": {},
   "outputs": [
    {
     "name": "stdout",
     "output_type": "stream",
     "text": [
      "days left for your birthday 13\n"
     ]
    }
   ],
   "source": [
    "from datetime import datetime,timedelta\n",
    "\n",
    "today=datetime.now()\n",
    "birthdate=datetime(2025,1,21,12,9)\n",
    "\n",
    "days_until_birthday=(birthdate-today).days\n",
    "print(\"days left for your birthday\",days_until_birthday)"
   ]
  },
  {
   "cell_type": "code",
   "execution_count": null,
   "id": "cd191644-a122-42c0-a287-29b2a3f721e9",
   "metadata": {},
   "outputs": [],
   "source": [
    "year=int(input(\"Enter the year\"))\n",
    "\n",
    "def leap_year(year):\n",
    "    if (year%100!=0 and year%4==0) or (year%400==0) :\n",
    "        print(\"Leap year\")\n",
    "    else:\n",
    "        print(\"Not a leap year\")\n",
    "leap_year(year)"
   ]
  },
  {
   "cell_type": "code",
   "execution_count": null,
   "id": "902765fd-a48a-458c-b374-9e8d3e518327",
   "metadata": {},
   "outputs": [],
   "source": []
  },
  {
   "cell_type": "code",
   "execution_count": null,
   "id": "cc9ddcca-6176-4e86-a031-dcf4809a460a",
   "metadata": {},
   "outputs": [],
   "source": [
    "import math\n",
    "def area_of_circle():\n",
    "    radius = 5\n",
    "    area = math.pi * math.pow(radius, 2)\n",
    "    print(\"Area of the circle:\", area)  \n",
    "area_of_circle()"
   ]
  },
  {
   "cell_type": "code",
   "execution_count": null,
   "id": "4bab8b53-a252-4d26-8451-fc313c1c6996",
   "metadata": {},
   "outputs": [],
   "source": [
    "import datetime as dt\n",
    "available_functions = dir(dt)\n",
    "print(available_functions)"
   ]
  },
  {
   "cell_type": "code",
   "execution_count": 40,
   "id": "f57b20e3-9921-4daa-9a8b-838a2be7ac73",
   "metadata": {},
   "outputs": [
    {
     "data": {
      "text/plain": [
       "datetime.datetime(2024, 11, 14, 12, 13, 11, 631443)"
      ]
     },
     "execution_count": 40,
     "metadata": {},
     "output_type": "execute_result"
    }
   ],
   "source": [
    "import datetime\n",
    "now = datetime.datetime.now()\n",
    "now"
   ]
  },
  {
   "cell_type": "code",
   "execution_count": 58,
   "id": "ade1678d-d0c4-44ea-a85c-d73271481759",
   "metadata": {},
   "outputs": [],
   "source": [
    "import tkinter as tk\n",
    "from tkinter import messagebox\n",
    "\n",
    "# Initialize the main window\n",
    "root = tk.Tk()\n",
    "root.title(\"Tic-Tac-Toe\")\n",
    "\n",
    "# Game variables\n",
    "player = \"X\"\n",
    "board = [\"\"] * 9\n",
    "\n",
    "# Functions\n",
    "def check_winner():\n",
    "    \"\"\"Check if there is a winner or a tie.\"\"\"\n",
    "    global board\n",
    "    winning_combinations = [\n",
    "        (0, 1, 2), (3, 4, 5), (6, 7, 8),  # Rows\n",
    "        (0, 3, 6), (1, 4, 7), (2, 5, 8),  # Columns\n",
    "        (0, 4, 8), (2, 4, 6)              # Diagonals\n",
    "    ]\n",
    "    for a, b, c in winning_combinations:\n",
    "        if board[a] == board[b] == board[c] and board[a] != \"\":\n",
    "            return board[a]\n",
    "    if \"\" not in board:\n",
    "        return \"Tie\"\n",
    "    return None\n",
    "\n",
    "def button_click(index):\n",
    "    \"\"\"Handle button click.\"\"\"\n",
    "    global player, board\n",
    "    if board[index] == \"\":\n",
    "        board[index] = player\n",
    "        buttons[index].config(text=player)\n",
    "        winner = check_winner()\n",
    "        if winner:\n",
    "            if winner == \"Tie\":\n",
    "                messagebox.showinfo(\"Tic-Tac-Toe\", \"It's a tie!\")\n",
    "            else:\n",
    "                messagebox.showinfo(\"Tic-Tac-Toe\", f\"Player {winner} wins!\")\n",
    "            reset_game()\n",
    "        else:\n",
    "            player = \"O\" if player == \"X\" else \"X\"\n",
    "\n",
    "def reset_game():\n",
    "    \"\"\"Reset the game board.\"\"\"\n",
    "    global player, board\n",
    "    player = \"X\"\n",
    "    board = [\"\"] * 9\n",
    "    for button in buttons:\n",
    "        button.config(text=\"\")\n",
    "\n",
    "# GUI setup\n",
    "buttons = []\n",
    "for i in range(9):\n",
    "    btn = tk.Button(root, text=\"\", font=(\"Arial\", 24), height=8, width=10, command=lambda i=i: button_click(i))\n",
    "    btn.grid(row=i // 3, column=i % 3)\n",
    "    buttons.append(btn)\n",
    "\n",
    "# Run the GUI loop\n",
    "root.mainloop()\n"
   ]
  },
  {
   "cell_type": "code",
   "execution_count": 53,
   "id": "abc3b275-6dd6-4036-a642-cae3eb0bd0c8",
   "metadata": {},
   "outputs": [
    {
     "name": "stdin",
     "output_type": "stream",
     "text": [
      " 2\n",
      " 3\n",
      " 1\n",
      " 5\n"
     ]
    },
    {
     "data": {
      "text/plain": [
       "[[0, 0, 0],\n",
       " [0, 0, 1],\n",
       " [0, 1, 0],\n",
       " [0, 1, 1],\n",
       " [0, 2, 0],\n",
       " [0, 2, 1],\n",
       " [0, 3, 0],\n",
       " [0, 3, 1],\n",
       " [1, 0, 0],\n",
       " [1, 0, 1],\n",
       " [1, 1, 0],\n",
       " [1, 1, 1],\n",
       " [1, 2, 0],\n",
       " [1, 2, 1],\n",
       " [1, 3, 0],\n",
       " [2, 0, 0],\n",
       " [2, 0, 1],\n",
       " [2, 1, 0],\n",
       " [2, 1, 1],\n",
       " [2, 2, 0],\n",
       " [2, 3, 1]]"
      ]
     },
     "execution_count": 53,
     "metadata": {},
     "output_type": "execute_result"
    }
   ],
   "source": [
    "x = int(input())\n",
    "y = int(input())\n",
    "z = int(input())\n",
    "n = int(input())\n",
    "new_list=[[i,j,k] for i in range(x+1) for j in range(y+1) for k in range(z+1) \n",
    "if i+j+k !=n]\n",
    "new_list\n",
    "    "
   ]
  },
  {
   "cell_type": "code",
   "execution_count": 54,
   "id": "67510385-5f06-40da-9ff6-8239e90f5041",
   "metadata": {},
   "outputs": [
    {
     "name": "stdout",
     "output_type": "stream",
     "text": [
      "Formatted date and time: 07-01-2025 16:33\n",
      "Year: 2025\n",
      "Month: January\n",
      "Day: 07\n",
      "Time: 04:33 PM\n"
     ]
    }
   ],
   "source": [
    "import datetime\n",
    "now = datetime.datetime.now()\n",
    "# Formatting date and time\n",
    "formatted_now = now.strftime(\"%d-%m-%Y %H:%M\")\n",
    "print(\"Formatted date and time:\", formatted_now)\n",
    "# Different formats\n",
    "print(\"Year:\", now.strftime(\"%Y\"))\n",
    "print(\"Month:\", now.strftime(\"%B\"))\n",
    "print(\"Day:\", now.strftime(\"%d\"))\n",
    "print(\"Time:\", now.strftime(\"%I:%M %p\"))"
   ]
  },
  {
   "cell_type": "code",
   "execution_count": 50,
   "id": "c1d40b04-8b32-40eb-8662-f630a8e813f6",
   "metadata": {},
   "outputs": [
    {
     "name": "stdout",
     "output_type": "stream",
     "text": [
      "Cha\n",
      "Char\n",
      "Charu\n",
      "Charus\n",
      "Charush\n",
      "Charushi\n",
      "Charushil\n",
      "Charushila\n",
      "har\n",
      "haru\n",
      "harus\n",
      "harush\n",
      "harushi\n",
      "harushil\n",
      "harushila\n",
      "aru\n",
      "arus\n",
      "arush\n",
      "arushi\n",
      "arushil\n",
      "arushila\n",
      "rus\n",
      "rush\n",
      "rushi\n",
      "rushil\n",
      "rushila\n",
      "ush\n",
      "ushi\n",
      "ushil\n",
      "ushila\n",
      "shi\n",
      "shil\n",
      "shila\n",
      "hil\n",
      "hila\n",
      "ila\n",
      "10\n"
     ]
    }
   ],
   "source": [
    "def print_substrings(s):\n",
    "    n=len(s)\n",
    "    for i in range(n):\n",
    "        for j in range(i+2,n):\n",
    "            print(s[i:j+1])\n",
    "string=\"Charushila\"\n",
    "print_substrings(string)\n",
    "print(len(string))"
   ]
  },
  {
   "cell_type": "code",
   "execution_count": null,
   "id": "77b46405-1200-4dd8-bcca-b7d735d336c2",
   "metadata": {},
   "outputs": [],
   "source": [
    "import sys\n",
    "# Print all command line arguments\n",
    "print(\"Arguments passed:\", sys.argv)\n",
    "# Print the script name\n",
    "print(\"Script name:\", sys.argv[0])\n",
    "# Print the first argument\n",
    "if len(sys.argv) > 1:\n",
    "    print(\"First argument:\", sys.argv[1])\n",
    "else:\n",
    "    print(\"No arguments provided\")\n"
   ]
  },
  {
   "cell_type": "code",
   "execution_count": null,
   "id": "a6d5e588-c1b7-4fd0-8d32-972ea2b6e04a",
   "metadata": {},
   "outputs": [],
   "source": [
    "def my_decorator(func):\n",
    "    def wrapper():\n",
    "        print(\"Something is happening before the function is called.\")\n",
    "        func()\n",
    "        print(\"Something is happening after the function is called.\")\n",
    "    return wrapper\n",
    "\n",
    "def say_hello():\n",
    "    print(\"Hello!\")\n",
    "\n",
    "# Using the decorator\n",
    "decorated_say_hello = my_decorator(say_hello)\n",
    "decorated_say_hello()\n"
   ]
  },
  {
   "cell_type": "code",
   "execution_count": null,
   "id": "24b34faf-5b73-44ca-a085-5570c02673cb",
   "metadata": {},
   "outputs": [
    {
     "name": "stdout",
     "output_type": "stream",
     "text": [
      "Weird\n"
     ]
    }
   ],
   "source": [
    "n = int(input().strip())\n",
    "if n%2!=0:\n",
    "    print(\"Weird\")\n",
    "elif n%2==0 and n>2 and n<=5:\n",
    "    print(\"Not Weird\")\n",
    "elif n%2==0 and n>6 and n<=20:\n",
    "    print(\"Weird\")\n",
    "elif n%2==0 and n>20:\n",
    "    print(\"Not Weird\")\n",
    "else:\n",
    "    print(\"Not Weird\")\n"
   ]
  },
  {
   "cell_type": "code",
   "execution_count": null,
   "id": "fd3ccd8d-bfb2-4355-a09c-c905b0952210",
   "metadata": {},
   "outputs": [],
   "source": [
    "class MyClass:\n",
    "    class_attr = \"Class Attribute\"\n",
    "    def __init__(self, name):\n",
    "        self.name = name\n",
    "    def instance_method(self):\n",
    "        print(f\"Instance method called for {self.name}\")\n",
    "    @classmethod\n",
    "    def class_method(cls):\n",
    "        print(f\"Class method called. Class attribute: {cls.class_attr}\")\n",
    "    # Calling instance and class methods\n",
    "obj = MyClass(\"Alice\")\n",
    "obj.instance_method()  # Output: Instance method called for Alice\n",
    "MyClass.class_method()  # Output: Class method called. Class attribute: Class Attribute\n"
   ]
  },
  {
   "cell_type": "code",
   "execution_count": null,
   "id": "708a208c-3b27-43d1-86a3-67d5d425472d",
   "metadata": {},
   "outputs": [],
   "source": [
    "class Car:\n",
    "    def __init__(self, brand, model):\n",
    "        self.brand = brand\n",
    "        self.__model = model  # Private attribute\n",
    "    def display_info(self):\n",
    "        print(f\"Car: {self.brand} {self.__model}\")\n",
    "    def get_model(self):\n",
    "        return self.__model\n",
    "    def set_model(self, new_model):\n",
    "        self.__model = new_model\n",
    "\n",
    "my_car = Car(\"Toyota\", \"Camry\")\n",
    "print(my_car.get_model())  # Output: Camry\n",
    "my_car.set_model(\"Corolla\")\n",
    "print(my_car.get_model()) \n"
   ]
  },
  {
   "cell_type": "code",
   "execution_count": 5,
   "id": "ecdb087c-84d8-4397-bf87-6d5a7391801e",
   "metadata": {},
   "outputs": [
    {
     "name": "stdout",
     "output_type": "stream",
     "text": [
      "Disctinction\n"
     ]
    }
   ],
   "source": [
    "m=67\n",
    "if m<35:\n",
    "    print(\"F\")\n",
    "elif m <60:\n",
    "    print(\"Second Class\")\n",
    "elif m<100 and m>60:\n",
    "    print(\"Disctinction\")"
   ]
  },
  {
   "cell_type": "markdown",
   "id": "6cfc37cb-2799-407c-9cc1-5521c7296ee5",
   "metadata": {},
   "source": [
    "### Exception Handling\n",
    "When an error occurs, or exception as we call it, Python will normally stop and generate an error message.\n",
    "\n",
    "These exceptions can be handled using the try statement:"
   ]
  },
  {
   "cell_type": "code",
   "execution_count": 7,
   "id": "9ba5767f-d2b8-4795-85da-2a36a52f92f3",
   "metadata": {},
   "outputs": [
    {
     "ename": "ZeroDivisionError",
     "evalue": "division by zero",
     "output_type": "error",
     "traceback": [
      "\u001b[1;31m---------------------------------------------------------------------------\u001b[0m",
      "\u001b[1;31mZeroDivisionError\u001b[0m                         Traceback (most recent call last)",
      "Cell \u001b[1;32mIn[7], line 1\u001b[0m\n\u001b[1;32m----> 1\u001b[0m result \u001b[38;5;241m=\u001b[39m \u001b[38;5;241;43m10\u001b[39;49m\u001b[43m \u001b[49m\u001b[38;5;241;43m/\u001b[39;49m\u001b[43m \u001b[49m\u001b[38;5;241;43m0\u001b[39;49m \n\u001b[0;32m      2\u001b[0m result\n",
      "\u001b[1;31mZeroDivisionError\u001b[0m: division by zero"
     ]
    }
   ],
   "source": [
    "result = 10 / 0 \n",
    "result"
   ]
  },
  {
   "cell_type": "code",
   "execution_count": 9,
   "id": "6769152f-b943-4030-8e74-6345e77c2a5c",
   "metadata": {},
   "outputs": [
    {
     "name": "stdout",
     "output_type": "stream",
     "text": [
      "Error: Division by zero!\n"
     ]
    }
   ],
   "source": [
    "try:\n",
    "    # Code that may raise an exception\n",
    "    result = 10 / 0  # This will raise a ZeroDivisionError\n",
    "except ZeroDivisionError:\n",
    "    print(\"Error: Division by zero!\")\n"
   ]
  },
  {
   "cell_type": "code",
   "execution_count": 38,
   "id": "f27123f0-3c7e-46b9-b2a1-81df993edb63",
   "metadata": {},
   "outputs": [
    {
     "name": "stdout",
     "output_type": "stream",
     "text": [
      "Error: File not found!\n",
      "Finally Always Runs\n"
     ]
    }
   ],
   "source": [
    "try:\n",
    "    # Code that may raise exceptions\n",
    "    file = open('nonexistent.txt', 'r')  # This will raise a FileNotFoundError\n",
    "    #result = 10 / 0  # This will raise a ZeroDivisionError\n",
    "except FileNotFoundError:\n",
    "    print(\"Error: File not found!\")\n",
    "#except ZeroDivisionError:\n",
    "    #print(\"Error: cannot Divide by zero!\")\n",
    "finally:\n",
    "    print(\"Finally Always Runs\")\n"
   ]
  },
  {
   "cell_type": "code",
   "execution_count": 45,
   "id": "430af1f6-3d86-4cef-bf81-980f63c9abb0",
   "metadata": {},
   "outputs": [
    {
     "name": "stdout",
     "output_type": "stream",
     "text": [
      "You cannot divide a number with 0\n",
      "7\n"
     ]
    }
   ],
   "source": [
    "try:\n",
    "    file =7/0\n",
    "    # Code that may raise exceptions\n",
    "except Exception:\n",
    "    \n",
    "    print(\"You cannot divide a number with 0\")\n",
    "finally:\n",
    "    print(file)\n"
   ]
  },
  {
   "cell_type": "code",
   "execution_count": 44,
   "id": "d3967b18-3ef8-44af-90b8-5b4e7888dc8a",
   "metadata": {},
   "outputs": [
    {
     "ename": "ZeroDivisionError",
     "evalue": "HiThere",
     "output_type": "error",
     "traceback": [
      "\u001b[1;31m---------------------------------------------------------------------------\u001b[0m",
      "\u001b[1;31mZeroDivisionError\u001b[0m                         Traceback (most recent call last)",
      "Cell \u001b[1;32mIn[44], line 1\u001b[0m\n\u001b[1;32m----> 1\u001b[0m \u001b[38;5;28;01mraise\u001b[39;00m \u001b[38;5;167;01mZeroDivisionError\u001b[39;00m(\u001b[38;5;124m'\u001b[39m\u001b[38;5;124mHiThere\u001b[39m\u001b[38;5;124m'\u001b[39m)\n",
      "\u001b[1;31mZeroDivisionError\u001b[0m: HiThere"
     ]
    }
   ],
   "source": [
    "raise ZeroDivisionError('HiThere')"
   ]
  },
  {
   "cell_type": "code",
   "execution_count": 18,
   "id": "d2c4ac2b-96ba-4ba9-874d-52f24fdcbeb1",
   "metadata": {},
   "outputs": [
    {
     "name": "stdout",
     "output_type": "stream",
     "text": [
      "An error occurred: division by zero\n"
     ]
    }
   ],
   "source": [
    "try:\n",
    "    # Code that may raise exceptions\n",
    "    result = 10 / 0  # This will raise a ZeroDivisionError\n",
    "except Exception as e:\n",
    "    print(f\"An error occurred: {e}\")\n"
   ]
  },
  {
   "cell_type": "code",
   "execution_count": 25,
   "id": "649a09d0-1cc0-4f66-b67b-2089ad65bef9",
   "metadata": {},
   "outputs": [
    {
     "name": "stdout",
     "output_type": "stream",
     "text": [
      "Error occurred: division by zero\n"
     ]
    }
   ],
   "source": [
    "#hanlding multiple exceptions\n",
    "try:\n",
    "    # Code that may raise exceptions\n",
    "    result = 10 / 0\n",
    "    file = open('nonexistent.txt', 'r') \n",
    "    # This will raise a FileNotFoundError\n",
    "    result = 10 / 0  # This will raise a ZeroDivisionError\n",
    "except (FileNotFoundError, ZeroDivisionError) as e:\n",
    "    print(f\"Error occurred: {e}\")\n"
   ]
  },
  {
   "cell_type": "code",
   "execution_count": 26,
   "id": "ad4cc521-1a5c-4d56-bae2-a4d654a9c49a",
   "metadata": {},
   "outputs": [
    {
     "name": "stdout",
     "output_type": "stream",
     "text": [
      "Custom error occurred: This is a custom error message.\n"
     ]
    }
   ],
   "source": [
    "class CustomError(Exception):\n",
    "    def __init__(self, message):\n",
    "        self.message = message # constructor initialisation\n",
    "try:\n",
    "    # Code that may raise custom exception\n",
    "    raise CustomError(\"This is a custom error message.\")\n",
    "except CustomError as e:\n",
    "    print(f\"Custom error occurred: {e.message}\")\n"
   ]
  },
  {
   "cell_type": "markdown",
   "id": "3b08e619-3597-4ea5-a0f5-c09d0328ff55",
   "metadata": {},
   "source": [
    "The try block lets you test a block of code for errors.\n",
    "\n",
    "The except block lets you handle the error.\n",
    "\n",
    "The else block lets you execute code when there is no error.\n",
    "\n",
    "The finally block lets you execute code, regardless of the result of the try- and except blocks."
   ]
  },
  {
   "cell_type": "code",
   "execution_count": 27,
   "id": "e2df599d-82f9-4ce7-8d3a-6350bc5ee9d5",
   "metadata": {},
   "outputs": [
    {
     "name": "stdout",
     "output_type": "stream",
     "text": [
      "Hello\n",
      "Nothing went wrong\n"
     ]
    }
   ],
   "source": [
    "try:\n",
    "  print(\"Hello\")\n",
    "except:\n",
    "  print(\"Something went wrong\")\n",
    "else:\n",
    "  print(\"Nothing went wrong\")"
   ]
  },
  {
   "cell_type": "code",
   "execution_count": null,
   "id": "13bb4fc5-a8c4-436b-8bf0-30ed46e2b51a",
   "metadata": {},
   "outputs": [],
   "source": [
    "try:\n",
    "  print(x)\n",
    "except:\n",
    "  print(\"Something went wrong\")\n",
    "finally:\n",
    "  print(\"The 'try except' is finished\")\n"
   ]
  },
  {
   "cell_type": "code",
   "execution_count": 28,
   "id": "6f905910-a8b0-44e1-b698-a8124625210c",
   "metadata": {},
   "outputs": [
    {
     "name": "stdout",
     "output_type": "stream",
     "text": [
      "The division by zero operation is not allowed.\n"
     ]
    }
   ],
   "source": [
    "def divide_numbers(x, y):\n",
    "    try:\n",
    "        # Attempt to perform the division operation and store the result in the 'result' variable.\n",
    "        result = x / y\n",
    "        # Print the result of the division.\n",
    "        print(\"Result:\", result)\n",
    "    except ZeroDivisionError:\n",
    "        # Handle the exception if a division by zero is attempted.\n",
    "        print(\"The division by zero operation is not allowed.\")\n",
    "\n",
    "# Usage\n",
    "# Define the numerator and denominator values.\n",
    "numerator = 100\n",
    "denominator = 0\n",
    "# Call the divide_numbers function with the provided numerator and denominator.\n",
    "divide_numbers(numerator, denominator)"
   ]
  },
  {
   "cell_type": "code",
   "execution_count": 33,
   "id": "1bd810ab-adb8-4b50-bd12-d63ecc8417e2",
   "metadata": {},
   "outputs": [
    {
     "name": "stdout",
     "output_type": "stream",
     "text": [
      "File downloaded successfully from https://www.learningcontainer.com/download/sample-text-file/#\n",
      "The download completed without any issues.\n",
      "Cleanup: Closing connections, releasing resources...\n",
      "\n"
     ]
    }
   ],
   "source": [
    "import random\n",
    "\n",
    "def download_file(file_url):\n",
    "    try:\n",
    "        if not file_url.startswith(\"http\"):\n",
    "            raise ValueError(\"Invalid URL! File URL must start with 'http'.\")\n",
    "\n",
    "        # Simulate random failures\n",
    "        random_failure = random.choice([\"NetworkError\", \n",
    "                                        \"FileNotFound\", \n",
    "                                        \"Success\"])\n",
    "        \n",
    "        if random_failure == \"NetworkError\":\n",
    "            raise ConnectionError(\"Network connection lost during download!\")\n",
    "        elif random_failure == \"FileNotFound\":\n",
    "            raise FileNotFoundError(\"The file does not exist on the server!\")\n",
    "        \n",
    "        print(f\"File downloaded successfully from {file_url}\")\n",
    "    \n",
    "    except ValueError as ve:\n",
    "        print(f\"ValueError: {ve}\")\n",
    "    except ConnectionError as ce:\n",
    "        print(f\"ConnectionError: {ce}\")\n",
    "    except FileNotFoundError as fnfe:\n",
    "        print(f\"FileNotFoundError: {fnfe}\")\n",
    "    except Exception as e:\n",
    "        print(f\"An unexpected error occurred: {e}\")\n",
    "    else:\n",
    "        print(\"The download completed without any issues.\")\n",
    "    finally:\n",
    "        print(\"Cleanup: Closing connections, releasing resources...\\n\")\n",
    "\n",
    "# Test the function with various scenarios\n",
    "file_urls = [\"https://www.learningcontainer.com/download/sample-text-file/#\"]\n",
    "for url in file_urls:\n",
    "    download_file(url)\n"
   ]
  },
  {
   "cell_type": "code",
   "execution_count": 38,
   "id": "ec1f89eb-f34d-4861-b592-07fa02882fc9",
   "metadata": {},
   "outputs": [
    {
     "name": "stdout",
     "output_type": "stream",
     "text": [
      "File downloaded successfully and saved as 'sample-text-file'\n",
      "Cleanup: Download process completed.\n",
      "\n"
     ]
    }
   ],
   "source": [
    "import requests\n",
    "\n",
    "def download_file(file_url):\n",
    "    try:\n",
    "        if not file_url.startswith(\"https\"):\n",
    "            raise ValueError(\"Invalid URL! File URL must start with 'https'.\")\n",
    "\n",
    "        # Perform the file download\n",
    "        response = requests.get(file_url)\n",
    "        response.raise_for_status()  # Raise an exception for HTTP errors\n",
    "        \n",
    "        # Save the file locally\n",
    "        file_name = file_url.split(\"/\")[-1]\n",
    "        with open(file_name, \"wb\") as file:\n",
    "            file.write(response.content)\n",
    "        \n",
    "        print(f\"File downloaded successfully and saved as '{file_name}'\")\n",
    "    \n",
    "    except ValueError as ve:\n",
    "        print(f\"ValueError: {ve}\")\n",
    "    except requests.ConnectionError:\n",
    "        print(\"ConnectionError: Unable to connect to the server!\")\n",
    "    except requests.HTTPError as he:\n",
    "        print(f\"HTTPError: {he}\")\n",
    "    except FileNotFoundError as fnfe:\n",
    "        print(f\"FileNotFoundError: {fnfe}\")\n",
    "    except Exception as e:\n",
    "        print(f\"An unexpected error occurred: {e}\")\n",
    "    finally:\n",
    "        print(\"Cleanup: Download process completed.\\n\")\n",
    "\n",
    "# Test the function with a valid URL\n",
    "file_urls = [ \"https://www.learningcontainer.com/download/sample-text-file\" ] # Simulated invalid URL\n",
    "for url in file_urls:\n",
    "    download_file(url)"
   ]
  },
  {
   "cell_type": "markdown",
   "id": "a0171c4b-0aba-4379-826d-72325069f402",
   "metadata": {},
   "source": [
    "## Multi Threading and Multi Processing"
   ]
  },
  {
   "cell_type": "code",
   "execution_count": null,
   "id": "f217306d-137d-49e5-a4c6-2327521fc491",
   "metadata": {},
   "outputs": [],
   "source": [
    "import threading\n",
    "\n",
    "def print_numbers():\n",
    "    for i in range(10):\n",
    "        print(i)\n",
    "\n",
    "def print_letters():\n",
    "    for letter in 'abcdefghij':\n",
    "        print(letter)\n",
    "\n",
    "# Creating threads\n",
    "thread1 = threading.Thread(target=print_numbers)\n",
    "thread2 = threading.Thread(target=print_letters)\n",
    "\n",
    "# Starting threads\n",
    "thread1.start()\n",
    "thread2.start()\n",
    "\n",
    "# Waiting for both threads to complete\n",
    "thread1.join()\n",
    "thread2.join()\n"
   ]
  },
  {
   "cell_type": "code",
   "execution_count": null,
   "id": "5880a3b7-4637-49ca-b35d-dd548d71fa6b",
   "metadata": {},
   "outputs": [],
   "source": [
    "import multiprocessing\n",
    "\n",
    "def print_numbers():\n",
    "    for i in range(10):\n",
    "        print(i)\n",
    "\n",
    "def print_letters():\n",
    "    for letter in 'abcdefghij':\n",
    "        print(letter)\n",
    "\n",
    "# Creating processes\n",
    "process1 = multiprocessing.Process(target=print_numbers)\n",
    "process2 = multiprocessing.Process(target=print_letters)\n",
    "\n",
    "# Starting processes\n",
    "process1.start()\n",
    "process2.start()\n",
    "\n",
    "# Waiting for both processes to complete\n",
    "process1.join()\n",
    "process2.join()\n"
   ]
  },
  {
   "cell_type": "code",
   "execution_count": null,
   "id": "793a9100-f0da-43f2-8515-c4aa52b84a6f",
   "metadata": {},
   "outputs": [],
   "source": [
    "import multiprocessing\n",
    "import time\n",
    "\n",
    "def print_numbers():\n",
    "    print(\"Starting print_numbers process\")\n",
    "    for i in range(10):\n",
    "        print(f\"Number: {i}\")\n",
    "        time.sleep(0.5)  # Simulating work with sleep\n",
    "    print(\"Finished print_numbers process\")\n",
    "\n",
    "def print_letters():\n",
    "    print(\"Starting print_letters process\")\n",
    "    for letter in 'abcdefghij':\n",
    "        print(f\"Letter: {letter}\")\n",
    "        time.sleep(0.5)  # Simulating work with sleep\n",
    "    print(\"Finished print_letters process\")\n",
    "\n",
    "if __name__ == '__main__':\n",
    "    # Creating processes\n",
    "    process1 = multiprocessing.Process(target=print_numbers)\n",
    "    process2 = multiprocessing.Process(target=print_letters)\n",
    "\n",
    "    # Starting processes\n",
    "    process1.start()\n",
    "    process2.start()\n",
    "\n",
    "    # Waiting for both processes to complete\n",
    "    process1.join()\n",
    "    process2.join()\n",
    "\n",
    "    print(\"Both processes have finished execution\")\n"
   ]
  },
  {
   "cell_type": "markdown",
   "id": "f332f504-063c-4c7d-8077-fe59b911494e",
   "metadata": {},
   "source": [
    "Print Statements: Each function (print_numbers and print_letters) includes print statements at the start and end to indicate when the process begins and ends.\n",
    "\n",
    "Sleep Function: time.sleep(0.5) is used to simulate work being done by each process. This will create a slight delay, making it easier to observe the interleaving outputs of both processes.\n",
    "\n",
    "Main Guard: The if __name__ == '__main__': guard ensures that the multiprocessing code runs only when the script is executed directly, not when it is imported as a module.\n",
    "Completion Message: A final print statement indicates when both processes have completed their execution."
   ]
  },
  {
   "cell_type": "code",
   "execution_count": 6,
   "id": "ab70514d-e011-4095-8495-32f0c63fb4db",
   "metadata": {},
   "outputs": [
    {
     "name": "stdout",
     "output_type": "stream",
     "text": [
      "Requirement already satisfied: pip in c:\\users\\shiva\\appdata\\local\\programs\\python\\python312\\lib\\site-packages (24.2)\n",
      "Collecting pip\n",
      "  Downloading pip-24.3.1-py3-none-any.whl.metadata (3.7 kB)\n",
      "Downloading pip-24.3.1-py3-none-any.whl (1.8 MB)\n",
      "   ---------------------------------------- 0.0/1.8 MB ? eta -:--:--\n",
      "   ---------------------------------------- 0.0/1.8 MB ? eta -:--:--\n",
      "   ---------------------------------------- 0.0/1.8 MB ? eta -:--:--\n",
      "   ---------------------------------------- 0.0/1.8 MB ? eta -:--:--\n",
      "   ----- ---------------------------------- 0.3/1.8 MB ? eta -:--:--\n",
      "   ----- ---------------------------------- 0.3/1.8 MB ? eta -:--:--\n",
      "   ----- ---------------------------------- 0.3/1.8 MB ? eta -:--:--\n",
      "   ----- ---------------------------------- 0.3/1.8 MB ? eta -:--:--\n",
      "   ----- ---------------------------------- 0.3/1.8 MB ? eta -:--:--\n",
      "   ----- ---------------------------------- 0.3/1.8 MB ? eta -:--:--\n",
      "   ----- ---------------------------------- 0.3/1.8 MB ? eta -:--:--\n",
      "   ----- ---------------------------------- 0.3/1.8 MB ? eta -:--:--\n",
      "   ----- ---------------------------------- 0.3/1.8 MB ? eta -:--:--\n",
      "   ----- ---------------------------------- 0.3/1.8 MB ? eta -:--:--\n",
      "   ----- ---------------------------------- 0.3/1.8 MB ? eta -:--:--\n",
      "   ----- ---------------------------------- 0.3/1.8 MB ? eta -:--:--\n",
      "   ----- ---------------------------------- 0.3/1.8 MB ? eta -:--:--\n",
      "   ----- ---------------------------------- 0.3/1.8 MB ? eta -:--:--\n",
      "   ----- ---------------------------------- 0.3/1.8 MB ? eta -:--:--\n",
      "   ----- ---------------------------------- 0.3/1.8 MB ? eta -:--:--\n",
      "   ----- ---------------------------------- 0.3/1.8 MB ? eta -:--:--\n",
      "   ----- ---------------------------------- 0.3/1.8 MB ? eta -:--:--\n",
      "   ----- ---------------------------------- 0.3/1.8 MB ? eta -:--:--\n",
      "   ----- ---------------------------------- 0.3/1.8 MB ? eta -:--:--\n",
      "   ----- ---------------------------------- 0.3/1.8 MB ? eta -:--:--\n",
      "   ----- ---------------------------------- 0.3/1.8 MB ? eta -:--:--\n",
      "   ----- ---------------------------------- 0.3/1.8 MB ? eta -:--:--\n",
      "   ----- ---------------------------------- 0.3/1.8 MB ? eta -:--:--\n",
      "   ----- ---------------------------------- 0.3/1.8 MB ? eta -:--:--\n",
      "   ----- ---------------------------------- 0.3/1.8 MB ? eta -:--:--\n",
      "   ----- ---------------------------------- 0.3/1.8 MB ? eta -:--:--\n",
      "   ----- ---------------------------------- 0.3/1.8 MB ? eta -:--:--\n",
      "   ----- ---------------------------------- 0.3/1.8 MB ? eta -:--:--\n",
      "   ----------- ---------------------------- 0.5/1.8 MB 43.4 kB/s eta 0:00:30\n",
      "   ----------- ---------------------------- 0.5/1.8 MB 43.4 kB/s eta 0:00:30\n",
      "   ----------- ---------------------------- 0.5/1.8 MB 43.4 kB/s eta 0:00:30\n",
      "   ----------- ---------------------------- 0.5/1.8 MB 43.4 kB/s eta 0:00:30\n",
      "   ----------- ---------------------------- 0.5/1.8 MB 43.4 kB/s eta 0:00:30\n",
      "   ----------- ---------------------------- 0.5/1.8 MB 43.4 kB/s eta 0:00:30\n",
      "   ----------- ---------------------------- 0.5/1.8 MB 43.4 kB/s eta 0:00:30\n",
      "   ----------- ---------------------------- 0.5/1.8 MB 43.4 kB/s eta 0:00:30\n",
      "   ----------- ---------------------------- 0.5/1.8 MB 43.4 kB/s eta 0:00:30\n",
      "   ----------- ---------------------------- 0.5/1.8 MB 43.4 kB/s eta 0:00:30\n",
      "   ----------- ---------------------------- 0.5/1.8 MB 43.4 kB/s eta 0:00:30\n",
      "   ----------- ---------------------------- 0.5/1.8 MB 43.4 kB/s eta 0:00:30\n",
      "   ----------- ---------------------------- 0.5/1.8 MB 43.4 kB/s eta 0:00:30\n",
      "   ----------------- ---------------------- 0.8/1.8 MB 59.3 kB/s eta 0:00:18\n",
      "   ----------------- ---------------------- 0.8/1.8 MB 59.3 kB/s eta 0:00:18\n",
      "   ----------------- ---------------------- 0.8/1.8 MB 59.3 kB/s eta 0:00:18\n",
      "   ----------------- ---------------------- 0.8/1.8 MB 59.3 kB/s eta 0:00:18\n",
      "   ----------------- ---------------------- 0.8/1.8 MB 59.3 kB/s eta 0:00:18\n",
      "   ----------------- ---------------------- 0.8/1.8 MB 59.3 kB/s eta 0:00:18\n",
      "   ----------------- ---------------------- 0.8/1.8 MB 59.3 kB/s eta 0:00:18\n",
      "   ----------------- ---------------------- 0.8/1.8 MB 59.3 kB/s eta 0:00:18\n",
      "   ----------------------- ---------------- 1.0/1.8 MB 74.0 kB/s eta 0:00:11\n",
      "   ----------------------- ---------------- 1.0/1.8 MB 74.0 kB/s eta 0:00:11\n",
      "   ----------------------- ---------------- 1.0/1.8 MB 74.0 kB/s eta 0:00:11\n",
      "   ----------------------- ---------------- 1.0/1.8 MB 74.0 kB/s eta 0:00:11\n",
      "   ----------------------- ---------------- 1.0/1.8 MB 74.0 kB/s eta 0:00:11\n",
      "   ----------------------- ---------------- 1.0/1.8 MB 74.0 kB/s eta 0:00:11\n",
      "   ----------------------- ---------------- 1.0/1.8 MB 74.0 kB/s eta 0:00:11\n",
      "   ----------------------- ---------------- 1.0/1.8 MB 74.0 kB/s eta 0:00:11\n",
      "   ----------------------- ---------------- 1.0/1.8 MB 74.0 kB/s eta 0:00:11\n",
      "   ----------------------- ---------------- 1.0/1.8 MB 74.0 kB/s eta 0:00:11\n",
      "   ----------------------- ---------------- 1.0/1.8 MB 74.0 kB/s eta 0:00:11\n",
      "   ----------------------- ---------------- 1.0/1.8 MB 74.0 kB/s eta 0:00:11\n",
      "   ----------------------- ---------------- 1.0/1.8 MB 74.0 kB/s eta 0:00:11\n",
      "   ----------------------- ---------------- 1.0/1.8 MB 74.0 kB/s eta 0:00:11\n",
      "   ----------------------- ---------------- 1.0/1.8 MB 74.0 kB/s eta 0:00:11\n",
      "   ----------------------- ---------------- 1.0/1.8 MB 74.0 kB/s eta 0:00:11\n",
      "   ----------------------- ---------------- 1.0/1.8 MB 74.0 kB/s eta 0:00:11\n",
      "   ----------------------- ---------------- 1.0/1.8 MB 74.0 kB/s eta 0:00:11\n",
      "   ----------------------- ---------------- 1.0/1.8 MB 74.0 kB/s eta 0:00:11\n",
      "   ---------------------------- ----------- 1.3/1.8 MB 71.4 kB/s eta 0:00:08\n",
      "   ---------------------------- ----------- 1.3/1.8 MB 71.4 kB/s eta 0:00:08\n",
      "   ---------------------------- ----------- 1.3/1.8 MB 71.4 kB/s eta 0:00:08\n",
      "   ---------------------------- ----------- 1.3/1.8 MB 71.4 kB/s eta 0:00:08\n",
      "   ---------------------------- ----------- 1.3/1.8 MB 71.4 kB/s eta 0:00:08\n",
      "   ---------------------------- ----------- 1.3/1.8 MB 71.4 kB/s eta 0:00:08\n",
      "   ---------------------------- ----------- 1.3/1.8 MB 71.4 kB/s eta 0:00:08\n",
      "   ---------------------------- ----------- 1.3/1.8 MB 71.4 kB/s eta 0:00:08\n",
      "   ---------------------------- ----------- 1.3/1.8 MB 71.4 kB/s eta 0:00:08\n",
      "   ---------------------------- ----------- 1.3/1.8 MB 71.4 kB/s eta 0:00:08\n",
      "   ---------------------------- ----------- 1.3/1.8 MB 71.4 kB/s eta 0:00:08\n",
      "   ---------------------------------- ----- 1.6/1.8 MB 76.7 kB/s eta 0:00:04\n",
      "   ---------------------------------- ----- 1.6/1.8 MB 76.7 kB/s eta 0:00:04\n",
      "   ---------------------------------- ----- 1.6/1.8 MB 76.7 kB/s eta 0:00:04\n",
      "   ---------------------------------- ----- 1.6/1.8 MB 76.7 kB/s eta 0:00:04\n",
      "   ---------------------------------- ----- 1.6/1.8 MB 76.7 kB/s eta 0:00:04\n",
      "   ---------------------------------- ----- 1.6/1.8 MB 76.7 kB/s eta 0:00:04\n",
      "   ---------------------------------- ----- 1.6/1.8 MB 76.7 kB/s eta 0:00:04\n",
      "   ---------------------------------- ----- 1.6/1.8 MB 76.7 kB/s eta 0:00:04\n",
      "   ---------------------------------- ----- 1.6/1.8 MB 76.7 kB/s eta 0:00:04\n",
      "   ---------------------------------------- 1.8/1.8 MB 82.5 kB/s eta 0:00:00\n",
      "Installing collected packages: pip\n",
      "  Attempting uninstall: pip\n",
      "    Found existing installation: pip 24.2\n",
      "    Uninstalling pip-24.2:\n",
      "      Successfully uninstalled pip-24.2\n",
      "Successfully installed pip-24.3.1\n",
      "Note: you may need to restart the kernel to use updated packages.\n"
     ]
    }
   ],
   "source": [
    "pip install --upgrade pip"
   ]
  },
  {
   "cell_type": "code",
   "execution_count": 2,
   "id": "47ed351f-a6c8-4e89-b228-cb80b6f7f14c",
   "metadata": {},
   "outputs": [],
   "source": [
    "import scipy"
   ]
  },
  {
   "cell_type": "markdown",
   "id": "94697dd0-7cb1-486f-912a-3f6e954a785e",
   "metadata": {},
   "source": [
    "## PYTHON WITH MYSQL"
   ]
  },
  {
   "cell_type": "code",
   "execution_count": null,
   "id": "30402e1f-69fc-45b9-b072-8bd34771d09d",
   "metadata": {},
   "outputs": [],
   "source": [
    "pip install mysql-connector-python"
   ]
  },
  {
   "cell_type": "code",
   "execution_count": 13,
   "id": "40e81e8d-1086-40bf-8550-e92ec599fdf1",
   "metadata": {},
   "outputs": [
    {
     "data": {
      "text/plain": [
       "988077"
      ]
     },
     "execution_count": 13,
     "metadata": {},
     "output_type": "execute_result"
    }
   ],
   "source": [
    "def dumb(a,account_number=10,debited=80):\n",
    "    a=987987\n",
    "    return a+account_number+debited\n",
    "\n",
    "dumb(78799)"
   ]
  },
  {
   "cell_type": "code",
   "execution_count": 11,
   "id": "6a2daecf-2c8c-4e47-ad59-a85f37fc7be7",
   "metadata": {},
   "outputs": [
    {
     "name": "stdout",
     "output_type": "stream",
     "text": [
      "<mysql.connector.connection_cext.CMySQLConnection object at 0x000002207AFA28D0>\n"
     ]
    }
   ],
   "source": [
    "import mysql.connector as connector\n",
    "\n",
    "con=connector.connect(host=\"localhost\",\n",
    "                      port='3306',\n",
    "                      user='root',\n",
    "                      password=\"Boom@123\",\n",
    "                      database=\"test\")\n",
    "print(con)\n",
    "\n",
    "\n"
   ]
  },
  {
   "cell_type": "code",
   "execution_count": 17,
   "id": "b8713370-b271-401e-aa75-ca2bb1532c61",
   "metadata": {},
   "outputs": [
    {
     "name": "stdout",
     "output_type": "stream",
     "text": [
      "Employee 'Utkarsha' added successfully.\n",
      "\n",
      "Records in the emp table:\n",
      "(1, 'gyan', 62000)\n",
      "(2, 'Shreyas Joshi', 70000)\n",
      "(3, 'Nikhil', 60000)\n",
      "(4, 'Nikhil', 60000)\n",
      "(5, 'Utkarsha', 60000)\n",
      "\n",
      "Salary updated for employee with id=1\n",
      "\n",
      "Records in the emp table after salary update:\n",
      "(1, 'gyan', 62000)\n",
      "(2, 'Shreyas Joshi', 70000)\n",
      "(3, 'Nikhil', 60000)\n",
      "(4, 'Nikhil', 60000)\n",
      "(5, 'Utkarsha', 60000)\n",
      "\n",
      "Employee with id=1 deleted successfully\n",
      "\n",
      "Records in the emp table after delete:\n",
      "(2, 'Shreyas Joshi', 70000)\n",
      "(3, 'Nikhil', 60000)\n",
      "(4, 'Nikhil', 60000)\n",
      "(5, 'Utkarsha', 60000)\n"
     ]
    }
   ],
   "source": [
    "\n",
    "# Creating a cursor object using the cursor() method\n",
    "cursor = con.cursor()\n",
    "\n",
    "# Function to create a new employee record\n",
    "def create_employee(emp_id,name, salary):\n",
    "    sql_query = \"INSERT INTO employee (emp_id,name, salary) VALUES (%s,%s, %s)\"\n",
    "    insert_values = (emp_id,name, salary)\n",
    "    cursor.execute(sql_query, insert_values)\n",
    "    con.commit()\n",
    "    print(f\"Employee '{name}' added successfully.\")\n",
    "\n",
    "# Function to read all records from the emp table\n",
    "def read_records():\n",
    "    sql_query = \"SELECT * FROM employee\"\n",
    "    cursor.execute(sql_query)\n",
    "    records = cursor.fetchall()\n",
    "    for record in records:\n",
    "        print(record)\n",
    "\n",
    "# Function to update salary of a specific employee\n",
    "def update_salary(employee_id, new_salary):\n",
    "    sql_query = \"UPDATE employee SET salary = %s WHERE emp_id = %s\"\n",
    "    update_values = (new_salary, employee_id)\n",
    "    cursor.execute(sql_query, update_values)\n",
    "    con.commit()\n",
    "    print(f\"Salary updated for employee with id={employee_id}\")\n",
    "\n",
    "# Function to delete a record from the emp table\n",
    "def delete_employee(emp_id):\n",
    "    sql_query = \"DELETE FROM employee WHERE emp_id = %s\"\n",
    "    delete_values = (emp_id,)\n",
    "    cursor.execute(sql_query, delete_values)\n",
    "    con.commit()\n",
    "    print(f\"Employee with id={emp_id} deleted successfully\")\n",
    "\n",
    "# Example usage of the CRUD functions\n",
    "if __name__ == \"__main__\":\n",
    "\n",
    "    create_employee(5,'Utkarsha', 60000.00)\n",
    "    print()\n",
    "    # Read records\n",
    "    print(\"Records in the emp table:\")\n",
    "    read_records()\n",
    "    print()\n",
    "\n",
    "    # Update salary of employee with id=7 (assuming id=7 exists)\n",
    "    update_salary(1, 62000.00)\n",
    "    print()\n",
    "\n",
    "    # Read records after update\n",
    "    print(\"Records in the emp table after salary update:\")\n",
    "    read_records()\n",
    "    print()\n",
    "    # Delete employee with id=4 (assuming id=4 exists)\n",
    "    delete_employee(1)\n",
    "    print()\n",
    "\n",
    "    # Read records after delete\n",
    "    print(\"Records in the emp table after delete:\")\n",
    "    read_records()\n",
    "\n",
    "# Close cursor and connection\n",
    "cursor.close()\n",
    "con.close()\n"
   ]
  },
  {
   "cell_type": "code",
   "execution_count": 6,
   "id": "63af8f73-e83a-486f-836c-2a735379bfa3",
   "metadata": {},
   "outputs": [],
   "source": [
    "import tkinter as tk\n",
    "from tkinter import messagebox\n",
    "\n",
    "# Initialize the main window\n",
    "root = tk.Tk()\n",
    "root.title(\"Tic-Tac-Toe\")\n",
    "\n",
    "# Game variables\n",
    "player = \"X\"\n",
    "board = [\"\"] * 9\n",
    "\n",
    "# Functions\n",
    "def check_winner():\n",
    "    \"\"\"Check if there is a winner or a tie.\"\"\"\n",
    "    global board\n",
    "    winning_combinations = [\n",
    "        (0, 1, 2), (3, 4, 5), (6, 7, 8),  # Rows\n",
    "        (0, 3, 6), (1, 4, 7), (2, 5, 8),  # Columns\n",
    "        (0, 4, 8), (2, 4, 6)              # Diagonals\n",
    "    ]\n",
    "    for a, b, c in winning_combinations:\n",
    "        if board[a] == board[b] == board[c] and board[a] != \"\":\n",
    "            return board[a]\n",
    "    if \"\" not in board:\n",
    "        return \"Tie\"\n",
    "    return None\n",
    "\n",
    "def button_click(index):\n",
    "    \"\"\"Handle button click.\"\"\"\n",
    "    global player, board\n",
    "    if board[index] == \"\":\n",
    "        board[index] = player\n",
    "        buttons[index].config(text=player)\n",
    "        winner = check_winner()\n",
    "        if winner:\n",
    "            if winner == \"Tie\":\n",
    "                messagebox.showinfo(\"Tic-Tac-Toe\", \"It's a tie!\")\n",
    "            else:\n",
    "                messagebox.showinfo(\"Tic-Tac-Toe\", f\"Player {winner} wins!\")\n",
    "            reset_game()\n",
    "        else:\n",
    "            player = \"O\" if player == \"X\" else \"X\"\n",
    "\n",
    "def reset_game():\n",
    "    \"\"\"Reset the game board.\"\"\"\n",
    "    global player, board\n",
    "    player = \"X\"\n",
    "    board = [\"\"] * 9\n",
    "    for button in buttons:\n",
    "        button.config(text=\"\")\n",
    "# GUI setup\n",
    "buttons = []\n",
    "for i in range(9):\n",
    "    btn = tk.Button(root, text=\"\", font=(\"Arial\", 24), height=2, width=5, \n",
    "                    command=lambda i=i: button_click(i))\n",
    "    btn.grid(row=i // 3, column=i % 3)\n",
    "    buttons.append(btn)\n",
    "# Run the GUI loop\n",
    "root.mainloop()\n"
   ]
  },
  {
   "cell_type": "code",
   "execution_count": null,
   "id": "d8997fee-cab8-400c-9381-843d111cfec6",
   "metadata": {},
   "outputs": [],
   "source": []
  },
  {
   "cell_type": "code",
   "execution_count": null,
   "id": "bd91adb2-7856-4876-8343-18a2116d6c34",
   "metadata": {},
   "outputs": [],
   "source": [
    "cursor = con.cursor()\n",
    "sql_query = \"\"\"\n",
    "    CREATE TABLE IF NOT EXISTS employee(\n",
    "    emp_id INT PRIMARY KEY,\n",
    "    name VARCHAR(50),\n",
    "    salary INT);\n",
    "    \"\"\"\n",
    "cursor.execute(sql_query)\n",
    "print(\"done\")\n",
    "\n"
   ]
  },
  {
   "cell_type": "code",
   "execution_count": null,
   "id": "4f76a2e0-4182-4c67-a26e-18d0edcc0a75",
   "metadata": {},
   "outputs": [],
   "source": [
    "cursor = con.cursor()\n",
    "def create_employee():\n",
    "    sql_query = \"\"\"\n",
    "    CREATE TABLE IF NOT EXISTS employee (\n",
    "        emp_id INT PRIMARY KEY,\n",
    "        name VARCHAR(50),\n",
    "        salary INT\n",
    "    );\n",
    "    \"\"\"\n",
    "    cursor.execute(sql_query)\n",
    "    con.commit()\n",
    "    print(\"Employee table created successfully.\")\n",
    "\n",
    "def insert_employee(emp_id, name, salary):\n",
    "    sql_query = \"INSERT INTO employee (emp_id, name, salary) VALUES (%s, %s, %s)\"\n",
    "    insert_values = (emp_id, name, salary)\n",
    "    cursor.execute(sql_query, insert_values)\n",
    "    con.commit()\n",
    "    print(\"Employee added successfully.\")\n",
    "\n",
    "if __name__ == \"__main__\":\n",
    "    create_employee()\n",
    "    print(\"Inserting record into the employee table:\")\n",
    "    insert_employee(2, 'Shreyas Joshi', 70000)\n",
    "\n",
    "# Close the cursor and connection when done\n",
    "cursor.close()\n",
    "con.close()"
   ]
  },
  {
   "cell_type": "code",
   "execution_count": null,
   "id": "ff4ce41b-9603-49a4-93a4-1b4c38cf4061",
   "metadata": {},
   "outputs": [],
   "source": [
    "pip install matplotlib"
   ]
  },
  {
   "cell_type": "code",
   "execution_count": null,
   "id": "206d1d72-cee4-411f-bf57-74e288c47c81",
   "metadata": {},
   "outputs": [],
   "source": [
    "import matplotlib.pyplot as plt\n",
    "\n",
    "x=[1,2,3,4,5]\n",
    "y=[2,3,5,7,11]\n",
    "plt.plot(x,y)\n",
    "\n",
    "plt.xlabel(\"X-Axis Label\")\n",
    "plt.ylabel(\"Y axis Label\")\n",
    "plt.title(\"Simple Line Plot\")\n",
    "\n",
    "plt.show"
   ]
  },
  {
   "cell_type": "code",
   "execution_count": null,
   "id": "944f0caf-5459-4951-9c0c-407b6515fc93",
   "metadata": {},
   "outputs": [],
   "source": []
  },
  {
   "cell_type": "code",
   "execution_count": null,
   "id": "540aed82-de1a-4e62-9ef4-697a31c1b8a9",
   "metadata": {},
   "outputs": [],
   "source": [
    "import tkinter as tk\n",
    "from tkinter import filedialog, messagebox\n",
    "from fpdf import FPDF\n",
    "\n",
    "# Function to convert text file to PDF\n",
    "def convert_to_pdf():\n",
    "    # Open a file dialog to select a text file\n",
    "    file_path = filedialog.askopenfilename(filetypes=[(\"Text Files\", \"*.txt\")])\n",
    "    \n",
    "    if file_path:\n",
    "        try:\n",
    "            # Read the contents of the selected text file\n",
    "            with open(file_path, 'r') as file:\n",
    "                text_content = file.read()\n",
    "\n",
    "            # Ask the user where to save the PDF file\n",
    "            pdf_path = filedialog.asksaveasfilename(defaultextension=\".pdf\", filetypes=[(\"PDF Files\", \"*.pdf\")])\n",
    "            \n",
    "            if pdf_path:\n",
    "                # Create a PDF object\n",
    "                pdf = FPDF()\n",
    "                pdf.add_page()\n",
    "                pdf.set_font(\"Arial\", size=12)\n",
    "\n",
    "                # Add the text to the PDF, ensuring it fits properly\n",
    "                for line in text_content.splitlines():\n",
    "                    pdf.multi_cell(0, 10, line)\n",
    "\n",
    "                # Save the PDF to the selected path\n",
    "                pdf.output(pdf_path)\n",
    "                \n",
    "                # Notify the user of success\n",
    "                messagebox.showinfo(\"Success\", \"PDF created successfully!\")\n",
    "        except Exception as e:\n",
    "            messagebox.showerror(\"Error\", f\"An error occurred: {e}\")\n",
    "    else:\n",
    "        messagebox.showwarning(\"No file selected\", \"Please select a text file to convert.\")\n",
    "\n",
    "# GUI setup\n",
    "def create_gui():\n",
    "    root = tk.Tk()\n",
    "    root.title(\"Text to PDF Converter\")\n",
    "    \n",
    "    # Set the window size\n",
    "    root.geometry(\"400x200\")\n",
    "    \n",
    "    # Label\n",
    "    label = tk.Label(root, text=\"Convert a Text File to PDF\", font=(\"Helvetica\", 14))\n",
    "    label.pack(pady=20)\n",
    "    \n",
    "    # Button to start conversion\n",
    "    convert_button = tk.Button(root, text=\"Select Text File and Convert\", command=convert_to_pdf, font=(\"Helvetica\", 12))\n",
    "    convert_button.pack(pady=10)\n",
    "    \n",
    "    # Start the tkinter event loop\n",
    "    root.mainloop()\n",
    "\n",
    "# Run the GUI application\n",
    "if __name__ == \"__main__\":\n",
    "    create_gui()\n"
   ]
  },
  {
   "cell_type": "code",
   "execution_count": null,
   "id": "b9ac58de-0c78-4e24-bde0-b0afb8f8c202",
   "metadata": {},
   "outputs": [],
   "source": [
    "pip install fpdf"
   ]
  },
  {
   "cell_type": "code",
   "execution_count": null,
   "id": "86edfeb2-d642-4a1b-a588-3bb3ea7a4b47",
   "metadata": {},
   "outputs": [],
   "source": []
  }
 ],
 "metadata": {
  "kernelspec": {
   "display_name": "Python 3 (ipykernel)",
   "language": "python",
   "name": "python3"
  },
  "language_info": {
   "codemirror_mode": {
    "name": "ipython",
    "version": 3
   },
   "file_extension": ".py",
   "mimetype": "text/x-python",
   "name": "python",
   "nbconvert_exporter": "python",
   "pygments_lexer": "ipython3",
   "version": "3.12.4"
  }
 },
 "nbformat": 4,
 "nbformat_minor": 5
}
