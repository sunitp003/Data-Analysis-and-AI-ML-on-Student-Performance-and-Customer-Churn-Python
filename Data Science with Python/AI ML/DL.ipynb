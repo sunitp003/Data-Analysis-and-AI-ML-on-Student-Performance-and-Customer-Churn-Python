{
 "cells": [
  {
   "cell_type": "markdown",
   "id": "4a5875e5-8d7e-45ba-9cf6-8cdd59233503",
   "metadata": {},
   "source": [
    "pip install tensorflow\n",
    "pip install keras\n"
   ]
  }
 ],
 "metadata": {
  "kernelspec": {
   "display_name": "Python 3 (ipykernel)",
   "language": "python",
   "name": "python3"
  },
  "language_info": {
   "codemirror_mode": {
    "name": "ipython",
    "version": 3
   },
   "file_extension": ".py",
   "mimetype": "text/x-python",
   "name": "python",
   "nbconvert_exporter": "python",
   "pygments_lexer": "ipython3",
   "version": "3.13.1"
  }
 },
 "nbformat": 4,
 "nbformat_minor": 5
}
