{
 "cells": [
  {
   "cell_type": "markdown",
   "id": "b0a30bde",
   "metadata": {},
   "source": [
    "### modules and libraries\n",
    "#### pip install library_name\n",
    "\n",
    "NumPy is a Python library used for working with arrays.\n",
    "\n",
    "It also has functions for working in domain of linear algebra, fourier transform, and matrices.\n",
    "\n",
    "NumPy was created in 2005 by Travis Oliphant. It is an open source project and you can use it freely.\n",
    "\n",
    "NumPy stands for Numerical Python.\n",
    "In Python we have lists that serve the purpose of arrays, but they are slow to process.\n",
    "\n",
    "NumPy aims to provide an array object that is up to 50x faster than traditional Python lists.\n",
    "\n",
    "The array object in NumPy is called ndarray, it provides a lot of supporting functions that make working with ndarray very easy.\n",
    "\n",
    "Arrays are very frequently used in data science, where speed and resources are very important."
   ]
  },
  {
   "cell_type": "code",
   "execution_count": 1,
   "id": "b161dd4b",
   "metadata": {},
   "outputs": [
    {
     "name": "stdout",
     "output_type": "stream",
     "text": [
      "[1 2 3 4 5]\n",
      "<class 'numpy.ndarray'>\n"
     ]
    }
   ],
   "source": [
    "import numpy as np\n",
    "\n",
    "arr = np.array([1, 2, 3, 4, 5])\n",
    "\n",
    "print(arr)\n",
    "print(type(arr))"
   ]
  },
  {
   "cell_type": "code",
   "execution_count": 1,
   "id": "87a00f60",
   "metadata": {},
   "outputs": [
    {
     "name": "stdout",
     "output_type": "stream",
     "text": [
      "['False_', 'ScalarType', 'True_', '_CopyMode', '_NoValue', '__NUMPY_SETUP__', '__all__', '__array_api_version__', '__builtins__', '__cached__', '__config__', '__dir__', '__doc__', '__expired_attributes__', '__file__', '__former_attrs__', '__future_scalars__', '__getattr__', '__loader__', '__name__', '__numpy_submodules__', '__package__', '__path__', '__spec__', '__version__', '_core', '_distributor_init', '_expired_attrs_2_0', '_get_promotion_state', '_globals', '_int_extended_msg', '_mat', '_msg', '_no_nep50_warning', '_pyinstaller_hooks_dir', '_pytesttester', '_set_promotion_state', '_specific_msg', '_type_info', '_typing', '_utils', 'abs', 'absolute', 'acos', 'acosh', 'add', 'all', 'allclose', 'amax', 'amin', 'angle', 'any', 'append', 'apply_along_axis', 'apply_over_axes', 'arange', 'arccos', 'arccosh', 'arcsin', 'arcsinh', 'arctan', 'arctan2', 'arctanh', 'argmax', 'argmin', 'argpartition', 'argsort', 'argwhere', 'around', 'array', 'array2string', 'array_equal', 'array_equiv', 'array_repr', 'array_split', 'array_str', 'asanyarray', 'asarray', 'asarray_chkfinite', 'ascontiguousarray', 'asfortranarray', 'asin', 'asinh', 'asmatrix', 'astype', 'atan', 'atan2', 'atanh', 'atleast_1d', 'atleast_2d', 'atleast_3d', 'average', 'bartlett', 'base_repr', 'binary_repr', 'bincount', 'bitwise_and', 'bitwise_count', 'bitwise_invert', 'bitwise_left_shift', 'bitwise_not', 'bitwise_or', 'bitwise_right_shift', 'bitwise_xor', 'blackman', 'block', 'bmat', 'bool', 'bool_', 'broadcast', 'broadcast_arrays', 'broadcast_shapes', 'broadcast_to', 'busday_count', 'busday_offset', 'busdaycalendar', 'byte', 'bytes_', 'c_', 'can_cast', 'cbrt', 'cdouble', 'ceil', 'char', 'character', 'choose', 'clip', 'clongdouble', 'column_stack', 'common_type', 'complex128', 'complex64', 'complexfloating', 'compress', 'concat', 'concatenate', 'conj', 'conjugate', 'convolve', 'copy', 'copysign', 'copyto', 'core', 'corrcoef', 'correlate', 'cos', 'cosh', 'count_nonzero', 'cov', 'cross', 'csingle', 'ctypeslib', 'cumprod', 'cumsum', 'datetime64', 'datetime_as_string', 'datetime_data', 'deg2rad', 'degrees', 'delete', 'diag', 'diag_indices', 'diag_indices_from', 'diagflat', 'diagonal', 'diff', 'digitize', 'divide', 'divmod', 'dot', 'double', 'dsplit', 'dstack', 'dtype', 'dtypes', 'e', 'ediff1d', 'einsum', 'einsum_path', 'emath', 'empty', 'empty_like', 'equal', 'errstate', 'euler_gamma', 'exceptions', 'exp', 'exp2', 'expand_dims', 'expm1', 'extract', 'eye', 'f2py', 'fabs', 'fft', 'fill_diagonal', 'finfo', 'fix', 'flatiter', 'flatnonzero', 'flexible', 'flip', 'fliplr', 'flipud', 'float16', 'float32', 'float64', 'float_power', 'floating', 'floor', 'floor_divide', 'fmax', 'fmin', 'fmod', 'format_float_positional', 'format_float_scientific', 'frexp', 'from_dlpack', 'frombuffer', 'fromfile', 'fromfunction', 'fromiter', 'frompyfunc', 'fromregex', 'fromstring', 'full', 'full_like', 'gcd', 'generic', 'genfromtxt', 'geomspace', 'get_include', 'get_printoptions', 'getbufsize', 'geterr', 'geterrcall', 'gradient', 'greater', 'greater_equal', 'half', 'hamming', 'hanning', 'heaviside', 'histogram', 'histogram2d', 'histogram_bin_edges', 'histogramdd', 'hsplit', 'hstack', 'hypot', 'i0', 'identity', 'iinfo', 'imag', 'in1d', 'index_exp', 'indices', 'inexact', 'inf', 'info', 'inner', 'insert', 'int16', 'int32', 'int64', 'int8', 'int_', 'intc', 'integer', 'interp', 'intersect1d', 'intp', 'invert', 'is_busday', 'isclose', 'iscomplex', 'iscomplexobj', 'isdtype', 'isfinite', 'isfortran', 'isin', 'isinf', 'isnan', 'isnat', 'isneginf', 'isposinf', 'isreal', 'isrealobj', 'isscalar', 'issubdtype', 'iterable', 'ix_', 'kaiser', 'kron', 'lcm', 'ldexp', 'left_shift', 'less', 'less_equal', 'lexsort', 'lib', 'linalg', 'linspace', 'little_endian', 'load', 'loadtxt', 'log', 'log10', 'log1p', 'log2', 'logaddexp', 'logaddexp2', 'logical_and', 'logical_not', 'logical_or', 'logical_xor', 'logspace', 'long', 'longdouble', 'longlong', 'ma', 'mask_indices', 'matmul', 'matrix', 'matrix_transpose', 'max', 'maximum', 'may_share_memory', 'mean', 'median', 'memmap', 'meshgrid', 'mgrid', 'min', 'min_scalar_type', 'minimum', 'mintypecode', 'mod', 'modf', 'moveaxis', 'multiply', 'nan', 'nan_to_num', 'nanargmax', 'nanargmin', 'nancumprod', 'nancumsum', 'nanmax', 'nanmean', 'nanmedian', 'nanmin', 'nanpercentile', 'nanprod', 'nanquantile', 'nanstd', 'nansum', 'nanvar', 'ndarray', 'ndenumerate', 'ndim', 'ndindex', 'nditer', 'negative', 'nested_iters', 'newaxis', 'nextafter', 'nonzero', 'not_equal', 'number', 'object_', 'ogrid', 'ones', 'ones_like', 'outer', 'packbits', 'pad', 'partition', 'percentile', 'permute_dims', 'pi', 'piecewise', 'place', 'poly', 'poly1d', 'polyadd', 'polyder', 'polydiv', 'polyfit', 'polyint', 'polymul', 'polynomial', 'polysub', 'polyval', 'positive', 'pow', 'power', 'printoptions', 'prod', 'promote_types', 'ptp', 'put', 'put_along_axis', 'putmask', 'quantile', 'r_', 'rad2deg', 'radians', 'random', 'ravel', 'ravel_multi_index', 'real', 'real_if_close', 'rec', 'recarray', 'reciprocal', 'record', 'remainder', 'repeat', 'require', 'reshape', 'resize', 'result_type', 'right_shift', 'rint', 'roll', 'rollaxis', 'roots', 'rot90', 'round', 'row_stack', 's_', 'save', 'savetxt', 'savez', 'savez_compressed', 'sctypeDict', 'searchsorted', 'select', 'set_printoptions', 'setbufsize', 'setdiff1d', 'seterr', 'seterrcall', 'setxor1d', 'shape', 'shares_memory', 'short', 'show_config', 'show_runtime', 'sign', 'signbit', 'signedinteger', 'sin', 'sinc', 'single', 'sinh', 'size', 'sort', 'sort_complex', 'spacing', 'split', 'sqrt', 'square', 'squeeze', 'stack', 'std', 'str_', 'strings', 'subtract', 'sum', 'swapaxes', 'take', 'take_along_axis', 'tan', 'tanh', 'tensordot', 'test', 'testing', 'tile', 'timedelta64', 'trace', 'transpose', 'trapezoid', 'trapz', 'tri', 'tril', 'tril_indices', 'tril_indices_from', 'trim_zeros', 'triu', 'triu_indices', 'triu_indices_from', 'true_divide', 'trunc', 'typecodes', 'typename', 'typing', 'ubyte', 'ufunc', 'uint', 'uint16', 'uint32', 'uint64', 'uint8', 'uintc', 'uintp', 'ulong', 'ulonglong', 'union1d', 'unique', 'unique_all', 'unique_counts', 'unique_inverse', 'unique_values', 'unpackbits', 'unravel_index', 'unsignedinteger', 'unwrap', 'ushort', 'vander', 'var', 'vdot', 'vecdot', 'vectorize', 'void', 'vsplit', 'vstack', 'where', 'zeros', 'zeros_like']\n"
     ]
    }
   ],
   "source": [
    "import numpy as np\n",
    "available_functions = dir(np)\n",
    "print(available_functions)"
   ]
  },
  {
   "cell_type": "code",
   "execution_count": 2,
   "id": "4b43197e",
   "metadata": {},
   "outputs": [
    {
     "name": "stdout",
     "output_type": "stream",
     "text": [
      "2.0.0\n"
     ]
    }
   ],
   "source": [
    "import numpy as np\n",
    "\n",
    "print(np.__version__)"
   ]
  },
  {
   "cell_type": "markdown",
   "id": "012bb294",
   "metadata": {},
   "source": [
    "Create a 3-D array with two 2-D arrays, both containing two arrays with the values 1,2,3 and 4,5,6:"
   ]
  },
  {
   "cell_type": "code",
   "execution_count": 3,
   "id": "970f693e",
   "metadata": {},
   "outputs": [
    {
     "name": "stdout",
     "output_type": "stream",
     "text": [
      "[[[1 2 3]\n",
      "  [4 5 6]]\n",
      "\n",
      " [[1 2 3]\n",
      "  [4 5 6]]]\n"
     ]
    }
   ],
   "source": [
    "import numpy as np\n",
    "\n",
    "arr = np.array([[[1, 2, 3], [4, 5, 6]], [[1, 2, 3], [4, 5, 6]]])\n",
    "\n",
    "print(arr)"
   ]
  },
  {
   "cell_type": "code",
   "execution_count": 4,
   "id": "1274117b",
   "metadata": {},
   "outputs": [
    {
     "name": "stdout",
     "output_type": "stream",
     "text": [
      "0\n",
      "1\n",
      "2\n",
      "3\n"
     ]
    }
   ],
   "source": [
    "import numpy as np\n",
    "\n",
    "a = np.array(42)\n",
    "b = np.array([1, 2, 3, 4, 5])\n",
    "c = np.array([[1, 2, 3], [4, 5, 6]])\n",
    "d = np.array([[[1, 2, 3], [4, 5, 6]], [[1, 2, 3], [4, 5, 6]]])\n",
    "\n",
    "print(a.ndim)\n",
    "print(b.ndim)\n",
    "print(c.ndim)\n",
    "print(d.ndim)"
   ]
  },
  {
   "cell_type": "code",
   "execution_count": 6,
   "id": "c66b0023",
   "metadata": {},
   "outputs": [
    {
     "name": "stdout",
     "output_type": "stream",
     "text": [
      "[[1 2 3]\n",
      " [4 5 6]]\n"
     ]
    }
   ],
   "source": [
    "#2D ARRAY\n",
    "import numpy as np\n",
    "\n",
    "arr = np.array([[1, 2, 3], [4, 5, 6]])\n",
    "\n",
    "print(arr)"
   ]
  },
  {
   "cell_type": "code",
   "execution_count": 7,
   "id": "f3e876f7",
   "metadata": {},
   "outputs": [
    {
     "name": "stdout",
     "output_type": "stream",
     "text": [
      "5\n"
     ]
    }
   ],
   "source": [
    "import numpy as np\n",
    "\n",
    "arr = np.array([1, 2, 3, 4])\n",
    "\n",
    "print(arr[0] + arr[3])"
   ]
  },
  {
   "cell_type": "markdown",
   "id": "63e97316",
   "metadata": {},
   "source": [
    "# Use negative indexing to access an array from the end."
   ]
  },
  {
   "cell_type": "code",
   "execution_count": null,
   "id": "1158ff90",
   "metadata": {},
   "outputs": [],
   "source": []
  },
  {
   "cell_type": "markdown",
   "id": "2bbfe6e3",
   "metadata": {},
   "source": [
    "## Slicing Arrays"
   ]
  },
  {
   "cell_type": "code",
   "execution_count": 8,
   "id": "26947f1a",
   "metadata": {},
   "outputs": [
    {
     "name": "stdout",
     "output_type": "stream",
     "text": [
      "[3 4]\n",
      "[1 2 3 4]\n",
      "[3 4 5 6 7]\n",
      "[5 6]\n",
      "[2 4]\n"
     ]
    }
   ],
   "source": [
    "import numpy as np\n",
    "\n",
    "arr = np.array([1, 2, 3, 4, 5, 6, 7])\n",
    "\n",
    "print(arr[2:4])\n",
    "print(arr[:4])\n",
    "print(arr[2:])\n",
    "print(arr[-3:-1])\n",
    "print(arr[1:5:2]) #Return every other element from index 1 to index 5:"
   ]
  },
  {
   "cell_type": "markdown",
   "id": "03ebadaa",
   "metadata": {},
   "source": [
    "### Return every other element from the entire array:"
   ]
  },
  {
   "cell_type": "code",
   "execution_count": null,
   "id": "0a018774",
   "metadata": {},
   "outputs": [],
   "source": []
  },
  {
   "cell_type": "markdown",
   "id": "cd970f01",
   "metadata": {},
   "source": [
    "NumPy has some extra data types, and refer to data types with one character, like i for integers, u for unsigned integers etc.\n",
    "\n",
    "Below is a list of all data types in NumPy and the characters used to represent them.\n",
    "\n",
    "i - integer\n",
    "b - boolean\n",
    "u - unsigned integer\n",
    "f - float\n",
    "c - complex float\n",
    "m - timedelta\n",
    "M - datetime\n",
    "O - object\n",
    "S - string\n",
    "U - unicode string\n",
    "V - fixed chunk of memory for other type ( void )\n"
   ]
  },
  {
   "cell_type": "code",
   "execution_count": 5,
   "id": "ac8d19fe",
   "metadata": {},
   "outputs": [
    {
     "name": "stdout",
     "output_type": "stream",
     "text": [
      "<U6\n"
     ]
    }
   ],
   "source": [
    "import numpy as np\n",
    "\n",
    "arr = np.array([\"abc\",\"bgc\",\"ewfwif\"])\n",
    "\n",
    "print(arr.dtype)\n"
   ]
  },
  {
   "cell_type": "markdown",
   "id": "5c7cff47",
   "metadata": {},
   "source": [
    "Create an array with data type string (dtype)"
   ]
  },
  {
   "cell_type": "code",
   "execution_count": null,
   "id": "9cce7c1e",
   "metadata": {},
   "outputs": [],
   "source": []
  },
  {
   "cell_type": "markdown",
   "id": "358ed19b",
   "metadata": {},
   "source": [
    "The Difference Between Copy and View\n",
    "The main difference between a copy and a view of an array is that the copy is a new array, and the view is just a view of the original array.\n",
    "\n",
    "The copy owns the data and any changes made to the copy will not affect original array, and any changes made to the original array will not affect the copy.\n",
    "\n",
    "The view does not own the data and any changes made to the view will affect the original array, and any changes made to the original array will affect the view."
   ]
  },
  {
   "cell_type": "code",
   "execution_count": 8,
   "id": "b552c44c",
   "metadata": {},
   "outputs": [
    {
     "name": "stdout",
     "output_type": "stream",
     "text": [
      "[1 2 3 4 5]\n",
      "[42  2  3  4  5]\n"
     ]
    }
   ],
   "source": [
    "#COPPY\n",
    "#Make a copy, change the original array, and display both arrays:\n",
    "\n",
    "import numpy as np\n",
    "\n",
    "arr = np.array([1, 2, 3, 4, 5]) #original\n",
    "x = arr.copy()  #copy\n",
    "x[0] = 42\n",
    "\n",
    "print(arr)\n",
    "print(x)"
   ]
  },
  {
   "cell_type": "code",
   "execution_count": 7,
   "id": "07f34390",
   "metadata": {},
   "outputs": [
    {
     "name": "stdout",
     "output_type": "stream",
     "text": [
      "[42  2  3  4  5]\n",
      "[42  2  3  4  5]\n"
     ]
    }
   ],
   "source": [
    "#VIEW\n",
    "import numpy as np\n",
    "\n",
    "arr = np.array([1, 2, 3, 4, 5])\n",
    "x = arr.view()\n",
    "x[0] = 42\n",
    "\n",
    "print(arr)\n",
    "print(x)"
   ]
  },
  {
   "cell_type": "markdown",
   "id": "f660e714",
   "metadata": {},
   "source": [
    "Every NumPy array has the attribute base that returns None if the array owns the data.\n",
    "\n",
    "Otherwise, the base  attribute refers to the original object."
   ]
  },
  {
   "cell_type": "markdown",
   "id": "3007fb54",
   "metadata": {},
   "source": [
    "Print the value of the base attribute to check if an array owns it's data or not:"
   ]
  },
  {
   "cell_type": "code",
   "execution_count": null,
   "id": "0c21ba50",
   "metadata": {},
   "outputs": [],
   "source": []
  },
  {
   "cell_type": "markdown",
   "id": "7c95497f",
   "metadata": {},
   "source": [
    "NumPy arrays have an attribute called shape that returns a tuple with each index having the number of corresponding elements."
   ]
  },
  {
   "cell_type": "code",
   "execution_count": 12,
   "id": "6af701c4",
   "metadata": {},
   "outputs": [
    {
     "name": "stdout",
     "output_type": "stream",
     "text": [
      "[[1 2 3 4]\n",
      " [5 6 7 8]]\n",
      "(2, 4)\n"
     ]
    }
   ],
   "source": [
    "import numpy as np\n",
    "\n",
    "arr = np.array([[1, 2, 3, 4], [5, 6, 7, 8]])\n",
    "print(arr)\n",
    "print(arr.shape)"
   ]
  },
  {
   "cell_type": "markdown",
   "id": "b3f9a956",
   "metadata": {},
   "source": [
    "Create an array with 5 dimensions using ndmin using a vector with values 1,2,3,4 and verify that last dimension has value 4:"
   ]
  },
  {
   "cell_type": "code",
   "execution_count": null,
   "id": "809517dd",
   "metadata": {},
   "outputs": [],
   "source": []
  },
  {
   "cell_type": "code",
   "execution_count": 13,
   "id": "44810a80",
   "metadata": {},
   "outputs": [
    {
     "name": "stdout",
     "output_type": "stream",
     "text": [
      "[[ 1  2  3]\n",
      " [ 4  5  6]\n",
      " [ 7  8  9]\n",
      " [10 11 12]]\n"
     ]
    }
   ],
   "source": [
    "import numpy as np\n",
    "\n",
    "arr = np.array([1, 2, 3, 4, 5, 6, 7, 8, 9, 10, 11, 12])\n",
    "\n",
    "newarr = arr.reshape(4,3)\n",
    "\n",
    "print(newarr)"
   ]
  },
  {
   "cell_type": "markdown",
   "id": "2ca37843",
   "metadata": {},
   "source": [
    "Convert the following 1-D array with 12 elements into a 3-D array.\n",
    "\n",
    "The outermost dimension will have 2 arrays that contains 3 arrays, each with 2 elements:\n",
    "\n",
    "import numpy as np\n",
    "\n",
    "arr = np.array([1, 2, 3, 4, 5, 6, 7, 8, 9, 10, 11, 12])\n"
   ]
  },
  {
   "cell_type": "code",
   "execution_count": null,
   "id": "a3893cc0",
   "metadata": {},
   "outputs": [],
   "source": []
  },
  {
   "cell_type": "code",
   "execution_count": 14,
   "id": "a3306118",
   "metadata": {},
   "outputs": [
    {
     "name": "stdout",
     "output_type": "stream",
     "text": [
      "1\n",
      "2\n",
      "3\n",
      "4\n",
      "5\n",
      "6\n"
     ]
    }
   ],
   "source": [
    "import numpy as np\n",
    "\n",
    "arr = np.array([[1, 2, 3], [4, 5, 6]])\n",
    "\n",
    "for x in arr:\n",
    "    for y in x:\n",
    "        print(y)"
   ]
  },
  {
   "cell_type": "markdown",
   "id": "6081db7a",
   "metadata": {},
   "source": [
    "Iterate down to the scalars:"
   ]
  },
  {
   "cell_type": "code",
   "execution_count": 15,
   "id": "5cb9f7a3",
   "metadata": {},
   "outputs": [
    {
     "data": {
      "text/plain": [
       "()"
      ]
     },
     "execution_count": 15,
     "metadata": {},
     "output_type": "execute_result"
    }
   ],
   "source": [
    "import numpy as np\n",
    "\n",
    "arr = np.array([[[1, 2, 3], [4, 5, 6]], [[7, 8, 9], [10, 11, 12]]])\n",
    "\n",
    "(\n",
    ")"
   ]
  },
  {
   "cell_type": "code",
   "execution_count": 16,
   "id": "2a4b6e19",
   "metadata": {},
   "outputs": [
    {
     "name": "stdout",
     "output_type": "stream",
     "text": [
      "[1 2 3 4 5 6]\n"
     ]
    }
   ],
   "source": [
    "import numpy as np\n",
    "\n",
    "arr1 = np.array([1, 2, 3])\n",
    "\n",
    "arr2 = np.array([4, 5, 6])\n",
    "\n",
    "arr = np.concatenate((arr1, arr2))\n",
    "\n",
    "print(arr)"
   ]
  },
  {
   "cell_type": "markdown",
   "id": "9794450e",
   "metadata": {},
   "source": [
    "Join two 2-D arrays along rows (axis=1)"
   ]
  },
  {
   "cell_type": "code",
   "execution_count": 17,
   "id": "18c79c19",
   "metadata": {},
   "outputs": [],
   "source": [
    "import numpy as np\n",
    "\n",
    "arr1 = np.array([[1, 2], [3, 4]])\n",
    "\n",
    "arr2 = np.array([[5, 6], [7, 8]])\n",
    "\n",
    "\n",
    "\n",
    "\n"
   ]
  },
  {
   "cell_type": "markdown",
   "id": "05884b92",
   "metadata": {},
   "source": [
    "Stacking is same as concatenation, the only difference is that stacking is done along a new axis.\n",
    "\n",
    "We can concatenate two 1-D arrays along the second axis which would result in putting them one over the other, ie. stacking.\n",
    "\n",
    "We pass a sequence of arrays that we want to join to the stack() method along with the axis. If axis is not explicitly passed it is taken as 0."
   ]
  },
  {
   "cell_type": "code",
   "execution_count": 18,
   "id": "06fc82c4",
   "metadata": {},
   "outputs": [],
   "source": [
    "import numpy as np\n",
    "\n",
    "arr1 = np.array([1, 2, 3])\n",
    "\n",
    "arr2 = np.array([4, 5, 6])\n",
    "\n",
    "\n",
    "\n"
   ]
  },
  {
   "cell_type": "markdown",
   "id": "f0e1d3b0",
   "metadata": {},
   "source": [
    "### Splitting NumPy Arrays\n",
    "\n",
    "Splitting is reverse operation of Joining.\n",
    "\n",
    "Joining merges multiple arrays into one and Splitting breaks one array into multiple.\n",
    "\n",
    "We use array_split() for splitting arrays, we pass it the array we want to split and the number of splits."
   ]
  },
  {
   "cell_type": "code",
   "execution_count": 19,
   "id": "9a50a8b5",
   "metadata": {},
   "outputs": [
    {
     "name": "stdout",
     "output_type": "stream",
     "text": [
      "[array([1, 2]), array([3, 4]), array([5, 6])]\n"
     ]
    }
   ],
   "source": [
    "import numpy as np\n",
    "\n",
    "arr = np.array([1, 2, 3, 4, 5, 6])\n",
    "\n",
    "newarr = np.array_split(arr, 3)\n",
    "\n",
    "print(newarr) "
   ]
  },
  {
   "cell_type": "code",
   "execution_count": 20,
   "id": "7dc8147d",
   "metadata": {},
   "outputs": [
    {
     "name": "stdout",
     "output_type": "stream",
     "text": [
      "(array([3, 5, 6], dtype=int64),)\n"
     ]
    }
   ],
   "source": [
    "import numpy as np\n",
    "\n",
    "arr = np.array([1, 2, 3, 4, 5, 4, 4])\n",
    "\n",
    "x = np.where(arr == 4)\n",
    "\n",
    "print(x)"
   ]
  },
  {
   "cell_type": "code",
   "execution_count": 21,
   "id": "175d599c",
   "metadata": {},
   "outputs": [
    {
     "name": "stdout",
     "output_type": "stream",
     "text": [
      "[0 1 2 3]\n"
     ]
    }
   ],
   "source": [
    "import numpy as np\n",
    "\n",
    "arr = np.array([3, 2, 0, 1])\n",
    "\n",
    "print(np.sort(arr))"
   ]
  },
  {
   "cell_type": "markdown",
   "id": "8c9a9833",
   "metadata": {},
   "source": [
    "### Filtering Arrays\n",
    "Getting some elements out of an existing array and creating a new array out of them is called filtering."
   ]
  },
  {
   "cell_type": "code",
   "execution_count": 22,
   "id": "84cc4fb6",
   "metadata": {},
   "outputs": [
    {
     "name": "stdout",
     "output_type": "stream",
     "text": [
      "[41 43]\n"
     ]
    }
   ],
   "source": [
    "#Create an array from the elements on index 0 and 2:\n",
    "\n",
    "import numpy as np\n",
    "\n",
    "arr = np.array([41, 42, 43, 44])\n",
    "\n",
    "x = [True, False, True, False]\n",
    "\n",
    "newarr = arr[x]\n",
    "\n",
    "print(newarr)\n"
   ]
  },
  {
   "cell_type": "code",
   "execution_count": 23,
   "id": "89acb497",
   "metadata": {},
   "outputs": [
    {
     "name": "stdout",
     "output_type": "stream",
     "text": [
      "['ArrowDtype', 'BooleanDtype', 'Categorical', 'CategoricalDtype', 'CategoricalIndex', 'DataFrame', 'DateOffset', 'DatetimeIndex', 'DatetimeTZDtype', 'ExcelFile', 'ExcelWriter', 'Flags', 'Float32Dtype', 'Float64Dtype', 'Grouper', 'HDFStore', 'Index', 'IndexSlice', 'Int16Dtype', 'Int32Dtype', 'Int64Dtype', 'Int8Dtype', 'Interval', 'IntervalDtype', 'IntervalIndex', 'MultiIndex', 'NA', 'NaT', 'NamedAgg', 'Period', 'PeriodDtype', 'PeriodIndex', 'RangeIndex', 'Series', 'SparseDtype', 'StringDtype', 'Timedelta', 'TimedeltaIndex', 'Timestamp', 'UInt16Dtype', 'UInt32Dtype', 'UInt64Dtype', 'UInt8Dtype', '__all__', '__builtins__', '__cached__', '__doc__', '__docformat__', '__file__', '__git_version__', '__loader__', '__name__', '__package__', '__path__', '__spec__', '__version__', '_built_with_meson', '_config', '_is_numpy_dev', '_libs', '_pandas_datetime_CAPI', '_pandas_parser_CAPI', '_testing', '_typing', '_version_meson', 'annotations', 'api', 'array', 'arrays', 'bdate_range', 'compat', 'concat', 'core', 'crosstab', 'cut', 'date_range', 'describe_option', 'errors', 'eval', 'factorize', 'from_dummies', 'get_dummies', 'get_option', 'infer_freq', 'interval_range', 'io', 'isna', 'isnull', 'json_normalize', 'lreshape', 'melt', 'merge', 'merge_asof', 'merge_ordered', 'notna', 'notnull', 'offsets', 'option_context', 'options', 'pandas', 'period_range', 'pivot', 'pivot_table', 'plotting', 'qcut', 'read_clipboard', 'read_csv', 'read_excel', 'read_feather', 'read_fwf', 'read_gbq', 'read_hdf', 'read_html', 'read_json', 'read_orc', 'read_parquet', 'read_pickle', 'read_sas', 'read_spss', 'read_sql', 'read_sql_query', 'read_sql_table', 'read_stata', 'read_table', 'read_xml', 'reset_option', 'set_eng_float_format', 'set_option', 'show_versions', 'test', 'testing', 'timedelta_range', 'to_datetime', 'to_numeric', 'to_pickle', 'to_timedelta', 'tseries', 'unique', 'util', 'value_counts', 'wide_to_long']\n"
     ]
    }
   ],
   "source": [
    "import pandas as pd\n",
    "available_functions = dir(pd)\n",
    "print(available_functions)"
   ]
  },
  {
   "cell_type": "markdown",
   "id": "6a5466d1-1f2e-4734-a1df-37a2631631ed",
   "metadata": {},
   "source": [
    "## EDA EXPLORATORY DATA ANALYSIS"
   ]
  },
  {
   "cell_type": "code",
   "execution_count": 24,
   "id": "aaea9239",
   "metadata": {},
   "outputs": [
    {
     "name": "stdout",
     "output_type": "stream",
     "text": [
      "    Complete TCGA ID  Gender  Age at Initial Pathologic Diagnosis ER Status  \\\n",
      "0       TCGA-A2-A0T2  FEMALE                                   66  Negative   \n",
      "1       TCGA-A2-A0CM  FEMALE                                   40  Negative   \n",
      "2       TCGA-BH-A18V  FEMALE                                   48  Negative   \n",
      "3       TCGA-BH-A18Q  FEMALE                                   56  Negative   \n",
      "4       TCGA-BH-A0E0  FEMALE                                   38  Negative   \n",
      "..               ...     ...                                  ...       ...   \n",
      "100     TCGA-BH-A0C7  FEMALE                                   48  Positive   \n",
      "101     TCGA-BH-A0DD    MALE                                   58  Positive   \n",
      "102     TCGA-C8-A12U  FEMALE                                   46  Positive   \n",
      "103     TCGA-C8-A12W  FEMALE                                   49  Positive   \n",
      "104     TCGA-E2-A15A  FEMALE                                   45  Positive   \n",
      "\n",
      "    PR Status HER2 Final Status Tumor Node Node-Coded Metastasis  \\\n",
      "0    Negative          Negative    T3   N3   Positive         M1   \n",
      "1    Negative          Negative    T2   N0   Negative         M0   \n",
      "2    Negative          Negative    T2   N1   Positive         M0   \n",
      "3    Negative          Negative    T2   N1   Positive         M0   \n",
      "4    Negative          Negative    T3   N3   Positive         M0   \n",
      "..        ...               ...   ...  ...        ...        ...   \n",
      "100  Negative          Positive    T2   N1   Positive         M0   \n",
      "101  Positive          Positive    T2   N1   Positive         M0   \n",
      "102  Positive          Negative    T2   N1   Positive         M0   \n",
      "103  Positive          Negative    T4   N1   Positive         M0   \n",
      "104  Positive          Negative    T2   N3   Positive         M0   \n",
      "\n",
      "    Metastasis-Coded  AJCC Stage Converted Stage Survival Data Form  \\\n",
      "0           Positive    Stage IV   No_Conversion           followup   \n",
      "1           Negative   Stage IIA       Stage IIA           followup   \n",
      "2           Negative   Stage IIB   No_Conversion         enrollment   \n",
      "3           Negative   Stage IIB   No_Conversion         enrollment   \n",
      "4           Negative  Stage IIIC   No_Conversion           followup   \n",
      "..               ...         ...             ...                ...   \n",
      "100         Negative   Stage IIB       Stage IIB         enrollment   \n",
      "101         Negative   Stage IIB       Stage IIB         enrollment   \n",
      "102         Negative    Stage IB       Stage IIB         enrollment   \n",
      "103         Negative  Stage IIIB      Stage IIIB         enrollment   \n",
      "104         Negative  Stage IIIC      Stage IIIC         enrollment   \n",
      "\n",
      "    Vital Status  Days to Date of Last Contact  Days to date of Death  \n",
      "0       DECEASED                           240                  240.0  \n",
      "1       DECEASED                           754                  754.0  \n",
      "2       DECEASED                          1555                 1555.0  \n",
      "3       DECEASED                          1692                 1692.0  \n",
      "4         LIVING                           133                    NaN  \n",
      "..           ...                           ...                    ...  \n",
      "100       LIVING                          1305                    NaN  \n",
      "101       LIVING                          1393                    NaN  \n",
      "102       LIVING                             0                    NaN  \n",
      "103       LIVING                             0                    NaN  \n",
      "104       LIVING                           502                    NaN  \n",
      "\n",
      "[105 rows x 17 columns]\n"
     ]
    },
    {
     "data": {
      "text/plain": [
       "(105, 17)"
      ]
     },
     "execution_count": 24,
     "metadata": {},
     "output_type": "execute_result"
    }
   ],
   "source": [
    "import pandas as pd\n",
    "\n",
    "df = pd.read_csv('D:\\dsbda\\DataSets\\cancer\\cancer_clinical_data.csv')\n",
    "\n",
    "print(df) \n",
    "df.shape"
   ]
  },
  {
   "cell_type": "code",
   "execution_count": 25,
   "id": "5d14e03f",
   "metadata": {},
   "outputs": [
    {
     "name": "stdout",
     "output_type": "stream",
     "text": [
      "    Complete TCGA ID  Gender  Age at Initial Pathologic Diagnosis ER Status  \\\n",
      "100     TCGA-BH-A0C7  FEMALE                                   48  Positive   \n",
      "101     TCGA-BH-A0DD    MALE                                   58  Positive   \n",
      "102     TCGA-C8-A12U  FEMALE                                   46  Positive   \n",
      "103     TCGA-C8-A12W  FEMALE                                   49  Positive   \n",
      "104     TCGA-E2-A15A  FEMALE                                   45  Positive   \n",
      "\n",
      "    PR Status HER2 Final Status Tumor Node Node-Coded Metastasis  \\\n",
      "100  Negative          Positive    T2   N1   Positive         M0   \n",
      "101  Positive          Positive    T2   N1   Positive         M0   \n",
      "102  Positive          Negative    T2   N1   Positive         M0   \n",
      "103  Positive          Negative    T4   N1   Positive         M0   \n",
      "104  Positive          Negative    T2   N3   Positive         M0   \n",
      "\n",
      "    Metastasis-Coded  AJCC Stage Converted Stage Survival Data Form  \\\n",
      "100         Negative   Stage IIB       Stage IIB         enrollment   \n",
      "101         Negative   Stage IIB       Stage IIB         enrollment   \n",
      "102         Negative    Stage IB       Stage IIB         enrollment   \n",
      "103         Negative  Stage IIIB      Stage IIIB         enrollment   \n",
      "104         Negative  Stage IIIC      Stage IIIC         enrollment   \n",
      "\n",
      "    Vital Status  Days to Date of Last Contact  Days to date of Death  \n",
      "100       LIVING                          1305                    NaN  \n",
      "101       LIVING                          1393                    NaN  \n",
      "102       LIVING                             0                    NaN  \n",
      "103       LIVING                             0                    NaN  \n",
      "104       LIVING                           502                    NaN  \n",
      "  Complete TCGA ID  Gender  Age at Initial Pathologic Diagnosis ER Status  \\\n",
      "0     TCGA-A2-A0T2  FEMALE                                   66  Negative   \n",
      "1     TCGA-A2-A0CM  FEMALE                                   40  Negative   \n",
      "2     TCGA-BH-A18V  FEMALE                                   48  Negative   \n",
      "3     TCGA-BH-A18Q  FEMALE                                   56  Negative   \n",
      "4     TCGA-BH-A0E0  FEMALE                                   38  Negative   \n",
      "5     TCGA-A7-A0CE  FEMALE                                   57  Negative   \n",
      "6     TCGA-D8-A142  FEMALE                                   74  Negative   \n",
      "7     TCGA-A2-A0D0  FEMALE                                   60  Negative   \n",
      "8     TCGA-AO-A0J6  FEMALE                                   61  Negative   \n",
      "9     TCGA-A2-A0YM  FEMALE                                   67  Negative   \n",
      "\n",
      "  PR Status HER2 Final Status Tumor Node Node-Coded Metastasis  \\\n",
      "0  Negative          Negative    T3   N3   Positive         M1   \n",
      "1  Negative          Negative    T2   N0   Negative         M0   \n",
      "2  Negative          Negative    T2   N1   Positive         M0   \n",
      "3  Negative          Negative    T2   N1   Positive         M0   \n",
      "4  Negative          Negative    T3   N3   Positive         M0   \n",
      "5  Negative          Negative    T2   N0   Negative         M0   \n",
      "6  Negative          Negative    T3   N0   Negative         M0   \n",
      "7  Negative          Negative    T2   N0   Negative         M0   \n",
      "8  Negative          Negative    T2   N0   Negative         M0   \n",
      "9  Negative          Negative    T2   N0   Negative         M0   \n",
      "\n",
      "  Metastasis-Coded  AJCC Stage Converted Stage Survival Data Form  \\\n",
      "0         Positive    Stage IV   No_Conversion           followup   \n",
      "1         Negative   Stage IIA       Stage IIA           followup   \n",
      "2         Negative   Stage IIB   No_Conversion         enrollment   \n",
      "3         Negative   Stage IIB   No_Conversion         enrollment   \n",
      "4         Negative  Stage IIIC   No_Conversion           followup   \n",
      "5         Negative   Stage IIA       Stage IIA           followup   \n",
      "6         Negative   Stage IIB       Stage IIB           followup   \n",
      "7         Negative   Stage IIA       Stage IIA           followup   \n",
      "8         Negative   Stage IIA       Stage IIA           followup   \n",
      "9         Negative   Stage IIA       Stage IIA           followup   \n",
      "\n",
      "  Vital Status  Days to Date of Last Contact  Days to date of Death  \n",
      "0     DECEASED                           240                  240.0  \n",
      "1     DECEASED                           754                  754.0  \n",
      "2     DECEASED                          1555                 1555.0  \n",
      "3     DECEASED                          1692                 1692.0  \n",
      "4       LIVING                           133                    NaN  \n",
      "5       LIVING                           309                    NaN  \n",
      "6       LIVING                           425                    NaN  \n",
      "7       LIVING                           643                    NaN  \n",
      "8       LIVING                           775                    NaN  \n",
      "9       LIVING                           964                    NaN  \n"
     ]
    }
   ],
   "source": [
    "print(df.tail())\n",
    "print(df.head(10)) #defult 5"
   ]
  },
  {
   "cell_type": "code",
   "execution_count": 26,
   "id": "a20c8cba",
   "metadata": {},
   "outputs": [
    {
     "name": "stdout",
     "output_type": "stream",
     "text": [
      "<class 'pandas.core.frame.DataFrame'>\n",
      "RangeIndex: 105 entries, 0 to 104\n",
      "Data columns (total 17 columns):\n",
      " #   Column                               Non-Null Count  Dtype  \n",
      "---  ------                               --------------  -----  \n",
      " 0   Complete TCGA ID                     105 non-null    object \n",
      " 1   Gender                               105 non-null    object \n",
      " 2   Age at Initial Pathologic Diagnosis  105 non-null    int64  \n",
      " 3   ER Status                            105 non-null    object \n",
      " 4   PR Status                            105 non-null    object \n",
      " 5   HER2 Final Status                    105 non-null    object \n",
      " 6   Tumor                                105 non-null    object \n",
      " 7   Node                                 105 non-null    object \n",
      " 8   Node-Coded                           105 non-null    object \n",
      " 9   Metastasis                           105 non-null    object \n",
      " 10  Metastasis-Coded                     105 non-null    object \n",
      " 11  AJCC Stage                           105 non-null    object \n",
      " 12  Converted Stage                      105 non-null    object \n",
      " 13  Survival Data Form                   105 non-null    object \n",
      " 14  Vital Status                         105 non-null    object \n",
      " 15  Days to Date of Last Contact         105 non-null    int64  \n",
      " 16  Days to date of Death                11 non-null     float64\n",
      "dtypes: float64(1), int64(2), object(14)\n",
      "memory usage: 14.1+ KB\n",
      "None\n"
     ]
    }
   ],
   "source": [
    "print(df.info()) "
   ]
  },
  {
   "cell_type": "code",
   "execution_count": 34,
   "id": "21356b22",
   "metadata": {},
   "outputs": [
    {
     "name": "stdout",
     "output_type": "stream",
     "text": [
      "    Complete TCGA ID  Gender  Age at Initial Pathologic Diagnosis      ER Status PR Status HER2 Final Status Tumor Node Node-Coded Metastasis Metastasis-Coded  AJCC Stage Converted Stage Survival Data Form Vital Status  Days to Date of Last Contact  Days to date of Death\n",
      "0       TCGA-A2-A0T2  FEMALE                                   66       Negative  Negative          Negative    T3   N3   Positive         M1         Positive    Stage IV   No_Conversion           followup     DECEASED                           240                  240.0\n",
      "1       TCGA-A2-A0CM  FEMALE                                   40       Negative  Negative          Negative    T2   N0   Negative         M0         Negative   Stage IIA       Stage IIA           followup     DECEASED                           754                  754.0\n",
      "2       TCGA-BH-A18V  FEMALE                                   48       Negative  Negative          Negative    T2   N1   Positive         M0         Negative   Stage IIB   No_Conversion         enrollment     DECEASED                          1555                 1555.0\n",
      "3       TCGA-BH-A18Q  FEMALE                                   56       Negative  Negative          Negative    T2   N1   Positive         M0         Negative   Stage IIB   No_Conversion         enrollment     DECEASED                          1692                 1692.0\n",
      "4       TCGA-BH-A0E0  FEMALE                                   38       Negative  Negative          Negative    T3   N3   Positive         M0         Negative  Stage IIIC   No_Conversion           followup       LIVING                           133                  130.0\n",
      "5       TCGA-A7-A0CE  FEMALE                                   57       Negative  Negative          Negative    T2   N0   Negative         M0         Negative   Stage IIA       Stage IIA           followup       LIVING                           309                  130.0\n",
      "6       TCGA-D8-A142  FEMALE                                   74       Negative  Negative          Negative    T3   N0   Negative         M0         Negative   Stage IIB       Stage IIB           followup       LIVING                           425                  130.0\n",
      "7       TCGA-A2-A0D0  FEMALE                                   60       Negative  Negative          Negative    T2   N0   Negative         M0         Negative   Stage IIA       Stage IIA           followup       LIVING                           643                  130.0\n",
      "8       TCGA-AO-A0J6  FEMALE                                   61       Negative  Negative          Negative    T2   N0   Negative         M0         Negative   Stage IIA       Stage IIA           followup       LIVING                           775                  130.0\n",
      "9       TCGA-A2-A0YM  FEMALE                                   67       Negative  Negative          Negative    T2   N0   Negative         M0         Negative   Stage IIA       Stage IIA           followup       LIVING                           964                  130.0\n",
      "10      TCGA-A2-A0D2  FEMALE                                   45       Negative  Negative          Negative    T2   N0   Negative         M0         Negative   Stage IIB       Stage IIA           followup       LIVING                          1027                  130.0\n",
      "11      TCGA-A2-A0SX  FEMALE                                   48       Negative  Negative          Negative    T1   N0   Negative         M0         Negative    Stage IA         Stage I           followup       LIVING                          1288                  130.0\n",
      "12      TCGA-AO-A0JL  FEMALE                                   59       Negative  Negative          Negative    T2   N2   Positive         M0         Negative  Stage IIIA   No_Conversion           followup       LIVING                          1319                  130.0\n",
      "13      TCGA-AO-A12F  FEMALE                                   36       Negative  Negative          Negative    T2   N0   Negative         M0         Negative   Stage IIA       Stage IIA           followup       LIVING                          1471                  130.0\n",
      "14      TCGA-AN-A0AL  FEMALE                                   41       Negative  Negative          Negative    T4   N0   Negative         M0         Negative  Stage IIIB   No_Conversion         enrollment       LIVING                           197                  130.0\n",
      "15      TCGA-AN-A0FL  FEMALE                                   62       Negative  Negative          Negative    T2   N0   Negative         M0         Negative   Stage IIA   No_Conversion         enrollment       LIVING                           230                  130.0\n",
      "16      TCGA-AR-A0U4  FEMALE                                   54       Negative  Negative          Negative    T2   N0   Negative         M0         Negative    Stage II   No_Conversion         enrollment       LIVING                          1627                  130.0\n",
      "17      TCGA-AR-A1AQ  FEMALE                                   49       Negative  Negative          Negative    T2   N0   Negative         M0         Negative    Stage II       Stage IIA         enrollment       LIVING                          1309                  130.0\n",
      "18      TCGA-BH-A0AV  FEMALE                                   52       Negative  Negative          Negative    T1   N0   Negative         M0         Negative     Stage I         Stage I         enrollment       LIVING                          1180                  130.0\n",
      "19      TCGA-C8-A12V  FEMALE                                   55       Negative  Negative          Negative    T2   N0   Negative         M0         Negative   Stage IIA       Stage IIA         enrollment       LIVING                             0                  130.0\n",
      "20      TCGA-C8-A131  FEMALE                                   82       Negative  Negative          Negative    T2   N2   Positive         M0         Negative   Stage III      Stage IIIA         enrollment       LIVING                             0                  130.0\n",
      "21      TCGA-C8-A134  FEMALE                                   52       Negative  Negative          Negative    T2   N0   Negative         M0         Negative   Stage IIA   No_Conversion         enrollment       LIVING                             0                  130.0\n",
      "22      TCGA-E2-A150  FEMALE                                   48       Negative  Negative          Negative    T2   N0   Negative         M0         Negative   Stage IIA       Stage IIA         enrollment       LIVING                           591                  130.0\n",
      "23      TCGA-E2-A158  FEMALE                                   43       Negative  Negative          Negative    T1   N1   Positive         M0         Negative   Stage IIA       Stage IIA         enrollment       LIVING                           450                  130.0\n",
      "24      TCGA-E2-A159  FEMALE                                   50       Negative  Negative          Negative    T2   N0   Negative         M0         Negative   Stage IIA       Stage IIA         enrollment       LIVING                           515                  130.0\n",
      "25      TCGA-BH-A18R  FEMALE                                   50  Indeterminate  Negative          Positive    T2   N1   Positive         M0         Negative    Stage IB   No_Conversion         enrollment     DECEASED                          1099                 1141.0\n",
      "26      TCGA-A2-A0T1  FEMALE                                   55       Negative  Negative          Positive    T3   N3   Positive         M0         Negative  Stage IIIC   No_Conversion           followup       LIVING                           520                  130.0\n",
      "27      TCGA-BH-A0EE  FEMALE                                   68       Negative  Negative          Positive    T3   N0   Negative         M0         Negative   Stage IIB       Stage IIB           followup       LIVING                           943                  130.0\n",
      "28      TCGA-A2-A0D1  FEMALE                                   76       Negative  Negative          Positive    T2   N0   Negative         M0         Negative   Stage IIA       Stage IIA           followup       LIVING                          1051                  130.0\n",
      "29      TCGA-AO-A12D  FEMALE                                   43       Negative  Negative          Positive    T1   N1   Positive         M0         Negative   Stage IIA   No_Conversion           followup       LIVING                          1948                  130.0\n",
      "30      TCGA-AO-A0JE  FEMALE                                   53       Negative  Negative          Positive    T2   N2   Positive         M0         Negative  Stage IIIA   No_Conversion           followup       LIVING                          1965                  130.0\n",
      "31      TCGA-A2-A0EQ  FEMALE                                   64       Negative  Negative          Positive    T2   N0   Negative         M0         Negative   Stage IIA       Stage IIA           followup       LIVING                          2426                  130.0\n",
      "32      TCGA-A8-A076  FEMALE                                   66       Positive  Positive          Positive    T2   N0   Negative         M0         Negative   Stage IIA       Stage IIA         enrollment       LIVING                          1641                  130.0\n",
      "33      TCGA-A8-A09G  FEMALE                                   79       Positive  Negative          Positive    T3   N3   Positive         M0         Negative  Stage IIIC      Stage IIIC         enrollment       LIVING                             0                  130.0\n",
      "34      TCGA-AR-A0TX  FEMALE                                   64       Positive  Positive          Positive    T1   N1   Positive         M0         Negative    Stage II   No_Conversion         enrollment       LIVING                            15                  130.0\n",
      "35      TCGA-C8-A12L  FEMALE                                   67       Negative  Negative          Positive    T2   N0   Negative         M0         Negative   Stage IIA       Stage IIA         enrollment       LIVING                             0                  130.0\n",
      "36      TCGA-C8-A12P  FEMALE                                   55       Negative  Negative          Positive    T2   N1   Positive         M0         Negative   Stage IIB   No_Conversion         enrollment       LIVING                             0                  130.0\n",
      "37      TCGA-C8-A12Q  FEMALE                                   78       Negative  Negative          Positive    T1   N2   Positive         M0         Negative  Stage IIIA   No_Conversion         enrollment       LIVING                             0                  130.0\n",
      "38      TCGA-C8-A12T  FEMALE                                   43       Positive  Positive          Positive    T2   N0   Negative         M0         Negative   Stage IIA       Stage IIA         enrollment       LIVING                             0                  130.0\n",
      "39      TCGA-C8-A12Z  FEMALE                                   45       Negative  Negative          Positive    T2   N1   Positive         M0         Negative    Stage II       Stage IIB         enrollment       LIVING                             0                  130.0\n",
      "40      TCGA-C8-A130  FEMALE                                   52       Positive  Positive         Equivocal    T3   N2   Positive         M0         Negative  Stage IIIA      Stage IIIA         enrollment       LIVING                             0                  130.0\n",
      "41      TCGA-C8-A135  FEMALE                                   64       Negative  Negative          Positive    T2   N1   Positive         M0         Negative    Stage II       Stage IIB         enrollment       LIVING                             0                  130.0\n",
      "42      TCGA-C8-A138  FEMALE                                   54       Positive  Negative          Positive    T2   N2   Positive         M0         Negative   Stage III      Stage IIIA         enrollment       LIVING                             7                  130.0\n",
      "43      TCGA-AR-A0TR  FEMALE                                   68       Positive  Positive          Negative    T2   N1   Positive         M0         Negative    Stage II   No_Conversion         enrollment     DECEASED                            21                  160.0\n",
      "44      TCGA-BH-A18N  FEMALE                                   88       Positive  Positive          Negative    T2   N1   Positive         M0         Negative   Stage IIA   No_Conversion         enrollment     DECEASED                          1148                 1148.0\n",
      "45      TCGA-BH-A0HK  FEMALE                                   81       Positive  Negative          Negative    T2   N1   Positive         M0         Negative   Stage IIB   No_Conversion           followup       LIVING                           178                  130.0\n",
      "46      TCGA-A7-A0CD  FEMALE                                   66       Positive  Positive          Negative    T1   N0   Negative         M0         Negative    Stage IA         Stage I           followup       LIVING                           372                  130.0\n",
      "47      TCGA-BH-A0HP  FEMALE                                   65       Positive  Negative          Negative    T3   N2   Positive         M0         Negative  Stage IIIA   No_Conversion           followup       LIVING                           414                  130.0\n",
      "48      TCGA-A2-A0YI  FEMALE                                   62       Positive  Positive          Negative    T1   N0   Negative         M0         Negative    Stage IA         Stage I           followup       LIVING                           441                  130.0\n",
      "49      TCGA-A2-A0YL  FEMALE                                   48       Positive  Positive          Negative    T3   N2   Positive         M0         Negative  Stage IIIA   No_Conversion           followup       LIVING                           445                  130.0\n",
      "50      TCGA-A2-A0YF  FEMALE                                   67       Positive  Negative          Negative    T1   N0   Negative         M0         Negative    Stage IA         Stage I           followup       LIVING                           469                  130.0\n",
      "51      TCGA-BH-A0E1  FEMALE                                   52       Positive  Positive          Negative    T2   N1   Positive         M0         Negative   Stage IIB   No_Conversion           followup       LIVING                           477                  130.0\n",
      "52      TCGA-A2-A0T6  FEMALE                                   50       Positive  Positive          Negative    T3   N0   Negative         M0         Negative   Stage IIB       Stage IIB           followup       LIVING                           575                  130.0\n",
      "53      TCGA-A2-A0T7  FEMALE                                   51       Positive  Positive          Negative    T2   N0   Negative         M0         Negative   Stage IIA       Stage IIA           followup       LIVING                           631                  130.0\n",
      "54      TCGA-A2-A0YD  FEMALE                                   63       Positive  Positive          Negative    T3   N0   Negative         M0         Negative   Stage IIB       Stage IIB           followup       LIVING                           769                  130.0\n",
      "55      TCGA-A2-A0EV  FEMALE                                   80       Positive  Positive          Negative    T1   N0   Negative         M0         Negative    Stage IA         Stage I           followup       LIVING                           968                  130.0\n",
      "56      TCGA-A2-A0YC  FEMALE                                   59       Positive  Positive          Negative    T2   N1   Positive         M0         Negative   Stage IIB   No_Conversion           followup       LIVING                           989                  130.0\n",
      "57      TCGA-AO-A0J9  FEMALE                                   61       Positive  Positive          Negative    T2   N3   Positive         M0         Negative  Stage IIIC   No_Conversion           followup       LIVING                          1255                  130.0\n",
      "58      TCGA-BH-A0BV  FEMALE                                   78       Positive  Positive          Negative    T2   N1   Positive         M0         Negative   Stage IIB   No_Conversion           followup       LIVING                          1519                  130.0\n",
      "59      TCGA-AO-A12E  FEMALE                                   51       Positive  Positive          Negative    T3   N0   Negative         M0         Negative   Stage IIB       Stage IIB           followup       LIVING                          1742                  130.0\n",
      "60      TCGA-AO-A126  FEMALE                                   39       Positive  Positive          Negative    T2   N0   Negative         M0         Negative   Stage IIA       Stage IIA           followup       LIVING                          2850                  130.0\n",
      "61      TCGA-A2-A0EX  FEMALE                                   46       Positive  Positive          Negative    T3   N0   Negative         M0         Negative   Stage IIB       Stage IIB         enrollment       LIVING                           549                  130.0\n",
      "62      TCGA-AO-A0JJ  FEMALE                                   54       Positive  Positive          Negative    T2   N1   Positive         M0         Negative   Stage IIB   No_Conversion         enrollment       LIVING                          1512                  130.0\n",
      "63      TCGA-A8-A08Z  FEMALE                                   76       Positive  Positive          Negative    T4   N3   Positive         M0         Negative  Stage IIIB      Stage IIIC         enrollment       LIVING                          1217                  130.0\n",
      "64      TCGA-AN-A04A  FEMALE                                   36       Positive  Positive          Negative    T2   N2   Positive         M0         Negative  Stage IIIA   No_Conversion         enrollment       LIVING                            89                  130.0\n",
      "65      TCGA-AR-A1AP  FEMALE                                   80       Positive  Positive          Negative    T1   N0   Negative         M0         Negative     Stage I         Stage I         enrollment       LIVING                          1215                  130.0\n",
      "66      TCGA-AR-A1AS  FEMALE                                   54       Positive  Positive          Negative    T2   N1   Positive         M0         Negative    Stage II       Stage IIB         enrollment       LIVING                          1242                  130.0\n",
      "67      TCGA-AR-A1AW  FEMALE                                   65       Positive  Positive          Negative    T2   N0   Negative         M0         Negative    Stage II       Stage IIA         enrollment       LIVING                          1072                  130.0\n",
      "68      TCGA-BH-A0C1  FEMALE                                   61       Positive  Positive          Negative    T3   N2   Positive         M0         Negative  Stage IIIA      Stage IIIA         enrollment       LIVING                          1338                  130.0\n",
      "69      TCGA-BH-A0DG  FEMALE                                   30       Positive  Negative          Negative    T2   N0   Negative         M0         Negative   Stage IIA       Stage IIA         enrollment       LIVING                           713                  130.0\n",
      "70      TCGA-BH-A0E9  FEMALE                                   53       Positive  Positive          Negative    T2   N1   Positive         M0         Negative   Stage IIB       Stage IIB         enrollment       LIVING                          1405                  130.0\n",
      "71      TCGA-E2-A154  FEMALE                                   68       Positive  Positive          Negative    T1   N0   Negative         M0         Negative     Stage I         Stage I         enrollment       LIVING                           325                  130.0\n",
      "72      TCGA-AO-A03O  FEMALE                                   69       Positive  Positive          Negative    T2   N0   Negative         M0         Negative   Stage IIA       Stage IIA           followup     DECEASED                           993                 2483.0\n",
      "73      TCGA-A2-A0SW  FEMALE                                   82       Positive  Negative          Negative    T2   N2   Positive         M1         Positive    Stage IV   No_Conversion           followup     DECEASED                          1364                 1364.0\n",
      "74      TCGA-BH-A18U  FEMALE                                   72       Positive  Positive          Positive    T2   N2   Positive         M0         Negative  Stage IIIA      Stage IIIA         enrollment     DECEASED                          1317                 1563.0\n",
      "75      TCGA-AR-A0TY  FEMALE                                   54       Positive  Negative          Negative    T2   N0   Negative         M0         Negative    Stage II   No_Conversion         enrollment     DECEASED                           544                 1699.0\n",
      "76      TCGA-D8-A13Y  FEMALE                                   52       Positive  Positive          Negative    T1   N0   Negative         M0         Negative    Stage IA   No_Conversion           followup       LIVING                           362                  130.0\n",
      "77      TCGA-A7-A13F  FEMALE                                   44       Positive  Positive          Negative    T3   N1   Positive         M0         Negative  Stage IIIA   No_Conversion           followup       LIVING                           387                  130.0\n",
      "78      TCGA-A7-A0CJ  FEMALE                                   57       Positive  Positive          Negative    T2   N0   Negative         M0         Negative   Stage IIA       Stage IIA           followup       LIVING                           409                  130.0\n",
      "79      TCGA-A2-A0T3  FEMALE                                   37       Positive  Positive          Negative    T1   N1   Positive         M0         Negative    Stage IA       Stage IIA           followup       LIVING                           569                  130.0\n",
      "80      TCGA-A2-A0YG  FEMALE                                   63       Positive  Positive          Positive    T2   N3   Positive         M0         Negative  Stage IIIC   No_Conversion           followup       LIVING                           665                  130.0\n",
      "81      TCGA-A2-A0EY  FEMALE                                   62       Positive  Negative          Positive    T2   N1   Positive         M0         Negative   Stage IIB   No_Conversion           followup       LIVING                           735                  130.0\n",
      "82      TCGA-E2-A10A  FEMALE                                   41       Positive  Positive          Negative    T3   N0   Negative         M0         Negative   Stage IIB       Stage IIB           followup       LIVING                          1229                  130.0\n",
      "83      TCGA-BH-A0C0  FEMALE                                   62       Positive  Positive          Positive    T1   N1   Positive         M0         Negative   Stage IIA   No_Conversion           followup       LIVING                          1270                  130.0\n",
      "84      TCGA-AO-A0JC  FEMALE                                   64       Positive  Positive          Negative    T2   N0   Negative         M0         Negative   Stage IIA       Stage IIA           followup       LIVING                          1547                  130.0\n",
      "85      TCGA-AO-A0JM  FEMALE                                   40       Positive  Positive          Positive    T2   N1   Positive         M0         Negative   Stage IIB   No_Conversion           followup       LIVING                          1826                  130.0\n",
      "86      TCGA-AO-A12B  FEMALE                                   63       Positive  Positive          Negative    T2   N0   Negative         M0         Negative   Stage IIA       Stage IIA           followup       LIVING                          2359                  130.0\n",
      "87      TCGA-A8-A06N  FEMALE                                   66       Positive  Negative          Negative    T4   N0   Negative         M0         Negative  Stage IIIB      Stage IIIB         enrollment       LIVING                             0                  130.0\n",
      "88      TCGA-A8-A06Z  FEMALE                                   84       Positive  Positive          Negative    T3   N0   Negative         M0         Negative   Stage IIB       Stage IIB         enrollment       LIVING                            31                  130.0\n",
      "89      TCGA-A8-A079  FEMALE                                   69       Positive  Positive          Negative    T4   N3   Positive         M0         Negative  Stage IIIB      Stage IIIC         enrollment       LIVING                           274                  130.0\n",
      "90      TCGA-A8-A08G  FEMALE                                   41       Positive  Positive          Positive    T2   N0   Negative         M0         Negative   Stage IIA       Stage IIA         enrollment       LIVING                           606                  130.0\n",
      "91      TCGA-A8-A09I  FEMALE                                   84       Positive  Positive          Positive    T2   N0   Negative         M0         Negative   Stage IIA       Stage IIA         enrollment       LIVING                          1006                  130.0\n",
      "92      TCGA-AN-A0AJ  FEMALE                                   79       Positive  Positive          Positive    T3   N0   Negative         M0         Negative   Stage IIB   No_Conversion         enrollment       LIVING                           243                  130.0\n",
      "93      TCGA-AN-A0AM  FEMALE                                   56       Positive  Negative          Negative    T2   N0   Negative         M0         Negative   Stage IIA   No_Conversion         enrollment       LIVING                             5                  130.0\n",
      "94      TCGA-AN-A0AS  FEMALE                                   70       Positive  Negative          Negative    T2   N2   Positive         M0         Negative  Stage IIIA   No_Conversion         enrollment       LIVING                             9                  130.0\n",
      "95      TCGA-AN-A0FK  FEMALE                                   88       Positive  Positive          Negative    T4   N0   Negative         M0         Negative  Stage IIIB   No_Conversion         enrollment       LIVING                           212                  130.0\n",
      "96      TCGA-AR-A0TT  FEMALE                                   53       Positive  Negative          Negative    T2   N2   Positive         M0         Negative   Stage III   No_Conversion         enrollment       LIVING                          1679                  130.0\n",
      "97      TCGA-AR-A0TV  FEMALE                                   66       Positive  Positive          Negative    T2   N0   Negative         M0         Negative    Stage II   No_Conversion         enrollment       LIVING                           904                  130.0\n",
      "98      TCGA-AR-A1AV    MALE                                   68       Positive  Positive          Negative    T2   N1   Positive         M0         Negative    Stage II       Stage IIB         enrollment       LIVING                          1295                  130.0\n",
      "99      TCGA-BH-A0BZ  FEMALE                                   59       Positive  Positive          Negative    T3   N1   Positive         M0         Negative  Stage IIIA      Stage IIIA         enrollment       LIVING                          1492                  130.0\n",
      "100     TCGA-BH-A0C7  FEMALE                                   48       Positive  Negative          Positive    T2   N1   Positive         M0         Negative   Stage IIB       Stage IIB         enrollment       LIVING                          1305                  130.0\n",
      "101     TCGA-BH-A0DD    MALE                                   58       Positive  Positive          Positive    T2   N1   Positive         M0         Negative   Stage IIB       Stage IIB         enrollment       LIVING                          1393                  130.0\n",
      "102     TCGA-C8-A12U  FEMALE                                   46       Positive  Positive          Negative    T2   N1   Positive         M0         Negative    Stage IB       Stage IIB         enrollment       LIVING                             0                  130.0\n",
      "103     TCGA-C8-A12W  FEMALE                                   49       Positive  Positive          Negative    T4   N1   Positive         M0         Negative  Stage IIIB      Stage IIIB         enrollment       LIVING                             0                  130.0\n",
      "104     TCGA-E2-A15A  FEMALE                                   45       Positive  Positive          Negative    T2   N3   Positive         M0         Negative  Stage IIIC      Stage IIIC         enrollment       LIVING                           502                  130.0\n"
     ]
    }
   ],
   "source": [
    "new_df = df.dropna()\n",
    "\n",
    "print(new_df.to_string())"
   ]
  },
  {
   "cell_type": "code",
   "execution_count": 28,
   "id": "f5c3bbe8",
   "metadata": {},
   "outputs": [],
   "source": [
    "df.fillna(130, inplace = True)  #The fillna() method allows us to replace empty cells with a value"
   ]
  },
  {
   "cell_type": "code",
   "execution_count": 29,
   "id": "8bc9604b",
   "metadata": {},
   "outputs": [],
   "source": [
    "df[\"Days to Date of Last Contact\"].fillna(130, inplace = True)"
   ]
  },
  {
   "cell_type": "code",
   "execution_count": 31,
   "id": "ac0b353a",
   "metadata": {},
   "outputs": [
    {
     "name": "stdout",
     "output_type": "stream",
     "text": [
      "0      False\n",
      "1      False\n",
      "2      False\n",
      "3      False\n",
      "4      False\n",
      "       ...  \n",
      "100    False\n",
      "101    False\n",
      "102    False\n",
      "103    False\n",
      "104    False\n",
      "Length: 105, dtype: bool\n"
     ]
    }
   ],
   "source": [
    "print(df.duplicated())\n",
    "df.drop_duplicates(inplace = True)"
   ]
  },
  {
   "cell_type": "code",
   "execution_count": 35,
   "id": "6d34491b",
   "metadata": {},
   "outputs": [
    {
     "ename": "ValueError",
     "evalue": "could not convert string to float: 'TCGA-A2-A0T2'",
     "output_type": "error",
     "traceback": [
      "\u001b[1;31m---------------------------------------------------------------------------\u001b[0m",
      "\u001b[1;31mValueError\u001b[0m                                Traceback (most recent call last)",
      "Cell \u001b[1;32mIn[35], line 1\u001b[0m\n\u001b[1;32m----> 1\u001b[0m df\u001b[38;5;241m.\u001b[39mcorr()\n",
      "File \u001b[1;32mC:\\miniconda\\envs\\pytorch\\Lib\\site-packages\\pandas\\core\\frame.py:10704\u001b[0m, in \u001b[0;36mDataFrame.corr\u001b[1;34m(self, method, min_periods, numeric_only)\u001b[0m\n\u001b[0;32m  10702\u001b[0m cols \u001b[38;5;241m=\u001b[39m data\u001b[38;5;241m.\u001b[39mcolumns\n\u001b[0;32m  10703\u001b[0m idx \u001b[38;5;241m=\u001b[39m cols\u001b[38;5;241m.\u001b[39mcopy()\n\u001b[1;32m> 10704\u001b[0m mat \u001b[38;5;241m=\u001b[39m data\u001b[38;5;241m.\u001b[39mto_numpy(dtype\u001b[38;5;241m=\u001b[39m\u001b[38;5;28mfloat\u001b[39m, na_value\u001b[38;5;241m=\u001b[39mnp\u001b[38;5;241m.\u001b[39mnan, copy\u001b[38;5;241m=\u001b[39m\u001b[38;5;28;01mFalse\u001b[39;00m)\n\u001b[0;32m  10706\u001b[0m \u001b[38;5;28;01mif\u001b[39;00m method \u001b[38;5;241m==\u001b[39m \u001b[38;5;124m\"\u001b[39m\u001b[38;5;124mpearson\u001b[39m\u001b[38;5;124m\"\u001b[39m:\n\u001b[0;32m  10707\u001b[0m     correl \u001b[38;5;241m=\u001b[39m libalgos\u001b[38;5;241m.\u001b[39mnancorr(mat, minp\u001b[38;5;241m=\u001b[39mmin_periods)\n",
      "File \u001b[1;32mC:\\miniconda\\envs\\pytorch\\Lib\\site-packages\\pandas\\core\\frame.py:1889\u001b[0m, in \u001b[0;36mDataFrame.to_numpy\u001b[1;34m(self, dtype, copy, na_value)\u001b[0m\n\u001b[0;32m   1887\u001b[0m \u001b[38;5;28;01mif\u001b[39;00m dtype \u001b[38;5;129;01mis\u001b[39;00m \u001b[38;5;129;01mnot\u001b[39;00m \u001b[38;5;28;01mNone\u001b[39;00m:\n\u001b[0;32m   1888\u001b[0m     dtype \u001b[38;5;241m=\u001b[39m np\u001b[38;5;241m.\u001b[39mdtype(dtype)\n\u001b[1;32m-> 1889\u001b[0m result \u001b[38;5;241m=\u001b[39m \u001b[38;5;28mself\u001b[39m\u001b[38;5;241m.\u001b[39m_mgr\u001b[38;5;241m.\u001b[39mas_array(dtype\u001b[38;5;241m=\u001b[39mdtype, copy\u001b[38;5;241m=\u001b[39mcopy, na_value\u001b[38;5;241m=\u001b[39mna_value)\n\u001b[0;32m   1890\u001b[0m \u001b[38;5;28;01mif\u001b[39;00m result\u001b[38;5;241m.\u001b[39mdtype \u001b[38;5;129;01mis\u001b[39;00m \u001b[38;5;129;01mnot\u001b[39;00m dtype:\n\u001b[0;32m   1891\u001b[0m     result \u001b[38;5;241m=\u001b[39m np\u001b[38;5;241m.\u001b[39marray(result, dtype\u001b[38;5;241m=\u001b[39mdtype, copy\u001b[38;5;241m=\u001b[39m\u001b[38;5;28;01mFalse\u001b[39;00m)\n",
      "File \u001b[1;32mC:\\miniconda\\envs\\pytorch\\Lib\\site-packages\\pandas\\core\\internals\\managers.py:1656\u001b[0m, in \u001b[0;36mBlockManager.as_array\u001b[1;34m(self, dtype, copy, na_value)\u001b[0m\n\u001b[0;32m   1654\u001b[0m         arr\u001b[38;5;241m.\u001b[39mflags\u001b[38;5;241m.\u001b[39mwriteable \u001b[38;5;241m=\u001b[39m \u001b[38;5;28;01mFalse\u001b[39;00m\n\u001b[0;32m   1655\u001b[0m \u001b[38;5;28;01melse\u001b[39;00m:\n\u001b[1;32m-> 1656\u001b[0m     arr \u001b[38;5;241m=\u001b[39m \u001b[38;5;28mself\u001b[39m\u001b[38;5;241m.\u001b[39m_interleave(dtype\u001b[38;5;241m=\u001b[39mdtype, na_value\u001b[38;5;241m=\u001b[39mna_value)\n\u001b[0;32m   1657\u001b[0m     \u001b[38;5;66;03m# The underlying data was copied within _interleave, so no need\u001b[39;00m\n\u001b[0;32m   1658\u001b[0m     \u001b[38;5;66;03m# to further copy if copy=True or setting na_value\u001b[39;00m\n\u001b[0;32m   1660\u001b[0m \u001b[38;5;28;01mif\u001b[39;00m na_value \u001b[38;5;129;01mis\u001b[39;00m lib\u001b[38;5;241m.\u001b[39mno_default:\n",
      "File \u001b[1;32mC:\\miniconda\\envs\\pytorch\\Lib\\site-packages\\pandas\\core\\internals\\managers.py:1715\u001b[0m, in \u001b[0;36mBlockManager._interleave\u001b[1;34m(self, dtype, na_value)\u001b[0m\n\u001b[0;32m   1713\u001b[0m     \u001b[38;5;28;01melse\u001b[39;00m:\n\u001b[0;32m   1714\u001b[0m         arr \u001b[38;5;241m=\u001b[39m blk\u001b[38;5;241m.\u001b[39mget_values(dtype)\n\u001b[1;32m-> 1715\u001b[0m     result[rl\u001b[38;5;241m.\u001b[39mindexer] \u001b[38;5;241m=\u001b[39m arr\n\u001b[0;32m   1716\u001b[0m     itemmask[rl\u001b[38;5;241m.\u001b[39mindexer] \u001b[38;5;241m=\u001b[39m \u001b[38;5;241m1\u001b[39m\n\u001b[0;32m   1718\u001b[0m \u001b[38;5;28;01mif\u001b[39;00m \u001b[38;5;129;01mnot\u001b[39;00m itemmask\u001b[38;5;241m.\u001b[39mall():\n",
      "\u001b[1;31mValueError\u001b[0m: could not convert string to float: 'TCGA-A2-A0T2'"
     ]
    }
   ],
   "source": [
    "df.corr()"
   ]
  },
  {
   "cell_type": "code",
   "execution_count": 20,
   "id": "e726da16",
   "metadata": {},
   "outputs": [
    {
     "data": {
      "image/png": "[encoded data removed]",
      "text/plain": [
       "<Figure size 640x480 with 1 Axes>"
      ]
     },
     "metadata": {},
     "output_type": "display_data"
    }
   ],
   "source": [
    "import matplotlib\n",
    "\n",
    "import matplotlib.pyplot as plt\n",
    "import numpy as np\n",
    "\n",
    "ypoints = np.array([3, 8, 1, 10, 5, 7])\n",
    "\n",
    "plt.plot(ypoints,marker = 'o',ls='--') \n",
    "plt.show()"
   ]
  },
  {
   "cell_type": "markdown",
   "id": "5b0725be",
   "metadata": {},
   "source": [
    "The line style can be written in a shorter syntax:\n",
    "\n",
    "linestyle can be written as ls.\n",
    "\n",
    "dotted can be written as :.\n",
    "\n",
    "dashed can be written as --."
   ]
  },
  {
   "cell_type": "code",
   "execution_count": 21,
   "id": "bda0bcd2",
   "metadata": {},
   "outputs": [
    {
     "data": {
      "image/png": "[encoded data removed]",
      "text/plain": [
       "<Figure size 640x480 with 1 Axes>"
      ]
     },
     "metadata": {},
     "output_type": "display_data"
    }
   ],
   "source": [
    "import matplotlib.pyplot as plt\n",
    "import numpy as np\n",
    "x = np.array([80, 85, 90, 95, 100, 105, 110, 115, 120, 125])\n",
    "y = np.array([240, 250, 260, 270, 280, 290, 300, 310, 320, 330])\n",
    "\n",
    "plt.plot(x, y)\n",
    "\n",
    "plt.title(\"Sports Watch Data\")\n",
    "plt.xlabel(\"Average Pulse\")\n",
    "plt.ylabel(\"Calorie Burnage\") #you can use the xlabel() and ylabel() functions to set a label for the x- and y-axis\n",
    "plt.grid()\n",
    "plt.show()"
   ]
  },
  {
   "cell_type": "markdown",
   "id": "85231bd9",
   "metadata": {},
   "source": [
    "## ADD MORE SuBPLOTS"
   ]
  },
  {
   "cell_type": "code",
   "execution_count": 38,
   "id": "9bd9a716",
   "metadata": {},
   "outputs": [
    {
     "data": {
      "image/png": "[encoded data removed]",
      "text/plain": [
       "<Figure size 640x480 with 2 Axes>"
      ]
     },
     "metadata": {},
     "output_type": "display_data"
    }
   ],
   "source": [
    "import matplotlib.pyplot as plt\n",
    "import numpy as np\n",
    "\n",
    "#plot 1:\n",
    "x = np.array([0, 1, 2, 3])\n",
    "y = np.array([3, 8, 1, 10])\n",
    "\n",
    "plt.subplot(1, 2, 1) #the figure has 1 row, 2 columns, and this plot is the first plot.\n",
    "plt.plot(x,y)\n",
    "\n",
    "#plot 2:\n",
    "x = np.array([0, 1, 2, 3])\n",
    "y = np.array([10, 20, 30, 40])\n",
    "\n",
    "plt.subplot(1, 2, 2) #the figure has 1 row, 2 columns, and this plot is the second plot.\n",
    "plt.plot(x,y)\n",
    "\n",
    "plt.show()"
   ]
  },
  {
   "cell_type": "markdown",
   "id": "5530d803",
   "metadata": {},
   "source": [
    "The scatter() function plots one dot for each observation. It needs two arrays of the same length, one for the values of the x-axis, and one for values on the y-axis:"
   ]
  },
  {
   "cell_type": "code",
   "execution_count": null,
   "id": "85ef09cb",
   "metadata": {},
   "outputs": [],
   "source": [
    "import matplotlib.pyplot as plt\n",
    "import numpy as np\n",
    "\n",
    "x = np.array([5,7,8,7,2,17,2,9,4,11,12,9,6])\n",
    "y = np.array([99,86,87,88,111,86,103,87,94,78,77,85,86])\n",
    "\n",
    "plt.scatter(x, y)\n",
    "plt.show()"
   ]
  },
  {
   "cell_type": "code",
   "execution_count": 39,
   "id": "5dcc4ccd",
   "metadata": {},
   "outputs": [
    {
     "data": {
      "image/png": "[encoded data removed]",
      "text/plain": [
       "<Figure size 640x480 with 1 Axes>"
      ]
     },
     "metadata": {},
     "output_type": "display_data"
    }
   ],
   "source": [
    "# Assuming your CSV has columns named 'Category' and 'Value'\n",
    "tumor = df['Tumor']\n",
    "Age = df['Age at Initial Pathologic Diagnosis']\n",
    "\n",
    "# Plotting the bar chart\n",
    "plt.bar(tumor, Age)\n",
    "\n",
    "# Adding labels and title\n",
    "plt.xlabel('Tumor')\n",
    "plt.ylabel('Age')\n",
    "plt.title('Tumor Vs Age')\n",
    "\n",
    "# Display the plot\n",
    "plt.show()"
   ]
  },
  {
   "cell_type": "markdown",
   "id": "24482d97",
   "metadata": {},
   "source": [
    "## Do one more analysis like the bar and other charts"
   ]
  },
  {
   "cell_type": "code",
   "execution_count": 40,
   "id": "e7be9c4c",
   "metadata": {},
   "outputs": [
    {
     "data": {
      "image/png": "[encoded data removed]",
      "text/plain": [
       "<Figure size 640x480 with 1 Axes>"
      ]
     },
     "metadata": {},
     "output_type": "display_data"
    }
   ],
   "source": [
    "import matplotlib.pyplot as plt\n",
    "values = df['Days to Date of Last Contact']\n",
    "\n",
    "# Plotting the histogram\n",
    "plt.hist(values,edgecolor='black')  # Adjust the number of bins as needed\n",
    "\n",
    "# Adding labels and title\n",
    "plt.xlabel('Values')\n",
    "plt.ylabel('Frequency')\n",
    "plt.title('Histogram Example')\n",
    "\n",
    "# Display the plot\n",
    "plt.show()"
   ]
  },
  {
   "cell_type": "code",
   "execution_count": 23,
   "id": "519b13fc",
   "metadata": {},
   "outputs": [
    {
     "data": {
      "image/png": "[encoded data removed]",
      "text/plain": [
       "<Figure size 640x480 with 1 Axes>"
      ]
     },
     "metadata": {},
     "output_type": "display_data"
    }
   ],
   "source": [
    "\n",
    "import numpy as np\n",
    "\n",
    "y = np.array([35, 25, 25, 15])\n",
    "mylabels = [\"Apples\", \"Bananas\", \"Cherries\", \"Dates\"]\n",
    "myexplode = [0.2, 0, 0, 0.4]\n",
    "plt.pie(y, labels = mylabels,explode = myexplode)\n",
    "plt.show() \n"
   ]
  },
  {
   "cell_type": "code",
   "execution_count": null,
   "id": "a742143a",
   "metadata": {},
   "outputs": [],
   "source": [
    "new_df = df.dropna()\n",
    "\n",
    "print(new_df.to_string())"
   ]
  },
  {
   "cell_type": "code",
   "execution_count": null,
   "id": "12187c00",
   "metadata": {},
   "outputs": [],
   "source": []
  }
 ],
 "metadata": {
  "kernelspec": {
   "display_name": "Python 3 (ipykernel)",
   "language": "python",
   "name": "python3"
  },
  "language_info": {
   "codemirror_mode": {
    "name": "ipython",
    "version": 3
   },
   "file_extension": ".py",
   "mimetype": "text/x-python",
   "name": "python",
   "nbconvert_exporter": "python",
   "pygments_lexer": "ipython3",
   "version": "3.12.4"
  }
 },
 "nbformat": 4,
 "nbformat_minor": 5
}
