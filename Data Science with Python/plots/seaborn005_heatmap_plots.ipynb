{
 "cells": [
  {
   "cell_type": "markdown",
   "id": "3987c504-b3d4-4698-af26-d70e266ffcc3",
   "metadata": {},
   "source": [
    "## Heatmap Plots:\n",
    "\n",
    "```\n",
    "Syntax:\n",
    "import seaborn as sns\n",
    "import pandas as pd\n",
    "import matplotlib.pyplot as plt\n",
    "\n",
    "df = sns.load_dataset(file_path)\n",
    "sns.heatmap(data=df)\n",
    "plt.show()\n",
    "\n",
    "\n",
    "Note: Heatmap is mostly used to visualize the correlation matrix.\n",
    "```"
   ]
  },
  {
   "cell_type": "code",
   "execution_count": null,
   "id": "9c13481e-a135-4737-b685-e6953c5b07a1",
   "metadata": {},
   "outputs": [],
   "source": []
  },
  {
   "cell_type": "code",
   "execution_count": 2,
   "id": "eb1fcd39-7023-49ce-8823-0447e69acfed",
   "metadata": {},
   "outputs": [],
   "source": [
    "import seaborn as sns\n",
    "import pandas as pd\n",
    "import matplotlib.pyplot as plt\n",
    "import numpy as np"
   ]
  },
  {
   "cell_type": "code",
   "execution_count": 3,
   "id": "c2375841-bcba-4a7c-bade-ba1d138fc250",
   "metadata": {},
   "outputs": [
    {
     "data": {
      "text/plain": [
       "array([[ 1.        ,  1.47368421,  1.94736842,  2.42105263,  2.89473684],\n",
       "       [ 3.36842105,  3.84210526,  4.31578947,  4.78947368,  5.26315789],\n",
       "       [ 5.73684211,  6.21052632,  6.68421053,  7.15789474,  7.63157895],\n",
       "       [ 8.10526316,  8.57894737,  9.05263158,  9.52631579, 10.        ]])"
      ]
     },
     "execution_count": 3,
     "metadata": {},
     "output_type": "execute_result"
    }
   ],
   "source": [
    "mat = np.linspace(1,10,20).reshape(4,5)\n",
    "mat"
   ]
  },
  {
   "cell_type": "code",
   "execution_count": 4,
   "id": "c24d0ba5-38c7-40af-b799-19b046a08a5b",
   "metadata": {},
   "outputs": [
    {
     "data": {
      "image/png": "[encoded data removed]",
      "text/plain": [
       "<Figure size 432x288 with 2 Axes>"
      ]
     },
     "metadata": {
      "needs_background": "light"
     },
     "output_type": "display_data"
    }
   ],
   "source": [
    "sns.heatmap(mat)\n",
    "plt.show()"
   ]
  },
  {
   "cell_type": "code",
   "execution_count": 6,
   "id": "93696c7a-d314-4306-a135-b516ea2a6416",
   "metadata": {
    "collapsed": true,
    "jupyter": {
     "outputs_hidden": true
    }
   },
   "outputs": [
    {
     "data": {
      "text/html": [
       "<div>\n",
       "<style scoped>\n",
       "    .dataframe tbody tr th:only-of-type {\n",
       "        vertical-align: middle;\n",
       "    }\n",
       "\n",
       "    .dataframe tbody tr th {\n",
       "        vertical-align: top;\n",
       "    }\n",
       "\n",
       "    .dataframe thead th {\n",
       "        text-align: right;\n",
       "    }\n",
       "</style>\n",
       "<table border=\"1\" class=\"dataframe\">\n",
       "  <thead>\n",
       "    <tr style=\"text-align: right;\">\n",
       "      <th></th>\n",
       "      <th>subidr</th>\n",
       "      <th>attnr</th>\n",
       "      <th>num1</th>\n",
       "      <th>num2</th>\n",
       "      <th>num3</th>\n",
       "    </tr>\n",
       "  </thead>\n",
       "  <tbody>\n",
       "    <tr>\n",
       "      <th>0</th>\n",
       "      <td>1</td>\n",
       "      <td>divided</td>\n",
       "      <td>2</td>\n",
       "      <td>4.0</td>\n",
       "      <td>7</td>\n",
       "    </tr>\n",
       "    <tr>\n",
       "      <th>1</th>\n",
       "      <td>2</td>\n",
       "      <td>divided</td>\n",
       "      <td>3</td>\n",
       "      <td>4.0</td>\n",
       "      <td>5</td>\n",
       "    </tr>\n",
       "    <tr>\n",
       "      <th>2</th>\n",
       "      <td>3</td>\n",
       "      <td>divided</td>\n",
       "      <td>3</td>\n",
       "      <td>5.0</td>\n",
       "      <td>6</td>\n",
       "    </tr>\n",
       "    <tr>\n",
       "      <th>3</th>\n",
       "      <td>4</td>\n",
       "      <td>divided</td>\n",
       "      <td>5</td>\n",
       "      <td>7.0</td>\n",
       "      <td>5</td>\n",
       "    </tr>\n",
       "    <tr>\n",
       "      <th>4</th>\n",
       "      <td>5</td>\n",
       "      <td>divided</td>\n",
       "      <td>4</td>\n",
       "      <td>5.0</td>\n",
       "      <td>8</td>\n",
       "    </tr>\n",
       "  </tbody>\n",
       "</table>\n",
       "</div>"
      ],
      "text/plain": [
       "   subidr    attnr  num1  num2  num3\n",
       "0       1  divided     2   4.0     7\n",
       "1       2  divided     3   4.0     5\n",
       "2       3  divided     3   5.0     6\n",
       "3       4  divided     5   7.0     5\n",
       "4       5  divided     4   5.0     8"
      ]
     },
     "execution_count": 6,
     "metadata": {},
     "output_type": "execute_result"
    }
   ],
   "source": [
    "data1 = sns.load_dataset('anagrams')\n",
    "data1.head()"
   ]
  },
  {
   "cell_type": "code",
   "execution_count": 7,
   "id": "5704b57c-7dff-4b8e-acc1-d9cafc765af9",
   "metadata": {},
   "outputs": [
    {
     "data": {
      "text/html": [
       "<div>\n",
       "<style scoped>\n",
       "    .dataframe tbody tr th:only-of-type {\n",
       "        vertical-align: middle;\n",
       "    }\n",
       "\n",
       "    .dataframe tbody tr th {\n",
       "        vertical-align: top;\n",
       "    }\n",
       "\n",
       "    .dataframe thead th {\n",
       "        text-align: right;\n",
       "    }\n",
       "</style>\n",
       "<table border=\"1\" class=\"dataframe\">\n",
       "  <thead>\n",
       "    <tr style=\"text-align: right;\">\n",
       "      <th></th>\n",
       "      <th>subidr</th>\n",
       "      <th>num1</th>\n",
       "      <th>num2</th>\n",
       "      <th>num3</th>\n",
       "    </tr>\n",
       "  </thead>\n",
       "  <tbody>\n",
       "    <tr>\n",
       "      <th>0</th>\n",
       "      <td>1</td>\n",
       "      <td>2</td>\n",
       "      <td>4.0</td>\n",
       "      <td>7</td>\n",
       "    </tr>\n",
       "    <tr>\n",
       "      <th>1</th>\n",
       "      <td>2</td>\n",
       "      <td>3</td>\n",
       "      <td>4.0</td>\n",
       "      <td>5</td>\n",
       "    </tr>\n",
       "    <tr>\n",
       "      <th>2</th>\n",
       "      <td>3</td>\n",
       "      <td>3</td>\n",
       "      <td>5.0</td>\n",
       "      <td>6</td>\n",
       "    </tr>\n",
       "    <tr>\n",
       "      <th>3</th>\n",
       "      <td>4</td>\n",
       "      <td>5</td>\n",
       "      <td>7.0</td>\n",
       "      <td>5</td>\n",
       "    </tr>\n",
       "    <tr>\n",
       "      <th>4</th>\n",
       "      <td>5</td>\n",
       "      <td>4</td>\n",
       "      <td>5.0</td>\n",
       "      <td>8</td>\n",
       "    </tr>\n",
       "  </tbody>\n",
       "</table>\n",
       "</div>"
      ],
      "text/plain": [
       "   subidr  num1  num2  num3\n",
       "0       1     2   4.0     7\n",
       "1       2     3   4.0     5\n",
       "2       3     3   5.0     6\n",
       "3       4     5   7.0     5\n",
       "4       5     4   5.0     8"
      ]
     },
     "execution_count": 7,
     "metadata": {},
     "output_type": "execute_result"
    }
   ],
   "source": [
    "x1 = data1.drop(columns=['attnr'], axis=1)\n",
    "x1.head()"
   ]
  },
  {
   "cell_type": "code",
   "execution_count": 8,
   "id": "7a1ec85e-12b2-41eb-97bc-9328a6397cc1",
   "metadata": {},
   "outputs": [
    {
     "data": {
      "image/png": "[encoded data removed]",
      "text/plain": [
       "<Figure size 432x288 with 2 Axes>"
      ]
     },
     "metadata": {
      "needs_background": "light"
     },
     "output_type": "display_data"
    }
   ],
   "source": [
    "sns.heatmap(x1)\n",
    "plt.show()"
   ]
  },
  {
   "cell_type": "markdown",
   "id": "63612d6e-1cb2-4966-b26f-fb7f6e10342c",
   "metadata": {},
   "source": [
    "### Heatmap parameters:\n"
   ]
  },
  {
   "cell_type": "code",
   "execution_count": null,
   "id": "26cb88d3-bf59-4331-a8b5-c1bd426716eb",
   "metadata": {},
   "outputs": [],
   "source": [
    "var = np.linspace(1,10,20).reshape(4,5)\n",
    "var"
   ]
  },
  {
   "cell_type": "code",
   "execution_count": null,
   "id": "cde092d0-ae4a-4bb0-b782-c851b84f9a17",
   "metadata": {},
   "outputs": [],
   "source": [
    "sns.heatmap(var)\n",
    "plt.show()"
   ]
  },
  {
   "cell_type": "markdown",
   "id": "d486d767-ec89-4934-b4ab-b58409360072",
   "metadata": {},
   "source": [
    "### Setting min-max (heat) values:"
   ]
  },
  {
   "cell_type": "code",
   "execution_count": null,
   "id": "a51a94b2-f4d6-4dbe-bb88-b09bd93a5891",
   "metadata": {},
   "outputs": [],
   "source": [
    "sns.heatmap(var, vmin=0, vmax=20)\n",
    "plt.show()"
   ]
  },
  {
   "cell_type": "markdown",
   "id": "102328d5-8f0f-4be3-99a4-de68adecd682",
   "metadata": {},
   "source": [
    "### cmap:"
   ]
  },
  {
   "cell_type": "code",
   "execution_count": null,
   "id": "4f09a2a2-fe6b-4626-a834-9ab2989a58eb",
   "metadata": {},
   "outputs": [],
   "source": [
    "sns.heatmap(var, cmap='gist_heat')\n",
    "plt.show()"
   ]
  },
  {
   "cell_type": "code",
   "execution_count": null,
   "id": "d146ce80-b954-4d4e-9824-c03f6a8a1ce7",
   "metadata": {},
   "outputs": [],
   "source": [
    "sns.heatmap(var, cmap='PuOr')\n",
    "plt.show()"
   ]
  },
  {
   "cell_type": "markdown",
   "id": "b5438f0a-94bb-4189-ac17-063b1d23c676",
   "metadata": {},
   "source": [
    "### Show values in heatmap:"
   ]
  },
  {
   "cell_type": "code",
   "execution_count": null,
   "id": "ab678af0-28c1-4b25-b4ac-7ac746ed4f77",
   "metadata": {},
   "outputs": [],
   "source": [
    "sns.heatmap(var, cmap='gist_heat', annot=True)\n",
    "plt.show()"
   ]
  },
  {
   "cell_type": "markdown",
   "id": "a77990d8-414d-4790-a0c5-f10ea816502b",
   "metadata": {},
   "source": [
    "### individual annotation:"
   ]
  },
  {
   "cell_type": "code",
   "execution_count": null,
   "id": "17d41a46-5f05-4101-9c56-4ae2801b5e67",
   "metadata": {},
   "outputs": [],
   "source": [
    "var1 = np.linspace(1,10,10).reshape(2,5)\n",
    "var1"
   ]
  },
  {
   "cell_type": "code",
   "execution_count": null,
   "id": "d579baaf-e231-4a54-ae43-3b48a085a9ab",
   "metadata": {},
   "outputs": [],
   "source": [
    "sns.heatmap(var1, vmin=0, vmax=10, cmap='PuOr', annot=True)\n",
    "plt.show()"
   ]
  },
  {
   "cell_type": "code",
   "execution_count": null,
   "id": "9568aeec-ed55-48cb-bc20-98c4763b2ed1",
   "metadata": {},
   "outputs": [],
   "source": [
    "ar = np.array([['a0','a1','a2','a3','a4'],\n",
    "               ['b0','b1','b2','b3','b4']])\n",
    "sns.heatmap(var1, vmin=0, vmax=10, cmap='PuOr', annot=ar, fmt='s')\n",
    "plt.show()"
   ]
  },
  {
   "cell_type": "markdown",
   "id": "250f6bf8-1b30-482c-9851-d244cd6988cb",
   "metadata": {},
   "source": [
    "### Annotation styling:"
   ]
  },
  {
   "cell_type": "code",
   "execution_count": null,
   "id": "79696d64-66ef-4ac4-b37a-4f0b3252cfdf",
   "metadata": {},
   "outputs": [],
   "source": [
    "y = {'fontsize':20, 'color':'g'}\n",
    "ar = np.array([['a0','a1','a2','a3','a4'],\n",
    "               ['b0','b1','b2','b3','b4']])\n",
    "sns.heatmap(var1, vmin=0, vmax=10, cmap='PuOr', annot=ar,\n",
    "           fmt='s', annot_kws=y)\n",
    "plt.show()"
   ]
  },
  {
   "cell_type": "markdown",
   "id": "6cc8e988-dc6d-4e53-bc04-86327d2ed47b",
   "metadata": {},
   "source": [
    "### Seperator line: using linewidth"
   ]
  },
  {
   "cell_type": "code",
   "execution_count": null,
   "id": "6789ab77-df0c-45a2-917b-0adfdc6848e4",
   "metadata": {},
   "outputs": [],
   "source": [
    "y = {'fontsize':20, 'color':'g'}\n",
    "ar = np.array([['a0','a1','a2','a3','a4'],\n",
    "               ['b0','b1','b2','b3','b4']])\n",
    "sns.heatmap(var1, vmin=0, vmax=10, cmap='PuOr', annot=ar,\n",
    "           fmt='s', annot_kws=y, linewidth=5)\n",
    "plt.show()"
   ]
  },
  {
   "cell_type": "code",
   "execution_count": null,
   "id": "daa25891-a341-4acb-b212-b7e38c87b61b",
   "metadata": {},
   "outputs": [],
   "source": [
    "y = {'fontsize':20, 'color':'g'}\n",
    "ar = np.array([['a0','a1','a2','a3','a4'],\n",
    "               ['b0','b1','b2','b3','b4']])\n",
    "sns.heatmap(var1, vmin=0, vmax=10, cmap='PuOr', annot=ar,\n",
    "           fmt='s', annot_kws=y, linewidth=5, linecolor='m')\n",
    "plt.show()"
   ]
  },
  {
   "cell_type": "markdown",
   "id": "1418165b-36c6-4ec9-a908-5c642d475d56",
   "metadata": {},
   "source": [
    "### Hide/show colorbar:"
   ]
  },
  {
   "cell_type": "code",
   "execution_count": null,
   "id": "c27bbb7b-992a-450e-a724-c471459d62ce",
   "metadata": {},
   "outputs": [],
   "source": [
    "y = {'fontsize':20, 'color':'g'}\n",
    "ar = np.array([['a0','a1','a2','a3','a4'],\n",
    "               ['b0','b1','b2','b3','b4']])\n",
    "sns.heatmap(var1, vmin=0, vmax=10, cmap='PuOr', annot=ar,\n",
    "           fmt='s', annot_kws=y, linewidth=5, cbar=False)\n",
    "plt.show()"
   ]
  },
  {
   "cell_type": "markdown",
   "id": "55f2c4f9-c326-4d20-ae93-d6b9cf65f409",
   "metadata": {},
   "source": [
    "### Show/hide axes-labels:"
   ]
  },
  {
   "cell_type": "code",
   "execution_count": null,
   "id": "dc8195e7-b6bb-4247-aa86-81f283337fb9",
   "metadata": {},
   "outputs": [],
   "source": [
    "y = {'fontsize':20, 'color':'g'}\n",
    "ar = np.array([['a0','a1','a2','a3','a4'],\n",
    "               ['b0','b1','b2','b3','b4']])\n",
    "sns.heatmap(var1, vmin=0, vmax=10, cmap='PuOr', annot=ar,\n",
    "           fmt='s', annot_kws=y, linewidth=5, xticklabels=False)\n",
    "plt.show()"
   ]
  },
  {
   "cell_type": "code",
   "execution_count": null,
   "id": "6243fe2d-9339-49c8-a05e-b094d94aba9c",
   "metadata": {},
   "outputs": [],
   "source": [
    "y = {'fontsize':20, 'color':'g'}\n",
    "ar = np.array([['a0','a1','a2','a3','a4'],\n",
    "               ['b0','b1','b2','b3','b4']])\n",
    "sns.heatmap(var1, vmin=0, vmax=10, cmap='PuOr', annot=ar,\n",
    "           fmt='s', annot_kws=y, linewidth=5, \n",
    "            xticklabels=False, yticklabels=False)\n",
    "plt.show()"
   ]
  },
  {
   "cell_type": "code",
   "execution_count": null,
   "id": "65c7b18b-5724-4d92-9c33-42b1155eda1c",
   "metadata": {},
   "outputs": [],
   "source": [
    "y = {'fontsize':20, 'color':'g'}\n",
    "ar = np.array([['a0','a1','a2','a3','a4'],\n",
    "               ['b0','b1','b2','b3','b4']])\n",
    "v = sns.heatmap(var1, vmin=0, vmax=10, cmap='PuOr', annot=ar,\n",
    "           fmt='s', annot_kws=y, linewidth=5, xticklabels=False)\n",
    "v.set(xlabel='x-axis', ylabel='y-axis')\n",
    "plt.show()"
   ]
  },
  {
   "cell_type": "code",
   "execution_count": null,
   "id": "ba68c386-fc4b-47bb-af33-9f2dd3bdd7e0",
   "metadata": {},
   "outputs": [],
   "source": [
    "y = {'fontsize':20, 'color':'g'}\n",
    "ar = np.array([['a0','a1','a2','a3','a4'],\n",
    "               ['b0','b1','b2','b3','b4']])\n",
    "v = sns.heatmap(var1, vmin=0, vmax=10, cmap='PuOr', annot=ar,\n",
    "           fmt='s', annot_kws=y, linewidth=5, xticklabels=False)\n",
    "v.set(xlabel='x-axis', ylabel='y-axis')\n",
    "sns.set(font_scale=3)\n",
    "plt.show()"
   ]
  },
  {
   "cell_type": "markdown",
   "id": "af82ea2c-41d5-4e26-83fd-1371480358fc",
   "metadata": {},
   "source": [
    "# "
   ]
  }
 ],
 "metadata": {
  "kernelspec": {
   "display_name": "Python 3 (ipykernel)",
   "language": "python",
   "name": "python3"
  },
  "language_info": {
   "codemirror_mode": {
    "name": "ipython",
    "version": 3
   },
   "file_extension": ".py",
   "mimetype": "text/x-python",
   "name": "python",
   "nbconvert_exporter": "python",
   "pygments_lexer": "ipython3",
   "version": "3.9.13"
  }
 },
 "nbformat": 4,
 "nbformat_minor": 5
}
