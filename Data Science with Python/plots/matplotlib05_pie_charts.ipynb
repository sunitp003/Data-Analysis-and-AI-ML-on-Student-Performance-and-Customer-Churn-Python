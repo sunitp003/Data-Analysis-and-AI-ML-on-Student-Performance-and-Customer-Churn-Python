{
 "cells": [
  {
   "cell_type": "markdown",
   "id": "9a18c594-f22a-46c7-8bed-8c6f9f104b4b",
   "metadata": {},
   "source": [
    "## Pie Charts:\n",
    "```\n",
    "Syntax:\n",
    "x = []\n",
    "plt.pie(x)\n",
    "plt.show()\n",
    "```"
   ]
  },
  {
   "cell_type": "code",
   "execution_count": null,
   "id": "8f380573-d9b5-488e-95ea-a3aa1ef9e621",
   "metadata": {},
   "outputs": [],
   "source": [
    "import matplotlib.pyplot as plt\n",
    "import numpy as np"
   ]
  },
  {
   "cell_type": "markdown",
   "id": "ecbf2c37-9f77-4dfc-8150-43d43981a353",
   "metadata": {},
   "source": [
    "### Basic Chart:"
   ]
  },
  {
   "cell_type": "code",
   "execution_count": null,
   "id": "04643784-5244-4814-a7d5-572eeb68ba2e",
   "metadata": {},
   "outputs": [],
   "source": [
    "x = [10, 20, 30, 40]\n",
    "y = ['c', 'c++', 'java', 'python']\n",
    "plt.pie(x)\n",
    "#plt.legend(y)\n",
    "plt.show()"
   ]
  },
  {
   "cell_type": "markdown",
   "id": "6ccde21e-6e30-4146-9430-33ddcbc7f03a",
   "metadata": {},
   "source": [
    "**Note:** By default the pie-plot starts from 0 degree line and sectors are plotted anticlock-wise."
   ]
  },
  {
   "cell_type": "markdown",
   "id": "5f189e80-f1b0-45f3-aa14-2d5776ed20d9",
   "metadata": {},
   "source": [
    "### Labeling:"
   ]
  },
  {
   "cell_type": "code",
   "execution_count": null,
   "id": "165233ec-4bca-470e-9038-a01ddf716007",
   "metadata": {},
   "outputs": [],
   "source": [
    "x = [10, 20, 30, 40]\n",
    "y = ['c', 'c++', 'java', 'python']\n",
    "plt.pie(x, labels=y)\n",
    "plt.show()"
   ]
  },
  {
   "cell_type": "markdown",
   "id": "031fff3b-43dd-4cb4-ac50-9928c810719c",
   "metadata": {},
   "source": [
    "### Explode:"
   ]
  },
  {
   "cell_type": "code",
   "execution_count": null,
   "id": "062e97b0-861c-47e2-825b-cf2405178bb2",
   "metadata": {},
   "outputs": [],
   "source": [
    "x = [10, 20, 30, 40]\n",
    "y = ['c', 'c++', 'java', 'python']\n",
    "ex=[0.3,0.0,0.1,0.0] # [0-1]\n",
    "\n",
    "plt.pie(x, labels=y, explode=ex)\n",
    "plt.show()"
   ]
  },
  {
   "cell_type": "markdown",
   "id": "8d046873-dc6b-45b5-ab2f-91070d8dcfb1",
   "metadata": {},
   "source": [
    "### Custom Colors:"
   ]
  },
  {
   "cell_type": "code",
   "execution_count": null,
   "id": "efffd1af-0fce-4396-b7c8-847bd74a2956",
   "metadata": {},
   "outputs": [],
   "source": [
    "x = [10, 20, 30, 40]\n",
    "y = ['c', 'c++', 'java', 'python']\n",
    "ex=[0.2,0.0,0.1,0.0]\n",
    "c = ['r','b','g','y']\n",
    "\n",
    "plt.pie(x, labels=y, explode=ex, colors=c)\n",
    "plt.show()"
   ]
  },
  {
   "cell_type": "markdown",
   "id": "0933ee67-effd-464a-a031-24b27b971aea",
   "metadata": {},
   "source": [
    "### Indicating %:"
   ]
  },
  {
   "cell_type": "code",
   "execution_count": null,
   "id": "046b0da9-df3e-4608-8411-9978659e27e9",
   "metadata": {},
   "outputs": [],
   "source": [
    "x = [15, 25, 10, 30]\n",
    "y = ['c', 'c++', 'java', 'python']\n",
    "ex=[0.2,0.0,0.3,0.0]\n",
    "c = ['r','b','g','y']\n",
    "\n",
    "plt.pie(x, labels=y, explode=ex, colors=c, autopct='%0.2f%%')\n",
    "plt.show()"
   ]
  },
  {
   "cell_type": "markdown",
   "id": "83d0ba79-e6f7-4dd4-b11d-7630ba43cdc7",
   "metadata": {},
   "source": [
    "### Shadow:"
   ]
  },
  {
   "cell_type": "code",
   "execution_count": null,
   "id": "193d668f-bee1-410e-82b7-efbc35fd5805",
   "metadata": {},
   "outputs": [],
   "source": [
    "x = [10, 20, 30, 40]\n",
    "y = ['c', 'c++', 'java', 'python']\n",
    "ex=[0.2,0.0,0.1,0.0]\n",
    "c = ['r','b','g','y']\n",
    "\n",
    "plt.pie(x, labels=y, explode=ex, colors=c, autopct='%0.2f%%',\n",
    "       shadow=True)\n",
    "plt.show()"
   ]
  },
  {
   "cell_type": "markdown",
   "id": "ba06575a-22bc-47b0-929a-a595bfa69260",
   "metadata": {},
   "source": [
    "### Size variation:\n",
    "radius>0 (default 1)"
   ]
  },
  {
   "cell_type": "code",
   "execution_count": null,
   "id": "714f0657-55f7-4782-884e-a2a447b14985",
   "metadata": {},
   "outputs": [],
   "source": [
    "x = [10, 20, 30, 40]\n",
    "y = ['c', 'c++', 'java', 'python']\n",
    "ex=[0.2,0.0,0.1,0.0]\n",
    "c = ['r','b','g','y']\n",
    "\n",
    "plt.pie(x, labels=y, explode=ex, colors=c, autopct='%0.2f%%',\n",
    "       radius=1.5) # default radius=1 : [0-...)\n",
    "plt.show()"
   ]
  },
  {
   "cell_type": "code",
   "execution_count": null,
   "id": "05c6f4dd-d8b8-4d96-ba0a-7b664fd24d7f",
   "metadata": {},
   "outputs": [],
   "source": []
  },
  {
   "cell_type": "markdown",
   "id": "b7007d2d-8482-4569-866c-933380c06939",
   "metadata": {},
   "source": [
    "## Advanced Formating:"
   ]
  },
  {
   "cell_type": "code",
   "execution_count": null,
   "id": "f1f0ae45-e3bf-4f99-8dba-8544adbb0c07",
   "metadata": {},
   "outputs": [],
   "source": []
  },
  {
   "cell_type": "code",
   "execution_count": null,
   "id": "c5721a7d-cd12-4bd1-a510-1b9ae8bc1b1e",
   "metadata": {},
   "outputs": [],
   "source": []
  },
  {
   "cell_type": "code",
   "execution_count": null,
   "id": "d8b1ba32-6d6f-4fde-a2ae-1edd1a2e48cc",
   "metadata": {},
   "outputs": [],
   "source": []
  },
  {
   "cell_type": "markdown",
   "id": "dec9bcc5-6e09-4981-b748-3771d3092e6e",
   "metadata": {},
   "source": [
    "### Label distance from the chart:"
   ]
  },
  {
   "cell_type": "code",
   "execution_count": null,
   "id": "712a4a60-676b-4cc2-870b-a18447a8cca0",
   "metadata": {},
   "outputs": [],
   "source": [
    "x = [10, 20, 30, 40]\n",
    "y = ['c', 'c++', 'java', 'python']\n",
    "ex=[0.2,0.0,0.1,0.0]\n",
    "c = ['r','b','g','y']\n",
    "\n",
    "plt.pie(x, labels=y, explode=ex, colors=c, autopct='%0.2f%%',\n",
    "       radius=1.5, labeldistance=1.1)\n",
    "plt.show()"
   ]
  },
  {
   "cell_type": "markdown",
   "id": "d2e78558-83f3-421a-8ecd-3bb688054760",
   "metadata": {},
   "source": [
    "### Starting angle:\n",
    "It is given in degrees. angle>0 for ACW and angle<0 for CW rotation"
   ]
  },
  {
   "cell_type": "code",
   "execution_count": null,
   "id": "3b52e4bd-9c7f-40ea-8bd3-13dcd8c8cf17",
   "metadata": {},
   "outputs": [],
   "source": [
    "x = [10, 20, 30, 40]\n",
    "y = ['c', 'c++', 'java', 'python']\n",
    "ex=[0.2,0.0,0.1,0.0]\n",
    "c = ['r','b','g','y']\n",
    "\n",
    "plt.pie(x, labels=y, explode=ex, colors=c, autopct='%0.2f%%',\n",
    "       radius=1.5, startangle=90)\n",
    "plt.show()"
   ]
  },
  {
   "cell_type": "markdown",
   "id": "eeac7055-5f6f-4f2c-b1da-d6f97a496094",
   "metadata": {},
   "source": [
    "### Text size:"
   ]
  },
  {
   "cell_type": "code",
   "execution_count": null,
   "id": "ef97048b-1fd5-4dfa-a4fe-265afb9e02c9",
   "metadata": {},
   "outputs": [],
   "source": [
    "x = [10, 20, 30, 40]\n",
    "y = ['c', 'c++', 'java', 'python']\n",
    "ex=[0.2,0.0,0.1,0.0]\n",
    "c = ['r','b','g','y']\n",
    "\n",
    "plt.pie(x, labels=y, explode=ex, colors=c, autopct='%0.2f%%',\n",
    "       radius=1.5, textprops={'fontsize':15})\n",
    "plt.show()"
   ]
  },
  {
   "cell_type": "markdown",
   "id": "d64f1ea5-241b-4f1e-8ac7-24bec9f766ee",
   "metadata": {},
   "source": [
    "### Changing direction CW/ACW:"
   ]
  },
  {
   "cell_type": "code",
   "execution_count": null,
   "id": "69397a87-4868-49d4-892c-d5af70ecfaea",
   "metadata": {},
   "outputs": [],
   "source": [
    "x = [10, 20, 30, 40]\n",
    "y = ['c', 'c++', 'java', 'python']\n",
    "ex=[0.2,0.0,0.1,0.0]\n",
    "c = ['r','b','g','y']\n",
    "\n",
    "plt.pie(x, labels=y, explode=ex, colors=c, autopct='%0.2f%%',\n",
    "       radius=1.5, textprops={'fontsize':15}, counterclock=False)\n",
    "plt.show()"
   ]
  },
  {
   "cell_type": "markdown",
   "id": "3e32710e-caad-4a7d-bd83-e10f06239a62",
   "metadata": {},
   "source": [
    "### Shadow and pie width:"
   ]
  },
  {
   "cell_type": "code",
   "execution_count": null,
   "id": "e3e8ee6c-d710-4279-a5b6-a775b7fd85f5",
   "metadata": {},
   "outputs": [],
   "source": [
    "x = [10, 20, 30, 40]\n",
    "y = ['c', 'c++', 'java', 'python']\n",
    "ex=[0.2,0.0,0.1,0.0]\n",
    "c = ['r','b','g','y']\n",
    "\n",
    "plt.pie(x, labels=y, explode=ex, colors=c, autopct='%0.2f%%',\n",
    "       radius=1.5, textprops={'fontsize':15},\n",
    "       shadow=True,wedgeprops={'linewidth':5, 'width':1})\n",
    "plt.show()"
   ]
  },
  {
   "cell_type": "markdown",
   "id": "5b43b0a6-13f5-4eb2-a48a-78e427fb762a",
   "metadata": {},
   "source": [
    "### Edge:"
   ]
  },
  {
   "cell_type": "code",
   "execution_count": null,
   "id": "9824b913-37b6-4395-86ca-d4cab5938ebf",
   "metadata": {},
   "outputs": [],
   "source": [
    "x = [10, 20, 30, 40]\n",
    "y = ['c', 'c++', 'java', 'python']\n",
    "ex=[0.2,0.0,0.1,0.0]\n",
    "c = ['r','b','g','y']\n",
    "\n",
    "plt.pie(x, labels=y, explode=ex, colors=c, autopct='%0.2f%%',\n",
    "       radius=1.5, textprops={'fontsize':15},\n",
    "       shadow=True,wedgeprops={'linewidth':5, 'edgecolor':'m'})\n",
    "plt.show()"
   ]
  },
  {
   "cell_type": "markdown",
   "id": "1e987927-2012-45e8-8fb3-7842c05a5bdd",
   "metadata": {},
   "source": [
    "### Label orientation:\n",
    "On rotatelabels=True, all the labels will be shown in radial direction."
   ]
  },
  {
   "cell_type": "code",
   "execution_count": null,
   "id": "b02a4961-b960-4993-8936-e8c501fb889d",
   "metadata": {},
   "outputs": [],
   "source": [
    "x = [10, 20, 30, 40]\n",
    "y = ['c', 'c++', 'java', 'python']\n",
    "ex=[0.2,0.0,0.1,0.0]\n",
    "c = ['r','b','g','y']\n",
    "\n",
    "plt.pie(x, labels=y, explode=ex, colors=c, autopct='%0.2f%%',\n",
    "       radius=1.5, textprops={'fontsize':15},\n",
    "       shadow=True,wedgeprops={'linewidth':5},\n",
    "       rotatelabels=True)\n",
    "plt.show()"
   ]
  },
  {
   "cell_type": "markdown",
   "id": "01411184-4c2c-472a-96b4-2b5a8604db4e",
   "metadata": {},
   "source": [
    "### Legend:"
   ]
  },
  {
   "cell_type": "code",
   "execution_count": null,
   "id": "39ee0fab-d2eb-4d2f-9147-709799e15dc8",
   "metadata": {},
   "outputs": [],
   "source": [
    "x = [10, 20, 30, 40]\n",
    "y = ['c', 'c++', 'java', 'python']\n",
    "ex=[0.2,0.0,0.1,0.0]\n",
    "c = ['r','b','g','y']\n",
    "\n",
    "plt.pie(x, labels=y, explode=ex, colors=c, autopct='%0.2f%%',\n",
    "       radius=1.5, textprops={'fontsize':15},\n",
    "       shadow=True,wedgeprops={'linewidth':5})\n",
    "plt.legend(loc=3) # loc: location\n",
    "plt.show()"
   ]
  },
  {
   "cell_type": "markdown",
   "id": "4139897f-d01c-414c-a532-13137d08014b",
   "metadata": {},
   "source": [
    "### Dot Pie-chart:"
   ]
  },
  {
   "cell_type": "code",
   "execution_count": null,
   "id": "7bdccee4-74ce-4bf4-883c-6bfff72f0afd",
   "metadata": {},
   "outputs": [],
   "source": [
    "plt.pie([1])\n",
    "plt.show()"
   ]
  },
  {
   "cell_type": "markdown",
   "id": "edf0c844-9a72-46e6-8cd4-6e39b271719e",
   "metadata": {},
   "source": [
    "### Donut (nested) piechart:"
   ]
  },
  {
   "cell_type": "code",
   "execution_count": null,
   "id": "5ba302ac-5793-4995-a837-39bf798b1ef9",
   "metadata": {},
   "outputs": [],
   "source": [
    "x = [10, 20, 30, 40]\n",
    "y = ['c', 'c++', 'java', 'python']\n",
    "x1 = [40, 30, 20, 10]\n",
    "\n",
    "ex=[0.2,0.0,0.1,0.0]\n",
    "c = ['r','b','g','y']\n",
    "\n",
    "plt.pie(x, labels=y, radius=1.5)\n",
    "plt.pie(x1, radius=1, colors=c)\n",
    "plt.show()"
   ]
  },
  {
   "cell_type": "markdown",
   "id": "c3718063-a437-4634-a77f-67c6a0d65dc3",
   "metadata": {},
   "source": [
    "### Ring pie chart:"
   ]
  },
  {
   "cell_type": "code",
   "execution_count": null,
   "id": "a4e4870b-5ce7-4c3d-b3c4-e1ee74a8ccf5",
   "metadata": {},
   "outputs": [],
   "source": [
    "x = [10, 20, 30, 40]\n",
    "y = ['c', 'c++', 'java', 'python']\n",
    "x1 = [40, 30, 20, 10]\n",
    "\n",
    "ex=[0.2,0.0,0.1,0.0]\n",
    "c = ['r','b','g','y']\n",
    "\n",
    "plt.pie(x, labels=y, radius=1.5)\n",
    "plt.pie([1],colors='w')\n",
    "plt.show()"
   ]
  },
  {
   "cell_type": "code",
   "execution_count": null,
   "id": "4302ecb9-2d20-4156-988b-c13f7523c977",
   "metadata": {},
   "outputs": [],
   "source": [
    "x = [10, 20, 30, 40]\n",
    "y = ['c', 'c++', 'java', 'python']\n",
    "x1 = [40, 30, 20, 10]\n",
    "\n",
    "ex=[0.2,0.0,0.1,0.0]\n",
    "c = ['r','b','g','y']\n",
    "\n",
    "plt.pie(x, labels=y, radius=1.5)\n",
    "cr = plt.Circle(xy=(0,0), radius=1, facecolor='w')\n",
    "plt.gca().add_artist(cr)\n",
    "\n",
    "plt.show()"
   ]
  },
  {
   "cell_type": "code",
   "execution_count": null,
   "id": "104a3c05-65ea-45cd-b81c-afa91aeb291b",
   "metadata": {},
   "outputs": [],
   "source": []
  }
 ],
 "metadata": {
  "kernelspec": {
   "display_name": "Python 3 (ipykernel)",
   "language": "python",
   "name": "python3"
  },
  "language_info": {
   "codemirror_mode": {
    "name": "ipython",
    "version": 3
   },
   "file_extension": ".py",
   "mimetype": "text/x-python",
   "name": "python",
   "nbconvert_exporter": "python",
   "pygments_lexer": "ipython3",
   "version": "3.9.13"
  }
 },
 "nbformat": 4,
 "nbformat_minor": 5
}
