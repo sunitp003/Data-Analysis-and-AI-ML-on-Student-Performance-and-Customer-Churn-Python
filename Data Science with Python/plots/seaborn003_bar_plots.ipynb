{
 "cells": [
  {
   "cell_type": "markdown",
   "id": "70df31f4-f31e-4000-9470-56e49aa79b43",
   "metadata": {},
   "source": [
    "## Bar Plots:\n",
    "\n",
    "```\n",
    "Syntax:\n",
    "import seaborn as sns\n",
    "import pandas as pd\n",
    "import matplotlib.pyplot as plt\n",
    "\n",
    "df = sns.load_dataset(file_path)\n",
    "sns.barplot(x='', y='', data=df)\n",
    "plt.show()\n",
    "```"
   ]
  },
  {
   "cell_type": "code",
   "execution_count": 2,
   "id": "66fcdf80-0578-42fc-9d85-32dc37097e13",
   "metadata": {},
   "outputs": [],
   "source": [
    "import seaborn as sns\n",
    "import numpy as np\n",
    "import pandas as pd\n",
    "import matplotlib.pyplot as plt"
   ]
  },
  {
   "cell_type": "code",
   "execution_count": 5,
   "id": "1ac59566-f2d4-4033-a29b-5034bbd003d6",
   "metadata": {},
   "outputs": [
    {
     "data": {
      "text/html": [
       "<div>\n",
       "<style scoped>\n",
       "    .dataframe tbody tr th:only-of-type {\n",
       "        vertical-align: middle;\n",
       "    }\n",
       "\n",
       "    .dataframe tbody tr th {\n",
       "        vertical-align: top;\n",
       "    }\n",
       "\n",
       "    .dataframe thead th {\n",
       "        text-align: right;\n",
       "    }\n",
       "</style>\n",
       "<table border=\"1\" class=\"dataframe\">\n",
       "  <thead>\n",
       "    <tr style=\"text-align: right;\">\n",
       "      <th></th>\n",
       "      <th>bill_length_mm</th>\n",
       "      <th>bill_depth_mm</th>\n",
       "      <th>flipper_length_mm</th>\n",
       "      <th>body_mass_g</th>\n",
       "    </tr>\n",
       "  </thead>\n",
       "  <tbody>\n",
       "    <tr>\n",
       "      <th>count</th>\n",
       "      <td>342.000000</td>\n",
       "      <td>342.000000</td>\n",
       "      <td>342.000000</td>\n",
       "      <td>342.000000</td>\n",
       "    </tr>\n",
       "    <tr>\n",
       "      <th>mean</th>\n",
       "      <td>43.921930</td>\n",
       "      <td>17.151170</td>\n",
       "      <td>200.915205</td>\n",
       "      <td>4201.754386</td>\n",
       "    </tr>\n",
       "    <tr>\n",
       "      <th>std</th>\n",
       "      <td>5.459584</td>\n",
       "      <td>1.974793</td>\n",
       "      <td>14.061714</td>\n",
       "      <td>801.954536</td>\n",
       "    </tr>\n",
       "    <tr>\n",
       "      <th>min</th>\n",
       "      <td>32.100000</td>\n",
       "      <td>13.100000</td>\n",
       "      <td>172.000000</td>\n",
       "      <td>2700.000000</td>\n",
       "    </tr>\n",
       "    <tr>\n",
       "      <th>25%</th>\n",
       "      <td>39.225000</td>\n",
       "      <td>15.600000</td>\n",
       "      <td>190.000000</td>\n",
       "      <td>3550.000000</td>\n",
       "    </tr>\n",
       "    <tr>\n",
       "      <th>50%</th>\n",
       "      <td>44.450000</td>\n",
       "      <td>17.300000</td>\n",
       "      <td>197.000000</td>\n",
       "      <td>4050.000000</td>\n",
       "    </tr>\n",
       "    <tr>\n",
       "      <th>75%</th>\n",
       "      <td>48.500000</td>\n",
       "      <td>18.700000</td>\n",
       "      <td>213.000000</td>\n",
       "      <td>4750.000000</td>\n",
       "    </tr>\n",
       "    <tr>\n",
       "      <th>max</th>\n",
       "      <td>59.600000</td>\n",
       "      <td>21.500000</td>\n",
       "      <td>231.000000</td>\n",
       "      <td>6300.000000</td>\n",
       "    </tr>\n",
       "  </tbody>\n",
       "</table>\n",
       "</div>"
      ],
      "text/plain": [
       "       bill_length_mm  bill_depth_mm  flipper_length_mm  body_mass_g\n",
       "count      342.000000     342.000000         342.000000   342.000000\n",
       "mean        43.921930      17.151170         200.915205  4201.754386\n",
       "std          5.459584       1.974793          14.061714   801.954536\n",
       "min         32.100000      13.100000         172.000000  2700.000000\n",
       "25%         39.225000      15.600000         190.000000  3550.000000\n",
       "50%         44.450000      17.300000         197.000000  4050.000000\n",
       "75%         48.500000      18.700000         213.000000  4750.000000\n",
       "max         59.600000      21.500000         231.000000  6300.000000"
      ]
     },
     "execution_count": 5,
     "metadata": {},
     "output_type": "execute_result"
    }
   ],
   "source": [
    "df = sns.load_dataset(\"penguins\")\n",
    "df.describe()"
   ]
  },
  {
   "cell_type": "code",
   "execution_count": null,
   "id": "77dd8780-5fd6-439d-b9f5-934b6794f817",
   "metadata": {},
   "outputs": [],
   "source": []
  },
  {
   "cell_type": "code",
   "execution_count": 4,
   "id": "7131a3e7-7530-4a8b-94ff-7b083c2f2c74",
   "metadata": {},
   "outputs": [
    {
     "data": {
      "image/png": "[encoded data removed]",
      "text/plain": [
       "<Figure size 432x288 with 1 Axes>"
      ]
     },
     "metadata": {
      "needs_background": "light"
     },
     "output_type": "display_data"
    }
   ],
   "source": [
    "sns.barplot(x=df.island, y=df['bill_length_mm'])\n",
    "plt.show()"
   ]
  },
  {
   "cell_type": "markdown",
   "id": "ccc269d3-5a35-4c8f-a29f-ea174181f9e3",
   "metadata": {},
   "source": [
    "### Estimators:\n",
    "```\n",
    "Estimators: np.mean (default), median, mode, max, min, sum, std, var, etc."
   ]
  },
  {
   "cell_type": "code",
   "execution_count": 9,
   "id": "2b9fa304-cf28-47a5-9536-852bcdcc5d9d",
   "metadata": {
    "collapsed": true,
    "jupyter": {
     "outputs_hidden": true
    }
   },
   "outputs": [
    {
     "data": {
      "image/png": "[encoded data removed]",
      "text/plain": [
       "<Figure size 432x288 with 1 Axes>"
      ]
     },
     "metadata": {
      "needs_background": "light"
     },
     "output_type": "display_data"
    }
   ],
   "source": [
    "sns.barplot(x=df.island, y=df['bill_length_mm'], estimator=np.sum)\n",
    "plt.show()"
   ]
  },
  {
   "cell_type": "code",
   "execution_count": 10,
   "id": "71d9c1c3-1304-4fee-bbd0-0c9efd0c15d8",
   "metadata": {},
   "outputs": [
    {
     "data": {
      "image/png": "[encoded data removed]",
      "text/plain": [
       "<Figure size 432x288 with 1 Axes>"
      ]
     },
     "metadata": {
      "needs_background": "light"
     },
     "output_type": "display_data"
    }
   ],
   "source": [
    "sns.barplot(x=df.island, y=df['bill_length_mm'], estimator=\"sum\")\n",
    "plt.show()"
   ]
  },
  {
   "cell_type": "markdown",
   "id": "d6694401-4aaa-49f2-8c9f-7a14347c3860",
   "metadata": {},
   "source": [
    "### Alternate approach:"
   ]
  },
  {
   "cell_type": "code",
   "execution_count": null,
   "id": "66606aad-d89d-4f0a-a09b-a8a00c76ba39",
   "metadata": {},
   "outputs": [],
   "source": [
    "sns.barplot(x='island', y='bill_length_mm', data=var)\n",
    "plt.show()"
   ]
  },
  {
   "cell_type": "markdown",
   "id": "08313787-fee3-4ada-8186-b19d2c83a816",
   "metadata": {},
   "source": [
    "### Hue parameter:"
   ]
  },
  {
   "cell_type": "code",
   "execution_count": 12,
   "id": "1f8fd1a3-5f88-42dd-902d-12f4e673d33a",
   "metadata": {},
   "outputs": [
    {
     "data": {
      "image/png": "[encoded data removed]",
      "text/plain": [
       "<Figure size 432x288 with 1 Axes>"
      ]
     },
     "metadata": {
      "needs_background": "light"
     },
     "output_type": "display_data"
    }
   ],
   "source": [
    "sns.barplot(x='island', y='bill_length_mm', data=df, hue='island')\n",
    "plt.show()"
   ]
  },
  {
   "cell_type": "code",
   "execution_count": 13,
   "id": "61891cd2-716c-4ddb-b344-a3a0bccb7827",
   "metadata": {},
   "outputs": [
    {
     "data": {
      "image/png": "[encoded data removed]",
      "text/plain": [
       "<Figure size 432x288 with 1 Axes>"
      ]
     },
     "metadata": {
      "needs_background": "light"
     },
     "output_type": "display_data"
    }
   ],
   "source": [
    "sns.barplot(x='island', y='bill_length_mm', data=df, hue='sex')\n",
    "plt.show()"
   ]
  },
  {
   "cell_type": "markdown",
   "id": "97b9d168-7fa5-4853-969a-612c9accfa2b",
   "metadata": {},
   "source": [
    "### Order parameter:"
   ]
  },
  {
   "cell_type": "markdown",
   "id": "b1fe1b07-2732-4d2d-be1a-a424eafa0606",
   "metadata": {},
   "source": [
    "#### Ordering x-axis data:"
   ]
  },
  {
   "cell_type": "code",
   "execution_count": null,
   "id": "62facf5f-e9cf-4ef8-a654-e2441d7d1531",
   "metadata": {},
   "outputs": [],
   "source": [
    "order1 = ['Dream', 'Torgersen', 'Biscoe']\n",
    "sns.barplot(x='island', y='bill_length_mm', data=var, hue='sex',\n",
    "           order=order1)\n",
    "plt.show()"
   ]
  },
  {
   "cell_type": "markdown",
   "id": "38e8b8b6-55aa-4895-8436-85b41aa56657",
   "metadata": {},
   "source": [
    "#### Ordering of hue:"
   ]
  },
  {
   "cell_type": "code",
   "execution_count": null,
   "id": "0acee76b-fb72-42b9-b4d3-6bf8ca60c3bb",
   "metadata": {},
   "outputs": [],
   "source": [
    "order1 = ['Dream', 'Torgersen', 'Biscoe']\n",
    "sns.barplot(x='island', y='bill_length_mm', data=var, hue='sex',\n",
    "           order=order1, hue_order=['Female', 'Male'])\n",
    "plt.show()"
   ]
  },
  {
   "cell_type": "markdown",
   "id": "70b512e5-de90-4c55-b5bc-630853163eb7",
   "metadata": {},
   "source": [
    "### errorbar parameter:\n",
    "#### CI - (Confidence interval): [vertical bar at the top of the bar plot]\n",
    "\n",
    "errorbar : string, (string, number) tuple, callable or None\n",
    "Name of errorbar method (either \"ci\", \"pi\", \"se\", or \"sd\"), or a tuple\n",
    "\n",
    "ci : between 0-100 (confidence interval)"
   ]
  },
  {
   "cell_type": "code",
   "execution_count": null,
   "id": "7a89ea17-33f6-4fdf-8092-9b8e17f96b0d",
   "metadata": {},
   "outputs": [],
   "source": [
    "order1 = ['Dream', 'Torgersen', 'Biscoe']\n",
    "sns.barplot(x='island', y='bill_length_mm', data=var, hue='sex',\n",
    "           order=order1, hue_order=['Female', 'Male'],\n",
    "           errorbar=('ci',25))\n",
    "plt.show()"
   ]
  },
  {
   "cell_type": "code",
   "execution_count": null,
   "id": "8eafeb60-9d33-4d19-9633-436568faa456",
   "metadata": {},
   "outputs": [],
   "source": [
    "order1 = ['Dream', 'Torgersen', 'Biscoe']\n",
    "sns.barplot(x='island', y='bill_length_mm', data=var, hue='sex',\n",
    "           order=order1, hue_order=['Female', 'Male'],\n",
    "           errorbar=('ci',100))\n",
    "plt.show()"
   ]
  },
  {
   "cell_type": "markdown",
   "id": "56c9f789-d63d-4762-93b0-4b1e0aa87595",
   "metadata": {},
   "source": [
    "### n_boot parameter:\n",
    "Number of bootstrap samples used to compute confidence intervals."
   ]
  },
  {
   "cell_type": "code",
   "execution_count": null,
   "id": "50182f4d-e0b8-40a0-8af8-a02d0cfede39",
   "metadata": {},
   "outputs": [],
   "source": [
    "order1 = ['Dream', 'Torgersen', 'Biscoe']\n",
    "sns.barplot(x='island', y='bill_length_mm', data=var, hue='sex',\n",
    "           order=order1, hue_order=['Female', 'Male'],\n",
    "           errorbar=('ci',100), n_boot=10)\n",
    "plt.show()"
   ]
  },
  {
   "cell_type": "markdown",
   "id": "3a76c0b2-3e87-4798-b76b-c7f267e9e222",
   "metadata": {},
   "source": [
    "### Horizontal bar:\n",
    "Note: For horizontal plots, both the x and y parameters should contain numerical data. No categorical data allowed."
   ]
  },
  {
   "cell_type": "code",
   "execution_count": null,
   "id": "5853aac8-89cb-4479-b80e-e703094eda09",
   "metadata": {},
   "outputs": [],
   "source": [
    "order1 = ['Dream', 'Torgersen', 'Biscoe']\n",
    "sns.barplot(x='bill_depth_mm', y='bill_length_mm', data=var,\n",
    "           orient='h')\n",
    "plt.show()"
   ]
  },
  {
   "cell_type": "markdown",
   "id": "824950d9-7599-4661-8d64-ce880a5fa017",
   "metadata": {},
   "source": [
    "### Color parameters:"
   ]
  },
  {
   "cell_type": "markdown",
   "id": "c7a1ed0b-dd76-43f3-bb5d-e066fc668005",
   "metadata": {},
   "source": [
    "#### Color"
   ]
  },
  {
   "cell_type": "code",
   "execution_count": null,
   "id": "f276440b-c27f-4464-81a4-8586162148e6",
   "metadata": {},
   "outputs": [],
   "source": [
    "order1 = ['Dream', 'Torgersen', 'Biscoe']\n",
    "sns.barplot(x='island', y='bill_length_mm', data=var, color='c')\n",
    "plt.show()"
   ]
  },
  {
   "cell_type": "markdown",
   "id": "0a6cf7e3-f8f3-4e87-8a5e-33eda2d46995",
   "metadata": {},
   "source": [
    "#### Palette:"
   ]
  },
  {
   "cell_type": "code",
   "execution_count": null,
   "id": "2973100c-578a-4304-a536-e25b1a3e2e9c",
   "metadata": {},
   "outputs": [],
   "source": [
    "order1 = ['Dream', 'Torgersen', 'Biscoe']\n",
    "sns.barplot(x='island', y='bill_length_mm', data=var, hue='sex',\n",
    "           order=order1, hue_order=['Female', 'Male'],\n",
    "           color='c', palette='Accent')\n",
    "plt.show()"
   ]
  },
  {
   "cell_type": "markdown",
   "id": "6a15ab73-22f0-44f4-a0d1-1d43ad4b499b",
   "metadata": {},
   "source": [
    "#### Saturation:"
   ]
  },
  {
   "cell_type": "code",
   "execution_count": null,
   "id": "788aee91-e022-4f87-92e6-582819359531",
   "metadata": {},
   "outputs": [],
   "source": [
    "order1 = ['Dream', 'Torgersen', 'Biscoe']\n",
    "sns.barplot(x='island', y='bill_length_mm', data=var, hue='sex',\n",
    "           order=order1, hue_order=['Female', 'Male'],\n",
    "           saturation=0.9)\n",
    "plt.show()"
   ]
  },
  {
   "cell_type": "code",
   "execution_count": null,
   "id": "77543e92-5139-4955-b58e-3ea393b18a8f",
   "metadata": {},
   "outputs": [],
   "source": []
  },
  {
   "cell_type": "markdown",
   "id": "a54bfc73-7549-47d4-a134-13a3eb8df19e",
   "metadata": {},
   "source": [
    "# Extra formatting options:"
   ]
  },
  {
   "cell_type": "code",
   "execution_count": null,
   "id": "dc75d3f9-5e6a-4d35-8081-a78be7e04267",
   "metadata": {},
   "outputs": [],
   "source": []
  },
  {
   "cell_type": "code",
   "execution_count": null,
   "id": "25b151a4-dedb-4c0f-af11-f0ba24b8a4a9",
   "metadata": {},
   "outputs": [],
   "source": []
  },
  {
   "cell_type": "markdown",
   "id": "8b5fab4b-8687-472c-8e7e-153ed6b00516",
   "metadata": {},
   "source": [
    "#### errorcode and errwidth: (line at the top of the bar)"
   ]
  },
  {
   "cell_type": "code",
   "execution_count": null,
   "id": "d6eb0b31-f41e-45ab-aa1e-d0de4559dca2",
   "metadata": {},
   "outputs": [],
   "source": [
    "order1 = ['Dream', 'Torgersen', 'Biscoe']\n",
    "sns.barplot(x='island', y='bill_length_mm', data=var, hue='sex',\n",
    "           order=order1, hue_order=['Female', 'Male'],\n",
    "           errcolor='m')\n",
    "plt.show()"
   ]
  },
  {
   "cell_type": "code",
   "execution_count": null,
   "id": "b6bb7f47-3405-475b-93dc-fc0cbff882ef",
   "metadata": {},
   "outputs": [],
   "source": [
    "order1 = ['Dream', 'Torgersen', 'Biscoe']\n",
    "sns.barplot(x='island', y='bill_length_mm', data=var, hue='sex',\n",
    "           order=order1, hue_order=['Female', 'Male'],\n",
    "           errcolor='m', errwidth=10)\n",
    "plt.show()"
   ]
  },
  {
   "cell_type": "markdown",
   "id": "af0e6eb3-4bd6-4443-9068-a36b1171137e",
   "metadata": {},
   "source": [
    "### cap on errobar:"
   ]
  },
  {
   "cell_type": "code",
   "execution_count": null,
   "id": "e5dc2baa-e004-4a63-ba21-a80c57a5d5c1",
   "metadata": {},
   "outputs": [],
   "source": [
    "order1 = ['Dream', 'Torgersen', 'Biscoe']\n",
    "sns.barplot(x='island', y='bill_length_mm', data=var, hue='sex',\n",
    "           order=order1, hue_order=['Female', 'Male'],\n",
    "           errcolor='m', capsize=0.2)\n",
    "plt.show()"
   ]
  },
  {
   "cell_type": "markdown",
   "id": "669f4467-e827-4f23-9efc-b12619d38ae4",
   "metadata": {},
   "source": [
    "### Superimposed bar plots:"
   ]
  },
  {
   "cell_type": "code",
   "execution_count": null,
   "id": "07c57db1-6bc8-4dc8-9ce7-7e44fff3ef0c",
   "metadata": {},
   "outputs": [],
   "source": [
    "order1 = ['Dream', 'Torgersen', 'Biscoe']\n",
    "sns.barplot(x='island', y='bill_length_mm', data=var, hue='sex',\n",
    "           order=order1, hue_order=['Female', 'Male'],\n",
    "           errcolor='m', dodge=False)\n",
    "plt.show()"
   ]
  },
  {
   "cell_type": "code",
   "execution_count": null,
   "id": "cc528985-8f0d-46cc-ad61-98adbd099e14",
   "metadata": {},
   "outputs": [],
   "source": [
    "order1 = ['Dream', 'Torgersen', 'Biscoe']\n",
    "sns.barplot(x='island', y='bill_length_mm', data=var, hue='sex',\n",
    "           order=order1, hue_order=['Female', 'Male'],\n",
    "           errcolor='m', dodge=True)\n",
    "plt.show()"
   ]
  },
  {
   "cell_type": "markdown",
   "id": "b1e0dd94-e050-4dad-8034-f38976aec461",
   "metadata": {},
   "source": [
    "### alpha parameter:"
   ]
  },
  {
   "cell_type": "code",
   "execution_count": null,
   "id": "8dd4b3e2-d4da-4eee-99f7-8d40a1af90fc",
   "metadata": {},
   "outputs": [],
   "source": [
    "order1 = ['Dream', 'Torgersen', 'Biscoe']\n",
    "sns.barplot(x='island', y='bill_length_mm', data=var, hue='sex',\n",
    "           order=order1, hue_order=['Female', 'Male'],\n",
    "           errcolor='m', alpha=0.8)\n",
    "plt.show()"
   ]
  },
  {
   "cell_type": "markdown",
   "id": "0b4826d6-ef2c-48fd-9ab6-b3e49e22da9f",
   "metadata": {},
   "source": [
    "### Grid:"
   ]
  },
  {
   "cell_type": "code",
   "execution_count": null,
   "id": "dda1a884-7780-4f2e-b310-882f583663e7",
   "metadata": {},
   "outputs": [],
   "source": [
    "sns.set(style='darkgrid')\n",
    "order1 = ['Dream', 'Torgersen', 'Biscoe']\n",
    "sns.barplot(x='island', y='bill_length_mm', data=var, hue='sex',\n",
    "           order=order1, hue_order=['Female', 'Male'],\n",
    "           errcolor='m', dodge=False)\n",
    "plt.show()"
   ]
  },
  {
   "cell_type": "code",
   "execution_count": null,
   "id": "c928b71a-0740-41ae-8533-a08aba2c1dc8",
   "metadata": {},
   "outputs": [],
   "source": []
  }
 ],
 "metadata": {
  "kernelspec": {
   "display_name": "Python 3 (ipykernel)",
   "language": "python",
   "name": "python3"
  },
  "language_info": {
   "codemirror_mode": {
    "name": "ipython",
    "version": 3
   },
   "file_extension": ".py",
   "mimetype": "text/x-python",
   "name": "python",
   "nbconvert_exporter": "python",
   "pygments_lexer": "ipython3",
   "version": "3.9.13"
  }
 },
 "nbformat": 4,
 "nbformat_minor": 5
}
