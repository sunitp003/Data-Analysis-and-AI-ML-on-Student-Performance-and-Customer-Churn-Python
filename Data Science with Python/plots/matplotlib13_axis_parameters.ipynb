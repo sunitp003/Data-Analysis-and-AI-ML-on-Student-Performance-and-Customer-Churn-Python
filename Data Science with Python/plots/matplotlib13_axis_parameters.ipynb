{
 "cells": [
  {
   "cell_type": "markdown",
   "id": "52578ebd-78bc-4229-8578-aa961c3e3b97",
   "metadata": {},
   "source": [
    "## Axis parameters in matplotlib:"
   ]
  },
  {
   "cell_type": "code",
   "execution_count": null,
   "id": "87b6761e-4478-4884-af9b-c38c043a5231",
   "metadata": {},
   "outputs": [],
   "source": [
    "import matplotlib.pyplot as plt"
   ]
  },
  {
   "cell_type": "code",
   "execution_count": null,
   "id": "861734ee-f00a-4b42-8c03-c91f0178d962",
   "metadata": {},
   "outputs": [],
   "source": [
    "x = [1,2,3,4,5]\n",
    "y = [3,1,5,2,4]\n",
    "\n",
    "plt.plot(x,y)\n",
    "plt.show()"
   ]
  },
  {
   "cell_type": "markdown",
   "id": "c65b4a7c-54d5-4b6a-9642-11e0e3fafd5a",
   "metadata": {},
   "source": [
    "### Ticks:"
   ]
  },
  {
   "cell_type": "code",
   "execution_count": null,
   "id": "90547313-7c32-4da3-bfe7-ce7da87521ab",
   "metadata": {},
   "outputs": [],
   "source": [
    "x = [1,2,3,4,5]\n",
    "y = [3,1,5,2,4]\n",
    "\n",
    "plt.plot(x,y)\n",
    "plt.xticks(x)\n",
    "plt.yticks(x)\n",
    "plt.show()"
   ]
  },
  {
   "cell_type": "markdown",
   "id": "12ab2920-906f-41f2-bf29-7bb9ec2db88e",
   "metadata": {},
   "source": [
    "### Labels in place of ticks:"
   ]
  },
  {
   "cell_type": "code",
   "execution_count": null,
   "id": "88104507-ca0f-481e-a433-1f64e65e4aed",
   "metadata": {},
   "outputs": [],
   "source": [
    "x = [1,2,3,4,5]\n",
    "y = [3,1,5,2,4]\n",
    "\n",
    "plt.plot(x,y)\n",
    "plt.xticks(x, labels=['A', 'B', 'C', 'D', 'E'])\n",
    "plt.yticks(x)\n",
    "plt.show()"
   ]
  },
  {
   "cell_type": "markdown",
   "id": "5413f07a-128e-481c-9270-20bc1471cb79",
   "metadata": {},
   "source": [
    "### x and y axis limits:"
   ]
  },
  {
   "cell_type": "code",
   "execution_count": null,
   "id": "6ac2eeb4-c218-44c7-bf48-a9253ea1ef6b",
   "metadata": {},
   "outputs": [],
   "source": [
    "x = [1,2,3,4,5]\n",
    "y = [3,1,5,2,4]\n",
    "\n",
    "plt.plot(x,y)\n",
    "\n",
    "# plt.xlim(0,8)\n",
    "# plt.ylim(0,6)\n",
    "# alternate method:\n",
    "plt.axis([0,8,0,6]) # [x_low, x_high, y_low, y_high]\n",
    "\n",
    "plt.show()"
   ]
  },
  {
   "cell_type": "code",
   "execution_count": null,
   "id": "bfabede6-929f-4b3e-a594-72668c7d5326",
   "metadata": {},
   "outputs": [],
   "source": []
  }
 ],
 "metadata": {
  "kernelspec": {
   "display_name": "Python 3 (ipykernel)",
   "language": "python",
   "name": "python3"
  },
  "language_info": {
   "codemirror_mode": {
    "name": "ipython",
    "version": 3
   },
   "file_extension": ".py",
   "mimetype": "text/x-python",
   "name": "python",
   "nbconvert_exporter": "python",
   "pygments_lexer": "ipython3",
   "version": "3.12.2"
  }
 },
 "nbformat": 4,
 "nbformat_minor": 5
}
