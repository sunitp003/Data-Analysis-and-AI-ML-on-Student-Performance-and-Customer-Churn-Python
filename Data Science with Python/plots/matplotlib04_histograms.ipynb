{
 "cells": [
  {
   "cell_type": "markdown",
   "id": "b7b9259f-600d-4388-9e3a-f9a5c8f2572a",
   "metadata": {},
   "source": [
    "## Histograms:\n",
    "```\n",
    "Syntax:\n",
    "x = []\n",
    "plt.hist(x)\n",
    "plt.show()\n",
    "```"
   ]
  },
  {
   "cell_type": "code",
   "execution_count": null,
   "id": "220589d5-5feb-46e3-a877-50466e48f8b4",
   "metadata": {},
   "outputs": [],
   "source": [
    "import matplotlib.pyplot as plt\n",
    "import numpy as np\n",
    "import random"
   ]
  },
  {
   "cell_type": "code",
   "execution_count": null,
   "id": "1267f7d4-96a1-460b-ba59-ca9b64502ac3",
   "metadata": {},
   "outputs": [],
   "source": [
    "np.random.seed(76543)\n",
    "data = list(np.random.randint(10,60,50))\n",
    "print(data)"
   ]
  },
  {
   "cell_type": "markdown",
   "id": "2d3b5cae-e48f-4ca8-8ff5-3873f042fb04",
   "metadata": {},
   "source": [
    "### Basic histogram plot:"
   ]
  },
  {
   "cell_type": "code",
   "execution_count": null,
   "id": "83037edc-dcf0-4f28-a95d-11328573c92c",
   "metadata": {},
   "outputs": [],
   "source": [
    "plt.hist(data)\n",
    "plt.show()"
   ]
  },
  {
   "cell_type": "markdown",
   "id": "ba38dc1a-ee79-4b8c-8a7a-faf100ca10e5",
   "metadata": {},
   "source": [
    "### Labeling for histogram:"
   ]
  },
  {
   "cell_type": "code",
   "execution_count": null,
   "id": "1bf79753-fd96-4782-9c84-fae7367dab50",
   "metadata": {},
   "outputs": [],
   "source": [
    "plt.hist(data)\n",
    "\n",
    "plt.title('Histogram Plot')\n",
    "plt.xlabel('score')\n",
    "plt.ylabel('count')\n",
    "plt.show()"
   ]
  },
  {
   "cell_type": "markdown",
   "id": "410ff32f-3a1a-4aad-b8bb-b90e000962ed",
   "metadata": {},
   "source": [
    "### Making up:"
   ]
  },
  {
   "cell_type": "code",
   "execution_count": null,
   "id": "99db3f95-19fb-456f-be75-e1fcd68a01da",
   "metadata": {},
   "outputs": [],
   "source": [
    "plt.title('Histogram Plot')\n",
    "plt.xlabel('score')\n",
    "plt.ylabel('count')\n",
    "plt.hist(data, color='g', edgecolor='r')\n",
    "plt.show()"
   ]
  },
  {
   "cell_type": "markdown",
   "id": "651e9c49-a283-4176-9a82-274c281f9786",
   "metadata": {},
   "source": [
    "### Setting up bins:"
   ]
  },
  {
   "cell_type": "code",
   "execution_count": null,
   "id": "0fd2d995-af78-46e0-83dd-05293c75e749",
   "metadata": {},
   "outputs": [],
   "source": [
    "b = [10, 20, 30, 40, 50, 60]\n",
    "plt.title('Histogram Plot')\n",
    "plt.xlabel('score')\n",
    "plt.ylabel('count')\n",
    "plt.hist(data, color='g', bins=b, edgecolor='r')\n",
    "plt.show()"
   ]
  },
  {
   "cell_type": "markdown",
   "id": "7b6cbc06-b4fb-49a6-a791-bdf714c2412c",
   "metadata": {},
   "source": [
    "### Setting up x-axis range:"
   ]
  },
  {
   "cell_type": "code",
   "execution_count": null,
   "id": "8e18c791-3971-4ff0-88ab-a929ed43fe6a",
   "metadata": {},
   "outputs": [],
   "source": [
    "b = [10, 20, 30, 40, 50, 60]\n",
    "plt.title('Histogram Plot')\n",
    "plt.xlabel('score')\n",
    "plt.ylabel('count')\n",
    "plt.hist(data, 'auto', (0,100), edgecolor='r') \n",
    "# here 2nd positional parameter is bins and 3rd is x-range\n",
    "plt.show()"
   ]
  },
  {
   "cell_type": "markdown",
   "id": "daf3c61f-fd38-4ef3-9783-fbf5c47cd475",
   "metadata": {},
   "source": [
    "### Cumulative addition in histogram with 'cumulative':"
   ]
  },
  {
   "cell_type": "code",
   "execution_count": null,
   "id": "cfdc9fc9-34bb-4ffb-bb17-b56fb7d71645",
   "metadata": {},
   "outputs": [],
   "source": [
    "b = [10, 20, 30, 40, 50, 60]\n",
    "plt.title('Histogram Plot')\n",
    "plt.xlabel('score')\n",
    "plt.ylabel('count')\n",
    "plt.hist(data, color='g', bins=b, edgecolor='r', cumulative=1)\n",
    "plt.show()"
   ]
  },
  {
   "cell_type": "code",
   "execution_count": null,
   "id": "320d4eb7-e420-465a-ab0e-6083c4ffbbea",
   "metadata": {},
   "outputs": [],
   "source": [
    "b = [10, 20, 30, 40, 50, 60]\n",
    "plt.title('Histogram Plot')\n",
    "plt.xlabel('score')\n",
    "plt.ylabel('count')\n",
    "plt.hist(data, color='g', bins=b, edgecolor='r', cumulative=-1)\n",
    "plt.show()"
   ]
  },
  {
   "cell_type": "markdown",
   "id": "b373b3e8-4873-4d38-9107-e609ff3784f3",
   "metadata": {},
   "source": [
    "### Setting y-axis starting lavel with 'bottom': To shift the plot vertically"
   ]
  },
  {
   "cell_type": "code",
   "execution_count": null,
   "id": "7452c1be-b02d-432b-adae-f7422ca3f072",
   "metadata": {},
   "outputs": [],
   "source": [
    "b = [10, 20, 30, 40, 50, 60]\n",
    "plt.title('Histogram Plot')\n",
    "plt.xlabel('score')\n",
    "plt.ylabel('count')\n",
    "plt.hist(data, color='g', bins=b, edgecolor='r', bottom=100)\n",
    "plt.show()"
   ]
  },
  {
   "cell_type": "code",
   "execution_count": null,
   "id": "6e1310c8-be0b-4244-9af2-b4790855f73e",
   "metadata": {},
   "outputs": [],
   "source": []
  },
  {
   "cell_type": "markdown",
   "id": "2f1891dd-6269-479c-9269-dc277efa2884",
   "metadata": {},
   "source": [
    "## Advanced Formating:"
   ]
  },
  {
   "cell_type": "code",
   "execution_count": null,
   "id": "360da109-c1ca-4d6c-b19d-00a5a8fbf061",
   "metadata": {},
   "outputs": [],
   "source": []
  },
  {
   "cell_type": "code",
   "execution_count": null,
   "id": "b96f47ab-7bab-40f3-a921-647060b62249",
   "metadata": {},
   "outputs": [],
   "source": []
  },
  {
   "cell_type": "code",
   "execution_count": null,
   "id": "35263e60-e48b-4839-a77a-059cb1c27d91",
   "metadata": {},
   "outputs": [],
   "source": []
  },
  {
   "cell_type": "markdown",
   "id": "4602bb22-6283-428a-9f8d-a36fcc0dbdb1",
   "metadata": {},
   "source": [
    "### Alignments:\n",
    "\n",
    "left, right, mid"
   ]
  },
  {
   "cell_type": "code",
   "execution_count": null,
   "id": "97e04c8f-ba14-4fa2-bead-8e7cbb6b7ac5",
   "metadata": {},
   "outputs": [],
   "source": [
    "b = [10, 20, 30, 40, 50, 60]\n",
    "plt.title('Histogram Plot')\n",
    "plt.xlabel('score')\n",
    "plt.ylabel('count')\n",
    "plt.hist(data, color='b', bins=b, edgecolor='r', align='left')\n",
    "plt.show()"
   ]
  },
  {
   "cell_type": "code",
   "execution_count": null,
   "id": "05f446e3-65d3-4ca5-b577-e7b837b9fc70",
   "metadata": {},
   "outputs": [],
   "source": [
    "b = [10, 20, 30, 40, 50, 60]\n",
    "plt.title('Histogram Plot')\n",
    "plt.xlabel('score')\n",
    "plt.ylabel('count')\n",
    "plt.hist(data, color='b', bins=b, edgecolor='r', align='right')\n",
    "plt.show()"
   ]
  },
  {
   "cell_type": "code",
   "execution_count": null,
   "id": "a8fb3b7d-c346-4fea-ae47-8324643b3ceb",
   "metadata": {},
   "outputs": [],
   "source": [
    "b = [10, 20, 30, 40, 50, 60]\n",
    "plt.title('Histogram Plot')\n",
    "plt.xlabel('score')\n",
    "plt.ylabel('count')\n",
    "plt.hist(data, color='b', bins=b, edgecolor='r', align='mid')\n",
    "plt.show()"
   ]
  },
  {
   "cell_type": "markdown",
   "id": "7e57b3ef-0750-47c9-ba54-b6ee58abf16b",
   "metadata": {},
   "source": [
    "### Types of histograms using 'histtype':\n",
    "\n",
    "{'bar', 'barstacked', 'step', 'stepfilled'}, default: 'bar'"
   ]
  },
  {
   "cell_type": "code",
   "execution_count": null,
   "id": "b9a02b80-5a0f-40ed-bf90-c5bd8cd10ec4",
   "metadata": {},
   "outputs": [],
   "source": [
    "b = [10, 20, 30, 40, 50, 60]\n",
    "plt.title('Histogram Plot')\n",
    "plt.xlabel('score')\n",
    "plt.ylabel('count')\n",
    "plt.hist(data, color='b', bins=b, edgecolor='r',\n",
    "        histtype='step')\n",
    "plt.show()"
   ]
  },
  {
   "cell_type": "code",
   "execution_count": null,
   "id": "a56b9276-c580-4709-aac8-f838b78778df",
   "metadata": {},
   "outputs": [],
   "source": [
    "b = [10, 20, 30, 40, 50, 60]\n",
    "plt.title('Histogram Plot')\n",
    "plt.xlabel('score')\n",
    "plt.ylabel('count')\n",
    "plt.hist(data, color='b', bins=b, edgecolor='r',\n",
    "        histtype='stepfilled')\n",
    "plt.show()"
   ]
  },
  {
   "cell_type": "code",
   "execution_count": null,
   "id": "a02e34de-17ed-4eb2-9d21-09d674785338",
   "metadata": {},
   "outputs": [],
   "source": [
    "b = [10, 20, 30, 40, 50, 60]\n",
    "plt.title('Histogram Plot')\n",
    "plt.xlabel('score')\n",
    "plt.ylabel('count')\n",
    "plt.hist(data, color='b', bins=b, edgecolor='r',\n",
    "        histtype='barstacked')\n",
    "plt.show()"
   ]
  },
  {
   "cell_type": "code",
   "execution_count": null,
   "id": "3f933c23-ff5d-49c5-a2a8-61d7182750e9",
   "metadata": {},
   "outputs": [],
   "source": [
    "b = [10, 20, 30, 40, 50, 60]\n",
    "plt.title('Histogram Plot')\n",
    "plt.xlabel('score')\n",
    "plt.ylabel('count')\n",
    "plt.hist(data, color='b', bins=b, edgecolor='r',\n",
    "        histtype='bar')\n",
    "plt.show()"
   ]
  },
  {
   "cell_type": "markdown",
   "id": "cd7935a0-446c-44e9-8143-f57855925022",
   "metadata": {},
   "source": [
    "### Hosrizontal plot with 'orientation':\n",
    "\n",
    "vertical (default)/horizontal"
   ]
  },
  {
   "cell_type": "code",
   "execution_count": null,
   "id": "5568780a-2c99-48d3-b2cd-199b6a702895",
   "metadata": {},
   "outputs": [],
   "source": [
    "b = [10, 20, 30, 40, 50, 60]\n",
    "plt.title('Histogram Plot')\n",
    "plt.ylabel('score')\n",
    "plt.xlabel('count')\n",
    "plt.hist(data, color='b', bins=b, edgecolor='r',\n",
    "        orientation='horizontal')\n",
    "plt.show()"
   ]
  },
  {
   "cell_type": "markdown",
   "id": "b95e0479-0e58-4bd3-9cfb-8073776a817d",
   "metadata": {},
   "source": [
    "### Width handling:"
   ]
  },
  {
   "cell_type": "code",
   "execution_count": null,
   "id": "2901272b-433c-410a-b4fa-caaac2c98739",
   "metadata": {},
   "outputs": [],
   "source": [
    "b = [10, 20, 30, 40, 50, 60]\n",
    "plt.title('Histogram Plot')\n",
    "plt.xlabel('score')\n",
    "plt.ylabel('count')\n",
    "plt.hist(data, color='b', bins=b, edgecolor='r',\n",
    "        rwidth=0.4)\n",
    "plt.show()"
   ]
  },
  {
   "cell_type": "markdown",
   "id": "c92d06ca-cb98-4563-954d-992d4edb02dc",
   "metadata": {},
   "source": [
    "### Converting values to log scale:"
   ]
  },
  {
   "cell_type": "code",
   "execution_count": null,
   "id": "2d6f7ea4-ac4b-4a40-8aed-f658d9dabb80",
   "metadata": {},
   "outputs": [],
   "source": [
    "b = [10, 20, 30, 40, 50, 60]\n",
    "plt.title('Histogram Plot')\n",
    "plt.xlabel('score')\n",
    "plt.ylabel('count')\n",
    "plt.hist(data, color='b', bins=b, edgecolor='r',\n",
    "        rwidth=0.4, log=True)\n",
    "plt.show()"
   ]
  },
  {
   "cell_type": "markdown",
   "id": "4b49f62a-48d2-4fd7-bc87-b2452b3539e1",
   "metadata": {},
   "source": [
    "### Labels:\n",
    "\n",
    "Note: apply 'legend()' function to show the labels."
   ]
  },
  {
   "cell_type": "code",
   "execution_count": null,
   "id": "f14b1def-d713-4060-b5a9-861949813f48",
   "metadata": {},
   "outputs": [],
   "source": [
    "b = [10, 20, 30, 40, 50, 60]\n",
    "plt.title('Histogram Plot')\n",
    "plt.xlabel('score')\n",
    "plt.ylabel('count')\n",
    "plt.hist(data, color='b', bins=b, edgecolor='r',\n",
    "        rwidth=0.8, label='Python')\n",
    "plt.legend()\n",
    "plt.show()"
   ]
  },
  {
   "cell_type": "markdown",
   "id": "cb843351-06bf-4e3f-9043-9d44a676dc06",
   "metadata": {},
   "source": [
    "### Vertical indicator line:"
   ]
  },
  {
   "cell_type": "code",
   "execution_count": null,
   "id": "fc1ed330-e2e4-46da-9ad4-8a660a8d3aae",
   "metadata": {},
   "outputs": [],
   "source": [
    "b = [10, 20, 30, 40, 50, 60]\n",
    "plt.title('Histogram Plot')\n",
    "plt.xlabel('score')\n",
    "plt.ylabel('count')\n",
    "plt.hist(data, color='b', bins=b, edgecolor='r',\n",
    "        rwidth=0.8, label='Python')\n",
    "plt.axvline(25, color='g', label='cutoff')\n",
    "plt.legend()\n",
    "plt.show()"
   ]
  },
  {
   "cell_type": "markdown",
   "id": "66f5c404-450a-4e18-a0d1-596c162b3598",
   "metadata": {},
   "source": [
    "### Plot with grid:"
   ]
  },
  {
   "cell_type": "code",
   "execution_count": null,
   "id": "ec16a0f8-6fda-4fab-8861-0dcc9824cb26",
   "metadata": {},
   "outputs": [],
   "source": [
    "b = [10, 20, 30, 40, 50, 60]\n",
    "plt.title('Histogram Plot')\n",
    "plt.xlabel('score')\n",
    "plt.ylabel('count')\n",
    "plt.hist(data, color='b', bins=b, edgecolor='r',\n",
    "        rwidth=0.8, label='Python')\n",
    "plt.axvline(25, color='g', label='cutoff')\n",
    "plt.legend()\n",
    "plt.grid()\n",
    "plt.show()"
   ]
  },
  {
   "cell_type": "code",
   "execution_count": null,
   "id": "2d0dbb8c-d5b9-4e41-811d-163e93fe9262",
   "metadata": {},
   "outputs": [],
   "source": []
  }
 ],
 "metadata": {
  "kernelspec": {
   "display_name": "Python 3 (ipykernel)",
   "language": "python",
   "name": "python3"
  },
  "language_info": {
   "codemirror_mode": {
    "name": "ipython",
    "version": 3
   },
   "file_extension": ".py",
   "mimetype": "text/x-python",
   "name": "python",
   "nbconvert_exporter": "python",
   "pygments_lexer": "ipython3",
   "version": "3.9.13"
  }
 },
 "nbformat": 4,
 "nbformat_minor": 5
}
